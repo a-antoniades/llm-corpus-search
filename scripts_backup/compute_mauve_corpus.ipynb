{
 "cells": [
  {
   "cell_type": "code",
   "execution_count": 1,
   "metadata": {},
   "outputs": [
    {
     "name": "stderr",
     "output_type": "stream",
     "text": [
      "/local/home/antonis/.conda/envs/incidental/lib/python3.11/site-packages/tqdm/auto.py:21: TqdmWarning: IProgress not found. Please update jupyter and ipywidgets. See https://ipywidgets.readthedocs.io/en/stable/user_install.html\n",
      "  from .autonotebook import tqdm as notebook_tqdm\n"
     ]
    }
   ],
   "source": [
    "from datasets import load_dataset, load_from_disk, concatenate_datasets, DatasetDict\n",
    "# from promptsource import templates\n",
    "import json\n",
    "import pickle\n",
    "import collections\n",
    "from itertools import combinations\n",
    "import random\n",
    "from tqdm import tqdm\n",
    "import argparse\n",
    "\n",
    "# from incidental-supervision.src.utils import concatenate_columns, count_gpt2_tokens\n",
    "\n",
    "CACHE_DIR = \"/share/edc/home/antonis/datasets/huggingface\"\n",
    "import os\n",
    "os.environ[\"HF_DATASETS_CACHE\"] = CACHE_DIR\n",
    "DEVICE_ID = 3\n",
    "\n",
    "import mauve\n",
    "\n",
    "# # Get a list of all supported datasets\n",
    "# datasets = templates.get_dataset_names()\n",
    "# print(datasets)"
   ]
  },
  {
   "cell_type": "code",
   "execution_count": 6,
   "metadata": {},
   "outputs": [],
   "source": [
    "max_len = 1000\n",
    "n_groups = 10\n",
    "\n",
    "mauve_scaling_factor = 1\n",
    "## pre-sampling data\n",
    "\n",
    "from datasets import DatasetDict\n",
    "\n",
    "# Define the file paths\n",
    "task_samples_path = f\"/share/edc/home/antonis/datasets/huggingface/flan_v1/task_ds_sampled_{max_len}_{n_groups}.pkl\"\n",
    "dataset_dict_path = f\"/share/edc/home/antonis/datasets/huggingface/flan_v1/ds_c4_small_sampled_{max_len}_{n_groups}\"\n",
    "\n",
    "# Check if the task_samples file exists\n",
    "if not os.path.exists(task_samples_path):\n",
    "    ds_task = load_from_disk('/share/edc/home/antonis/datasets/huggingface/flan_v1_task_ds')\n",
    "    task_samples_dict = collections.defaultdict(dict)\n",
    "    # Pre-sample the ds_task['text']\n",
    "    for task in tqdm(ds_task.keys(), desc=\"Tasks\"):\n",
    "        for n in tqdm(range(n_groups), desc=\"Groups\"):\n",
    "            task_samples_dict[task][str(n)] = random.sample(ds_task[task]['text'], max_len)\n",
    "\n",
    "    # save \n",
    "    with open(task_samples_path, 'wb') as f:\n",
    "        pickle.dump(dict(task_samples_dict), f)\n",
    "else:\n",
    "    # load\n",
    "    with open(task_samples_path, 'rb') as f:\n",
    "        task_samples_dict = collections.defaultdict(dict, pickle.load(f))\n",
    "\n",
    "tasks = ['NLI', 'QA', 'Summarization', 'Commonsense']\n",
    "# tasks = list(task_samples_dict.keys())\n",
    "\n",
    "# Check if the dataset_dict file exists\n",
    "if not os.path.exists(dataset_dict_path):\n",
    "    # Pre-sample the ds['text']\n",
    "    ds = load_from_disk(\"/share/edc/home/antonis/datasets/huggingface/flan_v1/ds_c4_small\")\n",
    "    dataset_dict = {str(n): ds.select(indices=random.sample(range(len(ds)), max_len)) for n in tqdm(range(n_groups), desc=\"Pre-sampling\")}\n",
    "\n",
    "    # Convert to DatasetDict\n",
    "    dataset_dict = DatasetDict(dataset_dict)\n",
    "\n",
    "    # Save the dataset_dict\n",
    "    dataset_dict.save_to_disk(dataset_dict_path)\n",
    "else:\n",
    "    dataset_dict = load_from_disk(dataset_dict_path)\n",
    "\n",
    "\n",
    "# # # Create the parser\n",
    "# parser = argparse.ArgumentParser(description='Compute Mauve results')\n",
    "# parser.add_argument('--mode', type=str, choices=['results', 'results_tasks', 'results_corpus', 'all'], required=True, help='Mode to run the script in')\n",
    "\n",
    "# # Parse the arguments\n",
    "# args = parser.parse_args()\n",
    "\n",
    "# # args = argparse.Namespace()\n",
    "# # args.mode = 'results_tasks'\n",
    "\n",
    "# print(f\"--- RUNNING IN MODE: {args.mode} ---\")\n",
    "\n",
    "args = argparse.Namespace()\n",
    "args.mode = 'results'"
   ]
  },
  {
   "cell_type": "code",
   "execution_count": 7,
   "metadata": {},
   "outputs": [
    {
     "data": {
      "text/plain": [
       "\"Choose from options: Determine if the sentence is true based on the text below:\\nTo cure astigmatism, you should go see a teacher\\n\\nHow to cure astigmatism<br>Speak to your optometrist about getting eyeglasses. Eyeglasses are a good option for correcting astigmatism. They help to correct the irregular curve of your cornea and allow your retina to focus properly.\\nOptions:\\n *Yes;\\n *It's impossible to say;\\n *No; No\""
      ]
     },
     "execution_count": 7,
     "metadata": {},
     "output_type": "execute_result"
    }
   ],
   "source": [
    "task_samples_dict['NLI']['0'][0]"
   ]
  },
  {
   "cell_type": "code",
   "execution_count": 10,
   "metadata": {},
   "outputs": [
    {
     "name": "stdout",
     "output_type": "stream",
     "text": [
      "dict_keys(['NLI', 'QA', 'Summarization', 'Commonsense', 'Sentiment', 'Paraphrase', 'Reading Comp.', 'Reading Comp. w/ Commonsense', 'Coreference', 'Misc', 'Math'])\n"
     ]
    }
   ],
   "source": [
    "print(task_samples_dict.keys())"
   ]
  },
  {
   "cell_type": "code",
   "execution_count": 8,
   "metadata": {},
   "outputs": [
    {
     "name": "stdout",
     "output_type": "stream",
     "text": [
      "Tokenizing text...\n",
      "Featurizing tokens\n"
     ]
    },
    {
     "name": "stderr",
     "output_type": "stream",
     "text": [
      "Featurizing p: 100%|██████████| 32/32 [00:54<00:00,  1.70s/it]\n"
     ]
    },
    {
     "name": "stdout",
     "output_type": "stream",
     "text": [
      "Tokenizing text...\n",
      "Featurizing tokens\n"
     ]
    },
    {
     "name": "stderr",
     "output_type": "stream",
     "text": [
      "Featurizing q: 100%|██████████| 13/13 [00:00<00:00, 32.41it/s]\n"
     ]
    },
    {
     "name": "stdout",
     "output_type": "stream",
     "text": [
      "seed = 25\n",
      "performing clustering in lower dimension = 273\n",
      "Clustering 1413 points in 274D to 41 clusters, redo 5 times, 500 iterations\n",
      "  Preprocessing in 0.00 s\n",
      "Outer iteration 0 / 5\n",
      "  Iteration 499 (0.12 s, search 0.04 s): objective=384.529 imbalance=1.442 nsplit=0       \n",
      "Objective improved: keep new clusters\n",
      "Outer iteration 1 / 5\n",
      "  Iteration 344 (0.19 s, search 0.07 s): objective=388.364 imbalance=1.613 nsplit=0       \r"
     ]
    },
    {
     "name": "stderr",
     "output_type": "stream",
     "text": [
      "WARNING clustering 1413 points to 41 centroids: please provide at least 1599 training points\n"
     ]
    },
    {
     "name": "stdout",
     "output_type": "stream",
     "text": [
      "  Iteration 499 (0.22 s, search 0.08 s): objective=388.364 imbalance=1.613 nsplit=0       \n",
      "Outer iteration 2 / 5\n",
      "  Iteration 499 (0.34 s, search 0.12 s): objective=370.784 imbalance=1.415 nsplit=0       \n",
      "Objective improved: keep new clusters\n",
      "Outer iteration 3 / 5\n",
      "  Iteration 499 (0.44 s, search 0.15 s): objective=383.556 imbalance=1.403 nsplit=0       \n",
      "Outer iteration 4 / 5\n",
      "  Iteration 499 (0.54 s, search 0.19 s): objective=385.008 imbalance=1.453 nsplit=0       \n",
      "kmeans time: 0.55 s\n",
      "total discretization time: 0.87 seconds\n"
     ]
    }
   ],
   "source": [
    "os.environ[\"CUDA_VISIBLE_DEVICES\"] = \"2\"\n",
    "\n",
    "text_1 = dataset_dict['6']['text']\n",
    "text_2 = task_samples_dict['Sentiment']['0'][0]\n",
    "\n",
    "save_path = f\"./incidental-supervision/results/mauve/corpus_task_sim\"\n",
    "\n",
    "out =  mauve.compute_mauve(p_text=text_1, q_text=text_2, \n",
    "                            device_id=0, max_text_length=512,\n",
    "                            batch_size=32, verbose=True, \n",
    "                            featurize_model_name='gpt2-large',\n",
    "                            mauve_scaling_factor=mauve_scaling_factor)\n",
    "\n"
   ]
  },
  {
   "cell_type": "code",
   "execution_count": null,
   "metadata": {},
   "outputs": [],
   "source": [
    "# Compute results or results_tasks based on the mode\n",
    "\n",
    "# compute mauve between pretraining corpus and task groups\n",
    "if args.mode == 'results' or args.mode == 'all':\n",
    "    print(\"Computing results\")\n",
    "    if os.path.exists('mauve_results.pkl'):\n",
    "        with open('mauve_results.pkl', 'rb') as f:\n",
    "            results = collections.defaultdict(dict, pickle.load(f))\n",
    "    else:\n",
    "        results = collections.defaultdict(dict)\n",
    "    for task in tqdm(tasks, desc=f\"Tasks\"):\n",
    "        for n in tqdm(range(n_groups), desc=f\"{task}_Groups\"):\n",
    "            if int(n) in results[task]:\n",
    "                continue\n",
    "            text_1 = dataset_dict[str(n)]['text']\n",
    "            text_2 = task_samples_dict[task][str(n)]\n",
    "            task_samples_dict[task][n] = text_2\n",
    "            print(f\"Computing Mauve for {task} {n}\")\n",
    "            out =  mauve.compute_mauve(p_text=text_1, q_text=text_2, \n",
    "                            device_id=DEVICE_ID, max_text_length=512,\n",
    "                            batch_size=1, verbose=True, \n",
    "                            featurize_model_name='gpt2-large',\n",
    "                            mauve_scaling_factor=mauve_scaling_factor)\n",
    "            results[task][n] = out.__dict__\n",
    "            with open('mauve_results.pkl', 'wb') as f:\n",
    "                pickle.dump(results, f)\n",
    "\n",
    "    # save \n",
    "    with open('mauve_results.pkl', 'wb') as f:\n",
    "        pickle.dump(results, f)"
   ]
  }
 ],
 "metadata": {
  "kernelspec": {
   "display_name": "incidental",
   "language": "python",
   "name": "python3"
  },
  "language_info": {
   "codemirror_mode": {
    "name": "ipython",
    "version": 3
   },
   "file_extension": ".py",
   "mimetype": "text/x-python",
   "name": "python",
   "nbconvert_exporter": "python",
   "pygments_lexer": "ipython3",
   "version": "3.11.3"
  }
 },
 "nbformat": 4,
 "nbformat_minor": 2
}
