{
 "cells": [
  {
   "cell_type": "code",
   "execution_count": 1,
   "metadata": {},
   "outputs": [],
   "source": [
    "import pickle\n",
    "import numpy as np\n",
    "\n",
    "mauve_results_pth = \"/share/edc/home/antonis/LLM-Incidental-Supervision/mauve_results.pkl\"\n",
    "mauve_task_pth = \"/share/edc/home/antonis/LLM-Incidental-Supervision/mauve_results_tasks.pkl\"\n",
    "\n",
    "with open(mauve_results_pth, \"rb\") as f:\n",
    "    mauve_results = pickle.load(f)\n",
    "\n",
    "with open(mauve_task_pth, \"rb\") as f:\n",
    "    mauve_task = pickle.load(f)"
   ]
  },
  {
   "cell_type": "code",
   "execution_count": 2,
   "metadata": {},
   "outputs": [
    {
     "data": {
      "text/plain": [
       "dict_keys(['NLI', 'QA', 'Summarization', 'Commonsense', 'Sentiment', 'Paraphrase'])"
      ]
     },
     "execution_count": 2,
     "metadata": {},
     "output_type": "execute_result"
    }
   ],
   "source": [
    "mauve_results.keys()"
   ]
  },
  {
   "cell_type": "code",
   "execution_count": 6,
   "metadata": {},
   "outputs": [
    {
     "data": {
      "text/plain": [
       "dict_keys([0, 1])"
      ]
     },
     "execution_count": 6,
     "metadata": {},
     "output_type": "execute_result"
    }
   ],
   "source": [
    "mauve_task['NLI']['QA'].keys()"
   ]
  }
 ],
 "metadata": {
  "kernelspec": {
   "display_name": "incidental3",
   "language": "python",
   "name": "python3"
  },
  "language_info": {
   "codemirror_mode": {
    "name": "ipython",
    "version": 3
   },
   "file_extension": ".py",
   "mimetype": "text/x-python",
   "name": "python",
   "nbconvert_exporter": "python",
   "pygments_lexer": "ipython3",
   "version": "3.11.3"
  },
  "orig_nbformat": 4
 },
 "nbformat": 4,
 "nbformat_minor": 2
}
