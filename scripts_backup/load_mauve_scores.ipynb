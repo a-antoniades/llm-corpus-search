{
 "cells": [
  {
   "cell_type": "code",
   "execution_count": 6,
   "metadata": {},
   "outputs": [
    {
     "name": "stdout",
     "output_type": "stream",
     "text": [
      "dict_keys(['NLI', 'QA', 'Summarization', 'Commonsense'])\n"
     ]
    },
    {
     "data": {
      "text/plain": [
       "'\"\\nStructure:\\n\\n(Task, Pretraining) -> (N cluster)\\n\\npoint: similarity of task cluster to pretraining cluster\\n'"
      ]
     },
     "execution_count": 6,
     "metadata": {},
     "output_type": "execute_result"
    }
   ],
   "source": [
    "import os\n",
    "import pickle\n",
    "\n",
    "base_path = \"/share/edc/home/antonis/LLM-Incidental-Supervision/incidental-supervision/results/mauve/first_run/scale_2/\"    # incidental-supervision/results/mauve\"\n",
    "\n",
    "with open(base_path + \"/mauve_results.pkl\", \"rb\") as f:\n",
    "    results = pickle.load(f)\n",
    "\n",
    "# tasks = ['NLI', 'QA', 'Summarization', 'Commonsense']\n",
    "# results = {task: results[task] for task in tasks}\n",
    "print(results.keys())\n",
    "\n",
    "\"\"\"\"\n",
    "Structure:\n",
    "\n",
    "(Task, Pretraining) -> (N cluster)\n",
    "\n",
    "point: similarity of task cluster to pretraining cluster\n",
    "\"\"\""
   ]
  },
  {
   "cell_type": "code",
   "execution_count": 7,
   "metadata": {},
   "outputs": [],
   "source": [
    "with open(\"/share/edc/home/antonis/LLM-Incidental-Supervision/incidental-supervision/results/mauve/first_run/scale_2/mauve_results_tasks.pkl\", \"rb\") as f:\n",
    "    results_tasks = pickle.load(f)"
   ]
  },
  {
   "cell_type": "code",
   "execution_count": 4,
   "metadata": {},
   "outputs": [],
   "source": [
    "rs_path = \"/share/edc/home/antonis/LLM-Incidental-Supervision/mauve_results_tasks.pkl\"\n",
    "\n",
    "with open(rs_path, \"rb\") as f:\n",
    "    results_tasks = pickle.load(f)"
   ]
  },
  {
   "cell_type": "code",
   "execution_count": 5,
   "metadata": {},
   "outputs": [
    {
     "data": {
      "text/plain": [
       "'\\nResults corpus:\\n(Pretraining Cluster 1) -> (Pretraining Cluster 2)\\n\\n\"Similarity between pretraining clusters\\n'"
      ]
     },
     "execution_count": 5,
     "metadata": {},
     "output_type": "execute_result"
    }
   ],
   "source": [
    "with open(os.path.join(base_path, \"mauve_results_corpus.pkl\"), \"rb\") as f:\n",
    "    results_corpus = pickle.load(f)\n",
    "\n",
    "\"\"\"\n",
    "Results corpus:\n",
    "(Pretraining Cluster 1) -> (Pretraining Cluster 2)\n",
    "\n",
    "\"Similarity between pretraining clusters\n",
    "\"\"\""
   ]
  },
  {
   "cell_type": "code",
   "execution_count": null,
   "metadata": {},
   "outputs": [],
   "source": []
  }
 ],
 "metadata": {
  "kernelspec": {
   "display_name": "incidental3",
   "language": "python",
   "name": "python3"
  },
  "language_info": {
   "codemirror_mode": {
    "name": "ipython",
    "version": 3
   },
   "file_extension": ".py",
   "mimetype": "text/x-python",
   "name": "python",
   "nbconvert_exporter": "python",
   "pygments_lexer": "ipython3",
   "version": "3.11.3"
  },
  "orig_nbformat": 4
 },
 "nbformat": 4,
 "nbformat_minor": 2
}
