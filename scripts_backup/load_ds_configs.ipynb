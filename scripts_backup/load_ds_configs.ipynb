{
 "cells": [
  {
   "cell_type": "code",
   "execution_count": null,
   "metadata": {},
   "outputs": [],
   "source": [
    "import json\n",
    "import pandas as pd\n",
    "\n",
    "import os\n",
    "CACHE_DIR = \"/share/edc/home/antonis/datasets/huggingface\"\n",
    "os.environ[\"HF_DATASETS_CACHE\"] = CACHE_DIR"
   ]
  },
  {
   "cell_type": "code",
   "execution_count": null,
   "metadata": {},
   "outputs": [],
   "source": [
    "# find all json files in directory\n",
    "import glob\n",
    "json_files = glob.glob(\"*/**.json\")\n",
    "\n",
    "# read json files into a list of dataframes\n",
    "\n",
    "dfs = []\n",
    "\n",
    "for json_file in json_files:\n",
    "    print(json_file)\n",
    "    with open(json_file) as f:\n",
    "        data = json.load(f)\n",
    "        df = pd.DataFrame(data)\n",
    "        dfs.append(df)"
   ]
  },
  {
   "cell_type": "code",
   "execution_count": null,
   "metadata": {},
   "outputs": [],
   "source": [
    "import datasets\n",
    "\n",
    "# load sst dataset\n",
    "dataset_sst = datasets.load_dataset(\"sst\", split=\"test\", cache_dir=CACHE_DIR)\n",
    "\n",
    "# load imdb dataset\n",
    "dataset_imdb = datasets.load_dataset(\"imdb\", split=\"test\", cache_dir=CACHE_DIR)"
   ]
  },
  {
   "cell_type": "code",
   "execution_count": null,
   "metadata": {},
   "outputs": [],
   "source": [
    "print(f\"dataset sst: {len(dataset_sst)}\")\n",
    "print(f\"dataset imdb: {len(dataset_imdb)}\")\n",
    "print(f\"total: {len(dataset_sst) + len(dataset_imdb)}\")"
   ]
  }
 ],
 "metadata": {
  "kernelspec": {
   "display_name": "incidental",
   "language": "python",
   "name": "python3"
  },
  "language_info": {
   "name": "python",
   "version": "3.11.3"
  },
  "orig_nbformat": 4
 },
 "nbformat": 4,
 "nbformat_minor": 2
}
