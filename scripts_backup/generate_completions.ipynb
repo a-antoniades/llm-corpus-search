{
 "cells": [
  {
   "cell_type": "code",
   "execution_count": 1,
   "metadata": {},
   "outputs": [
    {
     "name": "stderr",
     "output_type": "stream",
     "text": [
      "/local/home/antonis/.conda/envs/incidental/lib/python3.11/site-packages/tqdm/auto.py:21: TqdmWarning: IProgress not found. Please update jupyter and ipywidgets. See https://ipywidgets.readthedocs.io/en/stable/user_install.html\n",
      "  from .autonotebook import tqdm as notebook_tqdm\n",
      "2024-01-12 14:23:54.897097: W tensorflow/compiler/tf2tensorrt/utils/py_utils.cc:38] TF-TRT Warning: Could not find TensorRT\n"
     ]
    }
   ],
   "source": [
    "import os\n",
    "import pickle\n",
    "from transformers import GPTNeoXForCausalLM, GPTNeoXConfig, GPTNeoXTokenizerFast\n",
    "from generate import load_model\n",
    "from datasets import load_from_disk\n",
    "import collections\n",
    "import torch"
   ]
  },
  {
   "cell_type": "code",
   "execution_count": null,
   "metadata": {},
   "outputs": [],
   "source": [
    "ds_path = \"/share/edc/home/antonis/datasets/huggingface/flan_v1_task_ds\"\n",
    "ds  = load_from_disk(ds_path)"
   ]
  },
  {
   "cell_type": "code",
   "execution_count": null,
   "metadata": {},
   "outputs": [],
   "source": [
    "device = \"cuda:0\"\n",
    "model = GPTNeoXForCausalLM.from_pretrained(\"EleutherAI/gpt-neox-20b\").half().to(device)"
   ]
  },
  {
   "cell_type": "code",
   "execution_count": null,
   "metadata": {},
   "outputs": [],
   "source": [
    "tokenizer = GPTNeoXTokenizerFast.from_pretrained(\"EleutherAI/gpt-neox-20b\")"
   ]
  },
  {
   "cell_type": "code",
   "execution_count": null,
   "metadata": {},
   "outputs": [],
   "source": [
    "\"\"\"\n",
    "dict levels:\n",
    "\n",
    "task -> prompt / target / generated -> n_generations -> generation\n",
    "\n",
    "\"\"\"\n",
    "\n",
    "gen_dict = collections.defaultdict(\n",
    "           lambda: collections.defaultdict(lambda: collections.defaultdict(dict))\n",
    ")\n",
    "\n",
    "save_path = \"./incidental-supervision/results/generations/gpt-neo-x\"\n",
    "\n",
    "for task in ds.keys():\n",
    "    # sample 10 rows\n",
    "    ds_task = ds[task].select(range(10))\n",
    "    for idx, row in enumerate(ds_task):\n",
    "        prompt = row[\"inputs\"]\n",
    "        targets = row[\"targets\"]\n",
    "        # concatenate\n",
    "        input_ = prompt + \" \" + targets\n",
    "        # split into two\n",
    "        input_1, input_2 = input_[:len(input_)//2], input_[len(input_)//2:]\n",
    "        gen_dict[task][\"prompt\"] = input_1\n",
    "        gen_dict[task][\"continuation\"] = input_2\n",
    "        # tokenize\n",
    "        input_1_ = tokenizer(input_1, return_tensors=\"pt\").input_ids.to(device)\n",
    "        input_2_ = tokenizer(input_2, return_tensors=\"pt\").input_ids.to(device)\n",
    "        \n",
    "        n_samples = 10\n",
    "        # generate 10 samples\n",
    "        print(f\"--- True continuation: {input_2} ---\")\n",
    "        for i in range(n_samples):\n",
    "            gen = model.generate(input_1_, max_new_tokens=int(len(input_2)*1.2), \n",
    "                                 do_sample=True, top_p=0.95, \n",
    "                                 num_return_sequences=1)\n",
    "            gen_dec = tokenizer.decode(gen[0])\n",
    "            gen_dict[task][idx][\"generated\"][i] = gen_dec\n",
    "            print(f\"{i}: {gen_dec}\")\n",
    "            # clear server\n",
    "            torch.cuda.empty_cache()\n",
    "            # save dict as pkl\n",
    "            # with open(os.path.join(save_path, \"gpt-neo-x.pkl\"), \"wb\") as f:\n",
    "                # pickle.dump(gen_dict, f)"
   ]
  }
 ],
 "metadata": {
  "kernelspec": {
   "display_name": "incidental",
   "language": "python",
   "name": "python3"
  },
  "language_info": {
   "codemirror_mode": {
    "name": "ipython",
    "version": 3
   },
   "file_extension": ".py",
   "mimetype": "text/x-python",
   "name": "python",
   "nbconvert_exporter": "python",
   "pygments_lexer": "ipython3",
   "version": "3.11.3"
  },
  "orig_nbformat": 4
 },
 "nbformat": 4,
 "nbformat_minor": 2
}
