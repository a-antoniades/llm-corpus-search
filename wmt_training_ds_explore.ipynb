{
 "cells": [
  {
   "cell_type": "code",
   "execution_count": null,
   "metadata": {},
   "outputs": [],
   "source": [
    "from datasets import load_dataset, load_from_disk, concatenate_datasets, get_dataset_config_names\n",
    "# from promptsource import templates\n",
    "import pickle\n",
    "import pandas as pd\n",
    "\n",
    "CACHE_DIR = \"/share/edc/home/antonis/datasets/huggingface\"\n"
   ]
  },
  {
   "cell_type": "code",
   "execution_count": null,
   "metadata": {},
   "outputs": [],
   "source": [
    "ds_to_load = ['cs-en', 'en-fr', 'de-en']\n",
    "ds_to_load = {\n",
    "    'Helsinki-NLP/europarl': ['cs-en', 'en-fr', 'de-en', \n",
    "                              'en-hu', 'en-es', 'en-it']\n",
    "}\n",
    "dataset = {}\n",
    "for ds, tasks in ds_to_load.items():\n",
    "    for task in tasks:\n",
    "        dataset[task] = load_dataset(ds, task, cache_dir=CACHE_DIR)\n",
    "\n",
    "\n",
    "print(dataset.keys())"
   ]
  },
  {
   "cell_type": "code",
   "execution_count": null,
   "metadata": {},
   "outputs": [],
   "source": [
    "dataset['cs-en']['train']['translation'][0]"
   ]
  },
  {
   "cell_type": "code",
   "execution_count": 13,
   "metadata": {},
   "outputs": [
    {
     "name": "stdout",
     "output_type": "stream",
     "text": [
      "Dataset: cs-en\n",
      "[{'cs': 'Program podpory evropského audiovizuálního odvětví (MEDIA 2007) (hlasování)', 'en': 'Programme of support for the European audiovisual sector (MEDIA 2007) (vote)'}, {'cs': '12.', 'en': '12.'}, {'cs': 'Program Kultura (2007-2013) (hlasování)', 'en': 'Culture programme (2007-2013) (vote)'}, {'cs': '13.', 'en': '13.'}, {'cs': 'Mechanismus Společenství v oblasti civilní ochrany (hlasování)', 'en': 'Community civil protection mechanism (vote)'}]\n",
      "Dataset: en-fr\n",
      "[{'en': 'That is why my Group moves that this item be taken off the agenda.', 'fr': \"C'est pourquoi mon groupe demande que ce point soit retiré de l'ordre du jour.\"}, {'en': 'Thank you, Mr Poettering.', 'fr': 'Merci Monsieur Poettering.'}, {'en': 'We shall now hear Mr Wurtz speaking against this request.', 'fr': \"Nous entendons à présent M. Wurtz, qui s' exprime contre cette demande.\"}, {'en': \"Madam President, I would firstly like to point out Mr Poettering' s lack of logic.\", 'fr': \"Madame la Présidente, je voudrais d' abord souligner le manque de logique de M. Poettering.\"}, {'en': 'He has just been preaching to the Group of the Party of European Socialists because they went back on a decision taken in a perfectly clear manner at the Conference of Presidents, and now he is doing just the same.', 'fr': \"A l' instant, il vient de faire la leçon au groupe socialiste parce que celui-ci revient sur une décision qui a été prise de façon extrêmement nette en Conférence des présidents. Or, il fait la même chose.\"}]\n",
      "Dataset: de-en\n",
      "[{'de': 'Wir haben Vertrauen zur Kommission, zu Romano Prodi, und die ganz große Mehrheit unserer Fraktion hat Romano Prodi und der Kommission nach einem schwierigen Prozeß, wie jeder weiß, das Vertrauen ausgesprochen.', 'en': 'We have confidence in the Commission and in Romano Prodi and, after a difficult procedure, as everyone knows, the vast majority of our Group supported the vote of confidence in Romano Prodi and the Commission.'}, {'de': 'Aber wir sind auch der Meinung, daß wir eine Debatte über diese Strategie der Kommission in einem geordneten Verfahren führen müssen, nicht nur aufgrund einer mündlichen Erklärung hier im Europäischen Parlament, sondern auch aufgrund eines Dokumentes, das in der Kommission beschlossen ist und dieses Programm für fünf Jahre beschreibt.', 'en': \"We believe, however, that the Commission's strategic plan needs to be debated within a proper procedural framework, not only on the basis of an oral statement here in the European Parliament, but also on the basis of a document which is adopted in the Commission and which describes this programme over the five-year period.\"}, {'de': 'Ein solches Dokument gibt es nicht!', 'en': 'There is no such document!'}, {'de': 'Die Kommission wird das Programm für das Jahr 2000 im Februar vorlegen.', 'en': 'The Commission will present its programme for the year 2000 in February.'}, {'de': 'Wir haben gesagt, o. k, wenn die Kommission das Programm 2000 noch nicht im Januar machen will, dann machen wir das im Februar.', 'en': 'We have said, very well, if the Commission does not wish to introduce the 2000 programme as early as January then we will do it in February.'}]\n",
      "Dataset: en-hu\n",
      "[{'en': 'Programme of support for the European audiovisual sector (MEDIA 2007) (vote)', 'hu': 'Az európai audiovizuális iparágat támogató program (MEDIA 2007) (szavazás)'}, {'en': '12.', 'hu': '12.'}, {'en': 'Culture programme (2007-2013) (vote)', 'hu': 'Kultúra 2007 program (2007-2013) (szavazás)'}, {'en': '13.', 'hu': '13.'}, {'en': 'Community civil protection mechanism (vote)', 'hu': 'A polgári védelem közösségi mechanizmusa (szavazás)'}]\n",
      "Dataset: en-es\n",
      "[{'en': 'That is why my Group moves that this item be taken off the agenda.', 'es': 'Por consiguiente, mi Grupo solicita que se suprima este punto del día.'}, {'en': 'Thank you, Mr Poettering.', 'es': 'Gracias, señor Poettering.'}, {'en': 'We shall now hear Mr Wurtz speaking against this request.', 'es': 'Escuchemos ahora al Sr. Wurtz, que hablará en contra de la petición.'}, {'en': \"Madam President, I would firstly like to point out Mr Poettering' s lack of logic. He has just been preaching to the Group of the Party of European Socialists because they went back on a decision taken in a perfectly clear manner at the Conference of Presidents, and now he is doing just the same.\", 'es': 'Señora Presidenta, ante todo quiero subrayar la falta de lógica del señor Poettering, que acaba de dar una lección al Grupo de los Socialista Europeos para que se vuelva a tratar una decisión que se tomó de un modo absolutamente claro en la Conferencia de Presidentes.'}, {'en': 'We discussed that matter and we were unanimous, with the exception of the PPE and ELDR Groups. As my fellow chairmen will recall, I even mentioned that it was not a matter of knowing whether one was for or against the Tobin tax, but of whether one dared to hear what the Commission and the Council thought of it.', 'es': 'Hemos discutido, expresamos unanimidad, con excepción de los Grupos del PPE y del Partido Europeo de los Liberales Demócratas y Reformistas, y yo mismo hice notar -como lo recordarán mis queridos compañeros presidentes- que no se trata de saber si están ustedes a favor o en contra del impuesto Todin, sino de saber si se atreven a comprender lo que piensan al respecto la Comisión y el Consejo.'}]\n",
      "Dataset: en-it\n",
      "[{'en': 'We therefore respect whatever Parliament may decide.', 'it': 'Quindi, noi rispettiamo le eventuali decisioni in materia del Parlamento.'}, {'en': \"But I would also like to make it very clear that President Prodi made a commitment to this Parliament to introduce a new debate, as Mr Barón Crespo has reminded us, which would be in addition to the annual debate on the Commission' s legislative programme, on the broad areas of action for the next five years, that is to say, for this legislature.\", 'it': \"Ma voglio dire altrettanto chiaramente che il Presidente Prodi si è impegnato con il Parlamento a inserire un nuovo dibattito, come ha ricordato l' onorevole Barón, oltre al dibattito annuale sul programma legislativo della Commissione, sulle grandi linee di azione per il prossimo quinquennio, cioè per la presente legislatura.\"}, {'en': \"Madam President, I would like to say that the agreement reached in September distinguished this debate from the annual presentation of the Commission' s legislative programme.\", 'it': \"Tengo a sottolineare, signora Presidente, che, secondo l' accordo concluso nel settembre scorso, questo dibattito era distinto dalla presentazione del programma legislativo della Commissione.\"}, {'en': 'I would also like to say that the Commission is prepared and ready to hold this debate whenever it is convenient and that we were ready to do so this week as we had agreed originally, on the basis that it would be presented the day before in a speech to parliamentary groups.', 'it': \"E desidero far sapere che, per quanto riguarda la Commissione, siamo pronti e disposti a tenere questo dibattito quando lo si ritenga opportuno; eravamo già pronti a farlo questa settimana, conformemente all' accordo iniziale, sulla base dell' intesa di una presentazione del discorso ai gruppi parlamentari il giorno prima.\"}, {'en': 'Therefore, Madam President, I would like to repeat that the Commission has debated the action plan for the next five years and, when Parliament decides, - this week if that is the decision - we are prepared to come and explain the programme for the next five years and, next month, the programme for 2000, which is what we fully agreed upon.', 'it': 'Quindi, signora Presidente, ribadisco che da parte nostra abbiamo discusso del programma di azione per il prossimo quinquennio e che siamo pronti a presentarlo quando vuole il Parlamento - anche questa settimana, se decide il tal senso- mentre il mese prossimo toccherà al programma per il 2000, esattamente come era stato stabilito.'}]\n"
     ]
    }
   ],
   "source": [
    "for key in dataset.keys():\n",
    "    ds = dataset[key]['train']['translation']\n",
    "    print(f\"Dataset: {key}\")\n",
    "    print(ds[100:105])"
   ]
  },
  {
   "cell_type": "code",
   "execution_count": null,
   "metadata": {},
   "outputs": [],
   "source": []
  }
 ],
 "metadata": {
  "kernelspec": {
   "display_name": "incidental",
   "language": "python",
   "name": "python3"
  },
  "language_info": {
   "codemirror_mode": {
    "name": "ipython",
    "version": 3
   },
   "file_extension": ".py",
   "mimetype": "text/x-python",
   "name": "python",
   "nbconvert_exporter": "python",
   "pygments_lexer": "ipython3",
   "version": "3.11.3"
  }
 },
 "nbformat": 4,
 "nbformat_minor": 2
}
