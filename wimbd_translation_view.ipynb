{
 "cells": [
  {
   "cell_type": "code",
   "execution_count": 1,
   "metadata": {},
   "outputs": [
    {
     "name": "stderr",
     "output_type": "stream",
     "text": [
      "[nltk_data] Downloading package punkt to\n",
      "[nltk_data]     /local/home/antonis/nltk_data...\n",
      "[nltk_data]   Package punkt is already up-to-date!\n",
      "[nltk_data] Downloading package stopwords to\n",
      "[nltk_data]     /local/home/antonis/nltk_data...\n",
      "[nltk_data]   Package stopwords is already up-to-date!\n",
      "[dynet] random seed: 1234\n",
      "[dynet] allocating memory: 32MB\n",
      "[dynet] memory allocation done.\n"
     ]
    }
   ],
   "source": [
    "import os\n",
    "import collections\n",
    "import json\n",
    "import pickle\n",
    "from tqdm import tqdm\n",
    "\n",
    "import numpy as np\n",
    "import pandas as pd\n",
    "pd.set_option('display.max_columns', 500)\n",
    "pd.options.display.max_rows = 500\n",
    "pd.options.display.max_columns = 20\n",
    "pd.set_option('display.max_columns', 200)\n",
    "pd.set_option('display.max_rows', 100)\n",
    "pd.set_option('display.min_rows', 100)\n",
    "pd.set_option('display.expand_frame_repr', True)\n",
    "\n",
    "import matplotlib.pyplot as plt\n",
    "import seaborn as sns\n",
    "\n",
    "from datasets import load_from_disk\n",
    "from src.wimbd_ import _load_dataset"
   ]
  },
  {
   "cell_type": "code",
   "execution_count": null,
   "metadata": {},
   "outputs": [],
   "source": [
    "trivia_qa_path = \"./results/n-grams/trivia_qa/pile/exp_3/test-set/n_samples_None_fkeyFalse_rkeyFalse_fstopTrue_onlyalphaFalse/5/examples_dfs_4-shot_common_models.pkl\"\n",
    "with open(trivia_qa_path, 'rb') as f:\n",
    "    trivia_qa = pickle.load(f)"
   ]
  },
  {
   "cell_type": "code",
   "execution_count": null,
   "metadata": {},
   "outputs": [],
   "source": [
    "old_res_path = \"./results/n-grams/exp_full/2/common/es-en-2-grams.pkl\"\n",
    "new_res_path = \"./results/n-grams/wmt/pile/exp4/n_samples_None_fkeyFalse_rkeyFalse_fstopTrue_onlyalphaTrue/2/common/('it', 'en').pkl\"\n",
    "mmlu_path = \"./results/n-grams/mmlu/pile/exp4_nofilter/test-set/exp_full_None/5/common/astronomy.pkl\"\n",
    "\n",
    "# load1\n",
    "with open(old_res_path, \"rb\") as f:\n",
    "    old_res = pickle.load(f)\n",
    "old_res = pd.DataFrame(old_res)\n",
    "\n",
    "with open(new_res_path, \"rb\") as f:\n",
    "    new_res = pickle.load(f)\n",
    "new_res = pd.DataFrame(new_res).T.sort_values('value', ascending=False)\n",
    "\n",
    "with open(mmlu_path, \"rb\") as f:\n",
    "    mmlu = pickle.load(f)\n",
    "mmlu = pd.DataFrame(mmlu).T"
   ]
  },
  {
   "cell_type": "code",
   "execution_count": 9,
   "metadata": {},
   "outputs": [
    {
     "name": "stdout",
     "output_type": "stream",
     "text": [
      "Loading dataset wmt09_gens\n",
      "Loaded dataset for model OLMo-7B from /share/edc/home/antonis/datasets/huggingface/wmt09_gens_OLMo-7B\n",
      "Loaded dataset for model pythia-12b from /share/edc/home/antonis/datasets/huggingface/wmt09_gens_pythia-12b\n",
      "Loaded dataset for model pythia-31m from /share/edc/home/antonis/datasets/huggingface/wmt09_gens_pythia-31m\n",
      "Loaded dataset for model pythia-1.4b from /share/edc/home/antonis/datasets/huggingface/wmt09_gens_pythia-1.4b\n",
      "Loaded dataset for model pythia-410m from /share/edc/home/antonis/datasets/huggingface/wmt09_gens_pythia-410m\n",
      "Loaded dataset for model pythia-70m from /share/edc/home/antonis/datasets/huggingface/wmt09_gens_pythia-70m\n",
      "Loaded dataset for model pythia-14m from /share/edc/home/antonis/datasets/huggingface/wmt09_gens_pythia-14m\n",
      "Loaded dataset for model pythia-2.8b from /share/edc/home/antonis/datasets/huggingface/wmt09_gens_pythia-2.8b\n",
      "Loaded dataset for model pythia-6.9b from /share/edc/home/antonis/datasets/huggingface/wmt09_gens_pythia-6.9b\n",
      "Loaded dataset for model pythia-160m from /share/edc/home/antonis/datasets/huggingface/wmt09_gens_pythia-160m\n"
     ]
    }
   ],
   "source": [
    "wmt = _load_dataset(\"wmt09_gens\")"
   ]
  },
  {
   "cell_type": "code",
   "execution_count": 10,
   "metadata": {},
   "outputs": [
    {
     "data": {
      "text/plain": [
       "dict_keys(['cs', 'en', 'gen'])"
      ]
     },
     "execution_count": 10,
     "metadata": {},
     "output_type": "execute_result"
    }
   ],
   "source": [
    "wmt['pythia-12b']['cs-en']['translation'][0].keys()"
   ]
  },
  {
   "cell_type": "code",
   "execution_count": null,
   "metadata": {},
   "outputs": [],
   "source": [
    "wmt_res_pth = \"./results/n-grams/wmt/pile/exp4/n_samples_None_fkeyFalse_rkeyFalse_fstopTrue_onlyalphaTrue/2/examples_dfs_0-shot_common_models.pkl\"\n",
    "with open(wmt_res_pth, \"rb\") as f:\n",
    "    wmt_res = pickle.load(f)"
   ]
  },
  {
   "cell_type": "code",
   "execution_count": 19,
   "metadata": {},
   "outputs": [],
   "source": [
    "wmt_gens_path = \"/share/edc/home/antonis/datasets/huggingface/wmt09_gens_pythia-31m\"\n",
    "wmt_gens = load_from_disk(wmt_gens_path)"
   ]
  },
  {
   "cell_type": "code",
   "execution_count": 20,
   "metadata": {},
   "outputs": [
    {
     "data": {
      "text/plain": [
       "{'cs': 'Pražská burza se ke konci obchodování propadla do minusu',\n",
       " 'en': 'Prague Stock Market falls to minus by the end of the trading day'}"
      ]
     },
     "execution_count": 20,
     "metadata": {},
     "output_type": "execute_result"
    }
   ],
   "source": [
    "wmt_gens['cs-en']['translation'][0]"
   ]
  },
  {
   "cell_type": "code",
   "execution_count": null,
   "metadata": {},
   "outputs": [],
   "source": [
    "wmt_res['pythia-12b']"
   ]
  },
  {
   "cell_type": "code",
   "execution_count": null,
   "metadata": {},
   "outputs": [],
   "source": [
    "# pd.options.display.max_columns = 20\n",
    "# wmt_res['pythia-12b']"
   ]
  },
  {
   "cell_type": "code",
   "execution_count": null,
   "metadata": {},
   "outputs": [],
   "source": [
    "# wmt_examples_pth = \"./results/n-grams/wmt/pile/exp4/n_samples_None_fkeyFalse_rkeyFalse_fstopTrue_onlyalphaTrue/1/examples_dfs_0-shot_common_models.pkl\"\n",
    "wmt_examples_pth = \"./results/n-grams/wmt/pile/exp4/n_samples_None_fkeyFalse_rkeyFalse_fstopTrue_onlyalphaTrue/2/examples_dfs_0-shot_common_models.pkl\"\n",
    "wmt_examples = pickle.load(open(wmt_examples_pth, \"rb\"))"
   ]
  },
  {
   "cell_type": "code",
   "execution_count": null,
   "metadata": {},
   "outputs": [],
   "source": [
    "wmt_examples['pythia-12b'].keys()"
   ]
  },
  {
   "cell_type": "code",
   "execution_count": null,
   "metadata": {},
   "outputs": [],
   "source": [
    "# Set the display.max_colwidth option to None\n",
    "pd.set_option('display.max_colwidth', None)\n",
    "\n",
    "example_cols = ['lang_1', 'lang_2', 'src', 'ref', 'result']\n",
    "example = wmt_examples['pythia-12b'].iloc[100][example_cols]\n",
    "display(example)"
   ]
  }
 ],
 "metadata": {
  "kernelspec": {
   "display_name": "incidental",
   "language": "python",
   "name": "python3"
  },
  "language_info": {
   "codemirror_mode": {
    "name": "ipython",
    "version": 3
   },
   "file_extension": ".py",
   "mimetype": "text/x-python",
   "name": "python",
   "nbconvert_exporter": "python",
   "pygments_lexer": "ipython3",
   "version": "3.11.3"
  }
 },
 "nbformat": 4,
 "nbformat_minor": 2
}
