{
 "cells": [
  {
   "cell_type": "code",
   "execution_count": 1,
   "metadata": {},
   "outputs": [
    {
     "name": "stderr",
     "output_type": "stream",
     "text": [
      "[nltk_data] Downloading package punkt to\n",
      "[nltk_data]     /local/home/antonis/nltk_data...\n",
      "[nltk_data]   Package punkt is already up-to-date!\n",
      "[nltk_data] Downloading package stopwords to\n",
      "[nltk_data]     /local/home/antonis/nltk_data...\n",
      "[nltk_data]   Package stopwords is already up-to-date!\n",
      "[dynet] random seed: 1234\n",
      "[dynet] allocating memory: 32MB\n",
      "[dynet] memory allocation done.\n"
     ]
    },
    {
     "ename": "ModuleNotFoundError",
     "evalue": "No module named 'wimbd_process_results'",
     "output_type": "error",
     "traceback": [
      "\u001b[0;31m---------------------------------------------------------------------------\u001b[0m",
      "\u001b[0;31mModuleNotFoundError\u001b[0m                       Traceback (most recent call last)",
      "Cell \u001b[0;32mIn[1], line 15\u001b[0m\n\u001b[1;32m     13\u001b[0m \u001b[38;5;28;01mfrom\u001b[39;00m \u001b[38;5;21;01msrc\u001b[39;00m\u001b[38;5;21;01m.\u001b[39;00m\u001b[38;5;21;01mutils\u001b[39;00m \u001b[38;5;28;01mimport\u001b[39;00m remove_nested_lists\n\u001b[1;32m     14\u001b[0m \u001b[38;5;28;01mfrom\u001b[39;00m \u001b[38;5;21;01msrc\u001b[39;00m\u001b[38;5;21;01m.\u001b[39;00m\u001b[38;5;21;01manalysis\u001b[39;00m \u001b[38;5;28;01mimport\u001b[39;00m AnalyzeNgrams \u001b[38;5;28;01mas\u001b[39;00m an\n\u001b[0;32m---> 15\u001b[0m \u001b[38;5;28;01mfrom\u001b[39;00m \u001b[38;5;21;01mwimbd_process_results\u001b[39;00m \u001b[38;5;28;01mimport\u001b[39;00m softmax\n\u001b[1;32m     17\u001b[0m \u001b[38;5;28;01mfrom\u001b[39;00m \u001b[38;5;21;01mdatetime\u001b[39;00m \u001b[38;5;28;01mimport\u001b[39;00m datetime\n\u001b[1;32m     18\u001b[0m pd\u001b[38;5;241m.\u001b[39mset_option(\u001b[38;5;124m'\u001b[39m\u001b[38;5;124mdisplay.max_columns\u001b[39m\u001b[38;5;124m'\u001b[39m, \u001b[38;5;241m10\u001b[39m)\n",
      "\u001b[0;31mModuleNotFoundError\u001b[0m: No module named 'wimbd_process_results'"
     ]
    }
   ],
   "source": [
    "import os\n",
    "import numpy as np\n",
    "import pandas as pd\n",
    "import pickle\n",
    "import matplotlib.pyplot as plt\n",
    "import seaborn as sns\n",
    "from tqdm import tqdm\n",
    "\n",
    "from src.wimbd_ import BasePaths as PATHS\n",
    "from src.wimbd_ import DataConfigs as CONFIG\n",
    "from src.wimbd_ import post_filter, filter_percentile, load_results\n",
    "from src.wimbd_ import ProcessTriviaQA as ptqa\n",
    "from src.utils import remove_nested_lists\n",
    "from src.analysis import AnalyzeNgrams as an\n",
    "from wimbd_process_results import softmax\n",
    "\n",
    "from datetime import datetime\n",
    "pd.set_option('display.max_columns', 10)\n",
    "\n",
    "# Generate a timestamp\n",
    "timestamp = datetime.now().strftime(\"%Y-%m-%d-%H:%M\")"
   ]
  },
  {
   "cell_type": "code",
   "execution_count": null,
   "metadata": {},
   "outputs": [],
   "source": [
    "task_coverage_pth = \"./results/n-grams/triviaqa/pile/exp_3/validation-set/n_samples_None_fkeyFalse_rkeyFalse_fstopTrue_onlyalphaFalse/3/common/task-p-coverage.pkl\"\n",
    "task_coverage = pd.read_pickle(task_coverage_pth)"
   ]
  },
  {
   "cell_type": "code",
   "execution_count": null,
   "metadata": {},
   "outputs": [],
   "source": [
    "all_models = ['pythia-12b', 'pythia-6.9b', 'pythia-2.8b', 'pythia-1.4b', 'pythia-410m', 'pythia-160m', 'pythia-70m', 'pythia-31m', 'pythia-14m']\n",
    "large_models = ['pythia-12b', 'pythia-6.9b', 'pythia-2.8b', 'pythia-1.4b']\n",
    "small_models = ['pythia-410m', 'pythia-160m', 'pythia-70m', 'pythia-31m', 'pythia-14m']\n",
    "\n",
    "N_GRAMS = 5\n",
    "ALIGN_THRESH = 85\n",
    "# BASE_DIR = f\"./results/n-grams/trivia_qa/pile/exp_3/test-set/n_samples_None_fkeyFalse_rkeyFalse_fstopTrue_onlyalphaFalse/\"\n",
    "# BASE_DIR = f\"./results/n-grams/triviaqa/pile/exp_3/validation-set/n_samples_None_fkeyFalse_rkeyFalse_fstopTrue_onlyalphaFalse/\"\n",
    "BASE_DIR = f\"./results/n-grams/triviaqa/pile/exp_3/validation-set/n_samples_None_fkeyFalse_rkeyFalse_fstopFalse_onlyalphaFalse\"\n",
    "DATASET = \"examples_dfs_4-shot_common_models.pkl\"\n",
    "TASKS = \"triviaqa\"\n",
    "OMMIT_TASKS = False\n",
    "TASKS_OMMIT = [\"formal_logic\"]\n",
    "POST_FILTER = True\n",
    "\n",
    "# BASE_DIR = PATHS.base_ngram_paths[TASKS]['base_path']\n",
    "BASE_PATH = os.path.join(BASE_DIR, f\"{N_GRAMS}\")\n",
    "METHOD = \"0-shot_common\"\n",
    "BASE_PATH_COMMON = os.path.join(BASE_PATH, \"common\")\n",
    "BASE_PATH_ALL = os.path.join(BASE_PATH, \"all\")\n",
    "# FIG_DIR = os.path.join(\"/share/edc/home/antonis/LLM-Incidental-Supervision/incidental-supervision/figures\", DATASET, timestamp)\n",
    "# if not os.path.exists(FIG_DIR):\n",
    "#     os.makedirs(FIG_DIR)\n",
    "\n",
    "# RESULTS_PATH = os.path.join(BASE_DIR, str(N_GRAMS), 'common', DATASET)\n",
    "RESULTS_PATH = os.path.join(BASE_DIR, str(N_GRAMS), DATASET)\n",
    "FIGS_PTH = \"./figures/trivia_qa\"\n",
    "\n",
    "print(f\"BASE PATH: {BASE_PATH}\")\n",
    "\n",
    "VIEW_COLS = ['Q', 'A', 'question', 'value', 'align_score', 'em', 'answer']"
   ]
  },
  {
   "cell_type": "code",
   "execution_count": null,
   "metadata": {},
   "outputs": [],
   "source": [
    "\"./results/n-grams/triviaqa/pile/exp_3/validation-set/n_samples_None_fkeyFalse_rkeyFalse_fstopTrue_onlyalphaFalse/3/examples_dfs_4-shot_common_models.pkl\""
   ]
  },
  {
   "cell_type": "code",
   "execution_count": null,
   "metadata": {},
   "outputs": [],
   "source": [
    "RESULTS_PATH == \"./results/n-grams/triviaqa/pile/exp_3/validation-set/n_samples_None_fkeyFalse_rkeyFalse_fstopTrue_onlyalphaFalse/3/examples_dfs_4-shot_common_models.pkl\""
   ]
  },
  {
   "cell_type": "code",
   "execution_count": null,
   "metadata": {},
   "outputs": [],
   "source": [
    "RESULTS_PATH"
   ]
  },
  {
   "cell_type": "code",
   "execution_count": null,
   "metadata": {},
   "outputs": [],
   "source": [
    "# filter outliers\n",
    "pickle_file = pd.read_pickle(RESULTS_PATH)\n",
    "# df = pd.DataFrame(pickle_file).T.sort_values(\"value\", ascending=False)\n",
    "\n",
    "\n",
    "# filter\n",
    "# open\n",
    "examples_models_pth = os.path.join(BASE_PATH, f\"examples_dfs_{METHOD}_post-processed.pkl\")\n",
    "if os.path.exists(examples_models_pth):\n",
    "    with open(examples_models_pth, 'rb') as f:\n",
    "        examples_models = pickle.load(f)\n",
    "else:\n",
    "    examples_models = ptqa.process_model_examples(pickle_file, p=0.99999)\n",
    "examples_model = examples_models['pythia-12b']\n",
    "colors = sns.color_palette('hls', len(examples_models))"
   ]
  },
  {
   "cell_type": "code",
   "execution_count": null,
   "metadata": {},
   "outputs": [],
   "source": [
    "examples_model.head(20)"
   ]
  },
  {
   "cell_type": "code",
   "execution_count": null,
   "metadata": {},
   "outputs": [],
   "source": [
    "# # save\n",
    "# with open(os.path.join(BASE_PATH, f\"examples_dfs_{METHOD}_post-processed.pkl\"), 'wb') as f:\n",
    "#     pickle.dump(examples_models, f)"
   ]
  },
  {
   "cell_type": "code",
   "execution_count": null,
   "metadata": {},
   "outputs": [],
   "source": [
    "examples_models_ = {model: data[data['align_score'] > ALIGN_THRESH] for model, data in examples_models.items()}"
   ]
  },
  {
   "cell_type": "code",
   "execution_count": null,
   "metadata": {},
   "outputs": [],
   "source": [
    "# examples_model_small = examples_model.iloc[0:3]\n",
    "# examples_model_small_filtered, indices_kept = ptqa.calculate_alignment_scores(examples_model_small, 75, 1)"
   ]
  },
  {
   "cell_type": "code",
   "execution_count": null,
   "metadata": {},
   "outputs": [],
   "source": [
    "# display_cols = ['Q', 'A', 'value', 'example']\n",
    "# pd.set_option('display.max_rows', 1000)\n",
    "# pd.set_option('display.max_colwidth', 2)  # Set to None to display full content\n",
    "# examples_model[display_cols].iloc[200:400]"
   ]
  },
  {
   "cell_type": "code",
   "execution_count": null,
   "metadata": {},
   "outputs": [],
   "source": [
    "from src.analysis import AnalyzeNgrams as an\n",
    "\n",
    "# coverage_path = os.path.join(BASE_PATH_COMMON, \"task-coverage.pkl\")\n",
    "# task_cov = an.calculate_average_task_coverage(BASE_PATH_ALL, [TASKS], [N_GRAMS])"
   ]
  },
  {
   "cell_type": "code",
   "execution_count": null,
   "metadata": {},
   "outputs": [],
   "source": [
    "# # Assuming 'value' is the column with values to bin and we want 5 bins between 1 and 10000\n",
    "# examples_model = an.create_bins(examples_model, 'value', 1, 10000, 4)\n",
    "\n",
    "# example_samples_model = ptqa.get_random_samples_by_interval(examples_model, 100)\n",
    "\n",
    "# ptqa.plot_avg_em_by_log_interval(example_samples_model, log_axis=True)\n",
    "# ptqa.plot_avg_em_by_log_interval(examples_model, log_axis=True)\n",
    "# # plot_avg_em_by_log_interval(example_samples_model, log_axis=False)"
   ]
  },
  {
   "cell_type": "code",
   "execution_count": null,
   "metadata": {},
   "outputs": [],
   "source": [
    "len(examples_models_['pythia-12b'])"
   ]
  },
  {
   "cell_type": "code",
   "execution_count": null,
   "metadata": {},
   "outputs": [],
   "source": [
    "# Create a figure and axis\n",
    "fig, ax = plt.subplots(figsize=(12, 8))\n",
    "\n",
    "color_palette = sns.color_palette('husl', len(examples_models))\n",
    "is_log = True\n",
    "plot_var = 'value'\n",
    "savefile = os.path.join(FIGS_PTH, f\"avg_em_by_log_interval_all_log{is_log}_{plot_var}_aligned{ALIGN_THRESH}.png\")\n",
    "for i, (model_name, data) in enumerate(examples_models_.items()):\n",
    "    data = an.create_bins(data, plot_var, 0, 10000, 8, is_log)\n",
    "    # data = ptqa.get_random_samples_by_interval(data, 85)\n",
    "    ax = ptqa.plot_variable_by_interval(data, log_axis=is_log,\n",
    "                                 x_column='interval', y_column='em',\n",
    "                                 save_pth=savefile, ax=ax, \n",
    "                                 color=color_palette[i], label=model_name,\n",
    "                                 title=f'Performance vs. Ngrams for Different Models, {TASKS}, N={N_GRAMS}',\n",
    "                                 plot_std=True)"
   ]
  },
  {
   "cell_type": "code",
   "execution_count": null,
   "metadata": {},
   "outputs": [],
   "source": [
    "examples_model = examples_models['pythia-12b']\n",
    "pd.set_option('display.max_columns', 20)\n",
    "pd.set_option('display.max_rows', 500)\n",
    "# Corrected code\n",
    "pd.set_option('display.max_colwidth', 1)\n",
    "examples_model[VIEW_COLS].head(5)"
   ]
  },
  {
   "cell_type": "code",
   "execution_count": null,
   "metadata": {},
   "outputs": [],
   "source": [
    "question = \"What is the medical term for high blood pressure?\"\n",
    "df_q = examples_model[examples_model['question'] == question]\n",
    "df_q['Q']"
   ]
  },
  {
   "cell_type": "code",
   "execution_count": null,
   "metadata": {},
   "outputs": [],
   "source": [
    "from src.utils import normalize_string\n",
    "\n",
    "# Apply the function to each row of the DataFrame\n",
    "# examples_model[['q_coverage', 'a_coverage']] = examples_model.apply(calculate_qa_coverage, axis=1)\n",
    "\n",
    "coverage_df = an.calculate_qa_coverage(examples_model)"
   ]
  },
  {
   "cell_type": "code",
   "execution_count": null,
   "metadata": {},
   "outputs": [],
   "source": [
    "coverage_df.head(1)"
   ]
  },
  {
   "cell_type": "code",
   "execution_count": null,
   "metadata": {},
   "outputs": [],
   "source": [
    "coverage_df['q_coverage'].unique()"
   ]
  },
  {
   "cell_type": "code",
   "execution_count": null,
   "metadata": {},
   "outputs": [],
   "source": [
    "coverage_df[coverage_df['q_coverage'] < 0]"
   ]
  },
  {
   "cell_type": "code",
   "execution_count": null,
   "metadata": {},
   "outputs": [],
   "source": [
    "is_log = False\n",
    "plot_var = 'q_coverage'\n",
    "x_label = 'Question Coverage (p)'\n",
    "\n",
    "examples_model_cov_int = an.create_bins(coverage_df, plot_var, \n",
    "                                        -0.1, 1.0, 5, \n",
    "                                        is_log=is_log)\n",
    "\n",
    "ptqa.plot_variable_by_interval(examples_model_cov_int, log_axis=is_log,\n",
    "                                x_column='interval', y_column='em',\n",
    "                                save_pth=savefile, \n",
    "                                label='pythia-12b',\n",
    "                                title=f'Performance vs. {plot_var} for Different Models N={N_GRAMS}',\n",
    "                                x_label=x_label, \n",
    "                                plot_std=True)"
   ]
  },
  {
   "cell_type": "code",
   "execution_count": null,
   "metadata": {},
   "outputs": [],
   "source": [
    "def calculate_coverage(col_1, col_2):\n",
    "    "
   ]
  },
  {
   "cell_type": "code",
   "execution_count": null,
   "metadata": {},
   "outputs": [],
   "source": [
    "def calculate_coverage()"
   ]
  },
  {
   "cell_type": "code",
   "execution_count": null,
   "metadata": {},
   "outputs": [],
   "source": [
    "examples_model.groupby('log_interval').count()"
   ]
  },
  {
   "cell_type": "code",
   "execution_count": null,
   "metadata": {},
   "outputs": [],
   "source": []
  }
 ],
 "metadata": {
  "kernelspec": {
   "display_name": "incidental3",
   "language": "python",
   "name": "python3"
  },
  "language_info": {
   "codemirror_mode": {
    "name": "ipython",
    "version": 3
   },
   "file_extension": ".py",
   "mimetype": "text/x-python",
   "name": "python",
   "nbconvert_exporter": "python",
   "pygments_lexer": "ipython3",
   "version": "3.11.3"
  }
 },
 "nbformat": 4,
 "nbformat_minor": 2
}
