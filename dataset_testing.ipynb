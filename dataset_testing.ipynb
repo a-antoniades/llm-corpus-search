{
 "cells": [
  {
   "cell_type": "code",
   "execution_count": 11,
   "metadata": {},
   "outputs": [],
   "source": [
    "from datasets import load_dataset, load_from_disk\n",
    "from promptsource import templates\n",
    "\n",
    "CACHE_DIR = \"/share/edc/home/antonis/datasets/huggingface\"\n",
    "import os\n",
    "os.environ[\"HF_DATASETS_CACHE\"] = CACHE_DIR\n",
    "\n",
    "# # Get a list of all supported datasets\n",
    "# datasets = templates.get_dataset_names()\n",
    "# print(datasets)"
   ]
  },
  {
   "cell_type": "code",
   "execution_count": 2,
   "metadata": {},
   "outputs": [],
   "source": [
    "from datasets import load_dataset\n",
    "\n",
    "\n",
    "# Example usage\n",
    "dataset_configs = [\n",
    "    # {\n",
    "    #     'dataset_name': 'imdb',\n",
    "    #     'dataset_config_name': 'plain_text',\n",
    "    #     'p': 0.5,\n",
    "    #     'train_split': 'train',\n",
    "    #     'validation_split': 'test',\n",
    "    # },\n",
    "    {\n",
    "        'dataset_name': 'common_gen',\n",
    "        'dataset_config_name': 'common_gen',\n",
    "        'p': 0.3,\n",
    "        'train_split': 'train',\n",
    "        'validation_split': 'validation',\n",
    "    },\n",
    "    {\n",
    "        'dataset_name': 'wikitext',\n",
    "        'dataset_config_name': 'wikitext-2-v1',\n",
    "        'p': 0.3,\n",
    "        'train_split': 'train',\n",
    "        'validation_split': 'validation',\n",
    "    },\n",
    "    {\n",
    "        'dataset_name': 'bookcorpus',\n",
    "        'dataset_config_name': None,\n",
    "        'p': 0.3,\n",
    "        'train_split': 'text',\n",
    "    }\n",
    "]\n",
    "\n",
    "# Load and split datasets\n",
    "# dataset = load_dataset(ds_config['dataset_name'], ds_config['dataset_config_name'])"
   ]
  },
  {
   "cell_type": "code",
   "execution_count": 18,
   "metadata": {},
   "outputs": [],
   "source": [
    "ds_pth = \"/share/edc/home/antonis/datasets/huggingface/merged_datasets/dataset_1/dataset_train.arrow\"\n",
    "dataset = load_from_disk(ds_pth)"
   ]
  },
  {
   "cell_type": "code",
   "execution_count": 22,
   "metadata": {},
   "outputs": [
    {
     "data": {
      "text/plain": [
       "{'text': \"`` you 're welcome . ''\"}"
      ]
     },
     "execution_count": 22,
     "metadata": {},
     "output_type": "execute_result"
    },
    {
     "ename": "",
     "evalue": "",
     "output_type": "error",
     "traceback": [
      "\u001b[1;31mThe Kernel crashed while executing code in the the current cell or a previous cell. Please review the code in the cell(s) to identify a possible cause of the failure. Click <a href='https://aka.ms/vscodeJupyterKernelCrash'>here</a> for more info. View Jupyter <a href='command:jupyter.viewOutput'>log</a> for further details."
     ]
    }
   ],
   "source": [
    "dataset[10000000]"
   ]
  },
  {
   "cell_type": "code",
   "execution_count": 15,
   "metadata": {},
   "outputs": [
    {
     "name": "stderr",
     "output_type": "stream",
     "text": [
      "Downloading builder script: 100%|██████████| 11.5k/11.5k [00:00<00:00, 10.8MB/s]\n",
      "Downloading metadata: 100%|██████████| 31.7k/31.7k [00:00<00:00, 28.1MB/s]\n",
      "Downloading readme: 100%|██████████| 22.1k/22.1k [00:00<00:00, 21.4MB/s]\n"
     ]
    },
    {
     "name": "stdout",
     "output_type": "stream",
     "text": [
      "Downloading and preparing dataset web_nlg/release_v3.0_en to /local/home/antonis/.cache/huggingface/datasets/web_nlg/release_v3.0_en/0.0.0/28ffb892f7f42450dd9558684aa43bcaf44b1b3bf0d77cb8d73534646af88dda...\n"
     ]
    },
    {
     "name": "stderr",
     "output_type": "stream",
     "text": [
      "Downloading data: 25.5MB [00:00, 65.6MB/s]\n",
      "                                                                                      \r"
     ]
    },
    {
     "name": "stdout",
     "output_type": "stream",
     "text": [
      "Dataset web_nlg downloaded and prepared to /local/home/antonis/.cache/huggingface/datasets/web_nlg/release_v3.0_en/0.0.0/28ffb892f7f42450dd9558684aa43bcaf44b1b3bf0d77cb8d73534646af88dda. Subsequent calls will reuse this data.\n"
     ]
    },
    {
     "name": "stderr",
     "output_type": "stream",
     "text": [
      "100%|██████████| 3/3 [00:00<00:00, 575.32it/s]\n"
     ]
    }
   ],
   "source": [
    "ds_dart = load_dataset('web_nlg', 'release_v3.0_en')"
   ]
  },
  {
   "cell_type": "code",
   "execution_count": 16,
   "metadata": {},
   "outputs": [
    {
     "data": {
      "text/plain": [
       "DatasetDict({\n",
       "    train: Dataset({\n",
       "        features: ['category', 'size', 'eid', 'original_triple_sets', 'modified_triple_sets', 'shape', 'shape_type', 'lex', 'test_category', 'dbpedia_links', 'links'],\n",
       "        num_rows: 13211\n",
       "    })\n",
       "    dev: Dataset({\n",
       "        features: ['category', 'size', 'eid', 'original_triple_sets', 'modified_triple_sets', 'shape', 'shape_type', 'lex', 'test_category', 'dbpedia_links', 'links'],\n",
       "        num_rows: 1667\n",
       "    })\n",
       "    test: Dataset({\n",
       "        features: ['category', 'size', 'eid', 'original_triple_sets', 'modified_triple_sets', 'shape', 'shape_type', 'lex', 'test_category', 'dbpedia_links', 'links'],\n",
       "        num_rows: 5713\n",
       "    })\n",
       "})"
      ]
     },
     "execution_count": 16,
     "metadata": {},
     "output_type": "execute_result"
    }
   ],
   "source": [
    "ds_dart"
   ]
  },
  {
   "cell_type": "code",
   "execution_count": null,
   "metadata": {},
   "outputs": [],
   "source": [
    "dataset_files = [\n",
    "    \"/share/edc/home/antonis/datasets/huggingface/merged_datasets/dataset_1/dataset_train.arrow\",\n",
    "    \"/share/edc/home/antonis/datasets/huggingface/merged_datasets/dataset_0/dataset_train.arrow\",\n",
    "]\n",
    "\n",
    "for ds_file in dataset_files:\n",
    "    ds = load_from_disk(ds_file)\n",
    "    print(len(ds))"
   ]
  },
  {
   "cell_type": "code",
   "execution_count": null,
   "metadata": {},
   "outputs": [],
   "source": [
    "\n",
    "def compute_metrics(eval_preds):\n",
    "    preds, labels = eval_preds\n",
    "    print(\"preds1, \", preds.shape)\n",
    "    print(\"labels1, \", labels.shape)\n",
    "    decoded_preds, decoded_labels = tokenizer.batch_decode((preds, labels), skip_special_tokens=True)\n",
    "    labels = labels[:, 1:].tolist()\n",
    "    preds = preds[:, :-1].tolist()\n",
    "\n",
    "    print(f\"labels: {labels.shape}\")\n",
    "    print(f\"preds: {preds.shape}\")\n",
    "    print(f\"decoded_labels: {decoded_labels.shape}\")\n",
    "    print(f\"decoded_preds: {decoded_preds.shape}\")\n",
    "\n",
    "    metric1 = evaluate.load(\"accuracy\")\n",
    "    metric2 = evaluate.load(\"f1\")\n",
    "    metric3 = evaluate.load(\"bleu\")\n",
    "    metric4 = evaluate.load(\"bertscore\")\n",
    "\n",
    "    accuracy, f1 = [], []\n",
    "    for i in range(len(labels)):\n",
    "        accuracy.append(metric1.compute(predictions=preds[i], references=labels[i]))\n",
    "        f1.append(metric2.compute(predictions=preds[i], references=labels[i], average='macro'))\n",
    "    accuracy = np.mean(accuracy)\n",
    "    f1 = np.mean(f1)\n",
    "    # Specifying the average method for multiclass F1 score\n",
    "    return {\n",
    "        \"accuracy\": accuracy,\n",
    "        \"f1\": f1,\n",
    "        \"bleu\": metric3.compute(predictions=preds, references=labels),\n",
    "        \"bertscore\": metric4.compute(predictions=preds, references=labels)\n",
    "    }"
   ]
  },
  {
   "cell_type": "code",
   "execution_count": null,
   "metadata": {},
   "outputs": [],
   "source": [
    "dataset[0].keys()"
   ]
  },
  {
   "cell_type": "code",
   "execution_count": null,
   "metadata": {},
   "outputs": [],
   "source": [
    "dataset[2]"
   ]
  },
  {
   "cell_type": "code",
   "execution_count": null,
   "metadata": {},
   "outputs": [],
   "source": [
    "# print(dataset[1])\n",
    "idx = 1\n",
    "for k, v in dataset[idx].items():\n",
    "    print(k, v)"
   ]
  },
  {
   "cell_type": "code",
   "execution_count": null,
   "metadata": {},
   "outputs": [],
   "source": [
    "ds_conf_1 = dataset_configs[1]\n",
    "ds_1 = load_dataset(ds_conf_1['dataset_name'], ds_conf_1['dataset_config_name'], cache_dir=CACHE_DIR)"
   ]
  },
  {
   "cell_type": "code",
   "execution_count": null,
   "metadata": {},
   "outputs": [],
   "source": [
    "ds_conf_0 = dataset_configs[0]\n",
    "ds_0 = load_dataset(ds_conf_0['dataset_name'], ds_conf_0['dataset_config_name'], cache_dir=CACHE_DIR)"
   ]
  },
  {
   "cell_type": "code",
   "execution_count": null,
   "metadata": {},
   "outputs": [],
   "source": [
    "from merge_datasets import concatenate_columns\n",
    "\n",
    "ds_0_train = ds_0['train']\n",
    "ds_0_text = ds_0_train.map(lambda x: concatenate_columns(x, new_col_name='text'))"
   ]
  },
  {
   "cell_type": "code",
   "execution_count": null,
   "metadata": {},
   "outputs": [],
   "source": [
    "ds_conf_2 = dataset_configs[2]\n",
    "ds_2 = load_dataset(ds_conf_2['dataset_name'], ds_conf_2['dataset_config_name'], cache_dir=CACHE_DIR)"
   ]
  }
 ],
 "metadata": {
  "kernelspec": {
   "display_name": "incidental",
   "language": "python",
   "name": "python3"
  },
  "language_info": {
   "codemirror_mode": {
    "name": "ipython",
    "version": 3
   },
   "file_extension": ".py",
   "mimetype": "text/x-python",
   "name": "python",
   "nbconvert_exporter": "python",
   "pygments_lexer": "ipython3",
   "version": "3.11.3"
  },
  "orig_nbformat": 4
 },
 "nbformat": 4,
 "nbformat_minor": 2
}
