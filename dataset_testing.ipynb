{
 "cells": [
  {
   "cell_type": "code",
   "execution_count": 1,
   "metadata": {},
   "outputs": [
    {
     "name": "stderr",
     "output_type": "stream",
     "text": [
      "/local/home/antonis/.conda/envs/incidental/lib/python3.11/site-packages/tqdm/auto.py:21: TqdmWarning: IProgress not found. Please update jupyter and ipywidgets. See https://ipywidgets.readthedocs.io/en/stable/user_install.html\n",
      "  from .autonotebook import tqdm as notebook_tqdm\n"
     ]
    }
   ],
   "source": [
    "from datasets import load_dataset, load_from_disk, concatenate_datasets\n",
    "from promptsource import templates\n",
    "\n",
    "CACHE_DIR = \"/share/edc/home/antonis/datasets/huggingface\"\n",
    "import os\n",
    "os.environ[\"HF_DATASETS_CACHE\"] = CACHE_DIR\n",
    "\n",
    "# # Get a list of all supported datasets\n",
    "# datasets = templates.get_dataset_names()\n",
    "# print(datasets)"
   ]
  },
  {
   "cell_type": "code",
   "execution_count": null,
   "metadata": {},
   "outputs": [],
   "source": [
    "def print_example(example):\n",
    "    for key in example.keys():\n",
    "        print(f\"{key}: {example[key]}\")"
   ]
  },
  {
   "cell_type": "code",
   "execution_count": null,
   "metadata": {},
   "outputs": [],
   "source": [
    "dataset = load_dataset('web_nlg', 'release_v3.0_en', cache_dir=CACHE_DIR)"
   ]
  },
  {
   "cell_type": "code",
   "execution_count": null,
   "metadata": {},
   "outputs": [],
   "source": [
    "# ds_pth = \"/share/edc/home/antonis/datasets/huggingface/merged_datasets/dataset_1/dataset_train.arrow\"\n",
    "# ds_pth = \"/share/edc/home/antonis/datasets/huggingface/merged_datasets/sentiment/dataset_1/dataset_validation.arrow\"\n",
    "# ds_pth = \"/share/edc/home/antonis/datasets/huggingface/merged_datasets/sentiment/P_QA_5/dataset_1/dataset_validation.arrow\"\n",
    "# dataset_c4 = load_dataset(\"c4\", \"en\", split=\"train[:20%]\", cache_dir=CACHE_DIR)\n",
    "\n",
    "ds_pth = \"/share/edc/home/antonis/datasets/huggingface/merged_datasets/sentiment_c4/P_1_PQA_5_promptsource_True/dataset_1/dataset_train.arrow\"\n",
    "dataset = load_from_disk(ds_pth)\n",
    "\n",
    "ds_path2 = \"/share/edc/home/antonis/datasets/huggingface/merged_datasets/sentiment_c4/P_1_PQA_5_promptsource_True/dataset_0/dataset_train.arrow\"\n",
    "dataset2 = load_from_disk(ds_path2)"
   ]
  },
  {
   "cell_type": "code",
   "execution_count": null,
   "metadata": {},
   "outputs": [],
   "source": [
    "dataset[-5:]"
   ]
  },
  {
   "cell_type": "code",
   "execution_count": null,
   "metadata": {},
   "outputs": [],
   "source": [
    "dataset2[-5:]"
   ]
  },
  {
   "cell_type": "code",
   "execution_count": null,
   "metadata": {},
   "outputs": [],
   "source": [
    "ds_imdb = load_dataset(\"imdb\", split=\"test\", cache_dir=CACHE_DIR)\n",
    "ds_sst = load_dataset(\"sst\", split=\"test\", cache_dir=CACHE_DIR)\n",
    "\n",
    "print(f\"IMDB len: {len(ds_imdb)}\")\n",
    "print(f\"SST len: {len(ds_sst)}\")"
   ]
  },
  {
   "cell_type": "code",
   "execution_count": null,
   "metadata": {},
   "outputs": [],
   "source": [
    "# first protion is IMDB, second is SST\n",
    "ds_pth_val = \"/share/edc/home/antonis/datasets/huggingface/merged_datasets/sentiment_c4/P_1_PQA_5_promptsource_True/dataset_1/dataset_validation.arrow\"\n",
    "dataset_val = load_from_disk(ds_pth_val)\n",
    "ds_pth2_val = \"/share/edc/home/antonis/datasets/huggingface/merged_datasets/sentiment_c4/P_1_PQA_5_promptsource_True/dataset_0/dataset_validation.arrow\"\n",
    "dataset2_val = load_from_disk(ds_pth2_val)"
   ]
  },
  {
   "cell_type": "code",
   "execution_count": null,
   "metadata": {},
   "outputs": [],
   "source": [
    "print(f\"train1: {len(dataset)}\")\n",
    "print(f\"train2: {len(dataset2)}\")\n",
    "print(f\"val1: {len(dataset_val)}\")\n",
    "print(f\"val2: {len(dataset2_val)}\")"
   ]
  },
  {
   "cell_type": "code",
   "execution_count": null,
   "metadata": {},
   "outputs": [],
   "source": [
    "dataset_val.select(range(len(dataset2_val)))"
   ]
  },
  {
   "cell_type": "code",
   "execution_count": null,
   "metadata": {},
   "outputs": [],
   "source": [
    "# dataset_val[-len(dataset2_val):]\n",
    "\n",
    "# new column\n",
    "\n",
    "dataset_val1 = dataset_val.select(range(len(ds_imdb)))\n",
    "dataset_val2 = dataset_val.select(range(len(ds_imdb), len(dataset_val)))\n",
    "\n",
    "assert len(dataset_val1) + len(dataset_val2) == len(dataset_val), f\"len mismatch: {len(dataset_val1)} + {len(dataset_val2)} != {len(dataset_val)}\"\n",
    "\n",
    "def add_new_column1(example, keyword, column_name=\"dataset\"):\n",
    "    example[column_name] = keyword\n",
    "    return example\n",
    "\n",
    "dataset_val1 = dataset_val1.map(lambda x: add_new_column1(x, \"imdb\"))\n",
    "dataset_val2 = dataset_val2.map(lambda x: add_new_column1(x, \"sst\"))\n",
    "\n",
    "dataset_val = concatenate_datasets([dataset_val1, dataset_val2])\n",
    "\n",
    "# save the new dataset\n",
    "dataset_val.save_to_disk(os.path.join(os.path.dirname(ds_pth_val), \"dataset_validation_wname.arrow\"))\n",
    "\n"
   ]
  },
  {
   "cell_type": "code",
   "execution_count": null,
   "metadata": {},
   "outputs": [],
   "source": [
    "print(os.path.join(os.path.dirname(ds_pth_val), \"dataset_validation_wname.arrow\"))"
   ]
  },
  {
   "cell_type": "code",
   "execution_count": 6,
   "metadata": {},
   "outputs": [],
   "source": [
    "import os\n",
    "import json\n",
    "import logging\n",
    "from datasets import load_dataset, Dataset\n",
    "from promptsource.templates import DatasetTemplates, TemplateCollection\n",
    "# set logging level to INFO\n",
    "from src._promptsource import get_T0MixtureDatasets \n",
    "logger = logging.getLogger(__name__)\n",
    "logger.setLevel(20)"
   ]
  },
  {
   "cell_type": "code",
   "execution_count": 10,
   "metadata": {},
   "outputs": [],
   "source": [
    "TOMixture = [\n",
    "    (\"sst\",\"default\"), # Senitment Classification\")\n",
    "    (\"imdb\",None),\n",
    "]"
   ]
  },
  {
   "cell_type": "code",
   "execution_count": 2,
   "metadata": {},
   "outputs": [
    {
     "name": "stderr",
     "output_type": "stream",
     "text": [
      "Found cached dataset yelp_review_full (/share/edc/home/antonis/datasets/huggingface/yelp_review_full/yelp_review_full/1.0.0/e8e18e19d7be9e75642fc66b198abadb116f73599ec89a69ba5dd8d1e57ba0bf)\n",
      "Found cached dataset sentiment140 (/share/edc/home/antonis/datasets/huggingface/sentiment140/sentiment140/1.0.0/f81c014152931b776735658d8ae493b181927de002e706c4d5244ecb26376997)\n"
     ]
    }
   ],
   "source": [
    "# datasets = get_T0MixtureDatasets(\"test\", max_samples=1000, return_as_dict=True)\n",
    "# ds_sst = load_dataset(\"sst\", \"default\", split=\"test\", cache_dir=CACHE_DIR)\n",
    "# ds_imdb = load_dataset(\"imdb\", split=\"test\", cache_dir=CACHE_DIR)\n",
    "ds_yelp_review = load_dataset(\"yelp_review_full\", split=\"train\", cache_dir=CACHE_DIR)\n",
    "ds_sentiment140 = load_dataset(\"sentiment140\", split=\"train\", cache_dir=CACHE_DIR)"
   ]
  },
  {
   "cell_type": "code",
   "execution_count": 14,
   "metadata": {},
   "outputs": [],
   "source": [
    "name, subset = TOMixture[0]\n",
    "example = ds_sst.select(range(1))\n",
    "# DatasetTemplates(name, subset).templates.get_get_answer_choices_list(example)"
   ]
  },
  {
   "cell_type": "code",
   "execution_count": 24,
   "metadata": {},
   "outputs": [
    {
     "name": "stdout",
     "output_type": "stream",
     "text": [
      "2210\n",
      "25000\n"
     ]
    },
    {
     "name": "stderr",
     "output_type": "stream",
     "text": [
      "Map:   0%|          | 0/1000 [00:00<?, ? examples/s]"
     ]
    },
    {
     "name": "stderr",
     "output_type": "stream",
     "text": [
      "                                                               \r"
     ]
    }
   ],
   "source": [
    "print(len(ds_sst))\n",
    "print(len(ds_imdb))\n",
    "# print(len(ds_yelp_review))\n",
    "# print(len(ds_sentiment140))\n",
    "\n",
    "import random\n",
    "\n",
    "ds_name = datasets['imdb']\n",
    "\n",
    "def apply_template(example, template, dataset_name):\n",
    "    if isinstance(template, list):\n",
    "        template = random.choice(template)\n",
    "    try:\n",
    "        answer_choices = template.get_answer_choices_list(example)\n",
    "    except:\n",
    "        answer_choices = None\n",
    "    # example['label'] = float(example['label'])\n",
    "    return {\"prompt\": template.apply(example), \"answer_choices\": answer_choices, \"dataset\": dataset_name}\n",
    "\n",
    "# # You can apply the template to the dataset\n",
    "# prompted_dataset = ds_name.map(lambda example: apply_template(example, ds_name.templates))\n",
    "\n",
    "def create_prompted_dataset(datasets):\n",
    "    prompted_datasets = {}\n",
    "    for name, dataset in datasets.items():\n",
    "        prompted_dataset = dataset.map(lambda example: apply_template(example, dataset.templates, name))\n",
    "        # columns to keep\n",
    "        columns_to_keep = [\"prompt\", \"answer_choices\", \"dataset\"]\n",
    "        prompted_dataset = prompted_dataset.remove_columns([col for col in prompted_dataset.column_names if col not in columns_to_keep])\n",
    "        prompted_datasets[name] = prompted_dataset\n",
    "\n",
    "    prompted_datasets = concatenate_datasets([dataset for name, dataset in prompted_datasets.items()])\n",
    "    return prompted_datasets\n",
    "\n",
    "prompted_datasets = create_prompted_dataset(datasets)"
   ]
  },
  {
   "cell_type": "code",
   "execution_count": 25,
   "metadata": {},
   "outputs": [
    {
     "name": "stderr",
     "output_type": "stream",
     "text": [
      "                                                                                               \r"
     ]
    }
   ],
   "source": [
    "# save prompted dataset\n",
    "\n",
    "# prompted_datasets.save_to_disk(\"/share/edc/home/antonis/datasets/huggingface/merged_datasets/sentiment_c4/P_1_PQA_5_promptsource_True/dataset_0/dataset_test_with_answers.arrow\")"
   ]
  },
  {
   "cell_type": "code",
   "execution_count": 16,
   "metadata": {},
   "outputs": [
    {
     "name": "stdout",
     "output_type": "stream",
     "text": [
      "sst/default Dataset({\n",
      "    features: ['sentence', 'label', 'tokens', 'tree'],\n",
      "    num_rows: 1000\n",
      "})\n",
      "[<promptsource.templates.Template object at 0x7f5180119590>, <promptsource.templates.Template object at 0x7f5128342550>, <promptsource.templates.Template object at 0x7f51285ab410>, <promptsource.templates.Template object at 0x7f51285ab150>, <promptsource.templates.Template object at 0x7f51285c0bd0>]\n",
      "imdb Dataset({\n",
      "    features: ['text', 'label'],\n",
      "    num_rows: 1000\n",
      "})\n",
      "[<promptsource.templates.Template object at 0x7f51285867d0>, <promptsource.templates.Template object at 0x7f51285a6290>, <promptsource.templates.Template object at 0x7f51285de550>, <promptsource.templates.Template object at 0x7f51285d7750>, <promptsource.templates.Template object at 0x7f51283a3e90>, <promptsource.templates.Template object at 0x7f51285b4950>, <promptsource.templates.Template object at 0x7f51283b5b50>, <promptsource.templates.Template object at 0x7f51283b5ad0>, <promptsource.templates.Template object at 0x7f51283b5a10>, <promptsource.templates.Template object at 0x7f51283a3ed0>, <promptsource.templates.Template object at 0x7f51283b4210>]\n"
     ]
    }
   ],
   "source": [
    "for name, dataset in datasets.items():\n",
    "    print(name, dataset)\n",
    "    print(dataset.templates)"
   ]
  },
  {
   "cell_type": "code",
   "execution_count": null,
   "metadata": {},
   "outputs": [],
   "source": []
  }
 ],
 "metadata": {
  "kernelspec": {
   "display_name": "incidental",
   "language": "python",
   "name": "python3"
  },
  "language_info": {
   "codemirror_mode": {
    "name": "ipython",
    "version": 3
   },
   "file_extension": ".py",
   "mimetype": "text/x-python",
   "name": "python",
   "nbconvert_exporter": "python",
   "pygments_lexer": "ipython3",
   "version": "3.11.3"
  },
  "orig_nbformat": 4
 },
 "nbformat": 4,
 "nbformat_minor": 2
}
