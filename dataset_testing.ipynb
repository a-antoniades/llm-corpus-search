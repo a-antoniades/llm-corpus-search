{
 "cells": [
  {
   "cell_type": "code",
   "execution_count": 1,
   "metadata": {},
   "outputs": [
    {
     "name": "stderr",
     "output_type": "stream",
     "text": [
      "/local/home/antonis/.conda/envs/incidental/lib/python3.11/site-packages/tqdm/auto.py:21: TqdmWarning: IProgress not found. Please update jupyter and ipywidgets. See https://ipywidgets.readthedocs.io/en/stable/user_install.html\n",
      "  from .autonotebook import tqdm as notebook_tqdm\n"
     ]
    }
   ],
   "source": [
    "from datasets import load_dataset, load_from_disk\n",
    "from promptsource import templates\n",
    "\n",
    "CACHE_DIR = \"/share/edc/home/antonis/datasets/huggingface\"\n",
    "import os\n",
    "os.environ[\"HF_DATASETS_CACHE\"] = CACHE_DIR\n",
    "\n",
    "# # Get a list of all supported datasets\n",
    "# datasets = templates.get_dataset_names()\n",
    "# print(datasets)"
   ]
  },
  {
   "cell_type": "code",
   "execution_count": 2,
   "metadata": {},
   "outputs": [],
   "source": [
    "def print_example(example):\n",
    "    for key in example.keys():\n",
    "        print(f\"{key}: {example[key]}\")"
   ]
  },
  {
   "cell_type": "code",
   "execution_count": 3,
   "metadata": {},
   "outputs": [
    {
     "name": "stdout",
     "output_type": "stream",
     "text": [
      "{'struct2text': [{'dataset_type': 'QA', 'dataset_name': 'common_gen', 'dataset_config_name': 'common_gen', 'p': 0.5, 'train_split': 'train', 'columns': {'concepts': 'concepts', 'target': 'target'}}, {'dataset_type': 'QA', 'dataset_name': 'e2e_nlg', 'dataset_config_name': 'e2e_nlg', 'p': 0.5, 'train_split': 'train', 'columns': {'meaning_representation': 'meaning_representation', 'human_reference': 'human_reference'}}, {'dataset_type': 'QA', 'dataset_name': 'dart', 'dataset_config_name': 'dart', 'p': 0.5, 'validation_split': 'validation', 'columns': {'tripleset': 'text', 'annotations': 'target'}}, {'dataset_type': 'QA', 'dataset_name': 'web_nlg', 'dataset_config_name': 'release_v3.0_en', 'p': 0.5, 'validation_split': 'test', 'columns': {'modified_triple_sets': 'modified_triple_sets', 'text': 'text'}}, {'dataset_type': 'text', 'dataset_name': 'wikitext', 'dataset_config_name': 'wikitext-2-v1', 'p': 1, 'train_split': 'train'}, {'dataset_type': 'text', 'dataset_name': 'bookcorpus', 'dataset_config_name': None, 'p': 1, 'train_split': 'train'}], 'sentiment': [{'dataset_type': 'QA', 'dataset_name': 'imdb', 'dataset_config_name': None, 'p': 0.5, 'train_split': 'train', 'columns': {'text': 'text', 'label': 'label'}}, {'dataset_type': 'QA', 'dataset_name': 'yelp_review_full', 'dataset_config_name': None, 'p': 0.5, 'train_split': 'train', 'columns': {'text': 'text', 'label': 'label'}}, {'dataset_type': 'QA', 'dataset_name': 'sentiment140', 'dataset_config_name': None, 'p': 0.5, 'validation_split': 'test', 'columns': {'text': 'text', 'sentiment': 'sentiment'}}, {'dataset_type': 'QA', 'dataset_name': 'sst2', 'dataset_config_name': None, 'p': 0.5, 'validation_split': 'test', 'columns': {'sentence': 'sentence', 'label': 'label'}}, {'dataset_type': 'text', 'dataset_name': 'wikitext', 'dataset_config_name': 'wikitext-2-v1', 'p': 1, 'train_split': 'train'}, {'dataset_type': 'text', 'dataset_name': 'bookcorpus', 'dataset_config_name': None, 'p': 1, 'train_split': 'train'}]}\n"
     ]
    }
   ],
   "source": [
    "# import sys\n",
    "# sys.path.append(\"/share/edc/home/antonis/LLM-Incidental-Supervision/incidental-supervision/src\")\n",
    "from src.dataset_configs import DatasetConfig\n",
    "\n",
    "config_instance = DatasetConfig()\n",
    "\n",
    "# Changing P_QA and updating 'p' values in dataset_configs\n",
    "config_instance.update_p_values(new_value=0.5)\n",
    "\n",
    "# Now, the 'p' values inside config_instance.dataset_configs are updated\n",
    "print(config_instance.dataset_configs)"
   ]
  },
  {
   "cell_type": "code",
   "execution_count": 14,
   "metadata": {},
   "outputs": [
    {
     "name": "stderr",
     "output_type": "stream",
     "text": [
      "Found cached dataset web_nlg (/share/edc/home/antonis/datasets/huggingface/web_nlg/release_v3.0_en/0.0.0/28ffb892f7f42450dd9558684aa43bcaf44b1b3bf0d77cb8d73534646af88dda)\n",
      "100%|██████████| 3/3 [00:00<00:00, 238.88it/s]\n"
     ]
    }
   ],
   "source": [
    "dataset = load_dataset('web_nlg', 'release_v3.0_en', cache_dir=CACHE_DIR)"
   ]
  },
  {
   "cell_type": "code",
   "execution_count": 15,
   "metadata": {},
   "outputs": [
    {
     "data": {
      "text/plain": [
       "DatasetDict({\n",
       "    train: Dataset({\n",
       "        features: ['category', 'size', 'eid', 'original_triple_sets', 'modified_triple_sets', 'shape', 'shape_type', 'lex', 'test_category', 'dbpedia_links', 'links'],\n",
       "        num_rows: 13211\n",
       "    })\n",
       "    dev: Dataset({\n",
       "        features: ['category', 'size', 'eid', 'original_triple_sets', 'modified_triple_sets', 'shape', 'shape_type', 'lex', 'test_category', 'dbpedia_links', 'links'],\n",
       "        num_rows: 1667\n",
       "    })\n",
       "    test: Dataset({\n",
       "        features: ['category', 'size', 'eid', 'original_triple_sets', 'modified_triple_sets', 'shape', 'shape_type', 'lex', 'test_category', 'dbpedia_links', 'links'],\n",
       "        num_rows: 5713\n",
       "    })\n",
       "})"
      ]
     },
     "execution_count": 15,
     "metadata": {},
     "output_type": "execute_result"
    },
    {
     "ename": "",
     "evalue": "",
     "output_type": "error",
     "traceback": [
      "\u001b[1;31mThe Kernel crashed while executing code in the the current cell or a previous cell. Please review the code in the cell(s) to identify a possible cause of the failure. Click <a href='https://aka.ms/vscodeJupyterKernelCrash'>here</a> for more info. View Jupyter <a href='command:jupyter.viewOutput'>log</a> for further details."
     ]
    }
   ],
   "source": [
    "dataset"
   ]
  },
  {
   "cell_type": "code",
   "execution_count": 4,
   "metadata": {},
   "outputs": [],
   "source": [
    "ds_pth = \"/share/edc/home/antonis/datasets/huggingface/merged_datasets/dataset_1/dataset_train.arrow\"\n",
    "dataset = load_from_disk(ds_pth)"
   ]
  },
  {
   "cell_type": "code",
   "execution_count": 5,
   "metadata": {},
   "outputs": [
    {
     "data": {
      "text/plain": [
       "Dataset({\n",
       "    features: ['text', 'date', 'user', 'sentiment', 'query', 'idx', 'sentence', 'label'],\n",
       "    num_rows: 2319\n",
       "})"
      ]
     },
     "execution_count": 5,
     "metadata": {},
     "output_type": "execute_result"
    }
   ],
   "source": [
    "dataset"
   ]
  },
  {
   "cell_type": "code",
   "execution_count": null,
   "metadata": {},
   "outputs": [],
   "source": []
  },
  {
   "cell_type": "code",
   "execution_count": 6,
   "metadata": {},
   "outputs": [
    {
     "name": "stderr",
     "output_type": "stream",
     "text": [
      "Found cached dataset web_nlg (/local/home/antonis/.cache/huggingface/datasets/web_nlg/release_v3.0_en/0.0.0/28ffb892f7f42450dd9558684aa43bcaf44b1b3bf0d77cb8d73534646af88dda)\n",
      "100%|██████████| 3/3 [00:00<00:00, 124.34it/s]\n"
     ]
    }
   ],
   "source": [
    "ds_dart = load_dataset('web_nlg', 'release_v3.0_en')"
   ]
  },
  {
   "cell_type": "code",
   "execution_count": 7,
   "metadata": {},
   "outputs": [
    {
     "name": "stdout",
     "output_type": "stream",
     "text": [
      "74040946\n",
      "74040946\n"
     ]
    }
   ],
   "source": [
    "dataset_files = [\n",
    "    \"/share/edc/home/antonis/datasets/huggingface/merged_datasets/dataset_1/dataset_train.arrow\",\n",
    "    \"/share/edc/home/antonis/datasets/huggingface/merged_datasets/dataset_0/dataset_train.arrow\",\n",
    "]\n",
    "\n",
    "for ds_file in dataset_files:\n",
    "    ds = load_from_disk(ds_file)\n",
    "    print(len(ds))"
   ]
  },
  {
   "cell_type": "code",
   "execution_count": 8,
   "metadata": {},
   "outputs": [
    {
     "name": "stderr",
     "output_type": "stream",
     "text": [
      "Found cached dataset imdb (/local/home/antonis/.cache/huggingface/datasets/imdb/plain_text/1.0.0/d613c88cf8fa3bab83b4ded3713f1f74830d1100e171db75bbddb80b3345c9c0)\n"
     ]
    },
    {
     "name": "stdout",
     "output_type": "stream",
     "text": [
      "25000\n",
      "text: This experimental silent film, made in Switzerland by an independent British film company, is chiefly remembered as Paul Robeson's first film. It's very artistic, with shots often seeming meaningless to the story, which is difficult to understand anyway because of the lack of enough inter-titles. From what I gathered, Robeson's wife, Adah, is in an inter-racial love affair with a white man called Thorne. It doesn't bother the cigar-chomping owner of the bar/hotel where Thorne lives (and she seems to be having a lesbian relationship with a barmaid), but an old lady expresses the town's point of view in an inter-title: \"If I had my way, we wouldn't allow negroes in here.\" Thorne is also called \"nigger lover\" by someone in the bar. Adah tries a reconciliation with Pete (Robeson), but eventually leaves him. Thorne's wife, Astrid, goes off the deep end, brandishes a knife, cuts Thorne's arm and cheek, and somehow dies. Thorne must have been accused of murder because we learn he was acquitted. As for Pete, he gets a letter from the mayor telling him it is best for everyone that he leave town. So the film is more about racism than anything, but in an up note, the owner tells Pete \"The sad thing is, they think they're right. That's the way we are.\" The meaning of the title is a mystery. It may refer to Adah being light-skinned (a borderline negro) or to the borderline behavior of of the main characters.\n",
      "label: 0\n"
     ]
    }
   ],
   "source": [
    "imdb_dataset = load_dataset('imdb', None, split='test')\n",
    "print(len(imdb_dataset))\n",
    "print_example(imdb_dataset[1001])"
   ]
  },
  {
   "cell_type": "code",
   "execution_count": 9,
   "metadata": {},
   "outputs": [
    {
     "name": "stderr",
     "output_type": "stream",
     "text": [
      "Found cached dataset sentiment140 (/local/home/antonis/.cache/huggingface/datasets/sentiment140/sentiment140/1.0.0/f81c014152931b776735658d8ae493b181927de002e706c4d5244ecb26376997)\n"
     ]
    },
    {
     "name": "stdout",
     "output_type": "stream",
     "text": [
      "498\n",
      "text: Reading my kindle2...  Love it... Lee childs is good read.\n",
      "date: Mon May 11 03:18:03 UTC 2009\n",
      "user: vcu451\n",
      "sentiment: 4\n",
      "query: kindle2\n"
     ]
    }
   ],
   "source": [
    "sentiment_140 = load_dataset('sentiment140', None, split='test')\n",
    "print(len(sentiment_140))\n",
    "print_example(sentiment_140[1])"
   ]
  },
  {
   "cell_type": "code",
   "execution_count": 10,
   "metadata": {},
   "outputs": [
    {
     "name": "stderr",
     "output_type": "stream",
     "text": [
      "Found cached dataset sst2 (/local/home/antonis/.cache/huggingface/datasets/sst2/default/2.0.0/9896208a8d85db057ac50c72282bcb8fe755accc671a57dd8059d4e130961ed5)\n"
     ]
    },
    {
     "name": "stdout",
     "output_type": "stream",
     "text": [
      "67349\n",
      "idx: 1\n",
      "sentence: contains no wit , only labored gags \n",
      "label: 0\n"
     ]
    }
   ],
   "source": [
    "sst2 = load_dataset('sst2', None, split='train')\n",
    "print(len(sst2))\n",
    "print_example(sst2[1])"
   ]
  },
  {
   "cell_type": "code",
   "execution_count": 11,
   "metadata": {},
   "outputs": [
    {
     "data": {
      "text/plain": [
       "Dataset({\n",
       "    features: ['idx', 'sentence', 'label'],\n",
       "    num_rows: 67349\n",
       "})"
      ]
     },
     "execution_count": 11,
     "metadata": {},
     "output_type": "execute_result"
    }
   ],
   "source": [
    "sst2"
   ]
  },
  {
   "cell_type": "code",
   "execution_count": 13,
   "metadata": {},
   "outputs": [
    {
     "name": "stderr",
     "output_type": "stream",
     "text": [
      "Found cached dataset yelp_review_full (/local/home/antonis/.cache/huggingface/datasets/yelp_review_full/yelp_review_full/1.0.0/e8e18e19d7be9e75642fc66b198abadb116f73599ec89a69ba5dd8d1e57ba0bf)\n"
     ]
    },
    {
     "name": "stdout",
     "output_type": "stream",
     "text": [
      "50000\n",
      "label: 3\n",
      "text: I would say I've probably come here a good 50 times mainly due to this being one of the 3 places my old boss wanted to come to for late night eating. I used to think it was alright, not too much flavor but recently I noticed a change. Although the portions got slightly smaller and prices went up $1-3 per item, the flavor was definitely kicked up! They have live music most nights and I like the atmosphere.\\nMy favorites have been the Tom Kha, Panang Curry, Pad See Ew, Basil Fried Rice, Beef Salad, Garlic Shrimps, and their roti w/ coconut ice cream yum! Oh and also their Chang beer towers are a great deal at $18. Also, love their Thai tea bombs!!.\\nThe items I didn't care for were their Cornish hen appetizer (hugeee but little flavor), chicken satay, and  thai bbq chicken. \\nEverytime I've come in a large group of around 10 people (probably 35/50 times I've come here), we've been seated immediately and food has come fast. \\nOverall I really enjoy this place especially now that it seems their food is much tastier. One star off just because like most places in Chinatown, service is lacking. Sometimes it takes forever for them to refill water and bring the check but food has always been fast and they've always been friendly so no problem. Definitely a regular :)\n"
     ]
    }
   ],
   "source": [
    "yelp_review_full = load_dataset('yelp_review_full', None, split='test')\n",
    "print(len(yelp_review_full))\n",
    "print_example(yelp_review_full[-20000])"
   ]
  },
  {
   "cell_type": "code",
   "execution_count": 14,
   "metadata": {},
   "outputs": [
    {
     "data": {
      "text/plain": [
       "Dataset({\n",
       "    features: ['label', 'text'],\n",
       "    num_rows: 50000\n",
       "})"
      ]
     },
     "execution_count": 14,
     "metadata": {},
     "output_type": "execute_result"
    },
    {
     "ename": "",
     "evalue": "",
     "output_type": "error",
     "traceback": [
      "\u001b[1;31mThe Kernel crashed while executing code in the the current cell or a previous cell. Please review the code in the cell(s) to identify a possible cause of the failure. Click <a href='https://aka.ms/vscodeJupyterKernelCrash'>here</a> for more info. View Jupyter <a href='command:jupyter.viewOutput'>log</a> for further details."
     ]
    }
   ],
   "source": [
    "yelp_review_full"
   ]
  },
  {
   "cell_type": "code",
   "execution_count": null,
   "metadata": {},
   "outputs": [],
   "source": []
  }
 ],
 "metadata": {
  "kernelspec": {
   "display_name": "incidental",
   "language": "python",
   "name": "python3"
  },
  "language_info": {
   "codemirror_mode": {
    "name": "ipython",
    "version": 3
   },
   "file_extension": ".py",
   "mimetype": "text/x-python",
   "name": "python",
   "nbconvert_exporter": "python",
   "pygments_lexer": "ipython3",
   "version": "3.11.3"
  },
  "orig_nbformat": 4
 },
 "nbformat": 4,
 "nbformat_minor": 2
}
