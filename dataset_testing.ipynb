{
 "cells": [
  {
   "cell_type": "code",
   "execution_count": 8,
   "metadata": {},
   "outputs": [],
   "source": [
    "from datasets import load_dataset, load_from_disk\n",
    "from promptsource import templates\n",
    "\n",
    "CACHE_DIR = \"/share/edc/home/antonis/datasets/huggingface\"\n",
    "import os\n",
    "os.environ[\"HF_DATASETS_CACHE\"] = CACHE_DIR\n",
    "\n",
    "# # Get a list of all supported datasets\n",
    "# datasets = templates.get_dataset_names()\n",
    "# print(datasets)"
   ]
  },
  {
   "cell_type": "code",
   "execution_count": 9,
   "metadata": {},
   "outputs": [],
   "source": [
    "def print_example(example):\n",
    "    for key in example.keys():\n",
    "        print(f\"{key}: {example[key]}\")"
   ]
  },
  {
   "cell_type": "code",
   "execution_count": 10,
   "metadata": {},
   "outputs": [
    {
     "name": "stderr",
     "output_type": "stream",
     "text": [
      "Found cached dataset web_nlg (/share/edc/home/antonis/datasets/huggingface/web_nlg/release_v3.0_en/0.0.0/28ffb892f7f42450dd9558684aa43bcaf44b1b3bf0d77cb8d73534646af88dda)\n",
      "100%|██████████| 3/3 [00:00<00:00, 202.06it/s]\n"
     ]
    }
   ],
   "source": [
    "dataset = load_dataset('web_nlg', 'release_v3.0_en', cache_dir=CACHE_DIR)"
   ]
  },
  {
   "cell_type": "code",
   "execution_count": 22,
   "metadata": {},
   "outputs": [],
   "source": [
    "# ds_pth = \"/share/edc/home/antonis/datasets/huggingface/merged_datasets/dataset_1/dataset_train.arrow\"\n",
    "ds_pth = \"/share/edc/home/antonis/datasets/huggingface/merged_datasets/sentiment/dataset_1/dataset_validation.arrow\"\n",
    "dataset = load_from_disk(ds_pth)"
   ]
  },
  {
   "cell_type": "code",
   "execution_count": 23,
   "metadata": {},
   "outputs": [
    {
     "data": {
      "text/plain": [
       "{'text': ['text: @stellargirl I loooooooovvvvvveee my Kindle2. Not that the DX is cool, but the 2 is fantastic in its own right. sentiment: 4',\n",
       "  'text: Reading my kindle2...  Love it... Lee childs is good read. sentiment: 4',\n",
       "  'text: Ok, first assesment of the #kindle2 ...it fucking rocks!!! sentiment: 4',\n",
       "  \"text: @kenburbary You'll love your Kindle2. I've had mine for a few months and never looked back. The new big one is huge! No need for remorse! :) sentiment: 4\",\n",
       "  \"text: @mikefish  Fair enough. But i have the Kindle2 and I think it's perfect  :) sentiment: 4\",\n",
       "  \"text: @richardebaker no. it is too big. I'm quite happy with the Kindle2. sentiment: 4\",\n",
       "  'text: Fuck this economy. I hate aig and their non loan given asses. sentiment: 0',\n",
       "  'text: Jquery is my new best friend. sentiment: 4',\n",
       "  'text: Loves twitter sentiment: 4',\n",
       "  'text: how can you not love Obama? he makes jokes about himself. sentiment: 4']}"
      ]
     },
     "execution_count": 23,
     "metadata": {},
     "output_type": "execute_result"
    }
   ],
   "source": [
    "dataset[0:10]"
   ]
  },
  {
   "cell_type": "code",
   "execution_count": 28,
   "metadata": {},
   "outputs": [
    {
     "name": "stdout",
     "output_type": "stream",
     "text": [
      "Dataset({\n",
      "    features: ['text'],\n",
      "    num_rows: 767\n",
      "})\n",
      "{'text': [\"text: @stellargirl I loooooooovvvvvveee my Kindle2. Not that the DX is cool, but the 2 is fantastic in its own right. sentiment: 4 text: Reading my kindle2...  Love it... Lee childs is good read. sentiment: 4 text: Ok, first assesment of the #kindle2 ...it fucking rocks!!! sentiment: 4 text: @kenburbary You'll love your Kindle2. I've had mine for a few months and never looked back. The new big one is huge! No need for remorse! :) sentiment: 4\", \"text: @mikefish  Fair enough. But i have the Kindle2 and I think it's perfect  :) sentiment: 4 text: @richardebaker no. it is too big. I'm quite happy with the Kindle2. sentiment: 4 text: Fuck this economy. I hate aig and their non loan given asses. sentiment: 0\", \"text: Jquery is my new best friend. sentiment: 4 text: Loves twitter sentiment: 4 text: how can you not love Obama? he makes jokes about himself. sentiment: 4 text: Check this video out -- President Obama at the White House Correspondents' Dinner http://bit.ly/IMXUM sentiment: 2 text: @Karoli I firmly believe that Obama/Pelosi have ZERO desire to be civil.  It's a charade and a slogan, but they want to destroy conservatism sentiment: 0\", \"text: House Correspondents dinner was last night whoopi, barbara &amp; sherri went, Obama got a standing ovation sentiment: 4 text: Watchin Espn..Jus seen this new Nike Commerical with a Puppet Lebron..sh*t was hilarious...LMAO!!! sentiment: 4 text: dear nike, stop with the flywire. that shit is a waste of science. and ugly. love, @vincentx24x sentiment: 0 text: #lebron best athlete of our generation, if not all time (basketball related) I don't want to get into inter-sport debates about   __1/2 sentiment: 4 text: I was talking to this guy last night and he was telling me that he is a die hard Spurs fan.  He also told me that he hates LeBron James. sentiment: 0\", \"text: i love lebron. http://bit.ly/PdHur sentiment: 4 text: @ludajuice Lebron is a Beast, but I'm still cheering 4 the A..til the end. sentiment: 0\", \"text: @Pmillzz lebron IS THE BOSS sentiment: 4 text: @sketchbug Lebron is a hometown hero to me, lol I love the Lakers but let's go Cavs, lol sentiment: 4 text: lebron and zydrunas are such an awesome duo sentiment: 4 text: @wordwhizkid Lebron is a beast... nobody in the NBA comes even close. sentiment: 4 text: downloading apps for my iphone! So much fun :-) There literally is an app for just about anything. sentiment: 4\", 'text: good news, just had a call from the Visa office, saying everything is fine.....what a relief! I am sick of scams out there! Stealing! sentiment: 4 text: http://twurl.nl/epkr4b - awesome come back from @biz (via @fredwilson) sentiment: 4 text: In montreal for a long weekend of R&amp;R. Much needed. sentiment: 4 text: Booz Allen Hamilton has a bad ass homegrown social collaboration platform. Way cool!  #ttiv sentiment: 4', 'text: [#MLUC09] Customer Innovation Award Winner: Booz Allen Hamilton -- http://ping.fm/c2hPP sentiment: 4 text: @SoChi2 I current use the Nikon D90 and love it, but not as much as the Canon 40D/50D. I chose the D90 for the  video feature. My mistake. sentiment: 4', 'text: need suggestions for a good IR filter for my canon 40D ... got some? pls DM sentiment: 2 text: @surfit: I just checked my google for my business- blip shows up as the second entry! Huh. Is that a good or ba... ? http://blip.fm/~6emhv sentiment: 2', \"text: @phyreman9 Google is always a good place to look. Should've mentioned I worked on the Mustang w/ my Dad, @KimbleT. sentiment: 4 text: Played with an android google phone. The slide out screen scares me I would break that fucker so fast. Still prefer my iPhone. sentiment: 0 text: US planning to resume the military tribunals at Guantanamo Bay... only this time those on trial will be AIG execs and Chrysler debt holders sentiment: 0\"]}\n"
     ]
    },
    {
     "ename": "",
     "evalue": "",
     "output_type": "error",
     "traceback": [
      "\u001b[1;31mThe Kernel crashed while executing code in the the current cell or a previous cell. Please review the code in the cell(s) to identify a possible cause of the failure. Click <a href='https://aka.ms/vscodeJupyterKernelCrash'>here</a> for more info. View Jupyter <a href='command:jupyter.viewOutput'>log</a> for further details."
     ]
    }
   ],
   "source": [
    "from datasets import Dataset\n",
    "import random\n",
    "\n",
    "def pack_examples(dataset, max_n):\n",
    "    # Create a list to store the packed examples\n",
    "    packed_text = []\n",
    "    \n",
    "    # Number of rows in the dataset\n",
    "    num_rows = len(dataset)\n",
    "    \n",
    "    index = 0\n",
    "    \n",
    "    # Loop through the dataset\n",
    "    while index < num_rows:\n",
    "        # Randomly select a value of n from uniform distribution\n",
    "        n = random.randint(1, max_n)\n",
    "        \n",
    "        # Select n examples starting from current index\n",
    "        selected_indices = range(index, min(index + n, num_rows))\n",
    "        \n",
    "        # Concatenate the text of the selected examples\n",
    "        concatenated_text = ' '.join(dataset[i]['text'] for i in selected_indices)\n",
    "        \n",
    "        # Append the concatenated text to packed_text list\n",
    "        packed_text.append(concatenated_text)\n",
    "        \n",
    "        # Update the index for next iteration\n",
    "        index += n\n",
    "    \n",
    "    # Convert the packed_text list to a Dataset\n",
    "    packed_dataset = Dataset.from_dict({'text': packed_text})\n",
    "    \n",
    "    # Return the packed dataset\n",
    "    return packed_dataset\n",
    "\n",
    "# Example usage\n",
    "packed_dataset = pack_examples(dataset, max_n=5)\n",
    "\n",
    "print(packed_dataset)\n",
    "print(packed_dataset[0:10])"
   ]
  },
  {
   "cell_type": "code",
   "execution_count": 6,
   "metadata": {},
   "outputs": [
    {
     "name": "stderr",
     "output_type": "stream",
     "text": [
      "Found cached dataset web_nlg (/local/home/antonis/.cache/huggingface/datasets/web_nlg/release_v3.0_en/0.0.0/28ffb892f7f42450dd9558684aa43bcaf44b1b3bf0d77cb8d73534646af88dda)\n",
      "100%|██████████| 3/3 [00:00<00:00, 124.34it/s]\n"
     ]
    }
   ],
   "source": [
    "ds_dart = load_dataset('web_nlg', 'release_v3.0_en')"
   ]
  },
  {
   "cell_type": "code",
   "execution_count": 7,
   "metadata": {},
   "outputs": [
    {
     "name": "stdout",
     "output_type": "stream",
     "text": [
      "74040946\n",
      "74040946\n"
     ]
    }
   ],
   "source": [
    "dataset_files = [\n",
    "    \"/share/edc/home/antonis/datasets/huggingface/merged_datasets/dataset_1/dataset_train.arrow\",\n",
    "    \"/share/edc/home/antonis/datasets/huggingface/merged_datasets/dataset_0/dataset_train.arrow\",\n",
    "]\n",
    "\n",
    "for ds_file in dataset_files:\n",
    "    ds = load_from_disk(ds_file)\n",
    "    print(len(ds))"
   ]
  },
  {
   "cell_type": "code",
   "execution_count": 8,
   "metadata": {},
   "outputs": [
    {
     "name": "stderr",
     "output_type": "stream",
     "text": [
      "Found cached dataset imdb (/local/home/antonis/.cache/huggingface/datasets/imdb/plain_text/1.0.0/d613c88cf8fa3bab83b4ded3713f1f74830d1100e171db75bbddb80b3345c9c0)\n"
     ]
    },
    {
     "name": "stdout",
     "output_type": "stream",
     "text": [
      "25000\n",
      "text: This experimental silent film, made in Switzerland by an independent British film company, is chiefly remembered as Paul Robeson's first film. It's very artistic, with shots often seeming meaningless to the story, which is difficult to understand anyway because of the lack of enough inter-titles. From what I gathered, Robeson's wife, Adah, is in an inter-racial love affair with a white man called Thorne. It doesn't bother the cigar-chomping owner of the bar/hotel where Thorne lives (and she seems to be having a lesbian relationship with a barmaid), but an old lady expresses the town's point of view in an inter-title: \"If I had my way, we wouldn't allow negroes in here.\" Thorne is also called \"nigger lover\" by someone in the bar. Adah tries a reconciliation with Pete (Robeson), but eventually leaves him. Thorne's wife, Astrid, goes off the deep end, brandishes a knife, cuts Thorne's arm and cheek, and somehow dies. Thorne must have been accused of murder because we learn he was acquitted. As for Pete, he gets a letter from the mayor telling him it is best for everyone that he leave town. So the film is more about racism than anything, but in an up note, the owner tells Pete \"The sad thing is, they think they're right. That's the way we are.\" The meaning of the title is a mystery. It may refer to Adah being light-skinned (a borderline negro) or to the borderline behavior of of the main characters.\n",
      "label: 0\n"
     ]
    }
   ],
   "source": [
    "imdb_dataset = load_dataset('imdb', None, split='test')\n",
    "print(len(imdb_dataset))\n",
    "print_example(imdb_dataset[1001])"
   ]
  },
  {
   "cell_type": "code",
   "execution_count": 9,
   "metadata": {},
   "outputs": [
    {
     "name": "stderr",
     "output_type": "stream",
     "text": [
      "Found cached dataset sentiment140 (/local/home/antonis/.cache/huggingface/datasets/sentiment140/sentiment140/1.0.0/f81c014152931b776735658d8ae493b181927de002e706c4d5244ecb26376997)\n"
     ]
    },
    {
     "name": "stdout",
     "output_type": "stream",
     "text": [
      "498\n",
      "text: Reading my kindle2...  Love it... Lee childs is good read.\n",
      "date: Mon May 11 03:18:03 UTC 2009\n",
      "user: vcu451\n",
      "sentiment: 4\n",
      "query: kindle2\n"
     ]
    }
   ],
   "source": [
    "sentiment_140 = load_dataset('sentiment140', None, split='test')\n",
    "print(len(sentiment_140))\n",
    "print_example(sentiment_140[1])"
   ]
  },
  {
   "cell_type": "code",
   "execution_count": 10,
   "metadata": {},
   "outputs": [
    {
     "name": "stderr",
     "output_type": "stream",
     "text": [
      "Found cached dataset sst2 (/local/home/antonis/.cache/huggingface/datasets/sst2/default/2.0.0/9896208a8d85db057ac50c72282bcb8fe755accc671a57dd8059d4e130961ed5)\n"
     ]
    },
    {
     "name": "stdout",
     "output_type": "stream",
     "text": [
      "67349\n",
      "idx: 1\n",
      "sentence: contains no wit , only labored gags \n",
      "label: 0\n"
     ]
    }
   ],
   "source": [
    "sst2 = load_dataset('sst2', None, split='train')\n",
    "print(len(sst2))\n",
    "print_example(sst2[1])"
   ]
  },
  {
   "cell_type": "code",
   "execution_count": 11,
   "metadata": {},
   "outputs": [
    {
     "data": {
      "text/plain": [
       "Dataset({\n",
       "    features: ['idx', 'sentence', 'label'],\n",
       "    num_rows: 67349\n",
       "})"
      ]
     },
     "execution_count": 11,
     "metadata": {},
     "output_type": "execute_result"
    }
   ],
   "source": [
    "sst2"
   ]
  },
  {
   "cell_type": "code",
   "execution_count": 13,
   "metadata": {},
   "outputs": [
    {
     "name": "stderr",
     "output_type": "stream",
     "text": [
      "Found cached dataset yelp_review_full (/local/home/antonis/.cache/huggingface/datasets/yelp_review_full/yelp_review_full/1.0.0/e8e18e19d7be9e75642fc66b198abadb116f73599ec89a69ba5dd8d1e57ba0bf)\n"
     ]
    },
    {
     "name": "stdout",
     "output_type": "stream",
     "text": [
      "50000\n",
      "label: 3\n",
      "text: I would say I've probably come here a good 50 times mainly due to this being one of the 3 places my old boss wanted to come to for late night eating. I used to think it was alright, not too much flavor but recently I noticed a change. Although the portions got slightly smaller and prices went up $1-3 per item, the flavor was definitely kicked up! They have live music most nights and I like the atmosphere.\\nMy favorites have been the Tom Kha, Panang Curry, Pad See Ew, Basil Fried Rice, Beef Salad, Garlic Shrimps, and their roti w/ coconut ice cream yum! Oh and also their Chang beer towers are a great deal at $18. Also, love their Thai tea bombs!!.\\nThe items I didn't care for were their Cornish hen appetizer (hugeee but little flavor), chicken satay, and  thai bbq chicken. \\nEverytime I've come in a large group of around 10 people (probably 35/50 times I've come here), we've been seated immediately and food has come fast. \\nOverall I really enjoy this place especially now that it seems their food is much tastier. One star off just because like most places in Chinatown, service is lacking. Sometimes it takes forever for them to refill water and bring the check but food has always been fast and they've always been friendly so no problem. Definitely a regular :)\n"
     ]
    }
   ],
   "source": [
    "yelp_review_full = load_dataset('yelp_review_full', None, split='test')\n",
    "print(len(yelp_review_full))\n",
    "print_example(yelp_review_full[-20000])"
   ]
  },
  {
   "cell_type": "code",
   "execution_count": 14,
   "metadata": {},
   "outputs": [
    {
     "data": {
      "text/plain": [
       "Dataset({\n",
       "    features: ['label', 'text'],\n",
       "    num_rows: 50000\n",
       "})"
      ]
     },
     "execution_count": 14,
     "metadata": {},
     "output_type": "execute_result"
    },
    {
     "ename": "",
     "evalue": "",
     "output_type": "error",
     "traceback": [
      "\u001b[1;31mThe Kernel crashed while executing code in the the current cell or a previous cell. Please review the code in the cell(s) to identify a possible cause of the failure. Click <a href='https://aka.ms/vscodeJupyterKernelCrash'>here</a> for more info. View Jupyter <a href='command:jupyter.viewOutput'>log</a> for further details."
     ]
    }
   ],
   "source": [
    "yelp_review_full"
   ]
  },
  {
   "cell_type": "code",
   "execution_count": null,
   "metadata": {},
   "outputs": [],
   "source": []
  }
 ],
 "metadata": {
  "kernelspec": {
   "display_name": "incidental",
   "language": "python",
   "name": "python3"
  },
  "language_info": {
   "codemirror_mode": {
    "name": "ipython",
    "version": 3
   },
   "file_extension": ".py",
   "mimetype": "text/x-python",
   "name": "python",
   "nbconvert_exporter": "python",
   "pygments_lexer": "ipython3",
   "version": "3.11.3"
  },
  "orig_nbformat": 4
 },
 "nbformat": 4,
 "nbformat_minor": 2
}
