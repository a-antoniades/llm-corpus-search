{
 "cells": [
  {
   "cell_type": "code",
   "execution_count": 1,
   "metadata": {},
   "outputs": [
    {
     "name": "stderr",
     "output_type": "stream",
     "text": [
      "[nltk_data] Downloading package punkt to\n",
      "[nltk_data]     /local/home/antonis/nltk_data...\n",
      "[nltk_data]   Package punkt is already up-to-date!\n",
      "[nltk_data] Downloading package stopwords to\n",
      "[nltk_data]     /local/home/antonis/nltk_data...\n",
      "[nltk_data]   Package stopwords is already up-to-date!\n",
      "[dynet] random seed: 1234\n",
      "[dynet] allocating memory: 32MB\n",
      "[dynet] memory allocation done.\n"
     ]
    },
    {
     "ename": "OSError",
     "evalue": "[E050] Can't find model 'en_core_web_sm'. It doesn't seem to be a Python package or a valid path to a data directory.",
     "output_type": "error",
     "traceback": [
      "\u001b[0;31m---------------------------------------------------------------------------\u001b[0m",
      "\u001b[0;31mOSError\u001b[0m                                   Traceback (most recent call last)",
      "Cell \u001b[0;32mIn[1], line 9\u001b[0m\n\u001b[1;32m      7\u001b[0m \u001b[38;5;28;01mimport\u001b[39;00m \u001b[38;5;21;01mpandas\u001b[39;00m \u001b[38;5;28;01mas\u001b[39;00m \u001b[38;5;21;01mpd\u001b[39;00m\n\u001b[1;32m      8\u001b[0m \u001b[38;5;28;01mfrom\u001b[39;00m \u001b[38;5;21;01msrc\u001b[39;00m\u001b[38;5;21;01m.\u001b[39;00m\u001b[38;5;21;01mutils\u001b[39;00m \u001b[38;5;28;01mimport\u001b[39;00m concatenate_columns, count_gpt2_tokens\n\u001b[0;32m----> 9\u001b[0m \u001b[38;5;28;01mfrom\u001b[39;00m \u001b[38;5;21;01msrc\u001b[39;00m\u001b[38;5;21;01m.\u001b[39;00m\u001b[38;5;21;01mwimbd_\u001b[39;00m \u001b[38;5;28;01mimport\u001b[39;00m _load_dataset\n\u001b[1;32m     10\u001b[0m \u001b[38;5;66;03m# from src.align_pairs_e5 import align_pairs\u001b[39;00m\n\u001b[1;32m     12\u001b[0m CACHE_DIR \u001b[38;5;241m=\u001b[39m \u001b[38;5;124m\"\u001b[39m\u001b[38;5;124m/share/edc/home/antonis/datasets/huggingface\u001b[39m\u001b[38;5;124m\"\u001b[39m\n",
      "File \u001b[0;32m/share/edc/home/antonis/LLM-Incidental-Supervision/incidental-supervision/src/wimbd_.py:43\u001b[0m\n\u001b[1;32m     41\u001b[0m \u001b[38;5;28;01mimport\u001b[39;00m \u001b[38;5;21;01mre\u001b[39;00m\n\u001b[1;32m     42\u001b[0m \u001b[38;5;28;01mimport\u001b[39;00m \u001b[38;5;21;01mspacy\u001b[39;00m\n\u001b[0;32m---> 43\u001b[0m nlp \u001b[38;5;241m=\u001b[39m \u001b[43mspacy\u001b[49m\u001b[38;5;241;43m.\u001b[39;49m\u001b[43mload\u001b[49m\u001b[43m(\u001b[49m\u001b[38;5;124;43m\"\u001b[39;49m\u001b[38;5;124;43men_core_web_sm\u001b[39;49m\u001b[38;5;124;43m\"\u001b[39;49m\u001b[43m)\u001b[49m\n\u001b[1;32m     44\u001b[0m \u001b[38;5;28;01mimport\u001b[39;00m \u001b[38;5;21;01mlangid\u001b[39;00m\n\u001b[1;32m     45\u001b[0m \u001b[38;5;28;01mfrom\u001b[39;00m \u001b[38;5;21;01mtqdm\u001b[39;00m \u001b[38;5;28;01mimport\u001b[39;00m tqdm\n",
      "File \u001b[0;32m~/.conda/envs/incidental/lib/python3.11/site-packages/spacy/__init__.py:51\u001b[0m, in \u001b[0;36mload\u001b[0;34m(name, vocab, disable, enable, exclude, config)\u001b[0m\n\u001b[1;32m     27\u001b[0m \u001b[38;5;28;01mdef\u001b[39;00m \u001b[38;5;21mload\u001b[39m(\n\u001b[1;32m     28\u001b[0m     name: Union[\u001b[38;5;28mstr\u001b[39m, Path],\n\u001b[1;32m     29\u001b[0m     \u001b[38;5;241m*\u001b[39m,\n\u001b[0;32m   (...)\u001b[0m\n\u001b[1;32m     34\u001b[0m     config: Union[Dict[\u001b[38;5;28mstr\u001b[39m, Any], Config] \u001b[38;5;241m=\u001b[39m util\u001b[38;5;241m.\u001b[39mSimpleFrozenDict(),\n\u001b[1;32m     35\u001b[0m ) \u001b[38;5;241m-\u001b[39m\u001b[38;5;241m>\u001b[39m Language:\n\u001b[1;32m     36\u001b[0m \u001b[38;5;250m    \u001b[39m\u001b[38;5;124;03m\"\"\"Load a spaCy model from an installed package or a local path.\u001b[39;00m\n\u001b[1;32m     37\u001b[0m \n\u001b[1;32m     38\u001b[0m \u001b[38;5;124;03m    name (str): Package name or model path.\u001b[39;00m\n\u001b[0;32m   (...)\u001b[0m\n\u001b[1;32m     49\u001b[0m \u001b[38;5;124;03m    RETURNS (Language): The loaded nlp object.\u001b[39;00m\n\u001b[1;32m     50\u001b[0m \u001b[38;5;124;03m    \"\"\"\u001b[39;00m\n\u001b[0;32m---> 51\u001b[0m     \u001b[38;5;28;01mreturn\u001b[39;00m \u001b[43mutil\u001b[49m\u001b[38;5;241;43m.\u001b[39;49m\u001b[43mload_model\u001b[49m\u001b[43m(\u001b[49m\n\u001b[1;32m     52\u001b[0m \u001b[43m        \u001b[49m\u001b[43mname\u001b[49m\u001b[43m,\u001b[49m\n\u001b[1;32m     53\u001b[0m \u001b[43m        \u001b[49m\u001b[43mvocab\u001b[49m\u001b[38;5;241;43m=\u001b[39;49m\u001b[43mvocab\u001b[49m\u001b[43m,\u001b[49m\n\u001b[1;32m     54\u001b[0m \u001b[43m        \u001b[49m\u001b[43mdisable\u001b[49m\u001b[38;5;241;43m=\u001b[39;49m\u001b[43mdisable\u001b[49m\u001b[43m,\u001b[49m\n\u001b[1;32m     55\u001b[0m \u001b[43m        \u001b[49m\u001b[43menable\u001b[49m\u001b[38;5;241;43m=\u001b[39;49m\u001b[43menable\u001b[49m\u001b[43m,\u001b[49m\n\u001b[1;32m     56\u001b[0m \u001b[43m        \u001b[49m\u001b[43mexclude\u001b[49m\u001b[38;5;241;43m=\u001b[39;49m\u001b[43mexclude\u001b[49m\u001b[43m,\u001b[49m\n\u001b[1;32m     57\u001b[0m \u001b[43m        \u001b[49m\u001b[43mconfig\u001b[49m\u001b[38;5;241;43m=\u001b[39;49m\u001b[43mconfig\u001b[49m\u001b[43m,\u001b[49m\n\u001b[1;32m     58\u001b[0m \u001b[43m    \u001b[49m\u001b[43m)\u001b[49m\n",
      "File \u001b[0;32m~/.conda/envs/incidental/lib/python3.11/site-packages/spacy/util.py:472\u001b[0m, in \u001b[0;36mload_model\u001b[0;34m(name, vocab, disable, enable, exclude, config)\u001b[0m\n\u001b[1;32m    470\u001b[0m \u001b[38;5;28;01mif\u001b[39;00m name \u001b[38;5;129;01min\u001b[39;00m OLD_MODEL_SHORTCUTS:\n\u001b[1;32m    471\u001b[0m     \u001b[38;5;28;01mraise\u001b[39;00m \u001b[38;5;167;01mIOError\u001b[39;00m(Errors\u001b[38;5;241m.\u001b[39mE941\u001b[38;5;241m.\u001b[39mformat(name\u001b[38;5;241m=\u001b[39mname, full\u001b[38;5;241m=\u001b[39mOLD_MODEL_SHORTCUTS[name]))  \u001b[38;5;66;03m# type: ignore[index]\u001b[39;00m\n\u001b[0;32m--> 472\u001b[0m \u001b[38;5;28;01mraise\u001b[39;00m \u001b[38;5;167;01mIOError\u001b[39;00m(Errors\u001b[38;5;241m.\u001b[39mE050\u001b[38;5;241m.\u001b[39mformat(name\u001b[38;5;241m=\u001b[39mname))\n",
      "\u001b[0;31mOSError\u001b[0m: [E050] Can't find model 'en_core_web_sm'. It doesn't seem to be a Python package or a valid path to a data directory."
     ]
    }
   ],
   "source": [
    "from datasets import load_dataset, load_from_disk, concatenate_datasets, get_dataset_config_names\n",
    "# from promptsource import templates\n",
    "import json\n",
    "import pickle\n",
    "import collections\n",
    "import math\n",
    "import pandas as pd\n",
    "from src.utils import concatenate_columns, count_gpt2_tokens\n",
    "from src.wimbd_ import _load_dataset\n",
    "# from src.align_pairs_e5 import align_pairs\n",
    "\n",
    "CACHE_DIR = \"/share/edc/home/antonis/datasets/huggingface\"\n",
    "import os\n",
    "os.environ[\"HF_DATASETS_CACHE\"] = CACHE_DIR\n",
    "\n",
    "# # Get a list of all supported datasets\n",
    "# datasets = templates.get_dataset_names()\n",
    "# print(datasets)\n",
    "\n",
    "# datasets = load_from_disk(\"/share/edc/home/antonis/datasets/huggingface/flan_v1/ds_c4_small\")\n",
    "# datasets = load_from_disk(\"/share/edc/home/antonis/datasets/huggingface/flan_v1/c4_mixed_Commonsense\")"
   ]
  },
  {
   "cell_type": "code",
   "execution_count": 2,
   "metadata": {},
   "outputs": [
    {
     "name": "stdout",
     "output_type": "stream",
     "text": [
      "Loading dataset triviaqa\n"
     ]
    },
    {
     "data": {
      "application/vnd.jupyter.widget-view+json": {
       "model_id": "c63f47b780b24143b7fc08b18daac5ca",
       "version_major": 2,
       "version_minor": 0
      },
      "text/plain": [
       "Resolving data files:   0%|          | 0/26 [00:00<?, ?it/s]"
      ]
     },
     "metadata": {},
     "output_type": "display_data"
    },
    {
     "data": {
      "application/vnd.jupyter.widget-view+json": {
       "model_id": "f58e24a92f4d4ecc8dea604358eeca1f",
       "version_major": 2,
       "version_minor": 0
      },
      "text/plain": [
       "Resolving data files:   0%|          | 0/26 [00:00<?, ?it/s]"
      ]
     },
     "metadata": {},
     "output_type": "display_data"
    },
    {
     "data": {
      "application/vnd.jupyter.widget-view+json": {
       "model_id": "11b443105aac46908a5f09f7b38858f1",
       "version_major": 2,
       "version_minor": 0
      },
      "text/plain": [
       "Resolving data files:   0%|          | 0/19 [00:00<?, ?it/s]"
      ]
     },
     "metadata": {},
     "output_type": "display_data"
    },
    {
     "data": {
      "application/vnd.jupyter.widget-view+json": {
       "model_id": "02d278aa8eec485f9b169e029e516923",
       "version_major": 2,
       "version_minor": 0
      },
      "text/plain": [
       "Resolving data files:   0%|          | 0/47 [00:00<?, ?it/s]"
      ]
     },
     "metadata": {},
     "output_type": "display_data"
    }
   ],
   "source": [
    "sciq = _load_dataset(\"triviaqa\")"
   ]
  },
  {
   "cell_type": "code",
   "execution_count": null,
   "metadata": {},
   "outputs": [],
   "source": [
    "sciq['triviaqa']['test']['answer']"
   ]
  },
  {
   "cell_type": "code",
   "execution_count": 11,
   "metadata": {},
   "outputs": [
    {
     "name": "stdout",
     "output_type": "stream",
     "text": [
      "Loading dataset mmlu\n"
     ]
    }
   ],
   "source": [
    "ds = _load_dataset('mmlu')"
   ]
  },
  {
   "cell_type": "code",
   "execution_count": 13,
   "metadata": {},
   "outputs": [
    {
     "data": {
      "text/plain": [
       "57"
      ]
     },
     "execution_count": 13,
     "metadata": {},
     "output_type": "execute_result"
    }
   ],
   "source": [
    "len(ds)"
   ]
  },
  {
   "cell_type": "code",
   "execution_count": null,
   "metadata": {},
   "outputs": [],
   "source": [
    "pkl_path = \"./results/n-grams/trivia_qa/pile/exp_3/test-set/n_samples_None_fkeyFalse_rkeyFalse_fstopTrue_onlyalphaFalse/5/all/trivia_qa.pkl\"\n",
    "\n",
    "with open(pkl_path, \"rb\") as f:\n",
    "    data = pickle.load(f)\n",
    "\n",
    "pd.DataFrame(data)"
   ]
  },
  {
   "cell_type": "code",
   "execution_count": null,
   "metadata": {},
   "outputs": [],
   "source": [
    "sciq"
   ]
  },
  {
   "cell_type": "code",
   "execution_count": null,
   "metadata": {},
   "outputs": [],
   "source": [
    "import gzip\n",
    "\n",
    "pth = \"/share/edc/home/antonis/LLM-Incidental-Supervision/wimbd/test_fixtures/c4-sample.00000-of-00001.json.gz\"\n",
    "# Open the file with gzip and read lines\n",
    "with gzip.open(pth, 'rt', encoding='utf-8') as f:\n",
    "    for line in f:\n",
    "        try:\n",
    "            # Try to parse each line as a separate JSON object\n",
    "            ds = json.loads(line)\n",
    "            # Process the ds as needed\n",
    "        except json.JSONDecodeError as e:\n",
    "            print(f\"Failed to decode line: {e}\")\n",
    "# ds = load_dataset(\"sciq\", cache_dir=CACHE_DIR)\n",
    "# ds = load_dataset(\"allenai/ai2_arc\", 'ARC-Easy', cache_dir=CACHE_DIR)"
   ]
  },
  {
   "cell_type": "code",
   "execution_count": 6,
   "metadata": {},
   "outputs": [],
   "source": [
    "ds_tulu = load_dataset(\"allenai/tulu-v2-sft-mixture\", cache_dir=CACHE_DIR)"
   ]
  },
  {
   "cell_type": "code",
   "execution_count": 30,
   "metadata": {},
   "outputs": [
    {
     "data": {
      "text/plain": [
       "{'role': 'assistant',\n",
       " 'content': '1. Miguel\\n2. Yes\\n3. Eight\\n4. unknown\\n5. Swift\\n6. \"We Are Never Ever Getting Back Together\"\\n7. Female\\n8. The rough times he has had of late.\\n9. \"Red\"\\n10. Yes'}"
      ]
     },
     "execution_count": 30,
     "metadata": {},
     "output_type": "execute_result"
    }
   ],
   "source": [
    "ds_tulu['train'][0]['messages'][1]"
   ]
  },
  {
   "cell_type": "code",
   "execution_count": 10,
   "metadata": {},
   "outputs": [
    {
     "name": "stderr",
     "output_type": "stream",
     "text": [
      "Processing train: 100%|██████████| 326154/326154 [01:30<00:00, 3622.43it/s]\n"
     ]
    },
    {
     "name": "stdout",
     "output_type": "stream",
     "text": [
      "Saved file 1 to /share/edc/home/antonis/datasets/huggingface/tuluv2_1024/tuluv2_ds_1.jsonl.gz\n",
      "Saved file 2 to /share/edc/home/antonis/datasets/huggingface/tuluv2_1024/tuluv2_ds_2.jsonl.gz\n",
      "Saved file 3 to /share/edc/home/antonis/datasets/huggingface/tuluv2_1024/tuluv2_ds_3.jsonl.gz\n",
      "Saved file 4 to /share/edc/home/antonis/datasets/huggingface/tuluv2_1024/tuluv2_ds_4.jsonl.gz\n",
      "Saved file 5 to /share/edc/home/antonis/datasets/huggingface/tuluv2_1024/tuluv2_ds_5.jsonl.gz\n",
      "Saved file 6 to /share/edc/home/antonis/datasets/huggingface/tuluv2_1024/tuluv2_ds_6.jsonl.gz\n",
      "Saved file 7 to /share/edc/home/antonis/datasets/huggingface/tuluv2_1024/tuluv2_ds_7.jsonl.gz\n",
      "Saved file 8 to /share/edc/home/antonis/datasets/huggingface/tuluv2_1024/tuluv2_ds_8.jsonl.gz\n",
      "Saved file 9 to /share/edc/home/antonis/datasets/huggingface/tuluv2_1024/tuluv2_ds_9.jsonl.gz\n",
      "Saved file 10 to /share/edc/home/antonis/datasets/huggingface/tuluv2_1024/tuluv2_ds_10.jsonl.gz\n",
      "Saved file 11 to /share/edc/home/antonis/datasets/huggingface/tuluv2_1024/tuluv2_ds_11.jsonl.gz\n",
      "Saved file 12 to /share/edc/home/antonis/datasets/huggingface/tuluv2_1024/tuluv2_ds_12.jsonl.gz\n",
      "Saved file 13 to /share/edc/home/antonis/datasets/huggingface/tuluv2_1024/tuluv2_ds_13.jsonl.gz\n",
      "Saved file 14 to /share/edc/home/antonis/datasets/huggingface/tuluv2_1024/tuluv2_ds_14.jsonl.gz\n",
      "Saved file 15 to /share/edc/home/antonis/datasets/huggingface/tuluv2_1024/tuluv2_ds_15.jsonl.gz\n",
      "Saved file 16 to /share/edc/home/antonis/datasets/huggingface/tuluv2_1024/tuluv2_ds_16.jsonl.gz\n",
      "Saved file 17 to /share/edc/home/antonis/datasets/huggingface/tuluv2_1024/tuluv2_ds_17.jsonl.gz\n",
      "Saved file 18 to /share/edc/home/antonis/datasets/huggingface/tuluv2_1024/tuluv2_ds_18.jsonl.gz\n",
      "Saved file 19 to /share/edc/home/antonis/datasets/huggingface/tuluv2_1024/tuluv2_ds_19.jsonl.gz\n",
      "Saved file 20 to /share/edc/home/antonis/datasets/huggingface/tuluv2_1024/tuluv2_ds_20.jsonl.gz\n",
      "Saved file 21 to /share/edc/home/antonis/datasets/huggingface/tuluv2_1024/tuluv2_ds_21.jsonl.gz\n",
      "Saved file 22 to /share/edc/home/antonis/datasets/huggingface/tuluv2_1024/tuluv2_ds_22.jsonl.gz\n",
      "Saved file 23 to /share/edc/home/antonis/datasets/huggingface/tuluv2_1024/tuluv2_ds_23.jsonl.gz\n",
      "Saved file 24 to /share/edc/home/antonis/datasets/huggingface/tuluv2_1024/tuluv2_ds_24.jsonl.gz\n",
      "Saved file 25 to /share/edc/home/antonis/datasets/huggingface/tuluv2_1024/tuluv2_ds_25.jsonl.gz\n",
      "Saved file 26 to /share/edc/home/antonis/datasets/huggingface/tuluv2_1024/tuluv2_ds_26.jsonl.gz\n",
      "Saved file 27 to /share/edc/home/antonis/datasets/huggingface/tuluv2_1024/tuluv2_ds_27.jsonl.gz\n",
      "Saved file 28 to /share/edc/home/antonis/datasets/huggingface/tuluv2_1024/tuluv2_ds_28.jsonl.gz\n",
      "Saved file 29 to /share/edc/home/antonis/datasets/huggingface/tuluv2_1024/tuluv2_ds_29.jsonl.gz\n",
      "Saved file 30 to /share/edc/home/antonis/datasets/huggingface/tuluv2_1024/tuluv2_ds_30.jsonl.gz\n",
      "Saved file 31 to /share/edc/home/antonis/datasets/huggingface/tuluv2_1024/tuluv2_ds_31.jsonl.gz\n",
      "Saved file 32 to /share/edc/home/antonis/datasets/huggingface/tuluv2_1024/tuluv2_ds_32.jsonl.gz\n",
      "Saved file 33 to /share/edc/home/antonis/datasets/huggingface/tuluv2_1024/tuluv2_ds_33.jsonl.gz\n",
      "Saved file 34 to /share/edc/home/antonis/datasets/huggingface/tuluv2_1024/tuluv2_ds_34.jsonl.gz\n",
      "Saved file 35 to /share/edc/home/antonis/datasets/huggingface/tuluv2_1024/tuluv2_ds_35.jsonl.gz\n",
      "Saved file 36 to /share/edc/home/antonis/datasets/huggingface/tuluv2_1024/tuluv2_ds_36.jsonl.gz\n",
      "Saved file 37 to /share/edc/home/antonis/datasets/huggingface/tuluv2_1024/tuluv2_ds_37.jsonl.gz\n",
      "Saved file 38 to /share/edc/home/antonis/datasets/huggingface/tuluv2_1024/tuluv2_ds_38.jsonl.gz\n",
      "Saved file 39 to /share/edc/home/antonis/datasets/huggingface/tuluv2_1024/tuluv2_ds_39.jsonl.gz\n",
      "Saved file 40 to /share/edc/home/antonis/datasets/huggingface/tuluv2_1024/tuluv2_ds_40.jsonl.gz\n",
      "Saved file 41 to /share/edc/home/antonis/datasets/huggingface/tuluv2_1024/tuluv2_ds_41.jsonl.gz\n",
      "Saved file 42 to /share/edc/home/antonis/datasets/huggingface/tuluv2_1024/tuluv2_ds_42.jsonl.gz\n",
      "Saved file 43 to /share/edc/home/antonis/datasets/huggingface/tuluv2_1024/tuluv2_ds_43.jsonl.gz\n",
      "Saved file 44 to /share/edc/home/antonis/datasets/huggingface/tuluv2_1024/tuluv2_ds_44.jsonl.gz\n",
      "Saved file 45 to /share/edc/home/antonis/datasets/huggingface/tuluv2_1024/tuluv2_ds_45.jsonl.gz\n",
      "Saved file 46 to /share/edc/home/antonis/datasets/huggingface/tuluv2_1024/tuluv2_ds_46.jsonl.gz\n",
      "Saved file 47 to /share/edc/home/antonis/datasets/huggingface/tuluv2_1024/tuluv2_ds_47.jsonl.gz\n",
      "Saved file 48 to /share/edc/home/antonis/datasets/huggingface/tuluv2_1024/tuluv2_ds_48.jsonl.gz\n",
      "Saved file 49 to /share/edc/home/antonis/datasets/huggingface/tuluv2_1024/tuluv2_ds_49.jsonl.gz\n",
      "Saved file 50 to /share/edc/home/antonis/datasets/huggingface/tuluv2_1024/tuluv2_ds_50.jsonl.gz\n",
      "Saved file 51 to /share/edc/home/antonis/datasets/huggingface/tuluv2_1024/tuluv2_ds_51.jsonl.gz\n",
      "Saved file 52 to /share/edc/home/antonis/datasets/huggingface/tuluv2_1024/tuluv2_ds_52.jsonl.gz\n",
      "Saved file 53 to /share/edc/home/antonis/datasets/huggingface/tuluv2_1024/tuluv2_ds_53.jsonl.gz\n",
      "Saved file 54 to /share/edc/home/antonis/datasets/huggingface/tuluv2_1024/tuluv2_ds_54.jsonl.gz\n",
      "Saved file 55 to /share/edc/home/antonis/datasets/huggingface/tuluv2_1024/tuluv2_ds_55.jsonl.gz\n",
      "Saved file 56 to /share/edc/home/antonis/datasets/huggingface/tuluv2_1024/tuluv2_ds_56.jsonl.gz\n",
      "Saved file 57 to /share/edc/home/antonis/datasets/huggingface/tuluv2_1024/tuluv2_ds_57.jsonl.gz\n",
      "Saved file 58 to /share/edc/home/antonis/datasets/huggingface/tuluv2_1024/tuluv2_ds_58.jsonl.gz\n",
      "Saved file 59 to /share/edc/home/antonis/datasets/huggingface/tuluv2_1024/tuluv2_ds_59.jsonl.gz\n",
      "Saved file 60 to /share/edc/home/antonis/datasets/huggingface/tuluv2_1024/tuluv2_ds_60.jsonl.gz\n",
      "Saved file 61 to /share/edc/home/antonis/datasets/huggingface/tuluv2_1024/tuluv2_ds_61.jsonl.gz\n",
      "Saved file 62 to /share/edc/home/antonis/datasets/huggingface/tuluv2_1024/tuluv2_ds_62.jsonl.gz\n",
      "Saved file 63 to /share/edc/home/antonis/datasets/huggingface/tuluv2_1024/tuluv2_ds_63.jsonl.gz\n",
      "Saved file 64 to /share/edc/home/antonis/datasets/huggingface/tuluv2_1024/tuluv2_ds_64.jsonl.gz\n",
      "Saved file 65 to /share/edc/home/antonis/datasets/huggingface/tuluv2_1024/tuluv2_ds_65.jsonl.gz\n",
      "Saved file 66 to /share/edc/home/antonis/datasets/huggingface/tuluv2_1024/tuluv2_ds_66.jsonl.gz\n",
      "Saved file 67 to /share/edc/home/antonis/datasets/huggingface/tuluv2_1024/tuluv2_ds_67.jsonl.gz\n",
      "Saved file 68 to /share/edc/home/antonis/datasets/huggingface/tuluv2_1024/tuluv2_ds_68.jsonl.gz\n",
      "Saved file 69 to /share/edc/home/antonis/datasets/huggingface/tuluv2_1024/tuluv2_ds_69.jsonl.gz\n",
      "Saved file 70 to /share/edc/home/antonis/datasets/huggingface/tuluv2_1024/tuluv2_ds_70.jsonl.gz\n",
      "Saved file 71 to /share/edc/home/antonis/datasets/huggingface/tuluv2_1024/tuluv2_ds_71.jsonl.gz\n",
      "Saved file 72 to /share/edc/home/antonis/datasets/huggingface/tuluv2_1024/tuluv2_ds_72.jsonl.gz\n",
      "Saved file 73 to /share/edc/home/antonis/datasets/huggingface/tuluv2_1024/tuluv2_ds_73.jsonl.gz\n",
      "Saved file 74 to /share/edc/home/antonis/datasets/huggingface/tuluv2_1024/tuluv2_ds_74.jsonl.gz\n",
      "Saved file 75 to /share/edc/home/antonis/datasets/huggingface/tuluv2_1024/tuluv2_ds_75.jsonl.gz\n",
      "Saved file 76 to /share/edc/home/antonis/datasets/huggingface/tuluv2_1024/tuluv2_ds_76.jsonl.gz\n",
      "Saved file 77 to /share/edc/home/antonis/datasets/huggingface/tuluv2_1024/tuluv2_ds_77.jsonl.gz\n",
      "Saved file 78 to /share/edc/home/antonis/datasets/huggingface/tuluv2_1024/tuluv2_ds_78.jsonl.gz\n",
      "Saved file 79 to /share/edc/home/antonis/datasets/huggingface/tuluv2_1024/tuluv2_ds_79.jsonl.gz\n",
      "Saved file 80 to /share/edc/home/antonis/datasets/huggingface/tuluv2_1024/tuluv2_ds_80.jsonl.gz\n",
      "Saved file 81 to /share/edc/home/antonis/datasets/huggingface/tuluv2_1024/tuluv2_ds_81.jsonl.gz\n",
      "Saved file 82 to /share/edc/home/antonis/datasets/huggingface/tuluv2_1024/tuluv2_ds_82.jsonl.gz\n",
      "Saved file 83 to /share/edc/home/antonis/datasets/huggingface/tuluv2_1024/tuluv2_ds_83.jsonl.gz\n",
      "Saved file 84 to /share/edc/home/antonis/datasets/huggingface/tuluv2_1024/tuluv2_ds_84.jsonl.gz\n",
      "Saved file 85 to /share/edc/home/antonis/datasets/huggingface/tuluv2_1024/tuluv2_ds_85.jsonl.gz\n",
      "Saved file 86 to /share/edc/home/antonis/datasets/huggingface/tuluv2_1024/tuluv2_ds_86.jsonl.gz\n",
      "Saved file 87 to /share/edc/home/antonis/datasets/huggingface/tuluv2_1024/tuluv2_ds_87.jsonl.gz\n",
      "Saved file 88 to /share/edc/home/antonis/datasets/huggingface/tuluv2_1024/tuluv2_ds_88.jsonl.gz\n",
      "Saved file 89 to /share/edc/home/antonis/datasets/huggingface/tuluv2_1024/tuluv2_ds_89.jsonl.gz\n",
      "Saved file 90 to /share/edc/home/antonis/datasets/huggingface/tuluv2_1024/tuluv2_ds_90.jsonl.gz\n",
      "Saved file 91 to /share/edc/home/antonis/datasets/huggingface/tuluv2_1024/tuluv2_ds_91.jsonl.gz\n",
      "Saved file 92 to /share/edc/home/antonis/datasets/huggingface/tuluv2_1024/tuluv2_ds_92.jsonl.gz\n",
      "Saved file 93 to /share/edc/home/antonis/datasets/huggingface/tuluv2_1024/tuluv2_ds_93.jsonl.gz\n",
      "Saved file 94 to /share/edc/home/antonis/datasets/huggingface/tuluv2_1024/tuluv2_ds_94.jsonl.gz\n",
      "Saved file 95 to /share/edc/home/antonis/datasets/huggingface/tuluv2_1024/tuluv2_ds_95.jsonl.gz\n",
      "Saved file 96 to /share/edc/home/antonis/datasets/huggingface/tuluv2_1024/tuluv2_ds_96.jsonl.gz\n",
      "Saved file 97 to /share/edc/home/antonis/datasets/huggingface/tuluv2_1024/tuluv2_ds_97.jsonl.gz\n",
      "Saved file 98 to /share/edc/home/antonis/datasets/huggingface/tuluv2_1024/tuluv2_ds_98.jsonl.gz\n",
      "Saved file 99 to /share/edc/home/antonis/datasets/huggingface/tuluv2_1024/tuluv2_ds_99.jsonl.gz\n",
      "Saved file 100 to /share/edc/home/antonis/datasets/huggingface/tuluv2_1024/tuluv2_ds_100.jsonl.gz\n",
      "Saved file 101 to /share/edc/home/antonis/datasets/huggingface/tuluv2_1024/tuluv2_ds_101.jsonl.gz\n",
      "Saved file 102 to /share/edc/home/antonis/datasets/huggingface/tuluv2_1024/tuluv2_ds_102.jsonl.gz\n",
      "Saved file 103 to /share/edc/home/antonis/datasets/huggingface/tuluv2_1024/tuluv2_ds_103.jsonl.gz\n",
      "Saved file 104 to /share/edc/home/antonis/datasets/huggingface/tuluv2_1024/tuluv2_ds_104.jsonl.gz\n",
      "Saved file 105 to /share/edc/home/antonis/datasets/huggingface/tuluv2_1024/tuluv2_ds_105.jsonl.gz\n",
      "Saved file 106 to /share/edc/home/antonis/datasets/huggingface/tuluv2_1024/tuluv2_ds_106.jsonl.gz\n",
      "Saved file 107 to /share/edc/home/antonis/datasets/huggingface/tuluv2_1024/tuluv2_ds_107.jsonl.gz\n",
      "Saved file 108 to /share/edc/home/antonis/datasets/huggingface/tuluv2_1024/tuluv2_ds_108.jsonl.gz\n",
      "Saved file 109 to /share/edc/home/antonis/datasets/huggingface/tuluv2_1024/tuluv2_ds_109.jsonl.gz\n",
      "Saved file 110 to /share/edc/home/antonis/datasets/huggingface/tuluv2_1024/tuluv2_ds_110.jsonl.gz\n",
      "Saved file 111 to /share/edc/home/antonis/datasets/huggingface/tuluv2_1024/tuluv2_ds_111.jsonl.gz\n",
      "Saved file 112 to /share/edc/home/antonis/datasets/huggingface/tuluv2_1024/tuluv2_ds_112.jsonl.gz\n",
      "Saved file 113 to /share/edc/home/antonis/datasets/huggingface/tuluv2_1024/tuluv2_ds_113.jsonl.gz\n",
      "Saved file 114 to /share/edc/home/antonis/datasets/huggingface/tuluv2_1024/tuluv2_ds_114.jsonl.gz\n",
      "Saved file 115 to /share/edc/home/antonis/datasets/huggingface/tuluv2_1024/tuluv2_ds_115.jsonl.gz\n",
      "Saved file 116 to /share/edc/home/antonis/datasets/huggingface/tuluv2_1024/tuluv2_ds_116.jsonl.gz\n",
      "Saved file 117 to /share/edc/home/antonis/datasets/huggingface/tuluv2_1024/tuluv2_ds_117.jsonl.gz\n",
      "Saved file 118 to /share/edc/home/antonis/datasets/huggingface/tuluv2_1024/tuluv2_ds_118.jsonl.gz\n",
      "Saved file 119 to /share/edc/home/antonis/datasets/huggingface/tuluv2_1024/tuluv2_ds_119.jsonl.gz\n",
      "Saved file 120 to /share/edc/home/antonis/datasets/huggingface/tuluv2_1024/tuluv2_ds_120.jsonl.gz\n",
      "Saved file 121 to /share/edc/home/antonis/datasets/huggingface/tuluv2_1024/tuluv2_ds_121.jsonl.gz\n",
      "Saved file 122 to /share/edc/home/antonis/datasets/huggingface/tuluv2_1024/tuluv2_ds_122.jsonl.gz\n",
      "Saved file 123 to /share/edc/home/antonis/datasets/huggingface/tuluv2_1024/tuluv2_ds_123.jsonl.gz\n",
      "Saved file 124 to /share/edc/home/antonis/datasets/huggingface/tuluv2_1024/tuluv2_ds_124.jsonl.gz\n",
      "Saved file 125 to /share/edc/home/antonis/datasets/huggingface/tuluv2_1024/tuluv2_ds_125.jsonl.gz\n",
      "Saved file 126 to /share/edc/home/antonis/datasets/huggingface/tuluv2_1024/tuluv2_ds_126.jsonl.gz\n",
      "Saved file 127 to /share/edc/home/antonis/datasets/huggingface/tuluv2_1024/tuluv2_ds_127.jsonl.gz\n",
      "Saved file 128 to /share/edc/home/antonis/datasets/huggingface/tuluv2_1024/tuluv2_ds_128.jsonl.gz\n",
      "Saved file 129 to /share/edc/home/antonis/datasets/huggingface/tuluv2_1024/tuluv2_ds_129.jsonl.gz\n",
      "Saved file 130 to /share/edc/home/antonis/datasets/huggingface/tuluv2_1024/tuluv2_ds_130.jsonl.gz\n",
      "Saved file 131 to /share/edc/home/antonis/datasets/huggingface/tuluv2_1024/tuluv2_ds_131.jsonl.gz\n",
      "Saved file 132 to /share/edc/home/antonis/datasets/huggingface/tuluv2_1024/tuluv2_ds_132.jsonl.gz\n",
      "Saved file 133 to /share/edc/home/antonis/datasets/huggingface/tuluv2_1024/tuluv2_ds_133.jsonl.gz\n",
      "Saved file 134 to /share/edc/home/antonis/datasets/huggingface/tuluv2_1024/tuluv2_ds_134.jsonl.gz\n",
      "Saved file 135 to /share/edc/home/antonis/datasets/huggingface/tuluv2_1024/tuluv2_ds_135.jsonl.gz\n",
      "Saved file 136 to /share/edc/home/antonis/datasets/huggingface/tuluv2_1024/tuluv2_ds_136.jsonl.gz\n",
      "Saved file 137 to /share/edc/home/antonis/datasets/huggingface/tuluv2_1024/tuluv2_ds_137.jsonl.gz\n",
      "Saved file 138 to /share/edc/home/antonis/datasets/huggingface/tuluv2_1024/tuluv2_ds_138.jsonl.gz\n",
      "Saved file 139 to /share/edc/home/antonis/datasets/huggingface/tuluv2_1024/tuluv2_ds_139.jsonl.gz\n",
      "Saved file 140 to /share/edc/home/antonis/datasets/huggingface/tuluv2_1024/tuluv2_ds_140.jsonl.gz\n",
      "Saved file 141 to /share/edc/home/antonis/datasets/huggingface/tuluv2_1024/tuluv2_ds_141.jsonl.gz\n",
      "Saved file 142 to /share/edc/home/antonis/datasets/huggingface/tuluv2_1024/tuluv2_ds_142.jsonl.gz\n",
      "Saved file 143 to /share/edc/home/antonis/datasets/huggingface/tuluv2_1024/tuluv2_ds_143.jsonl.gz\n",
      "Saved file 144 to /share/edc/home/antonis/datasets/huggingface/tuluv2_1024/tuluv2_ds_144.jsonl.gz\n",
      "Saved file 145 to /share/edc/home/antonis/datasets/huggingface/tuluv2_1024/tuluv2_ds_145.jsonl.gz\n",
      "Saved file 146 to /share/edc/home/antonis/datasets/huggingface/tuluv2_1024/tuluv2_ds_146.jsonl.gz\n",
      "Saved file 147 to /share/edc/home/antonis/datasets/huggingface/tuluv2_1024/tuluv2_ds_147.jsonl.gz\n",
      "Saved file 148 to /share/edc/home/antonis/datasets/huggingface/tuluv2_1024/tuluv2_ds_148.jsonl.gz\n",
      "Saved file 149 to /share/edc/home/antonis/datasets/huggingface/tuluv2_1024/tuluv2_ds_149.jsonl.gz\n",
      "Saved file 150 to /share/edc/home/antonis/datasets/huggingface/tuluv2_1024/tuluv2_ds_150.jsonl.gz\n",
      "Saved file 151 to /share/edc/home/antonis/datasets/huggingface/tuluv2_1024/tuluv2_ds_151.jsonl.gz\n",
      "Saved file 152 to /share/edc/home/antonis/datasets/huggingface/tuluv2_1024/tuluv2_ds_152.jsonl.gz\n",
      "Saved file 153 to /share/edc/home/antonis/datasets/huggingface/tuluv2_1024/tuluv2_ds_153.jsonl.gz\n",
      "Saved file 154 to /share/edc/home/antonis/datasets/huggingface/tuluv2_1024/tuluv2_ds_154.jsonl.gz\n",
      "Saved file 155 to /share/edc/home/antonis/datasets/huggingface/tuluv2_1024/tuluv2_ds_155.jsonl.gz\n",
      "Saved file 156 to /share/edc/home/antonis/datasets/huggingface/tuluv2_1024/tuluv2_ds_156.jsonl.gz\n",
      "Saved file 157 to /share/edc/home/antonis/datasets/huggingface/tuluv2_1024/tuluv2_ds_157.jsonl.gz\n",
      "Saved file 158 to /share/edc/home/antonis/datasets/huggingface/tuluv2_1024/tuluv2_ds_158.jsonl.gz\n",
      "Saved file 159 to /share/edc/home/antonis/datasets/huggingface/tuluv2_1024/tuluv2_ds_159.jsonl.gz\n",
      "Saved file 160 to /share/edc/home/antonis/datasets/huggingface/tuluv2_1024/tuluv2_ds_160.jsonl.gz\n",
      "Saved file 161 to /share/edc/home/antonis/datasets/huggingface/tuluv2_1024/tuluv2_ds_161.jsonl.gz\n",
      "Saved file 162 to /share/edc/home/antonis/datasets/huggingface/tuluv2_1024/tuluv2_ds_162.jsonl.gz\n",
      "Saved file 163 to /share/edc/home/antonis/datasets/huggingface/tuluv2_1024/tuluv2_ds_163.jsonl.gz\n",
      "Saved file 164 to /share/edc/home/antonis/datasets/huggingface/tuluv2_1024/tuluv2_ds_164.jsonl.gz\n",
      "Saved file 165 to /share/edc/home/antonis/datasets/huggingface/tuluv2_1024/tuluv2_ds_165.jsonl.gz\n",
      "Saved file 166 to /share/edc/home/antonis/datasets/huggingface/tuluv2_1024/tuluv2_ds_166.jsonl.gz\n",
      "Saved file 167 to /share/edc/home/antonis/datasets/huggingface/tuluv2_1024/tuluv2_ds_167.jsonl.gz\n",
      "Saved file 168 to /share/edc/home/antonis/datasets/huggingface/tuluv2_1024/tuluv2_ds_168.jsonl.gz\n",
      "Saved file 169 to /share/edc/home/antonis/datasets/huggingface/tuluv2_1024/tuluv2_ds_169.jsonl.gz\n",
      "Saved file 170 to /share/edc/home/antonis/datasets/huggingface/tuluv2_1024/tuluv2_ds_170.jsonl.gz\n",
      "Saved file 171 to /share/edc/home/antonis/datasets/huggingface/tuluv2_1024/tuluv2_ds_171.jsonl.gz\n",
      "Saved file 172 to /share/edc/home/antonis/datasets/huggingface/tuluv2_1024/tuluv2_ds_172.jsonl.gz\n",
      "Saved file 173 to /share/edc/home/antonis/datasets/huggingface/tuluv2_1024/tuluv2_ds_173.jsonl.gz\n",
      "Saved file 174 to /share/edc/home/antonis/datasets/huggingface/tuluv2_1024/tuluv2_ds_174.jsonl.gz\n",
      "Saved file 175 to /share/edc/home/antonis/datasets/huggingface/tuluv2_1024/tuluv2_ds_175.jsonl.gz\n",
      "Saved file 176 to /share/edc/home/antonis/datasets/huggingface/tuluv2_1024/tuluv2_ds_176.jsonl.gz\n",
      "Saved file 177 to /share/edc/home/antonis/datasets/huggingface/tuluv2_1024/tuluv2_ds_177.jsonl.gz\n",
      "Saved file 178 to /share/edc/home/antonis/datasets/huggingface/tuluv2_1024/tuluv2_ds_178.jsonl.gz\n",
      "Saved file 179 to /share/edc/home/antonis/datasets/huggingface/tuluv2_1024/tuluv2_ds_179.jsonl.gz\n",
      "Saved file 180 to /share/edc/home/antonis/datasets/huggingface/tuluv2_1024/tuluv2_ds_180.jsonl.gz\n",
      "Saved file 181 to /share/edc/home/antonis/datasets/huggingface/tuluv2_1024/tuluv2_ds_181.jsonl.gz\n",
      "Saved file 182 to /share/edc/home/antonis/datasets/huggingface/tuluv2_1024/tuluv2_ds_182.jsonl.gz\n",
      "Saved file 183 to /share/edc/home/antonis/datasets/huggingface/tuluv2_1024/tuluv2_ds_183.jsonl.gz\n",
      "Saved file 184 to /share/edc/home/antonis/datasets/huggingface/tuluv2_1024/tuluv2_ds_184.jsonl.gz\n",
      "Saved file 185 to /share/edc/home/antonis/datasets/huggingface/tuluv2_1024/tuluv2_ds_185.jsonl.gz\n",
      "Saved file 186 to /share/edc/home/antonis/datasets/huggingface/tuluv2_1024/tuluv2_ds_186.jsonl.gz\n",
      "Saved file 187 to /share/edc/home/antonis/datasets/huggingface/tuluv2_1024/tuluv2_ds_187.jsonl.gz\n",
      "Saved file 188 to /share/edc/home/antonis/datasets/huggingface/tuluv2_1024/tuluv2_ds_188.jsonl.gz\n",
      "Saved file 189 to /share/edc/home/antonis/datasets/huggingface/tuluv2_1024/tuluv2_ds_189.jsonl.gz\n",
      "Saved file 190 to /share/edc/home/antonis/datasets/huggingface/tuluv2_1024/tuluv2_ds_190.jsonl.gz\n",
      "Saved file 191 to /share/edc/home/antonis/datasets/huggingface/tuluv2_1024/tuluv2_ds_191.jsonl.gz\n",
      "Saved file 192 to /share/edc/home/antonis/datasets/huggingface/tuluv2_1024/tuluv2_ds_192.jsonl.gz\n",
      "Saved file 193 to /share/edc/home/antonis/datasets/huggingface/tuluv2_1024/tuluv2_ds_193.jsonl.gz\n",
      "Saved file 194 to /share/edc/home/antonis/datasets/huggingface/tuluv2_1024/tuluv2_ds_194.jsonl.gz\n",
      "Saved file 195 to /share/edc/home/antonis/datasets/huggingface/tuluv2_1024/tuluv2_ds_195.jsonl.gz\n",
      "Saved file 196 to /share/edc/home/antonis/datasets/huggingface/tuluv2_1024/tuluv2_ds_196.jsonl.gz\n",
      "Saved file 197 to /share/edc/home/antonis/datasets/huggingface/tuluv2_1024/tuluv2_ds_197.jsonl.gz\n",
      "Saved file 198 to /share/edc/home/antonis/datasets/huggingface/tuluv2_1024/tuluv2_ds_198.jsonl.gz\n",
      "Saved file 199 to /share/edc/home/antonis/datasets/huggingface/tuluv2_1024/tuluv2_ds_199.jsonl.gz\n",
      "Saved file 200 to /share/edc/home/antonis/datasets/huggingface/tuluv2_1024/tuluv2_ds_200.jsonl.gz\n",
      "Saved file 201 to /share/edc/home/antonis/datasets/huggingface/tuluv2_1024/tuluv2_ds_201.jsonl.gz\n",
      "Saved file 202 to /share/edc/home/antonis/datasets/huggingface/tuluv2_1024/tuluv2_ds_202.jsonl.gz\n",
      "Saved file 203 to /share/edc/home/antonis/datasets/huggingface/tuluv2_1024/tuluv2_ds_203.jsonl.gz\n",
      "Saved file 204 to /share/edc/home/antonis/datasets/huggingface/tuluv2_1024/tuluv2_ds_204.jsonl.gz\n",
      "Saved file 205 to /share/edc/home/antonis/datasets/huggingface/tuluv2_1024/tuluv2_ds_205.jsonl.gz\n",
      "Saved file 206 to /share/edc/home/antonis/datasets/huggingface/tuluv2_1024/tuluv2_ds_206.jsonl.gz\n",
      "Saved file 207 to /share/edc/home/antonis/datasets/huggingface/tuluv2_1024/tuluv2_ds_207.jsonl.gz\n",
      "Saved file 208 to /share/edc/home/antonis/datasets/huggingface/tuluv2_1024/tuluv2_ds_208.jsonl.gz\n",
      "Saved file 209 to /share/edc/home/antonis/datasets/huggingface/tuluv2_1024/tuluv2_ds_209.jsonl.gz\n",
      "Saved file 210 to /share/edc/home/antonis/datasets/huggingface/tuluv2_1024/tuluv2_ds_210.jsonl.gz\n",
      "Saved file 211 to /share/edc/home/antonis/datasets/huggingface/tuluv2_1024/tuluv2_ds_211.jsonl.gz\n",
      "Saved file 212 to /share/edc/home/antonis/datasets/huggingface/tuluv2_1024/tuluv2_ds_212.jsonl.gz\n",
      "Saved file 213 to /share/edc/home/antonis/datasets/huggingface/tuluv2_1024/tuluv2_ds_213.jsonl.gz\n",
      "Saved file 214 to /share/edc/home/antonis/datasets/huggingface/tuluv2_1024/tuluv2_ds_214.jsonl.gz\n",
      "Saved file 215 to /share/edc/home/antonis/datasets/huggingface/tuluv2_1024/tuluv2_ds_215.jsonl.gz\n",
      "Saved file 216 to /share/edc/home/antonis/datasets/huggingface/tuluv2_1024/tuluv2_ds_216.jsonl.gz\n",
      "Saved file 217 to /share/edc/home/antonis/datasets/huggingface/tuluv2_1024/tuluv2_ds_217.jsonl.gz\n",
      "Saved file 218 to /share/edc/home/antonis/datasets/huggingface/tuluv2_1024/tuluv2_ds_218.jsonl.gz\n",
      "Saved file 219 to /share/edc/home/antonis/datasets/huggingface/tuluv2_1024/tuluv2_ds_219.jsonl.gz\n",
      "Saved file 220 to /share/edc/home/antonis/datasets/huggingface/tuluv2_1024/tuluv2_ds_220.jsonl.gz\n",
      "Saved file 221 to /share/edc/home/antonis/datasets/huggingface/tuluv2_1024/tuluv2_ds_221.jsonl.gz\n",
      "Saved file 222 to /share/edc/home/antonis/datasets/huggingface/tuluv2_1024/tuluv2_ds_222.jsonl.gz\n",
      "Saved file 223 to /share/edc/home/antonis/datasets/huggingface/tuluv2_1024/tuluv2_ds_223.jsonl.gz\n",
      "Saved file 224 to /share/edc/home/antonis/datasets/huggingface/tuluv2_1024/tuluv2_ds_224.jsonl.gz\n",
      "Saved file 225 to /share/edc/home/antonis/datasets/huggingface/tuluv2_1024/tuluv2_ds_225.jsonl.gz\n",
      "Saved file 226 to /share/edc/home/antonis/datasets/huggingface/tuluv2_1024/tuluv2_ds_226.jsonl.gz\n",
      "Saved file 227 to /share/edc/home/antonis/datasets/huggingface/tuluv2_1024/tuluv2_ds_227.jsonl.gz\n",
      "Saved file 228 to /share/edc/home/antonis/datasets/huggingface/tuluv2_1024/tuluv2_ds_228.jsonl.gz\n",
      "Saved file 229 to /share/edc/home/antonis/datasets/huggingface/tuluv2_1024/tuluv2_ds_229.jsonl.gz\n",
      "Saved file 230 to /share/edc/home/antonis/datasets/huggingface/tuluv2_1024/tuluv2_ds_230.jsonl.gz\n",
      "Saved file 231 to /share/edc/home/antonis/datasets/huggingface/tuluv2_1024/tuluv2_ds_231.jsonl.gz\n",
      "Saved file 232 to /share/edc/home/antonis/datasets/huggingface/tuluv2_1024/tuluv2_ds_232.jsonl.gz\n",
      "Saved file 233 to /share/edc/home/antonis/datasets/huggingface/tuluv2_1024/tuluv2_ds_233.jsonl.gz\n",
      "Saved file 234 to /share/edc/home/antonis/datasets/huggingface/tuluv2_1024/tuluv2_ds_234.jsonl.gz\n",
      "Saved file 235 to /share/edc/home/antonis/datasets/huggingface/tuluv2_1024/tuluv2_ds_235.jsonl.gz\n",
      "Saved file 236 to /share/edc/home/antonis/datasets/huggingface/tuluv2_1024/tuluv2_ds_236.jsonl.gz\n",
      "Saved file 237 to /share/edc/home/antonis/datasets/huggingface/tuluv2_1024/tuluv2_ds_237.jsonl.gz\n",
      "Saved file 238 to /share/edc/home/antonis/datasets/huggingface/tuluv2_1024/tuluv2_ds_238.jsonl.gz\n",
      "Saved file 239 to /share/edc/home/antonis/datasets/huggingface/tuluv2_1024/tuluv2_ds_239.jsonl.gz\n",
      "Saved file 240 to /share/edc/home/antonis/datasets/huggingface/tuluv2_1024/tuluv2_ds_240.jsonl.gz\n",
      "Saved file 241 to /share/edc/home/antonis/datasets/huggingface/tuluv2_1024/tuluv2_ds_241.jsonl.gz\n",
      "Saved file 242 to /share/edc/home/antonis/datasets/huggingface/tuluv2_1024/tuluv2_ds_242.jsonl.gz\n",
      "Saved file 243 to /share/edc/home/antonis/datasets/huggingface/tuluv2_1024/tuluv2_ds_243.jsonl.gz\n",
      "Saved file 244 to /share/edc/home/antonis/datasets/huggingface/tuluv2_1024/tuluv2_ds_244.jsonl.gz\n",
      "Saved file 245 to /share/edc/home/antonis/datasets/huggingface/tuluv2_1024/tuluv2_ds_245.jsonl.gz\n",
      "Saved file 246 to /share/edc/home/antonis/datasets/huggingface/tuluv2_1024/tuluv2_ds_246.jsonl.gz\n",
      "Saved file 247 to /share/edc/home/antonis/datasets/huggingface/tuluv2_1024/tuluv2_ds_247.jsonl.gz\n",
      "Saved file 248 to /share/edc/home/antonis/datasets/huggingface/tuluv2_1024/tuluv2_ds_248.jsonl.gz\n",
      "Saved file 249 to /share/edc/home/antonis/datasets/huggingface/tuluv2_1024/tuluv2_ds_249.jsonl.gz\n",
      "Saved file 250 to /share/edc/home/antonis/datasets/huggingface/tuluv2_1024/tuluv2_ds_250.jsonl.gz\n",
      "Saved file 251 to /share/edc/home/antonis/datasets/huggingface/tuluv2_1024/tuluv2_ds_251.jsonl.gz\n",
      "Saved file 252 to /share/edc/home/antonis/datasets/huggingface/tuluv2_1024/tuluv2_ds_252.jsonl.gz\n",
      "Saved file 253 to /share/edc/home/antonis/datasets/huggingface/tuluv2_1024/tuluv2_ds_253.jsonl.gz\n",
      "Saved file 254 to /share/edc/home/antonis/datasets/huggingface/tuluv2_1024/tuluv2_ds_254.jsonl.gz\n",
      "Saved file 255 to /share/edc/home/antonis/datasets/huggingface/tuluv2_1024/tuluv2_ds_255.jsonl.gz\n",
      "Saved file 256 to /share/edc/home/antonis/datasets/huggingface/tuluv2_1024/tuluv2_ds_256.jsonl.gz\n",
      "Saved file 257 to /share/edc/home/antonis/datasets/huggingface/tuluv2_1024/tuluv2_ds_257.jsonl.gz\n",
      "Saved file 258 to /share/edc/home/antonis/datasets/huggingface/tuluv2_1024/tuluv2_ds_258.jsonl.gz\n",
      "Saved file 259 to /share/edc/home/antonis/datasets/huggingface/tuluv2_1024/tuluv2_ds_259.jsonl.gz\n",
      "Saved file 260 to /share/edc/home/antonis/datasets/huggingface/tuluv2_1024/tuluv2_ds_260.jsonl.gz\n",
      "Saved file 261 to /share/edc/home/antonis/datasets/huggingface/tuluv2_1024/tuluv2_ds_261.jsonl.gz\n",
      "Saved file 262 to /share/edc/home/antonis/datasets/huggingface/tuluv2_1024/tuluv2_ds_262.jsonl.gz\n",
      "Saved file 263 to /share/edc/home/antonis/datasets/huggingface/tuluv2_1024/tuluv2_ds_263.jsonl.gz\n",
      "Saved file 264 to /share/edc/home/antonis/datasets/huggingface/tuluv2_1024/tuluv2_ds_264.jsonl.gz\n",
      "Saved file 265 to /share/edc/home/antonis/datasets/huggingface/tuluv2_1024/tuluv2_ds_265.jsonl.gz\n",
      "Saved file 266 to /share/edc/home/antonis/datasets/huggingface/tuluv2_1024/tuluv2_ds_266.jsonl.gz\n",
      "Saved file 267 to /share/edc/home/antonis/datasets/huggingface/tuluv2_1024/tuluv2_ds_267.jsonl.gz\n",
      "Saved file 268 to /share/edc/home/antonis/datasets/huggingface/tuluv2_1024/tuluv2_ds_268.jsonl.gz\n",
      "Saved file 269 to /share/edc/home/antonis/datasets/huggingface/tuluv2_1024/tuluv2_ds_269.jsonl.gz\n",
      "Saved file 270 to /share/edc/home/antonis/datasets/huggingface/tuluv2_1024/tuluv2_ds_270.jsonl.gz\n",
      "Saved file 271 to /share/edc/home/antonis/datasets/huggingface/tuluv2_1024/tuluv2_ds_271.jsonl.gz\n",
      "Saved file 272 to /share/edc/home/antonis/datasets/huggingface/tuluv2_1024/tuluv2_ds_272.jsonl.gz\n",
      "Saved file 273 to /share/edc/home/antonis/datasets/huggingface/tuluv2_1024/tuluv2_ds_273.jsonl.gz\n",
      "Saved file 274 to /share/edc/home/antonis/datasets/huggingface/tuluv2_1024/tuluv2_ds_274.jsonl.gz\n",
      "Saved file 275 to /share/edc/home/antonis/datasets/huggingface/tuluv2_1024/tuluv2_ds_275.jsonl.gz\n",
      "Saved file 276 to /share/edc/home/antonis/datasets/huggingface/tuluv2_1024/tuluv2_ds_276.jsonl.gz\n",
      "Saved file 277 to /share/edc/home/antonis/datasets/huggingface/tuluv2_1024/tuluv2_ds_277.jsonl.gz\n",
      "Saved file 278 to /share/edc/home/antonis/datasets/huggingface/tuluv2_1024/tuluv2_ds_278.jsonl.gz\n",
      "Saved file 279 to /share/edc/home/antonis/datasets/huggingface/tuluv2_1024/tuluv2_ds_279.jsonl.gz\n",
      "Saved file 280 to /share/edc/home/antonis/datasets/huggingface/tuluv2_1024/tuluv2_ds_280.jsonl.gz\n",
      "Saved file 281 to /share/edc/home/antonis/datasets/huggingface/tuluv2_1024/tuluv2_ds_281.jsonl.gz\n",
      "Saved file 282 to /share/edc/home/antonis/datasets/huggingface/tuluv2_1024/tuluv2_ds_282.jsonl.gz\n",
      "Saved file 283 to /share/edc/home/antonis/datasets/huggingface/tuluv2_1024/tuluv2_ds_283.jsonl.gz\n",
      "Saved file 284 to /share/edc/home/antonis/datasets/huggingface/tuluv2_1024/tuluv2_ds_284.jsonl.gz\n",
      "Saved file 285 to /share/edc/home/antonis/datasets/huggingface/tuluv2_1024/tuluv2_ds_285.jsonl.gz\n",
      "Saved file 286 to /share/edc/home/antonis/datasets/huggingface/tuluv2_1024/tuluv2_ds_286.jsonl.gz\n",
      "Saved file 287 to /share/edc/home/antonis/datasets/huggingface/tuluv2_1024/tuluv2_ds_287.jsonl.gz\n",
      "Saved file 288 to /share/edc/home/antonis/datasets/huggingface/tuluv2_1024/tuluv2_ds_288.jsonl.gz\n",
      "Saved file 289 to /share/edc/home/antonis/datasets/huggingface/tuluv2_1024/tuluv2_ds_289.jsonl.gz\n",
      "Saved file 290 to /share/edc/home/antonis/datasets/huggingface/tuluv2_1024/tuluv2_ds_290.jsonl.gz\n",
      "Saved file 291 to /share/edc/home/antonis/datasets/huggingface/tuluv2_1024/tuluv2_ds_291.jsonl.gz\n",
      "Saved file 292 to /share/edc/home/antonis/datasets/huggingface/tuluv2_1024/tuluv2_ds_292.jsonl.gz\n",
      "Saved file 293 to /share/edc/home/antonis/datasets/huggingface/tuluv2_1024/tuluv2_ds_293.jsonl.gz\n",
      "Saved file 294 to /share/edc/home/antonis/datasets/huggingface/tuluv2_1024/tuluv2_ds_294.jsonl.gz\n",
      "Saved file 295 to /share/edc/home/antonis/datasets/huggingface/tuluv2_1024/tuluv2_ds_295.jsonl.gz\n",
      "Saved file 296 to /share/edc/home/antonis/datasets/huggingface/tuluv2_1024/tuluv2_ds_296.jsonl.gz\n",
      "Saved file 297 to /share/edc/home/antonis/datasets/huggingface/tuluv2_1024/tuluv2_ds_297.jsonl.gz\n",
      "Saved file 298 to /share/edc/home/antonis/datasets/huggingface/tuluv2_1024/tuluv2_ds_298.jsonl.gz\n",
      "Saved file 299 to /share/edc/home/antonis/datasets/huggingface/tuluv2_1024/tuluv2_ds_299.jsonl.gz\n",
      "Saved file 300 to /share/edc/home/antonis/datasets/huggingface/tuluv2_1024/tuluv2_ds_300.jsonl.gz\n",
      "Saved file 301 to /share/edc/home/antonis/datasets/huggingface/tuluv2_1024/tuluv2_ds_301.jsonl.gz\n",
      "Saved file 302 to /share/edc/home/antonis/datasets/huggingface/tuluv2_1024/tuluv2_ds_302.jsonl.gz\n",
      "Saved file 303 to /share/edc/home/antonis/datasets/huggingface/tuluv2_1024/tuluv2_ds_303.jsonl.gz\n",
      "Saved file 304 to /share/edc/home/antonis/datasets/huggingface/tuluv2_1024/tuluv2_ds_304.jsonl.gz\n",
      "Saved file 305 to /share/edc/home/antonis/datasets/huggingface/tuluv2_1024/tuluv2_ds_305.jsonl.gz\n",
      "Saved file 306 to /share/edc/home/antonis/datasets/huggingface/tuluv2_1024/tuluv2_ds_306.jsonl.gz\n",
      "Saved file 307 to /share/edc/home/antonis/datasets/huggingface/tuluv2_1024/tuluv2_ds_307.jsonl.gz\n",
      "Saved file 308 to /share/edc/home/antonis/datasets/huggingface/tuluv2_1024/tuluv2_ds_308.jsonl.gz\n",
      "Saved file 309 to /share/edc/home/antonis/datasets/huggingface/tuluv2_1024/tuluv2_ds_309.jsonl.gz\n",
      "Saved file 310 to /share/edc/home/antonis/datasets/huggingface/tuluv2_1024/tuluv2_ds_310.jsonl.gz\n",
      "Saved file 311 to /share/edc/home/antonis/datasets/huggingface/tuluv2_1024/tuluv2_ds_311.jsonl.gz\n",
      "Saved file 312 to /share/edc/home/antonis/datasets/huggingface/tuluv2_1024/tuluv2_ds_312.jsonl.gz\n",
      "Saved file 313 to /share/edc/home/antonis/datasets/huggingface/tuluv2_1024/tuluv2_ds_313.jsonl.gz\n",
      "Saved file 314 to /share/edc/home/antonis/datasets/huggingface/tuluv2_1024/tuluv2_ds_314.jsonl.gz\n",
      "Saved file 315 to /share/edc/home/antonis/datasets/huggingface/tuluv2_1024/tuluv2_ds_315.jsonl.gz\n",
      "Saved file 316 to /share/edc/home/antonis/datasets/huggingface/tuluv2_1024/tuluv2_ds_316.jsonl.gz\n",
      "Saved file 317 to /share/edc/home/antonis/datasets/huggingface/tuluv2_1024/tuluv2_ds_317.jsonl.gz\n",
      "Saved file 318 to /share/edc/home/antonis/datasets/huggingface/tuluv2_1024/tuluv2_ds_318.jsonl.gz\n",
      "Saved file 319 to /share/edc/home/antonis/datasets/huggingface/tuluv2_1024/tuluv2_ds_319.jsonl.gz\n",
      "Saved file 320 to /share/edc/home/antonis/datasets/huggingface/tuluv2_1024/tuluv2_ds_320.jsonl.gz\n",
      "Saved file 321 to /share/edc/home/antonis/datasets/huggingface/tuluv2_1024/tuluv2_ds_321.jsonl.gz\n",
      "Saved file 322 to /share/edc/home/antonis/datasets/huggingface/tuluv2_1024/tuluv2_ds_322.jsonl.gz\n",
      "Saved file 323 to /share/edc/home/antonis/datasets/huggingface/tuluv2_1024/tuluv2_ds_323.jsonl.gz\n",
      "Saved file 324 to /share/edc/home/antonis/datasets/huggingface/tuluv2_1024/tuluv2_ds_324.jsonl.gz\n",
      "Saved file 325 to /share/edc/home/antonis/datasets/huggingface/tuluv2_1024/tuluv2_ds_325.jsonl.gz\n",
      "Saved file 326 to /share/edc/home/antonis/datasets/huggingface/tuluv2_1024/tuluv2_ds_326.jsonl.gz\n",
      "Saved file 327 to /share/edc/home/antonis/datasets/huggingface/tuluv2_1024/tuluv2_ds_327.jsonl.gz\n",
      "Saved file 328 to /share/edc/home/antonis/datasets/huggingface/tuluv2_1024/tuluv2_ds_328.jsonl.gz\n",
      "Saved file 329 to /share/edc/home/antonis/datasets/huggingface/tuluv2_1024/tuluv2_ds_329.jsonl.gz\n",
      "Saved file 330 to /share/edc/home/antonis/datasets/huggingface/tuluv2_1024/tuluv2_ds_330.jsonl.gz\n",
      "Saved file 331 to /share/edc/home/antonis/datasets/huggingface/tuluv2_1024/tuluv2_ds_331.jsonl.gz\n",
      "Saved file 332 to /share/edc/home/antonis/datasets/huggingface/tuluv2_1024/tuluv2_ds_332.jsonl.gz\n",
      "Saved file 333 to /share/edc/home/antonis/datasets/huggingface/tuluv2_1024/tuluv2_ds_333.jsonl.gz\n",
      "Saved file 334 to /share/edc/home/antonis/datasets/huggingface/tuluv2_1024/tuluv2_ds_334.jsonl.gz\n",
      "Saved file 335 to /share/edc/home/antonis/datasets/huggingface/tuluv2_1024/tuluv2_ds_335.jsonl.gz\n",
      "Saved file 336 to /share/edc/home/antonis/datasets/huggingface/tuluv2_1024/tuluv2_ds_336.jsonl.gz\n",
      "Saved file 337 to /share/edc/home/antonis/datasets/huggingface/tuluv2_1024/tuluv2_ds_337.jsonl.gz\n",
      "Saved file 338 to /share/edc/home/antonis/datasets/huggingface/tuluv2_1024/tuluv2_ds_338.jsonl.gz\n",
      "Saved file 339 to /share/edc/home/antonis/datasets/huggingface/tuluv2_1024/tuluv2_ds_339.jsonl.gz\n",
      "Saved file 340 to /share/edc/home/antonis/datasets/huggingface/tuluv2_1024/tuluv2_ds_340.jsonl.gz\n",
      "Saved file 341 to /share/edc/home/antonis/datasets/huggingface/tuluv2_1024/tuluv2_ds_341.jsonl.gz\n",
      "Saved file 342 to /share/edc/home/antonis/datasets/huggingface/tuluv2_1024/tuluv2_ds_342.jsonl.gz\n",
      "Saved file 343 to /share/edc/home/antonis/datasets/huggingface/tuluv2_1024/tuluv2_ds_343.jsonl.gz\n",
      "Saved file 344 to /share/edc/home/antonis/datasets/huggingface/tuluv2_1024/tuluv2_ds_344.jsonl.gz\n",
      "Saved file 345 to /share/edc/home/antonis/datasets/huggingface/tuluv2_1024/tuluv2_ds_345.jsonl.gz\n",
      "Saved file 346 to /share/edc/home/antonis/datasets/huggingface/tuluv2_1024/tuluv2_ds_346.jsonl.gz\n",
      "Saved file 347 to /share/edc/home/antonis/datasets/huggingface/tuluv2_1024/tuluv2_ds_347.jsonl.gz\n",
      "Saved file 348 to /share/edc/home/antonis/datasets/huggingface/tuluv2_1024/tuluv2_ds_348.jsonl.gz\n",
      "Saved file 349 to /share/edc/home/antonis/datasets/huggingface/tuluv2_1024/tuluv2_ds_349.jsonl.gz\n",
      "Saved file 350 to /share/edc/home/antonis/datasets/huggingface/tuluv2_1024/tuluv2_ds_350.jsonl.gz\n",
      "Saved file 351 to /share/edc/home/antonis/datasets/huggingface/tuluv2_1024/tuluv2_ds_351.jsonl.gz\n",
      "Saved file 352 to /share/edc/home/antonis/datasets/huggingface/tuluv2_1024/tuluv2_ds_352.jsonl.gz\n",
      "Saved file 353 to /share/edc/home/antonis/datasets/huggingface/tuluv2_1024/tuluv2_ds_353.jsonl.gz\n",
      "Saved file 354 to /share/edc/home/antonis/datasets/huggingface/tuluv2_1024/tuluv2_ds_354.jsonl.gz\n",
      "Saved file 355 to /share/edc/home/antonis/datasets/huggingface/tuluv2_1024/tuluv2_ds_355.jsonl.gz\n",
      "Saved file 356 to /share/edc/home/antonis/datasets/huggingface/tuluv2_1024/tuluv2_ds_356.jsonl.gz\n",
      "Saved file 357 to /share/edc/home/antonis/datasets/huggingface/tuluv2_1024/tuluv2_ds_357.jsonl.gz\n",
      "Saved file 358 to /share/edc/home/antonis/datasets/huggingface/tuluv2_1024/tuluv2_ds_358.jsonl.gz\n",
      "Saved file 359 to /share/edc/home/antonis/datasets/huggingface/tuluv2_1024/tuluv2_ds_359.jsonl.gz\n",
      "Saved file 360 to /share/edc/home/antonis/datasets/huggingface/tuluv2_1024/tuluv2_ds_360.jsonl.gz\n",
      "Saved file 361 to /share/edc/home/antonis/datasets/huggingface/tuluv2_1024/tuluv2_ds_361.jsonl.gz\n",
      "Saved file 362 to /share/edc/home/antonis/datasets/huggingface/tuluv2_1024/tuluv2_ds_362.jsonl.gz\n",
      "Saved file 363 to /share/edc/home/antonis/datasets/huggingface/tuluv2_1024/tuluv2_ds_363.jsonl.gz\n",
      "Saved file 364 to /share/edc/home/antonis/datasets/huggingface/tuluv2_1024/tuluv2_ds_364.jsonl.gz\n",
      "Saved file 365 to /share/edc/home/antonis/datasets/huggingface/tuluv2_1024/tuluv2_ds_365.jsonl.gz\n",
      "Saved file 366 to /share/edc/home/antonis/datasets/huggingface/tuluv2_1024/tuluv2_ds_366.jsonl.gz\n",
      "Saved file 367 to /share/edc/home/antonis/datasets/huggingface/tuluv2_1024/tuluv2_ds_367.jsonl.gz\n",
      "Saved file 368 to /share/edc/home/antonis/datasets/huggingface/tuluv2_1024/tuluv2_ds_368.jsonl.gz\n",
      "Saved file 369 to /share/edc/home/antonis/datasets/huggingface/tuluv2_1024/tuluv2_ds_369.jsonl.gz\n",
      "Saved file 370 to /share/edc/home/antonis/datasets/huggingface/tuluv2_1024/tuluv2_ds_370.jsonl.gz\n",
      "Saved file 371 to /share/edc/home/antonis/datasets/huggingface/tuluv2_1024/tuluv2_ds_371.jsonl.gz\n",
      "Saved file 372 to /share/edc/home/antonis/datasets/huggingface/tuluv2_1024/tuluv2_ds_372.jsonl.gz\n",
      "Saved file 373 to /share/edc/home/antonis/datasets/huggingface/tuluv2_1024/tuluv2_ds_373.jsonl.gz\n",
      "Saved file 374 to /share/edc/home/antonis/datasets/huggingface/tuluv2_1024/tuluv2_ds_374.jsonl.gz\n",
      "Saved file 375 to /share/edc/home/antonis/datasets/huggingface/tuluv2_1024/tuluv2_ds_375.jsonl.gz\n",
      "Saved file 376 to /share/edc/home/antonis/datasets/huggingface/tuluv2_1024/tuluv2_ds_376.jsonl.gz\n",
      "Saved file 377 to /share/edc/home/antonis/datasets/huggingface/tuluv2_1024/tuluv2_ds_377.jsonl.gz\n",
      "Saved file 378 to /share/edc/home/antonis/datasets/huggingface/tuluv2_1024/tuluv2_ds_378.jsonl.gz\n",
      "Saved file 379 to /share/edc/home/antonis/datasets/huggingface/tuluv2_1024/tuluv2_ds_379.jsonl.gz\n",
      "Saved file 380 to /share/edc/home/antonis/datasets/huggingface/tuluv2_1024/tuluv2_ds_380.jsonl.gz\n",
      "Saved file 381 to /share/edc/home/antonis/datasets/huggingface/tuluv2_1024/tuluv2_ds_381.jsonl.gz\n",
      "Saved file 382 to /share/edc/home/antonis/datasets/huggingface/tuluv2_1024/tuluv2_ds_382.jsonl.gz\n",
      "Saved file 383 to /share/edc/home/antonis/datasets/huggingface/tuluv2_1024/tuluv2_ds_383.jsonl.gz\n",
      "Saved file 384 to /share/edc/home/antonis/datasets/huggingface/tuluv2_1024/tuluv2_ds_384.jsonl.gz\n",
      "Saved file 385 to /share/edc/home/antonis/datasets/huggingface/tuluv2_1024/tuluv2_ds_385.jsonl.gz\n",
      "Saved file 386 to /share/edc/home/antonis/datasets/huggingface/tuluv2_1024/tuluv2_ds_386.jsonl.gz\n",
      "Saved file 387 to /share/edc/home/antonis/datasets/huggingface/tuluv2_1024/tuluv2_ds_387.jsonl.gz\n",
      "Saved file 388 to /share/edc/home/antonis/datasets/huggingface/tuluv2_1024/tuluv2_ds_388.jsonl.gz\n",
      "Saved file 389 to /share/edc/home/antonis/datasets/huggingface/tuluv2_1024/tuluv2_ds_389.jsonl.gz\n",
      "Saved file 390 to /share/edc/home/antonis/datasets/huggingface/tuluv2_1024/tuluv2_ds_390.jsonl.gz\n",
      "Saved file 391 to /share/edc/home/antonis/datasets/huggingface/tuluv2_1024/tuluv2_ds_391.jsonl.gz\n",
      "Saved file 392 to /share/edc/home/antonis/datasets/huggingface/tuluv2_1024/tuluv2_ds_392.jsonl.gz\n",
      "Saved file 393 to /share/edc/home/antonis/datasets/huggingface/tuluv2_1024/tuluv2_ds_393.jsonl.gz\n",
      "Saved file 394 to /share/edc/home/antonis/datasets/huggingface/tuluv2_1024/tuluv2_ds_394.jsonl.gz\n",
      "Saved file 395 to /share/edc/home/antonis/datasets/huggingface/tuluv2_1024/tuluv2_ds_395.jsonl.gz\n",
      "Saved file 396 to /share/edc/home/antonis/datasets/huggingface/tuluv2_1024/tuluv2_ds_396.jsonl.gz\n",
      "Saved file 397 to /share/edc/home/antonis/datasets/huggingface/tuluv2_1024/tuluv2_ds_397.jsonl.gz\n",
      "Saved file 398 to /share/edc/home/antonis/datasets/huggingface/tuluv2_1024/tuluv2_ds_398.jsonl.gz\n",
      "Saved file 399 to /share/edc/home/antonis/datasets/huggingface/tuluv2_1024/tuluv2_ds_399.jsonl.gz\n",
      "Saved file 400 to /share/edc/home/antonis/datasets/huggingface/tuluv2_1024/tuluv2_ds_400.jsonl.gz\n",
      "Saved file 401 to /share/edc/home/antonis/datasets/huggingface/tuluv2_1024/tuluv2_ds_401.jsonl.gz\n",
      "Saved file 402 to /share/edc/home/antonis/datasets/huggingface/tuluv2_1024/tuluv2_ds_402.jsonl.gz\n",
      "Saved file 403 to /share/edc/home/antonis/datasets/huggingface/tuluv2_1024/tuluv2_ds_403.jsonl.gz\n",
      "Saved file 404 to /share/edc/home/antonis/datasets/huggingface/tuluv2_1024/tuluv2_ds_404.jsonl.gz\n",
      "Saved file 405 to /share/edc/home/antonis/datasets/huggingface/tuluv2_1024/tuluv2_ds_405.jsonl.gz\n",
      "Saved file 406 to /share/edc/home/antonis/datasets/huggingface/tuluv2_1024/tuluv2_ds_406.jsonl.gz\n",
      "Saved file 407 to /share/edc/home/antonis/datasets/huggingface/tuluv2_1024/tuluv2_ds_407.jsonl.gz\n",
      "Saved file 408 to /share/edc/home/antonis/datasets/huggingface/tuluv2_1024/tuluv2_ds_408.jsonl.gz\n",
      "Saved file 409 to /share/edc/home/antonis/datasets/huggingface/tuluv2_1024/tuluv2_ds_409.jsonl.gz\n",
      "Saved file 410 to /share/edc/home/antonis/datasets/huggingface/tuluv2_1024/tuluv2_ds_410.jsonl.gz\n",
      "Saved file 411 to /share/edc/home/antonis/datasets/huggingface/tuluv2_1024/tuluv2_ds_411.jsonl.gz\n",
      "Saved file 412 to /share/edc/home/antonis/datasets/huggingface/tuluv2_1024/tuluv2_ds_412.jsonl.gz\n",
      "Saved file 413 to /share/edc/home/antonis/datasets/huggingface/tuluv2_1024/tuluv2_ds_413.jsonl.gz\n",
      "Saved file 414 to /share/edc/home/antonis/datasets/huggingface/tuluv2_1024/tuluv2_ds_414.jsonl.gz\n",
      "Saved file 415 to /share/edc/home/antonis/datasets/huggingface/tuluv2_1024/tuluv2_ds_415.jsonl.gz\n",
      "Saved file 416 to /share/edc/home/antonis/datasets/huggingface/tuluv2_1024/tuluv2_ds_416.jsonl.gz\n",
      "Saved file 417 to /share/edc/home/antonis/datasets/huggingface/tuluv2_1024/tuluv2_ds_417.jsonl.gz\n",
      "Saved file 418 to /share/edc/home/antonis/datasets/huggingface/tuluv2_1024/tuluv2_ds_418.jsonl.gz\n",
      "Saved file 419 to /share/edc/home/antonis/datasets/huggingface/tuluv2_1024/tuluv2_ds_419.jsonl.gz\n",
      "Saved file 420 to /share/edc/home/antonis/datasets/huggingface/tuluv2_1024/tuluv2_ds_420.jsonl.gz\n",
      "Saved file 421 to /share/edc/home/antonis/datasets/huggingface/tuluv2_1024/tuluv2_ds_421.jsonl.gz\n",
      "Saved file 422 to /share/edc/home/antonis/datasets/huggingface/tuluv2_1024/tuluv2_ds_422.jsonl.gz\n",
      "Saved file 423 to /share/edc/home/antonis/datasets/huggingface/tuluv2_1024/tuluv2_ds_423.jsonl.gz\n",
      "Saved file 424 to /share/edc/home/antonis/datasets/huggingface/tuluv2_1024/tuluv2_ds_424.jsonl.gz\n",
      "Saved file 425 to /share/edc/home/antonis/datasets/huggingface/tuluv2_1024/tuluv2_ds_425.jsonl.gz\n",
      "Saved file 426 to /share/edc/home/antonis/datasets/huggingface/tuluv2_1024/tuluv2_ds_426.jsonl.gz\n",
      "Saved file 427 to /share/edc/home/antonis/datasets/huggingface/tuluv2_1024/tuluv2_ds_427.jsonl.gz\n",
      "Saved file 428 to /share/edc/home/antonis/datasets/huggingface/tuluv2_1024/tuluv2_ds_428.jsonl.gz\n",
      "Saved file 429 to /share/edc/home/antonis/datasets/huggingface/tuluv2_1024/tuluv2_ds_429.jsonl.gz\n",
      "Saved file 430 to /share/edc/home/antonis/datasets/huggingface/tuluv2_1024/tuluv2_ds_430.jsonl.gz\n",
      "Saved file 431 to /share/edc/home/antonis/datasets/huggingface/tuluv2_1024/tuluv2_ds_431.jsonl.gz\n",
      "Saved file 432 to /share/edc/home/antonis/datasets/huggingface/tuluv2_1024/tuluv2_ds_432.jsonl.gz\n",
      "Saved file 433 to /share/edc/home/antonis/datasets/huggingface/tuluv2_1024/tuluv2_ds_433.jsonl.gz\n",
      "Saved file 434 to /share/edc/home/antonis/datasets/huggingface/tuluv2_1024/tuluv2_ds_434.jsonl.gz\n",
      "Saved file 435 to /share/edc/home/antonis/datasets/huggingface/tuluv2_1024/tuluv2_ds_435.jsonl.gz\n",
      "Saved file 436 to /share/edc/home/antonis/datasets/huggingface/tuluv2_1024/tuluv2_ds_436.jsonl.gz\n",
      "Saved file 437 to /share/edc/home/antonis/datasets/huggingface/tuluv2_1024/tuluv2_ds_437.jsonl.gz\n",
      "Saved file 438 to /share/edc/home/antonis/datasets/huggingface/tuluv2_1024/tuluv2_ds_438.jsonl.gz\n",
      "Saved file 439 to /share/edc/home/antonis/datasets/huggingface/tuluv2_1024/tuluv2_ds_439.jsonl.gz\n",
      "Saved file 440 to /share/edc/home/antonis/datasets/huggingface/tuluv2_1024/tuluv2_ds_440.jsonl.gz\n",
      "Saved file 441 to /share/edc/home/antonis/datasets/huggingface/tuluv2_1024/tuluv2_ds_441.jsonl.gz\n",
      "Saved file 442 to /share/edc/home/antonis/datasets/huggingface/tuluv2_1024/tuluv2_ds_442.jsonl.gz\n",
      "Saved file 443 to /share/edc/home/antonis/datasets/huggingface/tuluv2_1024/tuluv2_ds_443.jsonl.gz\n",
      "Saved file 444 to /share/edc/home/antonis/datasets/huggingface/tuluv2_1024/tuluv2_ds_444.jsonl.gz\n",
      "Saved file 445 to /share/edc/home/antonis/datasets/huggingface/tuluv2_1024/tuluv2_ds_445.jsonl.gz\n",
      "Saved file 446 to /share/edc/home/antonis/datasets/huggingface/tuluv2_1024/tuluv2_ds_446.jsonl.gz\n",
      "Saved file 447 to /share/edc/home/antonis/datasets/huggingface/tuluv2_1024/tuluv2_ds_447.jsonl.gz\n",
      "Saved file 448 to /share/edc/home/antonis/datasets/huggingface/tuluv2_1024/tuluv2_ds_448.jsonl.gz\n",
      "Saved file 449 to /share/edc/home/antonis/datasets/huggingface/tuluv2_1024/tuluv2_ds_449.jsonl.gz\n",
      "Saved file 450 to /share/edc/home/antonis/datasets/huggingface/tuluv2_1024/tuluv2_ds_450.jsonl.gz\n",
      "Saved file 451 to /share/edc/home/antonis/datasets/huggingface/tuluv2_1024/tuluv2_ds_451.jsonl.gz\n",
      "Saved file 452 to /share/edc/home/antonis/datasets/huggingface/tuluv2_1024/tuluv2_ds_452.jsonl.gz\n",
      "Saved file 453 to /share/edc/home/antonis/datasets/huggingface/tuluv2_1024/tuluv2_ds_453.jsonl.gz\n",
      "Saved file 454 to /share/edc/home/antonis/datasets/huggingface/tuluv2_1024/tuluv2_ds_454.jsonl.gz\n",
      "Saved file 455 to /share/edc/home/antonis/datasets/huggingface/tuluv2_1024/tuluv2_ds_455.jsonl.gz\n",
      "Saved file 456 to /share/edc/home/antonis/datasets/huggingface/tuluv2_1024/tuluv2_ds_456.jsonl.gz\n",
      "Saved file 457 to /share/edc/home/antonis/datasets/huggingface/tuluv2_1024/tuluv2_ds_457.jsonl.gz\n",
      "Saved file 458 to /share/edc/home/antonis/datasets/huggingface/tuluv2_1024/tuluv2_ds_458.jsonl.gz\n",
      "Saved file 459 to /share/edc/home/antonis/datasets/huggingface/tuluv2_1024/tuluv2_ds_459.jsonl.gz\n",
      "Saved file 460 to /share/edc/home/antonis/datasets/huggingface/tuluv2_1024/tuluv2_ds_460.jsonl.gz\n",
      "Saved file 461 to /share/edc/home/antonis/datasets/huggingface/tuluv2_1024/tuluv2_ds_461.jsonl.gz\n",
      "Saved file 462 to /share/edc/home/antonis/datasets/huggingface/tuluv2_1024/tuluv2_ds_462.jsonl.gz\n",
      "Saved file 463 to /share/edc/home/antonis/datasets/huggingface/tuluv2_1024/tuluv2_ds_463.jsonl.gz\n",
      "Saved file 464 to /share/edc/home/antonis/datasets/huggingface/tuluv2_1024/tuluv2_ds_464.jsonl.gz\n",
      "Saved file 465 to /share/edc/home/antonis/datasets/huggingface/tuluv2_1024/tuluv2_ds_465.jsonl.gz\n",
      "Saved file 466 to /share/edc/home/antonis/datasets/huggingface/tuluv2_1024/tuluv2_ds_466.jsonl.gz\n",
      "Saved file 467 to /share/edc/home/antonis/datasets/huggingface/tuluv2_1024/tuluv2_ds_467.jsonl.gz\n",
      "Saved file 468 to /share/edc/home/antonis/datasets/huggingface/tuluv2_1024/tuluv2_ds_468.jsonl.gz\n",
      "Saved file 469 to /share/edc/home/antonis/datasets/huggingface/tuluv2_1024/tuluv2_ds_469.jsonl.gz\n",
      "Saved file 470 to /share/edc/home/antonis/datasets/huggingface/tuluv2_1024/tuluv2_ds_470.jsonl.gz\n",
      "Saved file 471 to /share/edc/home/antonis/datasets/huggingface/tuluv2_1024/tuluv2_ds_471.jsonl.gz\n",
      "Saved file 472 to /share/edc/home/antonis/datasets/huggingface/tuluv2_1024/tuluv2_ds_472.jsonl.gz\n",
      "Saved file 473 to /share/edc/home/antonis/datasets/huggingface/tuluv2_1024/tuluv2_ds_473.jsonl.gz\n",
      "Saved file 474 to /share/edc/home/antonis/datasets/huggingface/tuluv2_1024/tuluv2_ds_474.jsonl.gz\n",
      "Saved file 475 to /share/edc/home/antonis/datasets/huggingface/tuluv2_1024/tuluv2_ds_475.jsonl.gz\n",
      "Saved file 476 to /share/edc/home/antonis/datasets/huggingface/tuluv2_1024/tuluv2_ds_476.jsonl.gz\n",
      "Saved file 477 to /share/edc/home/antonis/datasets/huggingface/tuluv2_1024/tuluv2_ds_477.jsonl.gz\n",
      "Saved file 478 to /share/edc/home/antonis/datasets/huggingface/tuluv2_1024/tuluv2_ds_478.jsonl.gz\n",
      "Saved file 479 to /share/edc/home/antonis/datasets/huggingface/tuluv2_1024/tuluv2_ds_479.jsonl.gz\n",
      "Saved file 480 to /share/edc/home/antonis/datasets/huggingface/tuluv2_1024/tuluv2_ds_480.jsonl.gz\n",
      "Saved file 481 to /share/edc/home/antonis/datasets/huggingface/tuluv2_1024/tuluv2_ds_481.jsonl.gz\n",
      "Saved file 482 to /share/edc/home/antonis/datasets/huggingface/tuluv2_1024/tuluv2_ds_482.jsonl.gz\n",
      "Saved file 483 to /share/edc/home/antonis/datasets/huggingface/tuluv2_1024/tuluv2_ds_483.jsonl.gz\n",
      "Saved file 484 to /share/edc/home/antonis/datasets/huggingface/tuluv2_1024/tuluv2_ds_484.jsonl.gz\n",
      "Saved file 485 to /share/edc/home/antonis/datasets/huggingface/tuluv2_1024/tuluv2_ds_485.jsonl.gz\n",
      "Saved file 486 to /share/edc/home/antonis/datasets/huggingface/tuluv2_1024/tuluv2_ds_486.jsonl.gz\n",
      "Saved file 487 to /share/edc/home/antonis/datasets/huggingface/tuluv2_1024/tuluv2_ds_487.jsonl.gz\n",
      "Saved file 488 to /share/edc/home/antonis/datasets/huggingface/tuluv2_1024/tuluv2_ds_488.jsonl.gz\n",
      "Saved file 489 to /share/edc/home/antonis/datasets/huggingface/tuluv2_1024/tuluv2_ds_489.jsonl.gz\n",
      "Saved file 490 to /share/edc/home/antonis/datasets/huggingface/tuluv2_1024/tuluv2_ds_490.jsonl.gz\n",
      "Saved file 491 to /share/edc/home/antonis/datasets/huggingface/tuluv2_1024/tuluv2_ds_491.jsonl.gz\n",
      "Saved file 492 to /share/edc/home/antonis/datasets/huggingface/tuluv2_1024/tuluv2_ds_492.jsonl.gz\n",
      "Saved file 493 to /share/edc/home/antonis/datasets/huggingface/tuluv2_1024/tuluv2_ds_493.jsonl.gz\n",
      "Saved file 494 to /share/edc/home/antonis/datasets/huggingface/tuluv2_1024/tuluv2_ds_494.jsonl.gz\n",
      "Saved file 495 to /share/edc/home/antonis/datasets/huggingface/tuluv2_1024/tuluv2_ds_495.jsonl.gz\n",
      "Saved file 496 to /share/edc/home/antonis/datasets/huggingface/tuluv2_1024/tuluv2_ds_496.jsonl.gz\n",
      "Saved file 497 to /share/edc/home/antonis/datasets/huggingface/tuluv2_1024/tuluv2_ds_497.jsonl.gz\n",
      "Saved file 498 to /share/edc/home/antonis/datasets/huggingface/tuluv2_1024/tuluv2_ds_498.jsonl.gz\n",
      "Saved file 499 to /share/edc/home/antonis/datasets/huggingface/tuluv2_1024/tuluv2_ds_499.jsonl.gz\n",
      "Saved file 500 to /share/edc/home/antonis/datasets/huggingface/tuluv2_1024/tuluv2_ds_500.jsonl.gz\n",
      "Saved file 501 to /share/edc/home/antonis/datasets/huggingface/tuluv2_1024/tuluv2_ds_501.jsonl.gz\n",
      "Saved file 502 to /share/edc/home/antonis/datasets/huggingface/tuluv2_1024/tuluv2_ds_502.jsonl.gz\n",
      "Saved file 503 to /share/edc/home/antonis/datasets/huggingface/tuluv2_1024/tuluv2_ds_503.jsonl.gz\n",
      "Saved file 504 to /share/edc/home/antonis/datasets/huggingface/tuluv2_1024/tuluv2_ds_504.jsonl.gz\n",
      "Saved file 505 to /share/edc/home/antonis/datasets/huggingface/tuluv2_1024/tuluv2_ds_505.jsonl.gz\n",
      "Saved file 506 to /share/edc/home/antonis/datasets/huggingface/tuluv2_1024/tuluv2_ds_506.jsonl.gz\n",
      "Saved file 507 to /share/edc/home/antonis/datasets/huggingface/tuluv2_1024/tuluv2_ds_507.jsonl.gz\n",
      "Saved file 508 to /share/edc/home/antonis/datasets/huggingface/tuluv2_1024/tuluv2_ds_508.jsonl.gz\n",
      "Saved file 509 to /share/edc/home/antonis/datasets/huggingface/tuluv2_1024/tuluv2_ds_509.jsonl.gz\n",
      "Saved file 510 to /share/edc/home/antonis/datasets/huggingface/tuluv2_1024/tuluv2_ds_510.jsonl.gz\n",
      "Saved file 511 to /share/edc/home/antonis/datasets/huggingface/tuluv2_1024/tuluv2_ds_511.jsonl.gz\n",
      "Saved file 512 to /share/edc/home/antonis/datasets/huggingface/tuluv2_1024/tuluv2_ds_512.jsonl.gz\n",
      "Saved file 513 to /share/edc/home/antonis/datasets/huggingface/tuluv2_1024/tuluv2_ds_513.jsonl.gz\n",
      "Saved file 514 to /share/edc/home/antonis/datasets/huggingface/tuluv2_1024/tuluv2_ds_514.jsonl.gz\n",
      "Saved file 515 to /share/edc/home/antonis/datasets/huggingface/tuluv2_1024/tuluv2_ds_515.jsonl.gz\n",
      "Saved file 516 to /share/edc/home/antonis/datasets/huggingface/tuluv2_1024/tuluv2_ds_516.jsonl.gz\n",
      "Saved file 517 to /share/edc/home/antonis/datasets/huggingface/tuluv2_1024/tuluv2_ds_517.jsonl.gz\n",
      "Saved file 518 to /share/edc/home/antonis/datasets/huggingface/tuluv2_1024/tuluv2_ds_518.jsonl.gz\n",
      "Saved file 519 to /share/edc/home/antonis/datasets/huggingface/tuluv2_1024/tuluv2_ds_519.jsonl.gz\n",
      "Saved file 520 to /share/edc/home/antonis/datasets/huggingface/tuluv2_1024/tuluv2_ds_520.jsonl.gz\n",
      "Saved file 521 to /share/edc/home/antonis/datasets/huggingface/tuluv2_1024/tuluv2_ds_521.jsonl.gz\n",
      "Saved file 522 to /share/edc/home/antonis/datasets/huggingface/tuluv2_1024/tuluv2_ds_522.jsonl.gz\n",
      "Saved file 523 to /share/edc/home/antonis/datasets/huggingface/tuluv2_1024/tuluv2_ds_523.jsonl.gz\n",
      "Saved file 524 to /share/edc/home/antonis/datasets/huggingface/tuluv2_1024/tuluv2_ds_524.jsonl.gz\n",
      "Saved file 525 to /share/edc/home/antonis/datasets/huggingface/tuluv2_1024/tuluv2_ds_525.jsonl.gz\n",
      "Saved file 526 to /share/edc/home/antonis/datasets/huggingface/tuluv2_1024/tuluv2_ds_526.jsonl.gz\n",
      "Saved file 527 to /share/edc/home/antonis/datasets/huggingface/tuluv2_1024/tuluv2_ds_527.jsonl.gz\n",
      "Saved file 528 to /share/edc/home/antonis/datasets/huggingface/tuluv2_1024/tuluv2_ds_528.jsonl.gz\n",
      "Saved file 529 to /share/edc/home/antonis/datasets/huggingface/tuluv2_1024/tuluv2_ds_529.jsonl.gz\n",
      "Saved file 530 to /share/edc/home/antonis/datasets/huggingface/tuluv2_1024/tuluv2_ds_530.jsonl.gz\n",
      "Saved file 531 to /share/edc/home/antonis/datasets/huggingface/tuluv2_1024/tuluv2_ds_531.jsonl.gz\n",
      "Saved file 532 to /share/edc/home/antonis/datasets/huggingface/tuluv2_1024/tuluv2_ds_532.jsonl.gz\n",
      "Saved file 533 to /share/edc/home/antonis/datasets/huggingface/tuluv2_1024/tuluv2_ds_533.jsonl.gz\n",
      "Saved file 534 to /share/edc/home/antonis/datasets/huggingface/tuluv2_1024/tuluv2_ds_534.jsonl.gz\n",
      "Saved file 535 to /share/edc/home/antonis/datasets/huggingface/tuluv2_1024/tuluv2_ds_535.jsonl.gz\n",
      "Saved file 536 to /share/edc/home/antonis/datasets/huggingface/tuluv2_1024/tuluv2_ds_536.jsonl.gz\n",
      "Saved file 537 to /share/edc/home/antonis/datasets/huggingface/tuluv2_1024/tuluv2_ds_537.jsonl.gz\n",
      "Saved file 538 to /share/edc/home/antonis/datasets/huggingface/tuluv2_1024/tuluv2_ds_538.jsonl.gz\n",
      "Saved file 539 to /share/edc/home/antonis/datasets/huggingface/tuluv2_1024/tuluv2_ds_539.jsonl.gz\n",
      "Saved file 540 to /share/edc/home/antonis/datasets/huggingface/tuluv2_1024/tuluv2_ds_540.jsonl.gz\n",
      "Saved file 541 to /share/edc/home/antonis/datasets/huggingface/tuluv2_1024/tuluv2_ds_541.jsonl.gz\n",
      "Saved file 542 to /share/edc/home/antonis/datasets/huggingface/tuluv2_1024/tuluv2_ds_542.jsonl.gz\n",
      "Saved file 543 to /share/edc/home/antonis/datasets/huggingface/tuluv2_1024/tuluv2_ds_543.jsonl.gz\n",
      "Saved file 544 to /share/edc/home/antonis/datasets/huggingface/tuluv2_1024/tuluv2_ds_544.jsonl.gz\n",
      "Saved file 545 to /share/edc/home/antonis/datasets/huggingface/tuluv2_1024/tuluv2_ds_545.jsonl.gz\n",
      "Saved file 546 to /share/edc/home/antonis/datasets/huggingface/tuluv2_1024/tuluv2_ds_546.jsonl.gz\n",
      "Saved file 547 to /share/edc/home/antonis/datasets/huggingface/tuluv2_1024/tuluv2_ds_547.jsonl.gz\n",
      "Saved file 548 to /share/edc/home/antonis/datasets/huggingface/tuluv2_1024/tuluv2_ds_548.jsonl.gz\n",
      "Saved file 549 to /share/edc/home/antonis/datasets/huggingface/tuluv2_1024/tuluv2_ds_549.jsonl.gz\n",
      "Saved file 550 to /share/edc/home/antonis/datasets/huggingface/tuluv2_1024/tuluv2_ds_550.jsonl.gz\n",
      "Saved file 551 to /share/edc/home/antonis/datasets/huggingface/tuluv2_1024/tuluv2_ds_551.jsonl.gz\n",
      "Saved file 552 to /share/edc/home/antonis/datasets/huggingface/tuluv2_1024/tuluv2_ds_552.jsonl.gz\n",
      "Saved file 553 to /share/edc/home/antonis/datasets/huggingface/tuluv2_1024/tuluv2_ds_553.jsonl.gz\n",
      "Saved file 554 to /share/edc/home/antonis/datasets/huggingface/tuluv2_1024/tuluv2_ds_554.jsonl.gz\n",
      "Saved file 555 to /share/edc/home/antonis/datasets/huggingface/tuluv2_1024/tuluv2_ds_555.jsonl.gz\n",
      "Saved file 556 to /share/edc/home/antonis/datasets/huggingface/tuluv2_1024/tuluv2_ds_556.jsonl.gz\n",
      "Saved file 557 to /share/edc/home/antonis/datasets/huggingface/tuluv2_1024/tuluv2_ds_557.jsonl.gz\n",
      "Saved file 558 to /share/edc/home/antonis/datasets/huggingface/tuluv2_1024/tuluv2_ds_558.jsonl.gz\n",
      "Saved file 559 to /share/edc/home/antonis/datasets/huggingface/tuluv2_1024/tuluv2_ds_559.jsonl.gz\n",
      "Saved file 560 to /share/edc/home/antonis/datasets/huggingface/tuluv2_1024/tuluv2_ds_560.jsonl.gz\n",
      "Saved file 561 to /share/edc/home/antonis/datasets/huggingface/tuluv2_1024/tuluv2_ds_561.jsonl.gz\n",
      "Saved file 562 to /share/edc/home/antonis/datasets/huggingface/tuluv2_1024/tuluv2_ds_562.jsonl.gz\n",
      "Saved file 563 to /share/edc/home/antonis/datasets/huggingface/tuluv2_1024/tuluv2_ds_563.jsonl.gz\n",
      "Saved file 564 to /share/edc/home/antonis/datasets/huggingface/tuluv2_1024/tuluv2_ds_564.jsonl.gz\n",
      "Saved file 565 to /share/edc/home/antonis/datasets/huggingface/tuluv2_1024/tuluv2_ds_565.jsonl.gz\n",
      "Saved file 566 to /share/edc/home/antonis/datasets/huggingface/tuluv2_1024/tuluv2_ds_566.jsonl.gz\n",
      "Saved file 567 to /share/edc/home/antonis/datasets/huggingface/tuluv2_1024/tuluv2_ds_567.jsonl.gz\n",
      "Saved file 568 to /share/edc/home/antonis/datasets/huggingface/tuluv2_1024/tuluv2_ds_568.jsonl.gz\n",
      "Saved file 569 to /share/edc/home/antonis/datasets/huggingface/tuluv2_1024/tuluv2_ds_569.jsonl.gz\n",
      "Saved file 570 to /share/edc/home/antonis/datasets/huggingface/tuluv2_1024/tuluv2_ds_570.jsonl.gz\n",
      "Saved file 571 to /share/edc/home/antonis/datasets/huggingface/tuluv2_1024/tuluv2_ds_571.jsonl.gz\n",
      "Saved file 572 to /share/edc/home/antonis/datasets/huggingface/tuluv2_1024/tuluv2_ds_572.jsonl.gz\n",
      "Saved file 573 to /share/edc/home/antonis/datasets/huggingface/tuluv2_1024/tuluv2_ds_573.jsonl.gz\n",
      "Saved file 574 to /share/edc/home/antonis/datasets/huggingface/tuluv2_1024/tuluv2_ds_574.jsonl.gz\n",
      "Saved file 575 to /share/edc/home/antonis/datasets/huggingface/tuluv2_1024/tuluv2_ds_575.jsonl.gz\n",
      "Saved file 576 to /share/edc/home/antonis/datasets/huggingface/tuluv2_1024/tuluv2_ds_576.jsonl.gz\n",
      "Saved file 577 to /share/edc/home/antonis/datasets/huggingface/tuluv2_1024/tuluv2_ds_577.jsonl.gz\n",
      "Saved file 578 to /share/edc/home/antonis/datasets/huggingface/tuluv2_1024/tuluv2_ds_578.jsonl.gz\n",
      "Saved file 579 to /share/edc/home/antonis/datasets/huggingface/tuluv2_1024/tuluv2_ds_579.jsonl.gz\n",
      "Saved file 580 to /share/edc/home/antonis/datasets/huggingface/tuluv2_1024/tuluv2_ds_580.jsonl.gz\n",
      "Saved file 581 to /share/edc/home/antonis/datasets/huggingface/tuluv2_1024/tuluv2_ds_581.jsonl.gz\n",
      "Saved file 582 to /share/edc/home/antonis/datasets/huggingface/tuluv2_1024/tuluv2_ds_582.jsonl.gz\n",
      "Saved file 583 to /share/edc/home/antonis/datasets/huggingface/tuluv2_1024/tuluv2_ds_583.jsonl.gz\n",
      "Saved file 584 to /share/edc/home/antonis/datasets/huggingface/tuluv2_1024/tuluv2_ds_584.jsonl.gz\n",
      "Saved file 585 to /share/edc/home/antonis/datasets/huggingface/tuluv2_1024/tuluv2_ds_585.jsonl.gz\n",
      "Saved file 586 to /share/edc/home/antonis/datasets/huggingface/tuluv2_1024/tuluv2_ds_586.jsonl.gz\n",
      "Saved file 587 to /share/edc/home/antonis/datasets/huggingface/tuluv2_1024/tuluv2_ds_587.jsonl.gz\n",
      "Saved file 588 to /share/edc/home/antonis/datasets/huggingface/tuluv2_1024/tuluv2_ds_588.jsonl.gz\n",
      "Saved file 589 to /share/edc/home/antonis/datasets/huggingface/tuluv2_1024/tuluv2_ds_589.jsonl.gz\n",
      "Saved file 590 to /share/edc/home/antonis/datasets/huggingface/tuluv2_1024/tuluv2_ds_590.jsonl.gz\n",
      "Saved file 591 to /share/edc/home/antonis/datasets/huggingface/tuluv2_1024/tuluv2_ds_591.jsonl.gz\n",
      "Saved file 592 to /share/edc/home/antonis/datasets/huggingface/tuluv2_1024/tuluv2_ds_592.jsonl.gz\n",
      "Saved file 593 to /share/edc/home/antonis/datasets/huggingface/tuluv2_1024/tuluv2_ds_593.jsonl.gz\n",
      "Saved file 594 to /share/edc/home/antonis/datasets/huggingface/tuluv2_1024/tuluv2_ds_594.jsonl.gz\n",
      "Saved file 595 to /share/edc/home/antonis/datasets/huggingface/tuluv2_1024/tuluv2_ds_595.jsonl.gz\n",
      "Saved file 596 to /share/edc/home/antonis/datasets/huggingface/tuluv2_1024/tuluv2_ds_596.jsonl.gz\n",
      "Saved file 597 to /share/edc/home/antonis/datasets/huggingface/tuluv2_1024/tuluv2_ds_597.jsonl.gz\n",
      "Saved file 598 to /share/edc/home/antonis/datasets/huggingface/tuluv2_1024/tuluv2_ds_598.jsonl.gz\n",
      "Saved file 599 to /share/edc/home/antonis/datasets/huggingface/tuluv2_1024/tuluv2_ds_599.jsonl.gz\n",
      "Saved file 600 to /share/edc/home/antonis/datasets/huggingface/tuluv2_1024/tuluv2_ds_600.jsonl.gz\n",
      "Saved file 601 to /share/edc/home/antonis/datasets/huggingface/tuluv2_1024/tuluv2_ds_601.jsonl.gz\n",
      "Saved file 602 to /share/edc/home/antonis/datasets/huggingface/tuluv2_1024/tuluv2_ds_602.jsonl.gz\n",
      "Saved file 603 to /share/edc/home/antonis/datasets/huggingface/tuluv2_1024/tuluv2_ds_603.jsonl.gz\n",
      "Saved file 604 to /share/edc/home/antonis/datasets/huggingface/tuluv2_1024/tuluv2_ds_604.jsonl.gz\n",
      "Saved file 605 to /share/edc/home/antonis/datasets/huggingface/tuluv2_1024/tuluv2_ds_605.jsonl.gz\n",
      "Saved file 606 to /share/edc/home/antonis/datasets/huggingface/tuluv2_1024/tuluv2_ds_606.jsonl.gz\n",
      "Saved file 607 to /share/edc/home/antonis/datasets/huggingface/tuluv2_1024/tuluv2_ds_607.jsonl.gz\n",
      "Saved file 608 to /share/edc/home/antonis/datasets/huggingface/tuluv2_1024/tuluv2_ds_608.jsonl.gz\n",
      "Saved file 609 to /share/edc/home/antonis/datasets/huggingface/tuluv2_1024/tuluv2_ds_609.jsonl.gz\n",
      "Saved file 610 to /share/edc/home/antonis/datasets/huggingface/tuluv2_1024/tuluv2_ds_610.jsonl.gz\n",
      "Saved file 611 to /share/edc/home/antonis/datasets/huggingface/tuluv2_1024/tuluv2_ds_611.jsonl.gz\n",
      "Saved file 612 to /share/edc/home/antonis/datasets/huggingface/tuluv2_1024/tuluv2_ds_612.jsonl.gz\n",
      "Saved file 613 to /share/edc/home/antonis/datasets/huggingface/tuluv2_1024/tuluv2_ds_613.jsonl.gz\n",
      "Saved file 614 to /share/edc/home/antonis/datasets/huggingface/tuluv2_1024/tuluv2_ds_614.jsonl.gz\n",
      "Saved file 615 to /share/edc/home/antonis/datasets/huggingface/tuluv2_1024/tuluv2_ds_615.jsonl.gz\n",
      "Saved file 616 to /share/edc/home/antonis/datasets/huggingface/tuluv2_1024/tuluv2_ds_616.jsonl.gz\n",
      "Saved file 617 to /share/edc/home/antonis/datasets/huggingface/tuluv2_1024/tuluv2_ds_617.jsonl.gz\n",
      "Saved file 618 to /share/edc/home/antonis/datasets/huggingface/tuluv2_1024/tuluv2_ds_618.jsonl.gz\n",
      "Saved file 619 to /share/edc/home/antonis/datasets/huggingface/tuluv2_1024/tuluv2_ds_619.jsonl.gz\n",
      "Saved file 620 to /share/edc/home/antonis/datasets/huggingface/tuluv2_1024/tuluv2_ds_620.jsonl.gz\n",
      "Saved file 621 to /share/edc/home/antonis/datasets/huggingface/tuluv2_1024/tuluv2_ds_621.jsonl.gz\n",
      "Saved file 622 to /share/edc/home/antonis/datasets/huggingface/tuluv2_1024/tuluv2_ds_622.jsonl.gz\n",
      "Saved file 623 to /share/edc/home/antonis/datasets/huggingface/tuluv2_1024/tuluv2_ds_623.jsonl.gz\n",
      "Saved file 624 to /share/edc/home/antonis/datasets/huggingface/tuluv2_1024/tuluv2_ds_624.jsonl.gz\n",
      "Saved file 625 to /share/edc/home/antonis/datasets/huggingface/tuluv2_1024/tuluv2_ds_625.jsonl.gz\n",
      "Saved file 626 to /share/edc/home/antonis/datasets/huggingface/tuluv2_1024/tuluv2_ds_626.jsonl.gz\n",
      "Saved file 627 to /share/edc/home/antonis/datasets/huggingface/tuluv2_1024/tuluv2_ds_627.jsonl.gz\n",
      "Saved file 628 to /share/edc/home/antonis/datasets/huggingface/tuluv2_1024/tuluv2_ds_628.jsonl.gz\n",
      "Saved file 629 to /share/edc/home/antonis/datasets/huggingface/tuluv2_1024/tuluv2_ds_629.jsonl.gz\n",
      "Saved file 630 to /share/edc/home/antonis/datasets/huggingface/tuluv2_1024/tuluv2_ds_630.jsonl.gz\n",
      "Saved file 631 to /share/edc/home/antonis/datasets/huggingface/tuluv2_1024/tuluv2_ds_631.jsonl.gz\n",
      "Saved file 632 to /share/edc/home/antonis/datasets/huggingface/tuluv2_1024/tuluv2_ds_632.jsonl.gz\n",
      "Saved file 633 to /share/edc/home/antonis/datasets/huggingface/tuluv2_1024/tuluv2_ds_633.jsonl.gz\n",
      "Saved file 634 to /share/edc/home/antonis/datasets/huggingface/tuluv2_1024/tuluv2_ds_634.jsonl.gz\n",
      "Saved file 635 to /share/edc/home/antonis/datasets/huggingface/tuluv2_1024/tuluv2_ds_635.jsonl.gz\n",
      "Saved file 636 to /share/edc/home/antonis/datasets/huggingface/tuluv2_1024/tuluv2_ds_636.jsonl.gz\n",
      "Saved file 637 to /share/edc/home/antonis/datasets/huggingface/tuluv2_1024/tuluv2_ds_637.jsonl.gz\n",
      "Saved file 638 to /share/edc/home/antonis/datasets/huggingface/tuluv2_1024/tuluv2_ds_638.jsonl.gz\n",
      "Saved file 639 to /share/edc/home/antonis/datasets/huggingface/tuluv2_1024/tuluv2_ds_639.jsonl.gz\n",
      "Saved file 640 to /share/edc/home/antonis/datasets/huggingface/tuluv2_1024/tuluv2_ds_640.jsonl.gz\n",
      "Saved file 641 to /share/edc/home/antonis/datasets/huggingface/tuluv2_1024/tuluv2_ds_641.jsonl.gz\n",
      "Saved file 642 to /share/edc/home/antonis/datasets/huggingface/tuluv2_1024/tuluv2_ds_642.jsonl.gz\n",
      "Saved file 643 to /share/edc/home/antonis/datasets/huggingface/tuluv2_1024/tuluv2_ds_643.jsonl.gz\n",
      "Saved file 644 to /share/edc/home/antonis/datasets/huggingface/tuluv2_1024/tuluv2_ds_644.jsonl.gz\n",
      "Saved file 645 to /share/edc/home/antonis/datasets/huggingface/tuluv2_1024/tuluv2_ds_645.jsonl.gz\n",
      "Saved file 646 to /share/edc/home/antonis/datasets/huggingface/tuluv2_1024/tuluv2_ds_646.jsonl.gz\n",
      "Saved file 647 to /share/edc/home/antonis/datasets/huggingface/tuluv2_1024/tuluv2_ds_647.jsonl.gz\n",
      "Saved file 648 to /share/edc/home/antonis/datasets/huggingface/tuluv2_1024/tuluv2_ds_648.jsonl.gz\n",
      "Saved file 649 to /share/edc/home/antonis/datasets/huggingface/tuluv2_1024/tuluv2_ds_649.jsonl.gz\n",
      "Saved file 650 to /share/edc/home/antonis/datasets/huggingface/tuluv2_1024/tuluv2_ds_650.jsonl.gz\n",
      "Saved file 651 to /share/edc/home/antonis/datasets/huggingface/tuluv2_1024/tuluv2_ds_651.jsonl.gz\n",
      "Saved file 652 to /share/edc/home/antonis/datasets/huggingface/tuluv2_1024/tuluv2_ds_652.jsonl.gz\n",
      "Saved file 653 to /share/edc/home/antonis/datasets/huggingface/tuluv2_1024/tuluv2_ds_653.jsonl.gz\n",
      "Saved file 654 to /share/edc/home/antonis/datasets/huggingface/tuluv2_1024/tuluv2_ds_654.jsonl.gz\n",
      "Saved file 655 to /share/edc/home/antonis/datasets/huggingface/tuluv2_1024/tuluv2_ds_655.jsonl.gz\n",
      "Saved file 656 to /share/edc/home/antonis/datasets/huggingface/tuluv2_1024/tuluv2_ds_656.jsonl.gz\n",
      "Saved file 657 to /share/edc/home/antonis/datasets/huggingface/tuluv2_1024/tuluv2_ds_657.jsonl.gz\n",
      "Saved file 658 to /share/edc/home/antonis/datasets/huggingface/tuluv2_1024/tuluv2_ds_658.jsonl.gz\n",
      "Saved file 659 to /share/edc/home/antonis/datasets/huggingface/tuluv2_1024/tuluv2_ds_659.jsonl.gz\n",
      "Saved file 660 to /share/edc/home/antonis/datasets/huggingface/tuluv2_1024/tuluv2_ds_660.jsonl.gz\n",
      "Saved file 661 to /share/edc/home/antonis/datasets/huggingface/tuluv2_1024/tuluv2_ds_661.jsonl.gz\n",
      "Saved file 662 to /share/edc/home/antonis/datasets/huggingface/tuluv2_1024/tuluv2_ds_662.jsonl.gz\n",
      "Saved file 663 to /share/edc/home/antonis/datasets/huggingface/tuluv2_1024/tuluv2_ds_663.jsonl.gz\n",
      "Saved file 664 to /share/edc/home/antonis/datasets/huggingface/tuluv2_1024/tuluv2_ds_664.jsonl.gz\n",
      "Saved file 665 to /share/edc/home/antonis/datasets/huggingface/tuluv2_1024/tuluv2_ds_665.jsonl.gz\n",
      "Saved file 666 to /share/edc/home/antonis/datasets/huggingface/tuluv2_1024/tuluv2_ds_666.jsonl.gz\n",
      "Saved file 667 to /share/edc/home/antonis/datasets/huggingface/tuluv2_1024/tuluv2_ds_667.jsonl.gz\n",
      "Saved file 668 to /share/edc/home/antonis/datasets/huggingface/tuluv2_1024/tuluv2_ds_668.jsonl.gz\n",
      "Saved file 669 to /share/edc/home/antonis/datasets/huggingface/tuluv2_1024/tuluv2_ds_669.jsonl.gz\n",
      "Saved file 670 to /share/edc/home/antonis/datasets/huggingface/tuluv2_1024/tuluv2_ds_670.jsonl.gz\n",
      "Saved file 671 to /share/edc/home/antonis/datasets/huggingface/tuluv2_1024/tuluv2_ds_671.jsonl.gz\n",
      "Saved file 672 to /share/edc/home/antonis/datasets/huggingface/tuluv2_1024/tuluv2_ds_672.jsonl.gz\n",
      "Saved file 673 to /share/edc/home/antonis/datasets/huggingface/tuluv2_1024/tuluv2_ds_673.jsonl.gz\n",
      "Saved file 674 to /share/edc/home/antonis/datasets/huggingface/tuluv2_1024/tuluv2_ds_674.jsonl.gz\n",
      "Saved file 675 to /share/edc/home/antonis/datasets/huggingface/tuluv2_1024/tuluv2_ds_675.jsonl.gz\n",
      "Saved file 676 to /share/edc/home/antonis/datasets/huggingface/tuluv2_1024/tuluv2_ds_676.jsonl.gz\n",
      "Saved file 677 to /share/edc/home/antonis/datasets/huggingface/tuluv2_1024/tuluv2_ds_677.jsonl.gz\n",
      "Saved file 678 to /share/edc/home/antonis/datasets/huggingface/tuluv2_1024/tuluv2_ds_678.jsonl.gz\n",
      "Saved file 679 to /share/edc/home/antonis/datasets/huggingface/tuluv2_1024/tuluv2_ds_679.jsonl.gz\n",
      "Saved file 680 to /share/edc/home/antonis/datasets/huggingface/tuluv2_1024/tuluv2_ds_680.jsonl.gz\n",
      "Saved file 681 to /share/edc/home/antonis/datasets/huggingface/tuluv2_1024/tuluv2_ds_681.jsonl.gz\n",
      "Saved file 682 to /share/edc/home/antonis/datasets/huggingface/tuluv2_1024/tuluv2_ds_682.jsonl.gz\n",
      "Saved file 683 to /share/edc/home/antonis/datasets/huggingface/tuluv2_1024/tuluv2_ds_683.jsonl.gz\n",
      "Saved file 684 to /share/edc/home/antonis/datasets/huggingface/tuluv2_1024/tuluv2_ds_684.jsonl.gz\n",
      "Saved file 685 to /share/edc/home/antonis/datasets/huggingface/tuluv2_1024/tuluv2_ds_685.jsonl.gz\n",
      "Saved file 686 to /share/edc/home/antonis/datasets/huggingface/tuluv2_1024/tuluv2_ds_686.jsonl.gz\n",
      "Saved file 687 to /share/edc/home/antonis/datasets/huggingface/tuluv2_1024/tuluv2_ds_687.jsonl.gz\n",
      "Saved file 688 to /share/edc/home/antonis/datasets/huggingface/tuluv2_1024/tuluv2_ds_688.jsonl.gz\n",
      "Saved file 689 to /share/edc/home/antonis/datasets/huggingface/tuluv2_1024/tuluv2_ds_689.jsonl.gz\n",
      "Saved file 690 to /share/edc/home/antonis/datasets/huggingface/tuluv2_1024/tuluv2_ds_690.jsonl.gz\n",
      "Saved file 691 to /share/edc/home/antonis/datasets/huggingface/tuluv2_1024/tuluv2_ds_691.jsonl.gz\n",
      "Saved file 692 to /share/edc/home/antonis/datasets/huggingface/tuluv2_1024/tuluv2_ds_692.jsonl.gz\n",
      "Saved file 693 to /share/edc/home/antonis/datasets/huggingface/tuluv2_1024/tuluv2_ds_693.jsonl.gz\n",
      "Saved file 694 to /share/edc/home/antonis/datasets/huggingface/tuluv2_1024/tuluv2_ds_694.jsonl.gz\n",
      "Saved file 695 to /share/edc/home/antonis/datasets/huggingface/tuluv2_1024/tuluv2_ds_695.jsonl.gz\n",
      "Saved file 696 to /share/edc/home/antonis/datasets/huggingface/tuluv2_1024/tuluv2_ds_696.jsonl.gz\n",
      "Saved file 697 to /share/edc/home/antonis/datasets/huggingface/tuluv2_1024/tuluv2_ds_697.jsonl.gz\n",
      "Saved file 698 to /share/edc/home/antonis/datasets/huggingface/tuluv2_1024/tuluv2_ds_698.jsonl.gz\n",
      "Saved file 699 to /share/edc/home/antonis/datasets/huggingface/tuluv2_1024/tuluv2_ds_699.jsonl.gz\n",
      "Saved file 700 to /share/edc/home/antonis/datasets/huggingface/tuluv2_1024/tuluv2_ds_700.jsonl.gz\n",
      "Saved file 701 to /share/edc/home/antonis/datasets/huggingface/tuluv2_1024/tuluv2_ds_701.jsonl.gz\n",
      "Saved file 702 to /share/edc/home/antonis/datasets/huggingface/tuluv2_1024/tuluv2_ds_702.jsonl.gz\n",
      "Saved file 703 to /share/edc/home/antonis/datasets/huggingface/tuluv2_1024/tuluv2_ds_703.jsonl.gz\n",
      "Saved file 704 to /share/edc/home/antonis/datasets/huggingface/tuluv2_1024/tuluv2_ds_704.jsonl.gz\n",
      "Saved file 705 to /share/edc/home/antonis/datasets/huggingface/tuluv2_1024/tuluv2_ds_705.jsonl.gz\n",
      "Saved file 706 to /share/edc/home/antonis/datasets/huggingface/tuluv2_1024/tuluv2_ds_706.jsonl.gz\n",
      "Saved file 707 to /share/edc/home/antonis/datasets/huggingface/tuluv2_1024/tuluv2_ds_707.jsonl.gz\n",
      "Saved file 708 to /share/edc/home/antonis/datasets/huggingface/tuluv2_1024/tuluv2_ds_708.jsonl.gz\n",
      "Saved file 709 to /share/edc/home/antonis/datasets/huggingface/tuluv2_1024/tuluv2_ds_709.jsonl.gz\n",
      "Saved file 710 to /share/edc/home/antonis/datasets/huggingface/tuluv2_1024/tuluv2_ds_710.jsonl.gz\n",
      "Saved file 711 to /share/edc/home/antonis/datasets/huggingface/tuluv2_1024/tuluv2_ds_711.jsonl.gz\n",
      "Saved file 712 to /share/edc/home/antonis/datasets/huggingface/tuluv2_1024/tuluv2_ds_712.jsonl.gz\n",
      "Saved file 713 to /share/edc/home/antonis/datasets/huggingface/tuluv2_1024/tuluv2_ds_713.jsonl.gz\n",
      "Saved file 714 to /share/edc/home/antonis/datasets/huggingface/tuluv2_1024/tuluv2_ds_714.jsonl.gz\n",
      "Saved file 715 to /share/edc/home/antonis/datasets/huggingface/tuluv2_1024/tuluv2_ds_715.jsonl.gz\n",
      "Saved file 716 to /share/edc/home/antonis/datasets/huggingface/tuluv2_1024/tuluv2_ds_716.jsonl.gz\n",
      "Saved file 717 to /share/edc/home/antonis/datasets/huggingface/tuluv2_1024/tuluv2_ds_717.jsonl.gz\n",
      "Saved file 718 to /share/edc/home/antonis/datasets/huggingface/tuluv2_1024/tuluv2_ds_718.jsonl.gz\n",
      "Saved file 719 to /share/edc/home/antonis/datasets/huggingface/tuluv2_1024/tuluv2_ds_719.jsonl.gz\n",
      "Saved file 720 to /share/edc/home/antonis/datasets/huggingface/tuluv2_1024/tuluv2_ds_720.jsonl.gz\n",
      "Saved file 721 to /share/edc/home/antonis/datasets/huggingface/tuluv2_1024/tuluv2_ds_721.jsonl.gz\n",
      "Saved file 722 to /share/edc/home/antonis/datasets/huggingface/tuluv2_1024/tuluv2_ds_722.jsonl.gz\n",
      "Saved file 723 to /share/edc/home/antonis/datasets/huggingface/tuluv2_1024/tuluv2_ds_723.jsonl.gz\n",
      "Saved file 724 to /share/edc/home/antonis/datasets/huggingface/tuluv2_1024/tuluv2_ds_724.jsonl.gz\n",
      "Saved file 725 to /share/edc/home/antonis/datasets/huggingface/tuluv2_1024/tuluv2_ds_725.jsonl.gz\n",
      "Saved file 726 to /share/edc/home/antonis/datasets/huggingface/tuluv2_1024/tuluv2_ds_726.jsonl.gz\n",
      "Saved file 727 to /share/edc/home/antonis/datasets/huggingface/tuluv2_1024/tuluv2_ds_727.jsonl.gz\n",
      "Saved file 728 to /share/edc/home/antonis/datasets/huggingface/tuluv2_1024/tuluv2_ds_728.jsonl.gz\n",
      "Saved file 729 to /share/edc/home/antonis/datasets/huggingface/tuluv2_1024/tuluv2_ds_729.jsonl.gz\n",
      "Saved file 730 to /share/edc/home/antonis/datasets/huggingface/tuluv2_1024/tuluv2_ds_730.jsonl.gz\n",
      "Saved file 731 to /share/edc/home/antonis/datasets/huggingface/tuluv2_1024/tuluv2_ds_731.jsonl.gz\n",
      "Saved file 732 to /share/edc/home/antonis/datasets/huggingface/tuluv2_1024/tuluv2_ds_732.jsonl.gz\n",
      "Saved file 733 to /share/edc/home/antonis/datasets/huggingface/tuluv2_1024/tuluv2_ds_733.jsonl.gz\n",
      "Saved file 734 to /share/edc/home/antonis/datasets/huggingface/tuluv2_1024/tuluv2_ds_734.jsonl.gz\n",
      "Saved file 735 to /share/edc/home/antonis/datasets/huggingface/tuluv2_1024/tuluv2_ds_735.jsonl.gz\n",
      "Saved file 736 to /share/edc/home/antonis/datasets/huggingface/tuluv2_1024/tuluv2_ds_736.jsonl.gz\n",
      "Saved file 737 to /share/edc/home/antonis/datasets/huggingface/tuluv2_1024/tuluv2_ds_737.jsonl.gz\n",
      "Saved file 738 to /share/edc/home/antonis/datasets/huggingface/tuluv2_1024/tuluv2_ds_738.jsonl.gz\n",
      "Saved file 739 to /share/edc/home/antonis/datasets/huggingface/tuluv2_1024/tuluv2_ds_739.jsonl.gz\n",
      "Saved file 740 to /share/edc/home/antonis/datasets/huggingface/tuluv2_1024/tuluv2_ds_740.jsonl.gz\n",
      "Saved file 741 to /share/edc/home/antonis/datasets/huggingface/tuluv2_1024/tuluv2_ds_741.jsonl.gz\n",
      "Saved file 742 to /share/edc/home/antonis/datasets/huggingface/tuluv2_1024/tuluv2_ds_742.jsonl.gz\n",
      "Saved file 743 to /share/edc/home/antonis/datasets/huggingface/tuluv2_1024/tuluv2_ds_743.jsonl.gz\n",
      "Saved file 744 to /share/edc/home/antonis/datasets/huggingface/tuluv2_1024/tuluv2_ds_744.jsonl.gz\n",
      "Saved file 745 to /share/edc/home/antonis/datasets/huggingface/tuluv2_1024/tuluv2_ds_745.jsonl.gz\n",
      "Saved file 746 to /share/edc/home/antonis/datasets/huggingface/tuluv2_1024/tuluv2_ds_746.jsonl.gz\n",
      "Saved file 747 to /share/edc/home/antonis/datasets/huggingface/tuluv2_1024/tuluv2_ds_747.jsonl.gz\n",
      "Saved file 748 to /share/edc/home/antonis/datasets/huggingface/tuluv2_1024/tuluv2_ds_748.jsonl.gz\n",
      "Saved file 749 to /share/edc/home/antonis/datasets/huggingface/tuluv2_1024/tuluv2_ds_749.jsonl.gz\n",
      "Saved file 750 to /share/edc/home/antonis/datasets/huggingface/tuluv2_1024/tuluv2_ds_750.jsonl.gz\n",
      "Saved file 751 to /share/edc/home/antonis/datasets/huggingface/tuluv2_1024/tuluv2_ds_751.jsonl.gz\n",
      "Saved file 752 to /share/edc/home/antonis/datasets/huggingface/tuluv2_1024/tuluv2_ds_752.jsonl.gz\n",
      "Saved file 753 to /share/edc/home/antonis/datasets/huggingface/tuluv2_1024/tuluv2_ds_753.jsonl.gz\n",
      "Saved file 754 to /share/edc/home/antonis/datasets/huggingface/tuluv2_1024/tuluv2_ds_754.jsonl.gz\n",
      "Saved file 755 to /share/edc/home/antonis/datasets/huggingface/tuluv2_1024/tuluv2_ds_755.jsonl.gz\n",
      "Saved file 756 to /share/edc/home/antonis/datasets/huggingface/tuluv2_1024/tuluv2_ds_756.jsonl.gz\n",
      "Saved file 757 to /share/edc/home/antonis/datasets/huggingface/tuluv2_1024/tuluv2_ds_757.jsonl.gz\n",
      "Saved file 758 to /share/edc/home/antonis/datasets/huggingface/tuluv2_1024/tuluv2_ds_758.jsonl.gz\n",
      "Saved file 759 to /share/edc/home/antonis/datasets/huggingface/tuluv2_1024/tuluv2_ds_759.jsonl.gz\n",
      "Saved file 760 to /share/edc/home/antonis/datasets/huggingface/tuluv2_1024/tuluv2_ds_760.jsonl.gz\n",
      "Saved file 761 to /share/edc/home/antonis/datasets/huggingface/tuluv2_1024/tuluv2_ds_761.jsonl.gz\n",
      "Saved file 762 to /share/edc/home/antonis/datasets/huggingface/tuluv2_1024/tuluv2_ds_762.jsonl.gz\n",
      "Saved file 763 to /share/edc/home/antonis/datasets/huggingface/tuluv2_1024/tuluv2_ds_763.jsonl.gz\n",
      "Saved file 764 to /share/edc/home/antonis/datasets/huggingface/tuluv2_1024/tuluv2_ds_764.jsonl.gz\n",
      "Saved file 765 to /share/edc/home/antonis/datasets/huggingface/tuluv2_1024/tuluv2_ds_765.jsonl.gz\n",
      "Saved file 766 to /share/edc/home/antonis/datasets/huggingface/tuluv2_1024/tuluv2_ds_766.jsonl.gz\n",
      "Saved file 767 to /share/edc/home/antonis/datasets/huggingface/tuluv2_1024/tuluv2_ds_767.jsonl.gz\n",
      "Saved file 768 to /share/edc/home/antonis/datasets/huggingface/tuluv2_1024/tuluv2_ds_768.jsonl.gz\n",
      "Saved file 769 to /share/edc/home/antonis/datasets/huggingface/tuluv2_1024/tuluv2_ds_769.jsonl.gz\n",
      "Saved file 770 to /share/edc/home/antonis/datasets/huggingface/tuluv2_1024/tuluv2_ds_770.jsonl.gz\n",
      "Saved file 771 to /share/edc/home/antonis/datasets/huggingface/tuluv2_1024/tuluv2_ds_771.jsonl.gz\n",
      "Saved file 772 to /share/edc/home/antonis/datasets/huggingface/tuluv2_1024/tuluv2_ds_772.jsonl.gz\n",
      "Saved file 773 to /share/edc/home/antonis/datasets/huggingface/tuluv2_1024/tuluv2_ds_773.jsonl.gz\n",
      "Saved file 774 to /share/edc/home/antonis/datasets/huggingface/tuluv2_1024/tuluv2_ds_774.jsonl.gz\n",
      "Saved file 775 to /share/edc/home/antonis/datasets/huggingface/tuluv2_1024/tuluv2_ds_775.jsonl.gz\n",
      "Saved file 776 to /share/edc/home/antonis/datasets/huggingface/tuluv2_1024/tuluv2_ds_776.jsonl.gz\n",
      "Saved file 777 to /share/edc/home/antonis/datasets/huggingface/tuluv2_1024/tuluv2_ds_777.jsonl.gz\n",
      "Saved file 778 to /share/edc/home/antonis/datasets/huggingface/tuluv2_1024/tuluv2_ds_778.jsonl.gz\n",
      "Saved file 779 to /share/edc/home/antonis/datasets/huggingface/tuluv2_1024/tuluv2_ds_779.jsonl.gz\n",
      "Saved file 780 to /share/edc/home/antonis/datasets/huggingface/tuluv2_1024/tuluv2_ds_780.jsonl.gz\n",
      "Saved file 781 to /share/edc/home/antonis/datasets/huggingface/tuluv2_1024/tuluv2_ds_781.jsonl.gz\n",
      "Saved file 782 to /share/edc/home/antonis/datasets/huggingface/tuluv2_1024/tuluv2_ds_782.jsonl.gz\n",
      "Saved file 783 to /share/edc/home/antonis/datasets/huggingface/tuluv2_1024/tuluv2_ds_783.jsonl.gz\n",
      "Saved file 784 to /share/edc/home/antonis/datasets/huggingface/tuluv2_1024/tuluv2_ds_784.jsonl.gz\n",
      "Saved file 785 to /share/edc/home/antonis/datasets/huggingface/tuluv2_1024/tuluv2_ds_785.jsonl.gz\n",
      "Saved file 786 to /share/edc/home/antonis/datasets/huggingface/tuluv2_1024/tuluv2_ds_786.jsonl.gz\n",
      "Saved file 787 to /share/edc/home/antonis/datasets/huggingface/tuluv2_1024/tuluv2_ds_787.jsonl.gz\n",
      "Saved file 788 to /share/edc/home/antonis/datasets/huggingface/tuluv2_1024/tuluv2_ds_788.jsonl.gz\n",
      "Saved file 789 to /share/edc/home/antonis/datasets/huggingface/tuluv2_1024/tuluv2_ds_789.jsonl.gz\n",
      "Saved file 790 to /share/edc/home/antonis/datasets/huggingface/tuluv2_1024/tuluv2_ds_790.jsonl.gz\n",
      "Saved file 791 to /share/edc/home/antonis/datasets/huggingface/tuluv2_1024/tuluv2_ds_791.jsonl.gz\n",
      "Saved file 792 to /share/edc/home/antonis/datasets/huggingface/tuluv2_1024/tuluv2_ds_792.jsonl.gz\n",
      "Saved file 793 to /share/edc/home/antonis/datasets/huggingface/tuluv2_1024/tuluv2_ds_793.jsonl.gz\n",
      "Saved file 794 to /share/edc/home/antonis/datasets/huggingface/tuluv2_1024/tuluv2_ds_794.jsonl.gz\n",
      "Saved file 795 to /share/edc/home/antonis/datasets/huggingface/tuluv2_1024/tuluv2_ds_795.jsonl.gz\n",
      "Saved file 796 to /share/edc/home/antonis/datasets/huggingface/tuluv2_1024/tuluv2_ds_796.jsonl.gz\n",
      "Saved file 797 to /share/edc/home/antonis/datasets/huggingface/tuluv2_1024/tuluv2_ds_797.jsonl.gz\n",
      "Saved file 798 to /share/edc/home/antonis/datasets/huggingface/tuluv2_1024/tuluv2_ds_798.jsonl.gz\n",
      "Saved file 799 to /share/edc/home/antonis/datasets/huggingface/tuluv2_1024/tuluv2_ds_799.jsonl.gz\n",
      "Saved file 800 to /share/edc/home/antonis/datasets/huggingface/tuluv2_1024/tuluv2_ds_800.jsonl.gz\n",
      "Saved file 801 to /share/edc/home/antonis/datasets/huggingface/tuluv2_1024/tuluv2_ds_801.jsonl.gz\n",
      "Saved file 802 to /share/edc/home/antonis/datasets/huggingface/tuluv2_1024/tuluv2_ds_802.jsonl.gz\n",
      "Saved file 803 to /share/edc/home/antonis/datasets/huggingface/tuluv2_1024/tuluv2_ds_803.jsonl.gz\n",
      "Saved file 804 to /share/edc/home/antonis/datasets/huggingface/tuluv2_1024/tuluv2_ds_804.jsonl.gz\n",
      "Saved file 805 to /share/edc/home/antonis/datasets/huggingface/tuluv2_1024/tuluv2_ds_805.jsonl.gz\n",
      "Saved file 806 to /share/edc/home/antonis/datasets/huggingface/tuluv2_1024/tuluv2_ds_806.jsonl.gz\n",
      "Saved file 807 to /share/edc/home/antonis/datasets/huggingface/tuluv2_1024/tuluv2_ds_807.jsonl.gz\n",
      "Saved file 808 to /share/edc/home/antonis/datasets/huggingface/tuluv2_1024/tuluv2_ds_808.jsonl.gz\n",
      "Saved file 809 to /share/edc/home/antonis/datasets/huggingface/tuluv2_1024/tuluv2_ds_809.jsonl.gz\n",
      "Saved file 810 to /share/edc/home/antonis/datasets/huggingface/tuluv2_1024/tuluv2_ds_810.jsonl.gz\n",
      "Saved file 811 to /share/edc/home/antonis/datasets/huggingface/tuluv2_1024/tuluv2_ds_811.jsonl.gz\n",
      "Saved file 812 to /share/edc/home/antonis/datasets/huggingface/tuluv2_1024/tuluv2_ds_812.jsonl.gz\n",
      "Saved file 813 to /share/edc/home/antonis/datasets/huggingface/tuluv2_1024/tuluv2_ds_813.jsonl.gz\n",
      "Saved file 814 to /share/edc/home/antonis/datasets/huggingface/tuluv2_1024/tuluv2_ds_814.jsonl.gz\n",
      "Saved file 815 to /share/edc/home/antonis/datasets/huggingface/tuluv2_1024/tuluv2_ds_815.jsonl.gz\n",
      "Saved file 816 to /share/edc/home/antonis/datasets/huggingface/tuluv2_1024/tuluv2_ds_816.jsonl.gz\n",
      "Saved file 817 to /share/edc/home/antonis/datasets/huggingface/tuluv2_1024/tuluv2_ds_817.jsonl.gz\n",
      "Saved file 818 to /share/edc/home/antonis/datasets/huggingface/tuluv2_1024/tuluv2_ds_818.jsonl.gz\n",
      "Saved file 819 to /share/edc/home/antonis/datasets/huggingface/tuluv2_1024/tuluv2_ds_819.jsonl.gz\n",
      "Saved file 820 to /share/edc/home/antonis/datasets/huggingface/tuluv2_1024/tuluv2_ds_820.jsonl.gz\n",
      "Saved file 821 to /share/edc/home/antonis/datasets/huggingface/tuluv2_1024/tuluv2_ds_821.jsonl.gz\n",
      "Saved file 822 to /share/edc/home/antonis/datasets/huggingface/tuluv2_1024/tuluv2_ds_822.jsonl.gz\n",
      "Saved file 823 to /share/edc/home/antonis/datasets/huggingface/tuluv2_1024/tuluv2_ds_823.jsonl.gz\n",
      "Saved file 824 to /share/edc/home/antonis/datasets/huggingface/tuluv2_1024/tuluv2_ds_824.jsonl.gz\n",
      "Saved file 825 to /share/edc/home/antonis/datasets/huggingface/tuluv2_1024/tuluv2_ds_825.jsonl.gz\n",
      "Saved file 826 to /share/edc/home/antonis/datasets/huggingface/tuluv2_1024/tuluv2_ds_826.jsonl.gz\n",
      "Saved file 827 to /share/edc/home/antonis/datasets/huggingface/tuluv2_1024/tuluv2_ds_827.jsonl.gz\n",
      "Saved file 828 to /share/edc/home/antonis/datasets/huggingface/tuluv2_1024/tuluv2_ds_828.jsonl.gz\n",
      "Saved file 829 to /share/edc/home/antonis/datasets/huggingface/tuluv2_1024/tuluv2_ds_829.jsonl.gz\n",
      "Saved file 830 to /share/edc/home/antonis/datasets/huggingface/tuluv2_1024/tuluv2_ds_830.jsonl.gz\n",
      "Saved file 831 to /share/edc/home/antonis/datasets/huggingface/tuluv2_1024/tuluv2_ds_831.jsonl.gz\n",
      "Saved file 832 to /share/edc/home/antonis/datasets/huggingface/tuluv2_1024/tuluv2_ds_832.jsonl.gz\n",
      "Saved file 833 to /share/edc/home/antonis/datasets/huggingface/tuluv2_1024/tuluv2_ds_833.jsonl.gz\n",
      "Saved file 834 to /share/edc/home/antonis/datasets/huggingface/tuluv2_1024/tuluv2_ds_834.jsonl.gz\n",
      "Saved file 835 to /share/edc/home/antonis/datasets/huggingface/tuluv2_1024/tuluv2_ds_835.jsonl.gz\n",
      "Saved file 836 to /share/edc/home/antonis/datasets/huggingface/tuluv2_1024/tuluv2_ds_836.jsonl.gz\n",
      "Saved file 837 to /share/edc/home/antonis/datasets/huggingface/tuluv2_1024/tuluv2_ds_837.jsonl.gz\n",
      "Saved file 838 to /share/edc/home/antonis/datasets/huggingface/tuluv2_1024/tuluv2_ds_838.jsonl.gz\n",
      "Saved file 839 to /share/edc/home/antonis/datasets/huggingface/tuluv2_1024/tuluv2_ds_839.jsonl.gz\n",
      "Saved file 840 to /share/edc/home/antonis/datasets/huggingface/tuluv2_1024/tuluv2_ds_840.jsonl.gz\n",
      "Saved file 841 to /share/edc/home/antonis/datasets/huggingface/tuluv2_1024/tuluv2_ds_841.jsonl.gz\n",
      "Saved file 842 to /share/edc/home/antonis/datasets/huggingface/tuluv2_1024/tuluv2_ds_842.jsonl.gz\n",
      "Saved file 843 to /share/edc/home/antonis/datasets/huggingface/tuluv2_1024/tuluv2_ds_843.jsonl.gz\n",
      "Saved file 844 to /share/edc/home/antonis/datasets/huggingface/tuluv2_1024/tuluv2_ds_844.jsonl.gz\n",
      "Saved file 845 to /share/edc/home/antonis/datasets/huggingface/tuluv2_1024/tuluv2_ds_845.jsonl.gz\n",
      "Saved file 846 to /share/edc/home/antonis/datasets/huggingface/tuluv2_1024/tuluv2_ds_846.jsonl.gz\n",
      "Saved file 847 to /share/edc/home/antonis/datasets/huggingface/tuluv2_1024/tuluv2_ds_847.jsonl.gz\n",
      "Saved file 848 to /share/edc/home/antonis/datasets/huggingface/tuluv2_1024/tuluv2_ds_848.jsonl.gz\n",
      "Saved file 849 to /share/edc/home/antonis/datasets/huggingface/tuluv2_1024/tuluv2_ds_849.jsonl.gz\n",
      "Saved file 850 to /share/edc/home/antonis/datasets/huggingface/tuluv2_1024/tuluv2_ds_850.jsonl.gz\n",
      "Saved file 851 to /share/edc/home/antonis/datasets/huggingface/tuluv2_1024/tuluv2_ds_851.jsonl.gz\n",
      "Saved file 852 to /share/edc/home/antonis/datasets/huggingface/tuluv2_1024/tuluv2_ds_852.jsonl.gz\n",
      "Saved file 853 to /share/edc/home/antonis/datasets/huggingface/tuluv2_1024/tuluv2_ds_853.jsonl.gz\n",
      "Saved file 854 to /share/edc/home/antonis/datasets/huggingface/tuluv2_1024/tuluv2_ds_854.jsonl.gz\n",
      "Saved file 855 to /share/edc/home/antonis/datasets/huggingface/tuluv2_1024/tuluv2_ds_855.jsonl.gz\n",
      "Saved file 856 to /share/edc/home/antonis/datasets/huggingface/tuluv2_1024/tuluv2_ds_856.jsonl.gz\n",
      "Saved file 857 to /share/edc/home/antonis/datasets/huggingface/tuluv2_1024/tuluv2_ds_857.jsonl.gz\n",
      "Saved file 858 to /share/edc/home/antonis/datasets/huggingface/tuluv2_1024/tuluv2_ds_858.jsonl.gz\n",
      "Saved file 859 to /share/edc/home/antonis/datasets/huggingface/tuluv2_1024/tuluv2_ds_859.jsonl.gz\n",
      "Saved file 860 to /share/edc/home/antonis/datasets/huggingface/tuluv2_1024/tuluv2_ds_860.jsonl.gz\n",
      "Saved file 861 to /share/edc/home/antonis/datasets/huggingface/tuluv2_1024/tuluv2_ds_861.jsonl.gz\n",
      "Saved file 862 to /share/edc/home/antonis/datasets/huggingface/tuluv2_1024/tuluv2_ds_862.jsonl.gz\n",
      "Saved file 863 to /share/edc/home/antonis/datasets/huggingface/tuluv2_1024/tuluv2_ds_863.jsonl.gz\n",
      "Saved file 864 to /share/edc/home/antonis/datasets/huggingface/tuluv2_1024/tuluv2_ds_864.jsonl.gz\n",
      "Saved file 865 to /share/edc/home/antonis/datasets/huggingface/tuluv2_1024/tuluv2_ds_865.jsonl.gz\n",
      "Saved file 866 to /share/edc/home/antonis/datasets/huggingface/tuluv2_1024/tuluv2_ds_866.jsonl.gz\n",
      "Saved file 867 to /share/edc/home/antonis/datasets/huggingface/tuluv2_1024/tuluv2_ds_867.jsonl.gz\n",
      "Saved file 868 to /share/edc/home/antonis/datasets/huggingface/tuluv2_1024/tuluv2_ds_868.jsonl.gz\n",
      "Saved file 869 to /share/edc/home/antonis/datasets/huggingface/tuluv2_1024/tuluv2_ds_869.jsonl.gz\n",
      "Saved file 870 to /share/edc/home/antonis/datasets/huggingface/tuluv2_1024/tuluv2_ds_870.jsonl.gz\n",
      "Saved file 871 to /share/edc/home/antonis/datasets/huggingface/tuluv2_1024/tuluv2_ds_871.jsonl.gz\n",
      "Saved file 872 to /share/edc/home/antonis/datasets/huggingface/tuluv2_1024/tuluv2_ds_872.jsonl.gz\n",
      "Saved file 873 to /share/edc/home/antonis/datasets/huggingface/tuluv2_1024/tuluv2_ds_873.jsonl.gz\n",
      "Saved file 874 to /share/edc/home/antonis/datasets/huggingface/tuluv2_1024/tuluv2_ds_874.jsonl.gz\n",
      "Saved file 875 to /share/edc/home/antonis/datasets/huggingface/tuluv2_1024/tuluv2_ds_875.jsonl.gz\n",
      "Saved file 876 to /share/edc/home/antonis/datasets/huggingface/tuluv2_1024/tuluv2_ds_876.jsonl.gz\n",
      "Saved file 877 to /share/edc/home/antonis/datasets/huggingface/tuluv2_1024/tuluv2_ds_877.jsonl.gz\n",
      "Saved file 878 to /share/edc/home/antonis/datasets/huggingface/tuluv2_1024/tuluv2_ds_878.jsonl.gz\n",
      "Saved file 879 to /share/edc/home/antonis/datasets/huggingface/tuluv2_1024/tuluv2_ds_879.jsonl.gz\n",
      "Saved file 880 to /share/edc/home/antonis/datasets/huggingface/tuluv2_1024/tuluv2_ds_880.jsonl.gz\n",
      "Saved file 881 to /share/edc/home/antonis/datasets/huggingface/tuluv2_1024/tuluv2_ds_881.jsonl.gz\n",
      "Saved file 882 to /share/edc/home/antonis/datasets/huggingface/tuluv2_1024/tuluv2_ds_882.jsonl.gz\n",
      "Saved file 883 to /share/edc/home/antonis/datasets/huggingface/tuluv2_1024/tuluv2_ds_883.jsonl.gz\n",
      "Saved file 884 to /share/edc/home/antonis/datasets/huggingface/tuluv2_1024/tuluv2_ds_884.jsonl.gz\n",
      "Saved file 885 to /share/edc/home/antonis/datasets/huggingface/tuluv2_1024/tuluv2_ds_885.jsonl.gz\n",
      "Saved file 886 to /share/edc/home/antonis/datasets/huggingface/tuluv2_1024/tuluv2_ds_886.jsonl.gz\n",
      "Saved file 887 to /share/edc/home/antonis/datasets/huggingface/tuluv2_1024/tuluv2_ds_887.jsonl.gz\n",
      "Saved file 888 to /share/edc/home/antonis/datasets/huggingface/tuluv2_1024/tuluv2_ds_888.jsonl.gz\n",
      "Saved file 889 to /share/edc/home/antonis/datasets/huggingface/tuluv2_1024/tuluv2_ds_889.jsonl.gz\n",
      "Saved file 890 to /share/edc/home/antonis/datasets/huggingface/tuluv2_1024/tuluv2_ds_890.jsonl.gz\n",
      "Saved file 891 to /share/edc/home/antonis/datasets/huggingface/tuluv2_1024/tuluv2_ds_891.jsonl.gz\n",
      "Saved file 892 to /share/edc/home/antonis/datasets/huggingface/tuluv2_1024/tuluv2_ds_892.jsonl.gz\n",
      "Saved file 893 to /share/edc/home/antonis/datasets/huggingface/tuluv2_1024/tuluv2_ds_893.jsonl.gz\n",
      "Saved file 894 to /share/edc/home/antonis/datasets/huggingface/tuluv2_1024/tuluv2_ds_894.jsonl.gz\n",
      "Saved file 895 to /share/edc/home/antonis/datasets/huggingface/tuluv2_1024/tuluv2_ds_895.jsonl.gz\n",
      "Saved file 896 to /share/edc/home/antonis/datasets/huggingface/tuluv2_1024/tuluv2_ds_896.jsonl.gz\n",
      "Saved file 897 to /share/edc/home/antonis/datasets/huggingface/tuluv2_1024/tuluv2_ds_897.jsonl.gz\n",
      "Saved file 898 to /share/edc/home/antonis/datasets/huggingface/tuluv2_1024/tuluv2_ds_898.jsonl.gz\n",
      "Saved file 899 to /share/edc/home/antonis/datasets/huggingface/tuluv2_1024/tuluv2_ds_899.jsonl.gz\n",
      "Saved file 900 to /share/edc/home/antonis/datasets/huggingface/tuluv2_1024/tuluv2_ds_900.jsonl.gz\n",
      "Saved file 901 to /share/edc/home/antonis/datasets/huggingface/tuluv2_1024/tuluv2_ds_901.jsonl.gz\n",
      "Saved file 902 to /share/edc/home/antonis/datasets/huggingface/tuluv2_1024/tuluv2_ds_902.jsonl.gz\n",
      "Saved file 903 to /share/edc/home/antonis/datasets/huggingface/tuluv2_1024/tuluv2_ds_903.jsonl.gz\n",
      "Saved file 904 to /share/edc/home/antonis/datasets/huggingface/tuluv2_1024/tuluv2_ds_904.jsonl.gz\n",
      "Saved file 905 to /share/edc/home/antonis/datasets/huggingface/tuluv2_1024/tuluv2_ds_905.jsonl.gz\n",
      "Saved file 906 to /share/edc/home/antonis/datasets/huggingface/tuluv2_1024/tuluv2_ds_906.jsonl.gz\n",
      "Saved file 907 to /share/edc/home/antonis/datasets/huggingface/tuluv2_1024/tuluv2_ds_907.jsonl.gz\n",
      "Saved file 908 to /share/edc/home/antonis/datasets/huggingface/tuluv2_1024/tuluv2_ds_908.jsonl.gz\n",
      "Saved file 909 to /share/edc/home/antonis/datasets/huggingface/tuluv2_1024/tuluv2_ds_909.jsonl.gz\n",
      "Saved file 910 to /share/edc/home/antonis/datasets/huggingface/tuluv2_1024/tuluv2_ds_910.jsonl.gz\n",
      "Saved file 911 to /share/edc/home/antonis/datasets/huggingface/tuluv2_1024/tuluv2_ds_911.jsonl.gz\n",
      "Saved file 912 to /share/edc/home/antonis/datasets/huggingface/tuluv2_1024/tuluv2_ds_912.jsonl.gz\n",
      "Saved file 913 to /share/edc/home/antonis/datasets/huggingface/tuluv2_1024/tuluv2_ds_913.jsonl.gz\n",
      "Saved file 914 to /share/edc/home/antonis/datasets/huggingface/tuluv2_1024/tuluv2_ds_914.jsonl.gz\n",
      "Saved file 915 to /share/edc/home/antonis/datasets/huggingface/tuluv2_1024/tuluv2_ds_915.jsonl.gz\n",
      "Saved file 916 to /share/edc/home/antonis/datasets/huggingface/tuluv2_1024/tuluv2_ds_916.jsonl.gz\n",
      "Saved file 917 to /share/edc/home/antonis/datasets/huggingface/tuluv2_1024/tuluv2_ds_917.jsonl.gz\n",
      "Saved file 918 to /share/edc/home/antonis/datasets/huggingface/tuluv2_1024/tuluv2_ds_918.jsonl.gz\n",
      "Saved file 919 to /share/edc/home/antonis/datasets/huggingface/tuluv2_1024/tuluv2_ds_919.jsonl.gz\n",
      "Saved file 920 to /share/edc/home/antonis/datasets/huggingface/tuluv2_1024/tuluv2_ds_920.jsonl.gz\n",
      "Saved file 921 to /share/edc/home/antonis/datasets/huggingface/tuluv2_1024/tuluv2_ds_921.jsonl.gz\n",
      "Saved file 922 to /share/edc/home/antonis/datasets/huggingface/tuluv2_1024/tuluv2_ds_922.jsonl.gz\n",
      "Saved file 923 to /share/edc/home/antonis/datasets/huggingface/tuluv2_1024/tuluv2_ds_923.jsonl.gz\n",
      "Saved file 924 to /share/edc/home/antonis/datasets/huggingface/tuluv2_1024/tuluv2_ds_924.jsonl.gz\n",
      "Saved file 925 to /share/edc/home/antonis/datasets/huggingface/tuluv2_1024/tuluv2_ds_925.jsonl.gz\n",
      "Saved file 926 to /share/edc/home/antonis/datasets/huggingface/tuluv2_1024/tuluv2_ds_926.jsonl.gz\n",
      "Saved file 927 to /share/edc/home/antonis/datasets/huggingface/tuluv2_1024/tuluv2_ds_927.jsonl.gz\n",
      "Saved file 928 to /share/edc/home/antonis/datasets/huggingface/tuluv2_1024/tuluv2_ds_928.jsonl.gz\n",
      "Saved file 929 to /share/edc/home/antonis/datasets/huggingface/tuluv2_1024/tuluv2_ds_929.jsonl.gz\n",
      "Saved file 930 to /share/edc/home/antonis/datasets/huggingface/tuluv2_1024/tuluv2_ds_930.jsonl.gz\n",
      "Saved file 931 to /share/edc/home/antonis/datasets/huggingface/tuluv2_1024/tuluv2_ds_931.jsonl.gz\n",
      "Saved file 932 to /share/edc/home/antonis/datasets/huggingface/tuluv2_1024/tuluv2_ds_932.jsonl.gz\n",
      "Saved file 933 to /share/edc/home/antonis/datasets/huggingface/tuluv2_1024/tuluv2_ds_933.jsonl.gz\n",
      "Saved file 934 to /share/edc/home/antonis/datasets/huggingface/tuluv2_1024/tuluv2_ds_934.jsonl.gz\n",
      "Saved file 935 to /share/edc/home/antonis/datasets/huggingface/tuluv2_1024/tuluv2_ds_935.jsonl.gz\n",
      "Saved file 936 to /share/edc/home/antonis/datasets/huggingface/tuluv2_1024/tuluv2_ds_936.jsonl.gz\n",
      "Saved file 937 to /share/edc/home/antonis/datasets/huggingface/tuluv2_1024/tuluv2_ds_937.jsonl.gz\n",
      "Saved file 938 to /share/edc/home/antonis/datasets/huggingface/tuluv2_1024/tuluv2_ds_938.jsonl.gz\n",
      "Saved file 939 to /share/edc/home/antonis/datasets/huggingface/tuluv2_1024/tuluv2_ds_939.jsonl.gz\n",
      "Saved file 940 to /share/edc/home/antonis/datasets/huggingface/tuluv2_1024/tuluv2_ds_940.jsonl.gz\n",
      "Saved file 941 to /share/edc/home/antonis/datasets/huggingface/tuluv2_1024/tuluv2_ds_941.jsonl.gz\n",
      "Saved file 942 to /share/edc/home/antonis/datasets/huggingface/tuluv2_1024/tuluv2_ds_942.jsonl.gz\n",
      "Saved file 943 to /share/edc/home/antonis/datasets/huggingface/tuluv2_1024/tuluv2_ds_943.jsonl.gz\n",
      "Saved file 944 to /share/edc/home/antonis/datasets/huggingface/tuluv2_1024/tuluv2_ds_944.jsonl.gz\n",
      "Saved file 945 to /share/edc/home/antonis/datasets/huggingface/tuluv2_1024/tuluv2_ds_945.jsonl.gz\n",
      "Saved file 946 to /share/edc/home/antonis/datasets/huggingface/tuluv2_1024/tuluv2_ds_946.jsonl.gz\n",
      "Saved file 947 to /share/edc/home/antonis/datasets/huggingface/tuluv2_1024/tuluv2_ds_947.jsonl.gz\n",
      "Saved file 948 to /share/edc/home/antonis/datasets/huggingface/tuluv2_1024/tuluv2_ds_948.jsonl.gz\n",
      "Saved file 949 to /share/edc/home/antonis/datasets/huggingface/tuluv2_1024/tuluv2_ds_949.jsonl.gz\n",
      "Saved file 950 to /share/edc/home/antonis/datasets/huggingface/tuluv2_1024/tuluv2_ds_950.jsonl.gz\n",
      "Saved file 951 to /share/edc/home/antonis/datasets/huggingface/tuluv2_1024/tuluv2_ds_951.jsonl.gz\n",
      "Saved file 952 to /share/edc/home/antonis/datasets/huggingface/tuluv2_1024/tuluv2_ds_952.jsonl.gz\n",
      "Saved file 953 to /share/edc/home/antonis/datasets/huggingface/tuluv2_1024/tuluv2_ds_953.jsonl.gz\n",
      "Saved file 954 to /share/edc/home/antonis/datasets/huggingface/tuluv2_1024/tuluv2_ds_954.jsonl.gz\n",
      "Saved file 955 to /share/edc/home/antonis/datasets/huggingface/tuluv2_1024/tuluv2_ds_955.jsonl.gz\n",
      "Saved file 956 to /share/edc/home/antonis/datasets/huggingface/tuluv2_1024/tuluv2_ds_956.jsonl.gz\n",
      "Saved file 957 to /share/edc/home/antonis/datasets/huggingface/tuluv2_1024/tuluv2_ds_957.jsonl.gz\n",
      "Saved file 958 to /share/edc/home/antonis/datasets/huggingface/tuluv2_1024/tuluv2_ds_958.jsonl.gz\n",
      "Saved file 959 to /share/edc/home/antonis/datasets/huggingface/tuluv2_1024/tuluv2_ds_959.jsonl.gz\n",
      "Saved file 960 to /share/edc/home/antonis/datasets/huggingface/tuluv2_1024/tuluv2_ds_960.jsonl.gz\n",
      "Saved file 961 to /share/edc/home/antonis/datasets/huggingface/tuluv2_1024/tuluv2_ds_961.jsonl.gz\n",
      "Saved file 962 to /share/edc/home/antonis/datasets/huggingface/tuluv2_1024/tuluv2_ds_962.jsonl.gz\n",
      "Saved file 963 to /share/edc/home/antonis/datasets/huggingface/tuluv2_1024/tuluv2_ds_963.jsonl.gz\n",
      "Saved file 964 to /share/edc/home/antonis/datasets/huggingface/tuluv2_1024/tuluv2_ds_964.jsonl.gz\n",
      "Saved file 965 to /share/edc/home/antonis/datasets/huggingface/tuluv2_1024/tuluv2_ds_965.jsonl.gz\n",
      "Saved file 966 to /share/edc/home/antonis/datasets/huggingface/tuluv2_1024/tuluv2_ds_966.jsonl.gz\n",
      "Saved file 967 to /share/edc/home/antonis/datasets/huggingface/tuluv2_1024/tuluv2_ds_967.jsonl.gz\n",
      "Saved file 968 to /share/edc/home/antonis/datasets/huggingface/tuluv2_1024/tuluv2_ds_968.jsonl.gz\n",
      "Saved file 969 to /share/edc/home/antonis/datasets/huggingface/tuluv2_1024/tuluv2_ds_969.jsonl.gz\n",
      "Saved file 970 to /share/edc/home/antonis/datasets/huggingface/tuluv2_1024/tuluv2_ds_970.jsonl.gz\n",
      "Saved file 971 to /share/edc/home/antonis/datasets/huggingface/tuluv2_1024/tuluv2_ds_971.jsonl.gz\n",
      "Saved file 972 to /share/edc/home/antonis/datasets/huggingface/tuluv2_1024/tuluv2_ds_972.jsonl.gz\n",
      "Saved file 973 to /share/edc/home/antonis/datasets/huggingface/tuluv2_1024/tuluv2_ds_973.jsonl.gz\n",
      "Saved file 974 to /share/edc/home/antonis/datasets/huggingface/tuluv2_1024/tuluv2_ds_974.jsonl.gz\n",
      "Saved file 975 to /share/edc/home/antonis/datasets/huggingface/tuluv2_1024/tuluv2_ds_975.jsonl.gz\n",
      "Saved file 976 to /share/edc/home/antonis/datasets/huggingface/tuluv2_1024/tuluv2_ds_976.jsonl.gz\n",
      "Saved file 977 to /share/edc/home/antonis/datasets/huggingface/tuluv2_1024/tuluv2_ds_977.jsonl.gz\n",
      "Saved file 978 to /share/edc/home/antonis/datasets/huggingface/tuluv2_1024/tuluv2_ds_978.jsonl.gz\n",
      "Saved file 979 to /share/edc/home/antonis/datasets/huggingface/tuluv2_1024/tuluv2_ds_979.jsonl.gz\n",
      "Saved file 980 to /share/edc/home/antonis/datasets/huggingface/tuluv2_1024/tuluv2_ds_980.jsonl.gz\n",
      "Saved file 981 to /share/edc/home/antonis/datasets/huggingface/tuluv2_1024/tuluv2_ds_981.jsonl.gz\n",
      "Saved file 982 to /share/edc/home/antonis/datasets/huggingface/tuluv2_1024/tuluv2_ds_982.jsonl.gz\n",
      "Saved file 983 to /share/edc/home/antonis/datasets/huggingface/tuluv2_1024/tuluv2_ds_983.jsonl.gz\n",
      "Saved file 984 to /share/edc/home/antonis/datasets/huggingface/tuluv2_1024/tuluv2_ds_984.jsonl.gz\n",
      "Saved file 985 to /share/edc/home/antonis/datasets/huggingface/tuluv2_1024/tuluv2_ds_985.jsonl.gz\n",
      "Saved file 986 to /share/edc/home/antonis/datasets/huggingface/tuluv2_1024/tuluv2_ds_986.jsonl.gz\n",
      "Saved file 987 to /share/edc/home/antonis/datasets/huggingface/tuluv2_1024/tuluv2_ds_987.jsonl.gz\n",
      "Saved file 988 to /share/edc/home/antonis/datasets/huggingface/tuluv2_1024/tuluv2_ds_988.jsonl.gz\n",
      "Saved file 989 to /share/edc/home/antonis/datasets/huggingface/tuluv2_1024/tuluv2_ds_989.jsonl.gz\n",
      "Saved file 990 to /share/edc/home/antonis/datasets/huggingface/tuluv2_1024/tuluv2_ds_990.jsonl.gz\n",
      "Saved file 991 to /share/edc/home/antonis/datasets/huggingface/tuluv2_1024/tuluv2_ds_991.jsonl.gz\n",
      "Saved file 992 to /share/edc/home/antonis/datasets/huggingface/tuluv2_1024/tuluv2_ds_992.jsonl.gz\n",
      "Saved file 993 to /share/edc/home/antonis/datasets/huggingface/tuluv2_1024/tuluv2_ds_993.jsonl.gz\n",
      "Saved file 994 to /share/edc/home/antonis/datasets/huggingface/tuluv2_1024/tuluv2_ds_994.jsonl.gz\n",
      "Saved file 995 to /share/edc/home/antonis/datasets/huggingface/tuluv2_1024/tuluv2_ds_995.jsonl.gz\n",
      "Saved file 996 to /share/edc/home/antonis/datasets/huggingface/tuluv2_1024/tuluv2_ds_996.jsonl.gz\n",
      "Saved file 997 to /share/edc/home/antonis/datasets/huggingface/tuluv2_1024/tuluv2_ds_997.jsonl.gz\n",
      "Saved file 998 to /share/edc/home/antonis/datasets/huggingface/tuluv2_1024/tuluv2_ds_998.jsonl.gz\n",
      "Saved file 999 to /share/edc/home/antonis/datasets/huggingface/tuluv2_1024/tuluv2_ds_999.jsonl.gz\n",
      "Saved file 1000 to /share/edc/home/antonis/datasets/huggingface/tuluv2_1024/tuluv2_ds_1000.jsonl.gz\n",
      "Saved file 1001 to /share/edc/home/antonis/datasets/huggingface/tuluv2_1024/tuluv2_ds_1001.jsonl.gz\n",
      "Saved file 1002 to /share/edc/home/antonis/datasets/huggingface/tuluv2_1024/tuluv2_ds_1002.jsonl.gz\n",
      "Saved file 1003 to /share/edc/home/antonis/datasets/huggingface/tuluv2_1024/tuluv2_ds_1003.jsonl.gz\n",
      "Saved file 1004 to /share/edc/home/antonis/datasets/huggingface/tuluv2_1024/tuluv2_ds_1004.jsonl.gz\n",
      "Saved file 1005 to /share/edc/home/antonis/datasets/huggingface/tuluv2_1024/tuluv2_ds_1005.jsonl.gz\n",
      "Saved file 1006 to /share/edc/home/antonis/datasets/huggingface/tuluv2_1024/tuluv2_ds_1006.jsonl.gz\n",
      "Saved file 1007 to /share/edc/home/antonis/datasets/huggingface/tuluv2_1024/tuluv2_ds_1007.jsonl.gz\n",
      "Saved file 1008 to /share/edc/home/antonis/datasets/huggingface/tuluv2_1024/tuluv2_ds_1008.jsonl.gz\n",
      "Saved file 1009 to /share/edc/home/antonis/datasets/huggingface/tuluv2_1024/tuluv2_ds_1009.jsonl.gz\n",
      "Saved file 1010 to /share/edc/home/antonis/datasets/huggingface/tuluv2_1024/tuluv2_ds_1010.jsonl.gz\n",
      "Saved file 1011 to /share/edc/home/antonis/datasets/huggingface/tuluv2_1024/tuluv2_ds_1011.jsonl.gz\n",
      "Saved file 1012 to /share/edc/home/antonis/datasets/huggingface/tuluv2_1024/tuluv2_ds_1012.jsonl.gz\n",
      "Saved file 1013 to /share/edc/home/antonis/datasets/huggingface/tuluv2_1024/tuluv2_ds_1013.jsonl.gz\n",
      "Saved file 1014 to /share/edc/home/antonis/datasets/huggingface/tuluv2_1024/tuluv2_ds_1014.jsonl.gz\n",
      "Saved file 1015 to /share/edc/home/antonis/datasets/huggingface/tuluv2_1024/tuluv2_ds_1015.jsonl.gz\n",
      "Saved file 1016 to /share/edc/home/antonis/datasets/huggingface/tuluv2_1024/tuluv2_ds_1016.jsonl.gz\n",
      "Saved file 1017 to /share/edc/home/antonis/datasets/huggingface/tuluv2_1024/tuluv2_ds_1017.jsonl.gz\n",
      "Saved file 1018 to /share/edc/home/antonis/datasets/huggingface/tuluv2_1024/tuluv2_ds_1018.jsonl.gz\n",
      "Saved file 1019 to /share/edc/home/antonis/datasets/huggingface/tuluv2_1024/tuluv2_ds_1019.jsonl.gz\n",
      "Saved file 1020 to /share/edc/home/antonis/datasets/huggingface/tuluv2_1024/tuluv2_ds_1020.jsonl.gz\n",
      "Saved file 1021 to /share/edc/home/antonis/datasets/huggingface/tuluv2_1024/tuluv2_ds_1021.jsonl.gz\n",
      "Saved file 1022 to /share/edc/home/antonis/datasets/huggingface/tuluv2_1024/tuluv2_ds_1022.jsonl.gz\n",
      "Saved file 1023 to /share/edc/home/antonis/datasets/huggingface/tuluv2_1024/tuluv2_ds_1023.jsonl.gz\n",
      "Saved file 1024 to /share/edc/home/antonis/datasets/huggingface/tuluv2_1024/tuluv2_ds_1024.jsonl.gz\n"
     ]
    }
   ],
   "source": [
    "# this is the question for example 0\n",
    "ds_tulu['train'][0]['messages'][0]['content']\n",
    "\n",
    "# this is the answer for example 0\n",
    "ds_tulu['train'][0]['messages'][1].keys()\n",
    "\n",
    "from tqdm import tqdm\n",
    "import gzip\n",
    "\n",
    "\n",
    "def build_tulu_ds(ds, cache_dir, num_files=1):\n",
    "    data = []\n",
    "    for split in ds:\n",
    "        for i in tqdm(range(len(ds[split])), desc=f\"Processing {split}\"):\n",
    "            question = ds[split][i]['messages'][0]['content']\n",
    "            answer = ds[split][i]['messages'][1]['content']\n",
    "            # connect the two columns\n",
    "            data.append({\"text\": question + \" \" + answer})\n",
    "\n",
    "    # Calculate the number of lines per file\n",
    "    lines_per_file = math.ceil(len(data) / num_files)\n",
    "\n",
    "    # Create a directory to store the files\n",
    "    save_dir = os.path.join(cache_dir, f'tuluv2_{num_files}')\n",
    "    os.makedirs(save_dir, exist_ok=True)\n",
    "\n",
    "    # Split the data into multiple files\n",
    "    for i in range(num_files):\n",
    "        start_idx = i * lines_per_file\n",
    "        end_idx = min((i + 1) * lines_per_file, len(data))\n",
    "\n",
    "        save_pth = os.path.join(save_dir, f\"tuluv2_ds_{i+1}.jsonl.gz\")\n",
    "        with gzip.open(save_pth, 'wt', encoding='utf-8') as f:\n",
    "            for line in data[start_idx:end_idx]:\n",
    "                f.write(json.dumps(line) + \"\\n\")\n",
    "\n",
    "        print(f\"Saved file {i+1} to {save_pth}\")\n",
    "\n",
    "    return data\n",
    "\n",
    "tulu_data = build_tulu_ds(ds_tulu, CACHE_DIR, 1024)\n",
    "\n",
    "# # load tulu_data\n",
    "# with gzip.open(os.path.join(CACHE_DIR, \"tuluv2_ds.json.gz\"), 'rt', encoding='utf-8') as f:\n",
    "#     tulu_data = [json.loads(line) for line in f]"
   ]
  },
  {
   "cell_type": "code",
   "execution_count": 13,
   "metadata": {},
   "outputs": [
    {
     "data": {
      "text/plain": [
       "'1. Miguel\\n2. Yes\\n3. Eight\\n4. unknown\\n5. Swift\\n6. \"We Are Never Ever Getting Back Together\"\\n7. Female\\n8. The rough times he has had of late.\\n9. \"Red\"\\n10. Yes'"
      ]
     },
     "execution_count": 13,
     "metadata": {},
     "output_type": "execute_result"
    }
   ],
   "source": [
    "ds_tulu['train'][0]['messages'][1]['content']"
   ]
  },
  {
   "cell_type": "code",
   "execution_count": 16,
   "metadata": {},
   "outputs": [
    {
     "data": {
      "text/plain": [
       "dict_keys(['text', 'url', 'date'])"
      ]
     },
     "execution_count": 16,
     "metadata": {},
     "output_type": "execute_result"
    }
   ],
   "source": [
    "import gzip\n",
    "\n",
    "pth = \"/share/edc/home/antonis/LLM-Incidental-Supervision/wimbd/test_fixtures/c4-sample.00000-of-00001.json.gz\"\n",
    "# Open the file with gzip and read lines\n",
    "with gzip.open(pth, 'rt', encoding='utf-8') as f:\n",
    "    for line in f:\n",
    "        try:\n",
    "            # Try to parse each line as a separate JSON object\n",
    "            ds = json.loads(line)\n",
    "            # Process the ds as needed\n",
    "        except json.JSONDecodeError as e:\n",
    "            print(f\"Failed to decode line: {e}\")\n",
    "\n",
    "ds.keys()"
   ]
  },
  {
   "cell_type": "code",
   "execution_count": 17,
   "metadata": {},
   "outputs": [
    {
     "data": {
      "text/plain": [
       "{'text': 'I guess it is better to set -DGC_THREADS for Solaris by default.\\nThere was choice -DGC_SOLARIS_THREADS (thr_ functions) or -DGC_THREADS in gc-7.1.\\nThe collector must be compiled with -DGC_THREADS to be thread safe.\\nmake check fails (both -m32 & -m64).\\nIt might be caused by some compile switces.\\nbut make check fails only with (gcc-4.4.7) (-m32).\\nI do not know what \"Missing: AO...\" mean, but they are found also in cases make check pass.\\n> > > Everything is OK now.\\n> > > (gcc-4.6.3, gcc-4.4.7, gcc-4.6.3), (-m32, -m64), (gc-7.1, gc-7.2alpha6).',\n",
       " 'url': 'https://www.hpl.hp.com/hosted/linux/mail-archives/gc/2012-March/005082.html',\n",
       " 'date': '2019-04-26T03:50:12Z'}"
      ]
     },
     "execution_count": 17,
     "metadata": {},
     "output_type": "execute_result"
    }
   ],
   "source": [
    "ds"
   ]
  },
  {
   "cell_type": "code",
   "execution_count": null,
   "metadata": {},
   "outputs": [],
   "source": [
    "ds_mmlu = _load_dataset(\"mmlu\", CACHE_DIR=CACHE_DIR)"
   ]
  },
  {
   "cell_type": "code",
   "execution_count": null,
   "metadata": {},
   "outputs": [],
   "source": [
    "ds_mmlu"
   ]
  },
  {
   "cell_type": "code",
   "execution_count": null,
   "metadata": {},
   "outputs": [],
   "source": [
    "len(ds_['question'][0])"
   ]
  },
  {
   "cell_type": "code",
   "execution_count": null,
   "metadata": {},
   "outputs": [],
   "source": [
    "question_lengths"
   ]
  },
  {
   "cell_type": "code",
   "execution_count": null,
   "metadata": {},
   "outputs": [],
   "source": [
    "# get avg length of questions for different splits\n",
    "\n",
    "for task in ds.keys():\n",
    "    for split in ds[task].keys():\n",
    "        ds_ = ds[task][split]\n",
    "        question_lengths = [len(question) for question in ds_['question']]\n",
    "        avg_length = sum(question_lengths) / len(question_lengths) if len(question_lengths) > 0 else 0\n",
    "        print(task, split, avg_length)"
   ]
  },
  {
   "cell_type": "code",
   "execution_count": null,
   "metadata": {},
   "outputs": [],
   "source": [
    "pth = \"./results/n-grams/wmt/pile/exp4/n_samples_None_fkeyFalse_rkeyFalse_fstopTrue_onlyalphaTrue/7/all/es-en.pkl\"\n",
    "df = pd.DataFrame(pickle.load(open(pth, \"rb\"))).T.sort_values(\"value\", ascending=False)"
   ]
  },
  {
   "cell_type": "code",
   "execution_count": null,
   "metadata": {},
   "outputs": [],
   "source": [
    "df = df.reset_index().rename(columns={'index': 'ngram'})"
   ]
  },
  {
   "cell_type": "code",
   "execution_count": null,
   "metadata": {},
   "outputs": [],
   "source": [
    "df\n",
    "\n",
    "# choose only rows were ngram column has more 7 or more ngrams\n",
    "\n",
    "df = df[df[\"ngram\"].apply(lambda x: len(x.split()) >= 5)]\n",
    "df = df[df[\"value\"] > 0].reset_index(drop=True)\n",
    "display(df)"
   ]
  },
  {
   "cell_type": "code",
   "execution_count": null,
   "metadata": {},
   "outputs": [],
   "source": [
    "# europarl = load_dataset(\"wmt/europarl\", cache_dir=CACHE_DIR)"
   ]
  },
  {
   "cell_type": "code",
   "execution_count": null,
   "metadata": {},
   "outputs": [],
   "source": [
    "wmt14 = load_dataset(\"wmt14\", 'cs-en', cache_dir=CACHE_DIR)"
   ]
  },
  {
   "cell_type": "code",
   "execution_count": null,
   "metadata": {},
   "outputs": [],
   "source": [
    "wmt09 = load_from_disk(\"/share/edc/home/antonis/datasets/huggingface/wmt09_gens\")"
   ]
  },
  {
   "cell_type": "code",
   "execution_count": null,
   "metadata": {},
   "outputs": [],
   "source": [
    "wmt09['en-hu']['translation']"
   ]
  },
  {
   "cell_type": "code",
   "execution_count": null,
   "metadata": {},
   "outputs": [],
   "source": [
    "wmt09['en-hu']['translation'][0]['gen'] = 1\n",
    "wmt_dict = wmt09['en-hu'].to_dict()\n",
    "wmt_dict['translation'][0]['gen'] = 1"
   ]
  },
  {
   "cell_type": "code",
   "execution_count": null,
   "metadata": {},
   "outputs": [],
   "source": [
    "wmt_dict['translation'][0]"
   ]
  },
  {
   "cell_type": "code",
   "execution_count": null,
   "metadata": {},
   "outputs": [],
   "source": [
    "gens = [1] * len(wmt09['en-hu']['translation'])\n",
    "wmt09['en-hu']['translation']['gen'] = gens"
   ]
  },
  {
   "cell_type": "code",
   "execution_count": null,
   "metadata": {},
   "outputs": [],
   "source": [
    "type(wmt09)"
   ]
  },
  {
   "cell_type": "code",
   "execution_count": null,
   "metadata": {},
   "outputs": [],
   "source": [
    "# wmt_09 = _load_dataset(\"wmt\")\n",
    "trivia_qa_ngram_pth = \"/share/edc/home/antonis/LLM-Incidental-Supervision/incidental-supervision/results/n-grams/trivia_qa/pile/exp_3/test-set/n_samples_None_fkeyFalse_rkeyFalse_fstopTrue_onlyalphaFalse/5/all/trivia_qa.pkl\"\n",
    "trivia_qa = pd.DataFrame(pd.read_pickle(trivia_qa_ngram_pth)).T.sort_values('value', ascending=False)"
   ]
  },
  {
   "cell_type": "code",
   "execution_count": null,
   "metadata": {},
   "outputs": [],
   "source": [
    "trivia_qa"
   ]
  },
  {
   "cell_type": "code",
   "execution_count": null,
   "metadata": {},
   "outputs": [],
   "source": [
    "model_instance_pth = \"./results/n-grams/wmt/pile/exp4/n_samples_None_fkeyFalse_rkeyFalse_fstopTrue_onlyalphaTrue/2/model_instance_results_0-shot_common.pkl\"\n",
    "with open(model_instance_pth, \"rb\") as f:\n",
    "    model_instance = pickle.load(f)"
   ]
  },
  {
   "cell_type": "code",
   "execution_count": null,
   "metadata": {},
   "outputs": [],
   "source": [
    "wmt_res_pth = \"./results/n-grams/wmt/pile/exp4/n_samples_None_fkeyFalse_rkeyFalse_fstopTrue_onlyalphaTrue/2/examples_dfs_0-shot_common_models.pkl\"\n",
    "with open(wmt_res_pth, \"rb\") as f:\n",
    "    wmt_res = pickle.load(f)"
   ]
  },
  {
   "cell_type": "code",
   "execution_count": null,
   "metadata": {},
   "outputs": [],
   "source": [
    "wmt_res"
   ]
  },
  {
   "cell_type": "code",
   "execution_count": null,
   "metadata": {},
   "outputs": [],
   "source": [
    "trivia_qa = load_dataset(\"trivia_qa\", \"unfiltered.nocontext\", cache_dir=CACHE_DIR)"
   ]
  },
  {
   "cell_type": "code",
   "execution_count": null,
   "metadata": {},
   "outputs": [],
   "source": [
    "trivia_qa['test'][1].keys()"
   ]
  },
  {
   "cell_type": "code",
   "execution_count": null,
   "metadata": {},
   "outputs": [],
   "source": [
    "trivia_qa['validation'][1]['answer']"
   ]
  },
  {
   "cell_type": "code",
   "execution_count": null,
   "metadata": {},
   "outputs": [],
   "source": [
    "trivia_qa['test'][1]\n",
    "\n",
    "# print 10 question answer pairs from test set\n",
    "\n",
    "for i in range(10):\n",
    "    print(trivia_qa['test'][i]['question'])\n",
    "    print(trivia_qa['test'][i]['answer'])\n",
    "    print(\"\\n\")"
   ]
  },
  {
   "cell_type": "code",
   "execution_count": null,
   "metadata": {},
   "outputs": [],
   "source": [
    "trivia_qa['test'][1]['question']"
   ]
  },
  {
   "cell_type": "code",
   "execution_count": null,
   "metadata": {},
   "outputs": [],
   "source": [
    "trivia_qa['test'][1]['search_results'].keys()"
   ]
  },
  {
   "cell_type": "code",
   "execution_count": null,
   "metadata": {},
   "outputs": [],
   "source": [
    "# # bigbench_tasks = ['bigbench_causal_judgement', 'bigbench_date_understanding', 'bigbench_disambiguation_qa', 'bigbench_dyck_languages', 'bigbench_formal_fallacies_syllogisms_negation', 'bigbench_geometric_shapes', 'bigbench_hyperbaton', 'bigbench_logical_deduction_five_objects', 'bigbench_logical_deduction_seven_objects', 'bigbench_logical_deduction_three_objects', 'bigbench_movie_recommendation', 'bigbench_navigate', 'bigbench_reasoning_about_colored_objects', 'bigbench_ruin_names', 'bigbench_salient_translation_error_detection', 'bigbench_snarks', 'bigbench_sports_understanding', 'bigbench_temporal_sequences', 'bigbench_tracking_shuffled_objects_five_objects', 'bigbench_tracking_shuffled_objects_seven_objects', 'bigbench_tracking_shuffled_objects_three_objects', 'blimp_adjunct_island']\n",
    "# # save bigbench tasks as txt\n",
    "# path = \"/share/edc/home/antonis/LLM-Incidental-Supervision/incidental-supervision/configs\"\n",
    "# with open(os.path.join(path, \"bigbench_tasks.txt\"), \"w\") as f:\n",
    "#     for task in bigbench_tasks:\n",
    "#         f.write(task + \"\\n\")"
   ]
  },
  {
   "cell_type": "code",
   "execution_count": null,
   "metadata": {},
   "outputs": [],
   "source": [
    "configs = get_dataset_config_names(\"hendrycks_test\")\n",
    "\n",
    "ds_full = {}\n",
    "for config in configs:\n",
    "    ds_full[config] = load_dataset(\"hendrycks_test\", config, cache_dir=CACHE_DIR)\n",
    "    break"
   ]
  },
  {
   "cell_type": "code",
   "execution_count": null,
   "metadata": {},
   "outputs": [],
   "source": [
    "ds_full['abstract_algebra']['test']['choices'][0]"
   ]
  },
  {
   "cell_type": "code",
   "execution_count": null,
   "metadata": {},
   "outputs": [],
   "source": [
    "# load bigbench tasks\n",
    "bigbench_tasks = []\n",
    "with open(\"./configs/data/bigbench_tasks.txt\", \"r\") as f:\n",
    "    for line in f:\n",
    "        bigbench_tasks.append(line.strip())\n",
    "bigbench_tasks"
   ]
  },
  {
   "cell_type": "code",
   "execution_count": null,
   "metadata": {},
   "outputs": [],
   "source": [
    "configs = get_dataset_config_names(\"bigbench\")\n",
    "configs\n",
    "\n",
    "ds_full = {}\n",
    "for config in configs:\n",
    "    if config in bigbench_tasks:\n",
    "        ds_full[config] = load_dataset(\"bigbench\", config, \n",
    "                                       cache_dir=CACHE_DIR,\n",
    "                                       trust_remote_code=True)"
   ]
  },
  {
   "cell_type": "code",
   "execution_count": null,
   "metadata": {},
   "outputs": [],
   "source": [
    "ds_logical = load_dataset(\"bigbench\", \"logical_deduction\")"
   ]
  },
  {
   "cell_type": "code",
   "execution_count": null,
   "metadata": {},
   "outputs": [],
   "source": [
    "for name, ds in ds_full.items():\n",
    "    print(name, ds)"
   ]
  },
  {
   "cell_type": "code",
   "execution_count": null,
   "metadata": {},
   "outputs": [],
   "source": [
    "ds_1 = ds_full['abstract_algebra']"
   ]
  },
  {
   "cell_type": "code",
   "execution_count": null,
   "metadata": {},
   "outputs": [],
   "source": [
    "ds_1_concat = concatenate_datasets([ds for ds in ds_1.values()])\n",
    "ds_1_concat"
   ]
  },
  {
   "cell_type": "code",
   "execution_count": null,
   "metadata": {},
   "outputs": [],
   "source": [
    "ds_full['abstract_algebra']['auxiliary_train'][0]"
   ]
  },
  {
   "cell_type": "code",
   "execution_count": null,
   "metadata": {},
   "outputs": [],
   "source": [
    "ds_full.keys()"
   ]
  },
  {
   "cell_type": "code",
   "execution_count": null,
   "metadata": {},
   "outputs": [],
   "source": [
    "ds_full['abstract_algebra']['test'][0:2]"
   ]
  },
  {
   "cell_type": "code",
   "execution_count": null,
   "metadata": {},
   "outputs": [],
   "source": [
    "from nltk import ngrams\n",
    "\n",
    "example = ds[15]['answer']\n",
    "print(str(example))\n",
    "\n",
    "text_gram = ngrams(\"hello\", 5)\n",
    "\n",
    "print(list(text_gram))\n",
    "\n",
    "text_gram = [''.join(ngram) for ngram in text_gram]\n",
    "\n",
    "print(text_gram)"
   ]
  },
  {
   "cell_type": "code",
   "execution_count": null,
   "metadata": {},
   "outputs": [],
   "source": [
    "for key in ds_full.keys():\n",
    "    ds = ds_full[key]['test']\n",
    "    print(key, ds)\n",
    "    print(ds[10])"
   ]
  },
  {
   "cell_type": "code",
   "execution_count": null,
   "metadata": {},
   "outputs": [],
   "source": [
    "lang_pair = \"es-en\"\n",
    "dataset_name = \"wmt-14\"\n",
    "\n",
    "datasets = load_dataset(\"tasksource/mmlu\", cache_dir=CACHE_DIR)"
   ]
  },
  {
   "cell_type": "code",
   "execution_count": null,
   "metadata": {},
   "outputs": [],
   "source": [
    "# ds = load_dataset(\"SirNeural/flan_v2\", cache_dir=CACHE_DIR)\n",
    "ds_task = load_from_disk(\"/share/edc/home/antonis/datasets/huggingface/flan_v1_task_ds\")"
   ]
  },
  {
   "cell_type": "code",
   "execution_count": null,
   "metadata": {},
   "outputs": [],
   "source": [
    "ds_task"
   ]
  },
  {
   "cell_type": "code",
   "execution_count": null,
   "metadata": {},
   "outputs": [],
   "source": [
    "corpus = \"EleutherAI/the_pile_deduplicated\"\n",
    "corpus_path = f\"/share/edc/home/antonis/datasets/huggingface/flan_v1/ds_{corpus}_small\"\n",
    "# ds = load_from_disk(corpus_path)"
   ]
  },
  {
   "cell_type": "code",
   "execution_count": null,
   "metadata": {},
   "outputs": [],
   "source": [
    "print(corpus_path)"
   ]
  },
  {
   "cell_type": "code",
   "execution_count": null,
   "metadata": {},
   "outputs": [],
   "source": [
    "ds_task['NLI']"
   ]
  },
  {
   "cell_type": "code",
   "execution_count": null,
   "metadata": {},
   "outputs": [],
   "source": [
    "import random\n",
    "\n",
    "task_keys = list(ds_task.keys())\n",
    "n_index = random.randint(0, len(task_keys))\n",
    "task = ds_task[task_keys[n_index]]\n",
    "n_index_2 = random.randint(0, len(task))\n",
    "\n",
    "print(task[n_index_2][\"text\"])\n"
   ]
  },
  {
   "cell_type": "code",
   "execution_count": null,
   "metadata": {},
   "outputs": [],
   "source": [
    "task_examples = collections.defaultdict(lambda: collections.defaultdict(dict))\n",
    "for task in task_ds.keys():\n",
    "    task_dataset = task_ds[task]\n",
    "    # sample 10 examples\n",
    "    task_dataset = task_dataset.shuffle(seed=42).select(range(20))\n",
    "    for n, example in enumerate(task_dataset):\n",
    "        task_examples[task][n]['inputs'] = example['inputs']\n",
    "        task_examples[task][n]['targets'] = example['targets']\n",
    "\n",
    "# save task_examples as jsonl\n",
    "with open(\"/share/edc/home/antonis/datasets/huggingface/flan_v1_task_examples.jsonl\", \"w\") as f:\n",
    "    for task in task_examples.keys():\n",
    "        for n, example in task_examples[task].items():\n",
    "            # Create a new dictionary for each line, with 'task', 'example_number' and 'text' keys\n",
    "            line = {'task': task, 'example_number': n, 'text': example}\n",
    "            f.write(json.dumps(line, indent=4) + \"\\n\")"
   ]
  },
  {
   "cell_type": "code",
   "execution_count": null,
   "metadata": {},
   "outputs": [],
   "source": [
    "#load 20% of c4\n",
    "c4 = load_dataset(\"c4\", \"en\", split=\"train[:20%]\")"
   ]
  },
  {
   "cell_type": "code",
   "execution_count": null,
   "metadata": {},
   "outputs": [],
   "source": [
    "import collections\n",
    "import pickle\n",
    "\n",
    "max_len = 1000\n",
    "n_groups = 10\n",
    "model_name_or_path = \"/share/edc/home/antonis/LLM-Incidental-Supervision/incidental-supervision/models/pythia/experiment_1/huggingface/flan_v1/c4_mixed_Commonsense/EleutherAI/pythia-1.4B-deduped_ckpt_False/checkpoint-70000\"\n",
    "task_samples_path = f\"/share/edc/home/antonis/datasets/huggingface/flan_v1/task_ds_sampled_{max_len}_{n_groups}.pkl\"\n",
    "dataset_dict_path = f\"/share/edc/home/antonis/datasets/huggingface/flan_v1/ds_c4_small_sampled_{max_len}_{n_groups}\"\n",
    "device = \"cpu\"\n",
    "\n",
    "\n",
    "with open(task_samples_path, 'rb') as f:\n",
    "    task_samples_dict = collections.defaultdict(dict, pickle.load(f))\n",
    "\n",
    "ds = load_from_disk(dataset_dict_path)\n",
    "\n",
    "grad_pth = \"/share/edc/home/antonis/LLM-Incidental-Supervision/incidental-supervision/grads_c4.pkl\"\n"
   ]
  },
  {
   "cell_type": "code",
   "execution_count": null,
   "metadata": {},
   "outputs": [],
   "source": [
    "with open(grad_pth, 'rb') as f:\n",
    "    grads = pickle.load(f)\n",
    "\n",
    "grads.keys()"
   ]
  },
  {
   "cell_type": "code",
   "execution_count": null,
   "metadata": {},
   "outputs": [],
   "source": [
    "len(grads['0'][0])"
   ]
  },
  {
   "cell_type": "code",
   "execution_count": null,
   "metadata": {},
   "outputs": [],
   "source": [
    "import torch\n",
    "gradient_mags = gradient_mags = [torch.norm(grad[0]).item() for grad in grads['0']]"
   ]
  },
  {
   "cell_type": "code",
   "execution_count": null,
   "metadata": {},
   "outputs": [],
   "source": [
    "import os\n",
    "import shutil\n",
    "\n",
    "# Specify the directory containing your dataset files\n",
    "dataset_dir = \"/share/edc/home/antonis/datasets/huggingface/flan_v1/c4_mixed_QA_NLI_Summarization_Commonsense\"\n",
    "\n",
    "# Create subdirectories for each cache type\n",
    "cache_types = [\"0e1ee472afc16a84\", \"93decdfdc22cb71c\", \"a516fcb03f1e5f67\", \"cc79b545cdc85cd7\"]\n",
    "for cache_type in cache_types:\n",
    "    os.makedirs(os.path.join(dataset_dir, cache_type), exist_ok=True)\n",
    "\n",
    "# Move each file to the appropriate subdirectory\n",
    "for filename in os.listdir(dataset_dir):\n",
    "    for cache_type in cache_types:\n",
    "        if filename.startswith(f\"cache-{cache_type}\"):\n",
    "            shutil.move(os.path.join(dataset_dir, filename), os.path.join(dataset_dir, cache_type, filename))"
   ]
  },
  {
   "cell_type": "code",
   "execution_count": null,
   "metadata": {},
   "outputs": [],
   "source": [
    "import os\n",
    "import shutil\n",
    "\n",
    "# Specify the directory containing your dataset files\n",
    "dataset_dir = \"/share/edc/home/antonis/datasets/huggingface/flan_v1/c4_mixed_QA_NLI_Summarization_Commonsense\"\n",
    "\n",
    "# Specify the cache types\n",
    "cache_types = [\"0e1ee472afc16a84\", \"93decdfdc22cb71c\", \"a516fcb03f1e5f67\", \"cc79b545cdc85cd7\"]\n",
    "\n",
    "# Move each file back to the original directory\n",
    "for cache_type in cache_types:\n",
    "    cache_dir = os.path.join(dataset_dir, cache_type)\n",
    "    for filename in os.listdir(cache_dir):\n",
    "        shutil.move(os.path.join(cache_dir, filename), os.path.join(dataset_dir, filename))"
   ]
  },
  {
   "cell_type": "code",
   "execution_count": null,
   "metadata": {},
   "outputs": [],
   "source": [
    "cache_path = os.path.join(dataset_dir, cache_types[0])\n",
    "\n",
    "cache_ds = load_from_disk(cache_path)"
   ]
  },
  {
   "cell_type": "code",
   "execution_count": null,
   "metadata": {},
   "outputs": [],
   "source": [
    "def print_example(example):\n",
    "    for key in example.keys():\n",
    "        print(f\"{key}: {example[key]}\")"
   ]
  },
  {
   "cell_type": "code",
   "execution_count": null,
   "metadata": {},
   "outputs": [],
   "source": [
    "# ds = load_dataset(\"conceptofmind/dialog_submix_original\", split=\"train\")\n",
    "# ds = load_dataset(\"conceptofmind/cot_submix_original\", split=\"train\")\n",
    "ds = load_dataset(\"conceptofmind/flan2021_submix_original\", split=\"train\", cache_dir=CACHE_DIR)\n",
    "# ds = load_from_disk(\"/share/edc/home/antonis/datasets/huggingface/flan_v1/c4_mixed_NLI\")"
   ]
  },
  {
   "cell_type": "code",
   "execution_count": null,
   "metadata": {},
   "outputs": [],
   "source": [
    "# ds_task = load_from_disk('/share/edc/home/antonis/datasets/huggingface/flan_v1_task_ds')\n",
    "ds_c4_small = load_from_disk(\"/share/edc/home/antonis/datasets/huggingface/flan_v1/ds_c4_small\")"
   ]
  },
  {
   "cell_type": "code",
   "execution_count": null,
   "metadata": {},
   "outputs": [],
   "source": [
    "filtered_ds = ds_task['NLI'].filter(lambda example: 'anli/r2' in example['task_name'])"
   ]
  },
  {
   "cell_type": "code",
   "execution_count": null,
   "metadata": {},
   "outputs": [],
   "source": [
    "filtered_ds['inputs'][0:10]"
   ]
  },
  {
   "cell_type": "code",
   "execution_count": null,
   "metadata": {},
   "outputs": [],
   "source": [
    "import random\n",
    "\n",
    "sentiment_ds = ds_task['Sentiment']\n",
    "\n",
    "n_samples = 20\n",
    "n_iter = 0\n",
    "while n_iter < n_samples:\n",
    "    index = random.randint(0, len(sentiment_ds) - 1)\n",
    "    row = sentiment_ds[index]\n",
    "    if row['task_name'] == 'glue/sst2:2.0.0':\n",
    "        print(f\"------ inputs: {row['inputs']}\")\n",
    "        print(f\"targets: {row['targets']}\")\n",
    "        n_iter += 1"
   ]
  },
  {
   "cell_type": "code",
   "execution_count": null,
   "metadata": {},
   "outputs": [],
   "source": [
    "ds_t0 = load_dataset(\"conceptofmind/t0_submix_original\", cache_dir=CACHE_DIR, split=\"train\")"
   ]
  },
  {
   "cell_type": "code",
   "execution_count": null,
   "metadata": {},
   "outputs": [],
   "source": [
    "# ds_t0 = concatenate_columns(ds_t0, 'inputs', 'targets', 'text')\n",
    "# count_gpt2_tokens(ds_t0, 'text')"
   ]
  },
  {
   "cell_type": "code",
   "execution_count": null,
   "metadata": {},
   "outputs": [],
   "source": [
    "ds_cot = load_dataset(\"conceptofmind/cot_submix_original\", cache_dir=CACHE_DIR, split=\"train\")\n",
    "ds_cot = concatenate_columns(ds_cot, 'inputs', 'targets', 'text')\n",
    "n_cot_tokens = count_gpt2_tokens(ds_cot, 'text')\n",
    "print(f\"{n_cot_tokens:.2e}\")"
   ]
  },
  {
   "cell_type": "code",
   "execution_count": null,
   "metadata": {},
   "outputs": [],
   "source": [
    "print(f\"{n_cot_tokens:.2e}\")"
   ]
  },
  {
   "cell_type": "code",
   "execution_count": null,
   "metadata": {},
   "outputs": [],
   "source": [
    "targets_dict = {}\n",
    "for key in ds_task:\n",
    "    unique_targets = ds_task[key].unique('targets')\n",
    "    short_targets = [target for target in unique_targets if len(target) < 20]\n",
    "    targets_dict[key] = short_targets"
   ]
  },
  {
   "cell_type": "code",
   "execution_count": null,
   "metadata": {},
   "outputs": [],
   "source": [
    "import json\n",
    "with open('/share/edc/home/antonis/datasets/huggingface/flan_v1_task_ds/short_targets.json', 'w') as f:\n",
    "    json.dump(targets_dict, f, indent=4)"
   ]
  },
  {
   "cell_type": "code",
   "execution_count": null,
   "metadata": {},
   "outputs": [],
   "source": [
    "# load file\n",
    "with open('/share/edc/home/antonis/datasets/huggingface/flan_v1_task_ds/short_targets.json', 'r') as f:\n",
    "    targets_dict = json.load(f)"
   ]
  },
  {
   "cell_type": "code",
   "execution_count": null,
   "metadata": {},
   "outputs": [],
   "source": [
    "# is str in list\n",
    "\n",
    "strings = [\"it is not possible to tell\", \"pick from the following\"]\n",
    "task = \"NLI\"\n",
    "for string in strings:\n",
    "    if string in targets_dict[task]:\n",
    "        print(f\"{string} in {task}\")\n",
    "    else:\n",
    "        print(f\"{string} not in {task}\")"
   ]
  },
  {
   "cell_type": "code",
   "execution_count": null,
   "metadata": {},
   "outputs": [],
   "source": [
    "ds_flan = load_dataset(\"declare-lab/flan-mini\", subset=\"Flan2021\")"
   ]
  },
  {
   "cell_type": "code",
   "execution_count": null,
   "metadata": {},
   "outputs": [],
   "source": [
    "import re\n",
    "\n",
    "def extract_options(input_string):\n",
    "    # Define a regular expression pattern for the options phrase\n",
    "    pattern = r\"(options are|OPTIONS|options):?\\s*(.*)\"\n",
    "    # Search for the pattern in the input string, ignoring case\n",
    "    match = re.search(pattern, input_string, re.IGNORECASE)\n",
    "    if match:\n",
    "        # If a match is found, split the matched string on '--' to get individual options\n",
    "        options = match.group(2).split('--')\n",
    "        # Remove leading and trailing whitespace from each option\n",
    "        options = [option.strip() for option in options if option]\n",
    "        return options\n",
    "    else:\n",
    "        return []\n",
    "\n",
    "print(extract_options(ds_task['NLI']['inputs'][1]))"
   ]
  },
  {
   "cell_type": "code",
   "execution_count": null,
   "metadata": {},
   "outputs": [],
   "source": [
    "len(set(ds['task_name']))\n",
    "set(ds['task_name'])"
   ]
  },
  {
   "cell_type": "code",
   "execution_count": null,
   "metadata": {},
   "outputs": [],
   "source": [
    "required_tasks = [\n",
    "    \"anli\",\n",
    "    \"rte\",\n",
    "    \"cb\",\n",
    "    \"snli\",\n",
    "    \"mnli\",\n",
    "    \"wnli\",\n",
    "    \"qnli\"\n",
    "]\n",
    "\n",
    "ds1 = ds.filter(lambda example: any(task in example['task_name'] for task in required_tasks))\n",
    "\n",
    "\n"
   ]
  },
  {
   "cell_type": "code",
   "execution_count": null,
   "metadata": {},
   "outputs": [],
   "source": [
    "def concatenate_columns(dataset, column1, column2, new_column_name):\n",
    "    def concat_example(example):\n",
    "        example[new_column_name] = example[column1] + \" \" + example[column2]\n",
    "        return example\n",
    "\n",
    "    return dataset.map(concat_example)\n",
    "\n",
    "# Usage example:\n",
    "ds1 = concatenate_columns(ds1, 'inputs', 'targets', 'text')"
   ]
  },
  {
   "cell_type": "code",
   "execution_count": null,
   "metadata": {},
   "outputs": [],
   "source": [
    "from transformers import GPT2Tokenizer\n",
    "from tqdm import tqdm\n",
    "\n",
    "def total_tokens(dataset, text_field):\n",
    "    tokenizer = GPT2Tokenizer.from_pretrained('gpt2')\n",
    "    total_count = 0\n",
    "    \n",
    "    for example in tqdm(dataset, desc=\"Counting tokens\"):\n",
    "        text = example[text_field]\n",
    "        tokens = tokenizer.tokenize(text)\n",
    "        total_count += len(tokens)\n",
    "\n",
    "    # Print the total count in scientific notation\n",
    "    print(f\"Total number of tokens: {total_count:.2e}\")\n",
    "\n",
    "    return total_count\n",
    "\n",
    "# Usage example:\n",
    "total_count = total_tokens(ds1, 'text')"
   ]
  },
  {
   "cell_type": "code",
   "execution_count": null,
   "metadata": {},
   "outputs": [],
   "source": [
    "print(f\"Total number of tokens: {total_count:.2e}\")"
   ]
  },
  {
   "cell_type": "code",
   "execution_count": null,
   "metadata": {},
   "outputs": [],
   "source": [
    "# ds['label']\n",
    "\n",
    "# # get unique labels\n",
    "# labels = set(ds['label'])\n",
    "# print(labels)"
   ]
  },
  {
   "cell_type": "code",
   "execution_count": null,
   "metadata": {},
   "outputs": [],
   "source": [
    "ds = load_from_disk(\"/share/edc/home/antonis/datasets/huggingface/merged_datasets/NLI/P_1_PQA_5_promptsource_False/dataset_1/dataset_train.arrow\")"
   ]
  },
  {
   "cell_type": "code",
   "execution_count": null,
   "metadata": {},
   "outputs": [],
   "source": [
    "labels = ds['train']['label']\n",
    "\n",
    "# find -1 in labels\n",
    "non_matching = []\n",
    "for i in range(len(labels)):\n",
    "    if labels[i] == -1:\n",
    "        print(i)\n",
    "        non_matching.append(i)\n",
    "        print_example(ds['train'][i])"
   ]
  },
  {
   "cell_type": "code",
   "execution_count": null,
   "metadata": {},
   "outputs": [],
   "source": [
    "# search revursively for .arrow file\n",
    "import glob\n",
    "import json\n",
    "\n",
    "base_dir = \"/share/edc/home/antonis/datasets/huggingface/merged_datasets/sentiment_unified_labels/P_1_PQA_5_promptsource_False\"\n",
    "\n",
    "arrow_files = glob.glob(base_dir + \"/**/*.arrow\", recursive=False)\n",
    "print(arrow_files)\n",
    "\n",
    "for file_ in arrow_files:\n",
    "    print(file_)\n",
    "    ds = load_from_disk(file_)\n",
    "    print(ds)\n",
    "\n",
    "json_files = glob.glob(base_dir + \"/**/*.json\", recursive=False)\n",
    "print(json_files)\n",
    "\n",
    "\n",
    "# def print_keys_values(data):\n",
    "#     for key, value in data.items():\n",
    "#         print(key)\n",
    "#         if isinstance(value, dict):\n",
    "#             print_keys_values(value)\n",
    "#         else:\n",
    "#             print(value)\n",
    "\n",
    "for file_ in json_files:\n",
    "    print(file_)\n",
    "    with open(file_, 'r') as f:\n",
    "        data = json.load(f)\n",
    "    # print keys and values recursively\n",
    "    # print_keys_values(data)\n",
    "    print(data)\n",
    "\n"
   ]
  },
  {
   "cell_type": "code",
   "execution_count": null,
   "metadata": {},
   "outputs": [],
   "source": [
    "arrow_files"
   ]
  },
  {
   "cell_type": "code",
   "execution_count": null,
   "metadata": {},
   "outputs": [],
   "source": [
    "# ds_pth = \"/share/edc/home/antonis/datasets/huggingface/merged_datasets/dataset_1/dataset_train.arrow\"\n",
    "# ds_pth = \"/share/edc/home/antonis/datasets/huggingface/merged_datasets/sentiment/dataset_1/dataset_validation.arrow\"\n",
    "# ds_pth = \"/share/edc/home/antonis/datasets/huggingface/merged_datasets/sentiment/P_QA_5/dataset_1/dataset_validation.arrow\"\n",
    "# dataset_c4 = load_dataset(\"c4\", \"en\", split=\"train[:20%]\", cache_dir=CACHE_DIR)\n",
    "\n",
    "ds_pth = \"/share/edc/home/antonis/datasets/huggingface/merged_datasets/sentiment_c4/P_1_PQA_5_promptsource_True/dataset_1/dataset_train.arrow\"\n",
    "dataset = load_from_disk(ds_pth)\n",
    "\n",
    "# ds_path2 = \"/share/edc/home/antonis/datasets/huggingface/merged_datasets/sentiment_c4/P_1_PQA_5_promptsource_True/dataset_0/dataset_train.arrow\"\n",
    "# dataset2 = load_from_disk(ds_path2)\n",
    "\n",
    "ds_pth_validation = \"/share/edc/home/antonis/datasets/huggingface/merged_datasets/sentiment_c4/P_1_PQA_5_promptsource_True/dataset_1/dataset_validation.arrow\"\n",
    "dataset_validation = load_from_disk(ds_pth_validation)"
   ]
  },
  {
   "cell_type": "code",
   "execution_count": null,
   "metadata": {},
   "outputs": [],
   "source": [
    "len(ds)"
   ]
  },
  {
   "cell_type": "code",
   "execution_count": null,
   "metadata": {},
   "outputs": [],
   "source": [
    "ds_imdb = load_dataset(\"imdb\", split=\"test\", cache_dir=CACHE_DIR)\n",
    "ds_sst = load_dataset(\"sst\", split=\"test\", cache_dir=CACHE_DIR)\n",
    "\n",
    "print(f\"IMDB len: {len(ds_imdb)}\")\n",
    "print(f\"SST len: {len(ds_sst)}\")"
   ]
  },
  {
   "cell_type": "code",
   "execution_count": null,
   "metadata": {},
   "outputs": [],
   "source": [
    "# first protion is IMDB, second is SST\n",
    "ds_pth_val = \"/share/edc/home/antonis/datasets/huggingface/merged_datasets/sentiment_c4/P_1_PQA_5_promptsource_True/dataset_1/dataset_validation.arrow\"\n",
    "dataset_val = load_from_disk(ds_pth_val)\n",
    "ds_pth2_val = \"/share/edc/home/antonis/datasets/huggingface/merged_datasets/sentiment_c4/P_1_PQA_5_promptsource_True/dataset_0/dataset_validation.arrow\"\n",
    "dataset2_val = load_from_disk(ds_pth2_val)"
   ]
  },
  {
   "cell_type": "code",
   "execution_count": null,
   "metadata": {},
   "outputs": [],
   "source": [
    "import json\n",
    "\n",
    "ds_path = \"/share/edc/home/antonis/datasets/huggingface/C4/limit_total_tokens_1240000000/train\"\n",
    "ds = load_from_disk(ds_path)"
   ]
  },
  {
   "cell_type": "code",
   "execution_count": null,
   "metadata": {},
   "outputs": [],
   "source": [
    "print(f\"train1: {len(dataset)}\")\n",
    "print(f\"train2: {len(dataset2)}\")\n",
    "print(f\"val1: {len(dataset_val)}\")\n",
    "print(f\"val2: {len(dataset2_val)}\")"
   ]
  },
  {
   "cell_type": "code",
   "execution_count": null,
   "metadata": {},
   "outputs": [],
   "source": [
    "dataset_val.select(range(len(dataset2_val)))"
   ]
  },
  {
   "cell_type": "code",
   "execution_count": null,
   "metadata": {},
   "outputs": [],
   "source": [
    "# dataset_val[-len(dataset2_val):]\n",
    "\n",
    "dataset_val1 = dataset_val.select(range(len(ds_imdb)))\n",
    "dataset_val2 = dataset_val.select(range(len(ds_imdb), len(dataset_val)))\n",
    "\n",
    "assert len(dataset_val1) + len(dataset_val2) == len(dataset_val), f\"len mismatch: {len(dataset_val1)} + {len(dataset_val2)} != {len(dataset_val)}\"\n",
    "\n",
    "def add_new_column1(example, keyword, column_name=\"dataset\"):\n",
    "    example[column_name] = keyword\n",
    "    return example\n",
    "\n",
    "dataset_val1 = dataset_val1.map(lambda x: add_new_column1(x, \"imdb\"))\n",
    "dataset_val2 = dataset_val2.map(lambda x: add_new_column1(x, \"sst\"))\n",
    "\n",
    "dataset_val = concatenate_datasets([dataset_val1, dataset_val2])\n",
    "\n",
    "# save the new dataset\n",
    "dataset_val.save_to_disk(os.path.join(os.path.dirname(ds_pth_val), \"dataset_validation_wname.arrow\"))"
   ]
  },
  {
   "cell_type": "code",
   "execution_count": null,
   "metadata": {},
   "outputs": [],
   "source": [
    "print(os.path.join(os.path.dirname(ds_pth_val), \"dataset_validation_wname.arrow\"))"
   ]
  },
  {
   "cell_type": "code",
   "execution_count": null,
   "metadata": {},
   "outputs": [],
   "source": [
    "import os\n",
    "import json\n",
    "import logging\n",
    "from datasets import load_dataset, Dataset\n",
    "from promptsource.templates import DatasetTemplates, TemplateCollection\n",
    "# set logging level to INFO\n",
    "from src._promptsource import get_T0MixtureDatasets \n",
    "logger = logging.getLogger(__name__)\n",
    "logger.setLevel(20)"
   ]
  },
  {
   "cell_type": "code",
   "execution_count": null,
   "metadata": {},
   "outputs": [],
   "source": [
    "TOMixture = [\n",
    "    (\"sst\",\"default\"), # Senitment Classification\")\n",
    "    (\"imdb\",None),\n",
    "]"
   ]
  },
  {
   "cell_type": "code",
   "execution_count": null,
   "metadata": {},
   "outputs": [],
   "source": [
    "# datasets = get_T0MixtureDatasets(\"test\", max_samples=1000, return_as_dict=True)\n",
    "# ds_sst = load_dataset(\"sst\", \"default\", split=\"test\", cache_dir=CACHE_DIR)\n",
    "ds_imdb = load_dataset(\"imdb\", split=\"test\", cache_dir=CACHE_DIR)\n",
    "# ds_yelp_review = load_dataset(\"yelp_review_full\", split=\"train\", cache_dir=CACHE_DIR)\n",
    "ds_sentiment140 = load_dataset(\"sentiment140\", split=\"test\", cache_dir=CACHE_DIR)\n",
    "\n",
    "print(f\"IMDB len: {len(ds_imdb)}\")\n",
    "# print(f\"Yelp len: {len(ds_yelp_review)}\")\n",
    "print(f\"Sentiment140 len: {len(ds_sentiment140)}\")"
   ]
  },
  {
   "cell_type": "code",
   "execution_count": null,
   "metadata": {},
   "outputs": [],
   "source": [
    "name, subset = TOMixture[0]\n",
    "example = ds_sst.select(range(1))\n",
    "# DatasetTemplates(name, subset).templates.get_get_answer_choices_list(example)"
   ]
  },
  {
   "cell_type": "code",
   "execution_count": null,
   "metadata": {},
   "outputs": [],
   "source": [
    "print(len(ds_sst))\n",
    "print(len(ds_imdb))\n",
    "# print(len(ds_yelp_review))\n",
    "# print(len(ds_sentiment140))\n",
    "\n",
    "import random\n",
    "\n",
    "ds_name = datasets['imdb']\n",
    "\n",
    "def apply_template(example, template, dataset_name):\n",
    "    if isinstance(template, list):\n",
    "        template = random.choice(template)\n",
    "    try:\n",
    "        answer_choices = template.get_answer_choices_list(example)\n",
    "    except:\n",
    "        answer_choices = None\n",
    "    # example['label'] = float(example['label'])\n",
    "    return {\"prompt\": template.apply(example), \"answer_choices\": answer_choices, \"dataset\": dataset_name}\n",
    "\n",
    "# # You can apply the template to the dataset\n",
    "# prompted_dataset = ds_name.map(lambda example: apply_template(example, ds_name.templates))\n",
    "\n",
    "def create_prompted_dataset(datasets):\n",
    "    prompted_datasets = {}\n",
    "    for name, dataset in datasets.items():\n",
    "        prompted_dataset = dataset.map(lambda example: apply_template(example, dataset.templates, name))\n",
    "        # columns to keep\n",
    "        columns_to_keep = [\"prompt\", \"answer_choices\", \"dataset\"]\n",
    "        prompted_dataset = prompted_dataset.remove_columns([col for col in prompted_dataset.column_names if col not in columns_to_keep])\n",
    "        prompted_datasets[name] = prompted_dataset\n",
    "\n",
    "    prompted_datasets = concatenate_datasets([dataset for name, dataset in prompted_datasets.items()])\n",
    "    return prompted_datasets\n",
    "\n",
    "prompted_datasets = create_prompted_dataset(datasets)"
   ]
  },
  {
   "cell_type": "code",
   "execution_count": null,
   "metadata": {},
   "outputs": [],
   "source": [
    "# save prompted dataset\n",
    "\n",
    "# prompted_datasets.save_to_disk(\"/share/edc/home/antonis/datasets/huggingface/merged_datasets/sentiment_c4/P_1_PQA_5_promptsource_True/dataset_0/dataset_test_with_answers.arrow\")"
   ]
  },
  {
   "cell_type": "code",
   "execution_count": null,
   "metadata": {},
   "outputs": [],
   "source": [
    "for name, dataset in datasets.items():\n",
    "    print(name, dataset)\n",
    "    print(dataset.templates)"
   ]
  }
 ],
 "metadata": {
  "kernelspec": {
   "display_name": "incidental",
   "language": "python",
   "name": "python3"
  },
  "language_info": {
   "codemirror_mode": {
    "name": "ipython",
    "version": 3
   },
   "file_extension": ".py",
   "mimetype": "text/x-python",
   "name": "python",
   "nbconvert_exporter": "python",
   "pygments_lexer": "ipython3",
   "version": "3.11.3"
  },
  "orig_nbformat": 4
 },
 "nbformat": 4,
 "nbformat_minor": 2
}
