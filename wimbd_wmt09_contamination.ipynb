{
 "cells": [
  {
   "cell_type": "code",
   "execution_count": 1,
   "metadata": {},
   "outputs": [],
   "source": [
    "import os\n",
    "import glob\n",
    "from datasets import load_dataset, load_from_disk, concatenate_datasets, get_dataset_config_names\n",
    "# from promptsource import templates\n",
    "import pickle\n",
    "import pandas as pd"
   ]
  },
  {
   "cell_type": "code",
   "execution_count": 2,
   "metadata": {},
   "outputs": [
    {
     "name": "stdout",
     "output_type": "stream",
     "text": [
      "['./results/n-grams/wmt/pile/exp4/n_samples_None_fkeyFalse_rkeyFalse_fstopFalse_onlyalphaTrue/7/common/de-en.pkl', './results/n-grams/wmt/pile/exp4/n_samples_None_fkeyFalse_rkeyFalse_fstopFalse_onlyalphaTrue/7/common/task-coverage.pkl', './results/n-grams/wmt/pile/exp4/n_samples_None_fkeyFalse_rkeyFalse_fstopFalse_onlyalphaTrue/7/common/task-p-coverage.pkl', './results/n-grams/wmt/pile/exp4/n_samples_None_fkeyFalse_rkeyFalse_fstopFalse_onlyalphaTrue/7/common/es-en.pkl', './results/n-grams/wmt/pile/exp4/n_samples_None_fkeyFalse_rkeyFalse_fstopFalse_onlyalphaTrue/7/common/cs-en.pkl', './results/n-grams/wmt/pile/exp4/n_samples_None_fkeyFalse_rkeyFalse_fstopFalse_onlyalphaTrue/7/common/hu-en.pkl', './results/n-grams/wmt/pile/exp4/n_samples_None_fkeyFalse_rkeyFalse_fstopFalse_onlyalphaTrue/7/common/it-en.pkl', './results/n-grams/wmt/pile/exp4/n_samples_None_fkeyFalse_rkeyFalse_fstopFalse_onlyalphaTrue/7/common/fr-en.pkl']\n"
     ]
    },
    {
     "ename": "KeyError",
     "evalue": "'ngram'",
     "output_type": "error",
     "traceback": [
      "\u001b[0;31m---------------------------------------------------------------------------\u001b[0m",
      "\u001b[0;31mKeyError\u001b[0m                                  Traceback (most recent call last)",
      "File \u001b[0;32m~/.conda/envs/incidental/lib/python3.11/site-packages/pandas/core/indexes/base.py:3652\u001b[0m, in \u001b[0;36mIndex.get_loc\u001b[0;34m(self, key)\u001b[0m\n\u001b[1;32m   3651\u001b[0m \u001b[38;5;28;01mtry\u001b[39;00m:\n\u001b[0;32m-> 3652\u001b[0m     \u001b[38;5;28;01mreturn\u001b[39;00m \u001b[38;5;28;43mself\u001b[39;49m\u001b[38;5;241;43m.\u001b[39;49m\u001b[43m_engine\u001b[49m\u001b[38;5;241;43m.\u001b[39;49m\u001b[43mget_loc\u001b[49m\u001b[43m(\u001b[49m\u001b[43mcasted_key\u001b[49m\u001b[43m)\u001b[49m\n\u001b[1;32m   3653\u001b[0m \u001b[38;5;28;01mexcept\u001b[39;00m \u001b[38;5;167;01mKeyError\u001b[39;00m \u001b[38;5;28;01mas\u001b[39;00m err:\n",
      "File \u001b[0;32m~/.conda/envs/incidental/lib/python3.11/site-packages/pandas/_libs/index.pyx:147\u001b[0m, in \u001b[0;36mpandas._libs.index.IndexEngine.get_loc\u001b[0;34m()\u001b[0m\n",
      "File \u001b[0;32m~/.conda/envs/incidental/lib/python3.11/site-packages/pandas/_libs/index.pyx:176\u001b[0m, in \u001b[0;36mpandas._libs.index.IndexEngine.get_loc\u001b[0;34m()\u001b[0m\n",
      "File \u001b[0;32mpandas/_libs/hashtable_class_helper.pxi:7080\u001b[0m, in \u001b[0;36mpandas._libs.hashtable.PyObjectHashTable.get_item\u001b[0;34m()\u001b[0m\n",
      "File \u001b[0;32mpandas/_libs/hashtable_class_helper.pxi:7088\u001b[0m, in \u001b[0;36mpandas._libs.hashtable.PyObjectHashTable.get_item\u001b[0;34m()\u001b[0m\n",
      "\u001b[0;31mKeyError\u001b[0m: 'ngram'",
      "\nThe above exception was the direct cause of the following exception:\n",
      "\u001b[0;31mKeyError\u001b[0m                                  Traceback (most recent call last)",
      "Cell \u001b[0;32mIn[2], line 36\u001b[0m\n\u001b[1;32m     26\u001b[0m         display(df)\n\u001b[1;32m     29\u001b[0m \u001b[38;5;66;03m# df = pd.DataFrame(pickle.load(open(pth, \"rb\"))).T.sort_values(\"value\", ascending=False)\u001b[39;00m\n\u001b[1;32m     30\u001b[0m \u001b[38;5;66;03m# df = df.reset_index().rename(columns={'index': 'ngram'})\u001b[39;00m\n\u001b[1;32m     31\u001b[0m \n\u001b[1;32m     32\u001b[0m \u001b[38;5;66;03m# df = df[df[\"ngram\"].apply(lambda x: len(x.split()) >= 5)]\u001b[39;00m\n\u001b[1;32m     33\u001b[0m \u001b[38;5;66;03m# df = df[df[\"value\"] > 0].reset_index(drop=True)\u001b[39;00m\n\u001b[1;32m     34\u001b[0m \u001b[38;5;66;03m# display(df)\u001b[39;00m\n\u001b[0;32m---> 36\u001b[0m df_7 \u001b[38;5;241m=\u001b[39m \u001b[43mload_dicts\u001b[49m\u001b[43m(\u001b[49m\u001b[43mpaths\u001b[49m\u001b[43m[\u001b[49m\u001b[38;5;241;43m0\u001b[39;49m\u001b[43m]\u001b[49m\u001b[43m)\u001b[49m\n\u001b[1;32m     37\u001b[0m df_13 \u001b[38;5;241m=\u001b[39m load_dicts(paths[\u001b[38;5;241m1\u001b[39m])\n",
      "Cell \u001b[0;32mIn[2], line 19\u001b[0m, in \u001b[0;36mload_dicts\u001b[0;34m(pth)\u001b[0m\n\u001b[1;32m     17\u001b[0m \u001b[38;5;28;01mfor\u001b[39;00m file \u001b[38;5;129;01min\u001b[39;00m pkl_files:\n\u001b[1;32m     18\u001b[0m     filename \u001b[38;5;241m=\u001b[39m os\u001b[38;5;241m.\u001b[39mpath\u001b[38;5;241m.\u001b[39mbasename(file)\u001b[38;5;241m.\u001b[39mreplace(\u001b[38;5;124m'\u001b[39m\u001b[38;5;124m.pkl\u001b[39m\u001b[38;5;124m'\u001b[39m, \u001b[38;5;124m'\u001b[39m\u001b[38;5;124m'\u001b[39m)\n\u001b[0;32m---> 19\u001b[0m     df \u001b[38;5;241m=\u001b[39m \u001b[43mprocess_df\u001b[49m\u001b[43m(\u001b[49m\u001b[43mpd\u001b[49m\u001b[38;5;241;43m.\u001b[39;49m\u001b[43mread_pickle\u001b[49m\u001b[43m(\u001b[49m\u001b[43mfile\u001b[49m\u001b[43m)\u001b[49m\u001b[43m)\u001b[49m\n\u001b[1;32m     20\u001b[0m     df_dict[filename] \u001b[38;5;241m=\u001b[39m df\n\u001b[1;32m     21\u001b[0m     \u001b[38;5;28;01mreturn\u001b[39;00m df_dict\n",
      "Cell \u001b[0;32mIn[2], line 9\u001b[0m, in \u001b[0;36mprocess_df\u001b[0;34m(df)\u001b[0m\n\u001b[1;32m      7\u001b[0m df \u001b[38;5;241m=\u001b[39m pd\u001b[38;5;241m.\u001b[39mDataFrame(df)\u001b[38;5;241m.\u001b[39mT\u001b[38;5;241m.\u001b[39msort_values(\u001b[38;5;124m\"\u001b[39m\u001b[38;5;124mvalue\u001b[39m\u001b[38;5;124m\"\u001b[39m, ascending\u001b[38;5;241m=\u001b[39m\u001b[38;5;28;01mFalse\u001b[39;00m)\n\u001b[1;32m      8\u001b[0m df \u001b[38;5;241m=\u001b[39m df\u001b[38;5;241m.\u001b[39mreset_index()\u001b[38;5;241m.\u001b[39mrename(columns\u001b[38;5;241m=\u001b[39m{\u001b[38;5;124m'\u001b[39m\u001b[38;5;124mindex\u001b[39m\u001b[38;5;124m'\u001b[39m: \u001b[38;5;124m'\u001b[39m\u001b[38;5;124mngram\u001b[39m\u001b[38;5;124m'\u001b[39m})\n\u001b[0;32m----> 9\u001b[0m df \u001b[38;5;241m=\u001b[39m df[\u001b[43mdf\u001b[49m\u001b[43m[\u001b[49m\u001b[38;5;124;43m\"\u001b[39;49m\u001b[38;5;124;43mngram\u001b[39;49m\u001b[38;5;124;43m\"\u001b[39;49m\u001b[43m]\u001b[49m\u001b[38;5;241m.\u001b[39mapply(\u001b[38;5;28;01mlambda\u001b[39;00m x: \u001b[38;5;28mlen\u001b[39m(x\u001b[38;5;241m.\u001b[39msplit()) \u001b[38;5;241m>\u001b[39m\u001b[38;5;241m=\u001b[39m \u001b[38;5;241m5\u001b[39m)]\n\u001b[1;32m     10\u001b[0m df \u001b[38;5;241m=\u001b[39m df[df[\u001b[38;5;124m\"\u001b[39m\u001b[38;5;124mvalue\u001b[39m\u001b[38;5;124m\"\u001b[39m] \u001b[38;5;241m>\u001b[39m \u001b[38;5;241m0\u001b[39m]\u001b[38;5;241m.\u001b[39mreset_index(drop\u001b[38;5;241m=\u001b[39m\u001b[38;5;28;01mTrue\u001b[39;00m)\n\u001b[1;32m     11\u001b[0m \u001b[38;5;28;01mreturn\u001b[39;00m df\n",
      "File \u001b[0;32m~/.conda/envs/incidental/lib/python3.11/site-packages/pandas/core/frame.py:3761\u001b[0m, in \u001b[0;36mDataFrame.__getitem__\u001b[0;34m(self, key)\u001b[0m\n\u001b[1;32m   3759\u001b[0m \u001b[38;5;28;01mif\u001b[39;00m \u001b[38;5;28mself\u001b[39m\u001b[38;5;241m.\u001b[39mcolumns\u001b[38;5;241m.\u001b[39mnlevels \u001b[38;5;241m>\u001b[39m \u001b[38;5;241m1\u001b[39m:\n\u001b[1;32m   3760\u001b[0m     \u001b[38;5;28;01mreturn\u001b[39;00m \u001b[38;5;28mself\u001b[39m\u001b[38;5;241m.\u001b[39m_getitem_multilevel(key)\n\u001b[0;32m-> 3761\u001b[0m indexer \u001b[38;5;241m=\u001b[39m \u001b[38;5;28;43mself\u001b[39;49m\u001b[38;5;241;43m.\u001b[39;49m\u001b[43mcolumns\u001b[49m\u001b[38;5;241;43m.\u001b[39;49m\u001b[43mget_loc\u001b[49m\u001b[43m(\u001b[49m\u001b[43mkey\u001b[49m\u001b[43m)\u001b[49m\n\u001b[1;32m   3762\u001b[0m \u001b[38;5;28;01mif\u001b[39;00m is_integer(indexer):\n\u001b[1;32m   3763\u001b[0m     indexer \u001b[38;5;241m=\u001b[39m [indexer]\n",
      "File \u001b[0;32m~/.conda/envs/incidental/lib/python3.11/site-packages/pandas/core/indexes/base.py:3654\u001b[0m, in \u001b[0;36mIndex.get_loc\u001b[0;34m(self, key)\u001b[0m\n\u001b[1;32m   3652\u001b[0m     \u001b[38;5;28;01mreturn\u001b[39;00m \u001b[38;5;28mself\u001b[39m\u001b[38;5;241m.\u001b[39m_engine\u001b[38;5;241m.\u001b[39mget_loc(casted_key)\n\u001b[1;32m   3653\u001b[0m \u001b[38;5;28;01mexcept\u001b[39;00m \u001b[38;5;167;01mKeyError\u001b[39;00m \u001b[38;5;28;01mas\u001b[39;00m err:\n\u001b[0;32m-> 3654\u001b[0m     \u001b[38;5;28;01mraise\u001b[39;00m \u001b[38;5;167;01mKeyError\u001b[39;00m(key) \u001b[38;5;28;01mfrom\u001b[39;00m \u001b[38;5;21;01merr\u001b[39;00m\n\u001b[1;32m   3655\u001b[0m \u001b[38;5;28;01mexcept\u001b[39;00m \u001b[38;5;167;01mTypeError\u001b[39;00m:\n\u001b[1;32m   3656\u001b[0m     \u001b[38;5;66;03m# If we have a listlike key, _check_indexing_error will raise\u001b[39;00m\n\u001b[1;32m   3657\u001b[0m     \u001b[38;5;66;03m#  InvalidIndexError. Otherwise we fall through and re-raise\u001b[39;00m\n\u001b[1;32m   3658\u001b[0m     \u001b[38;5;66;03m#  the TypeError.\u001b[39;00m\n\u001b[1;32m   3659\u001b[0m     \u001b[38;5;28mself\u001b[39m\u001b[38;5;241m.\u001b[39m_check_indexing_error(key)\n",
      "\u001b[0;31mKeyError\u001b[0m: 'ngram'"
     ]
    }
   ],
   "source": [
    "base_pth = \"./results/n-grams/wmt/pile/exp4/n_samples_None_fkeyFalse_rkeyFalse_fstopFalse_onlyalphaTrue\"\n",
    "NGRAMS = [7, 13]\n",
    "paths = [os.path.join(base_pth, str(ngram), 'common') for ngram in NGRAMS]\n",
    "\n",
    "\n",
    "def process_df(df):\n",
    "    df = pd.DataFrame(df).T.sort_values(\"value\", ascending=False)\n",
    "    df = df.reset_index().rename(columns={'index': 'ngram'})\n",
    "    df = df[df[\"ngram\"].apply(lambda x: len(x.split()) >= 5)]\n",
    "    df = df[df[\"value\"] > 0].reset_index(drop=True)\n",
    "    return df\n",
    "\n",
    "def load_dicts(pth):\n",
    "    pkl_files = glob.glob(os.path.join(pth, \"**.pkl\"))\n",
    "    print(pkl_files)\n",
    "    df_dict = {}\n",
    "    for file in pkl_files:\n",
    "        filename = os.path.basename(file).replace('.pkl', '')\n",
    "        df = process_df(pd.read_pickle(file))\n",
    "        df_dict[filename] = df\n",
    "        return df_dict\n",
    "\n",
    "def display_dict(df_dict):\n",
    "    for name, df in df_dict.items():\n",
    "        print(f\"------ {name} ------\")\n",
    "        display(df)\n",
    "        \n",
    "\n",
    "# df = pd.DataFrame(pickle.load(open(pth, \"rb\"))).T.sort_values(\"value\", ascending=False)\n",
    "# df = df.reset_index().rename(columns={'index': 'ngram'})\n",
    "\n",
    "# df = df[df[\"ngram\"].apply(lambda x: len(x.split()) >= 5)]\n",
    "# df = df[df[\"value\"] > 0].reset_index(drop=True)\n",
    "# display(df)\n",
    "\n",
    "df_7 = load_dicts(paths[0])\n",
    "df_13 = load_dicts(paths[1])"
   ]
  },
  {
   "cell_type": "code",
   "execution_count": null,
   "metadata": {},
   "outputs": [],
   "source": [
    "df_7"
   ]
  },
  {
   "cell_type": "code",
   "execution_count": null,
   "metadata": {},
   "outputs": [],
   "source": [
    "display_dict(df_7)"
   ]
  }
 ],
 "metadata": {
  "kernelspec": {
   "display_name": "incidental",
   "language": "python",
   "name": "python3"
  },
  "language_info": {
   "codemirror_mode": {
    "name": "ipython",
    "version": 3
   },
   "file_extension": ".py",
   "mimetype": "text/x-python",
   "name": "python",
   "nbconvert_exporter": "python",
   "pygments_lexer": "ipython3",
   "version": "3.11.3"
  }
 },
 "nbformat": 4,
 "nbformat_minor": 2
}
