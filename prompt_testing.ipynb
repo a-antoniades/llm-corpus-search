{
 "cells": [
  {
   "cell_type": "code",
   "execution_count": 1,
   "metadata": {},
   "outputs": [
    {
     "name": "stderr",
     "output_type": "stream",
     "text": [
      "/local/home/antonis/.conda/envs/incidental/lib/python3.11/site-packages/tqdm/auto.py:21: TqdmWarning: IProgress not found. Please update jupyter and ipywidgets. See https://ipywidgets.readthedocs.io/en/stable/user_install.html\n",
      "  from .autonotebook import tqdm as notebook_tqdm\n"
     ]
    }
   ],
   "source": [
    "from datasets import load_dataset, load_from_disk\n",
    "from promptsource import templates\n",
    "\n",
    "CACHE_DIR = \"/share/edc/home/antonis/datasets/huggingface\"\n",
    "import os\n",
    "os.environ[\"HF_DATASETS_CACHE\"] = CACHE_DIR"
   ]
  },
  {
   "cell_type": "code",
   "execution_count": null,
   "metadata": {},
   "outputs": [],
   "source": [
    "ds_pth = \"/share/edc/home/antonis/datasets/huggingface/merged_datasets/dataset_1/dataset_validation.arrow\"\n",
    "dataset = load_from_disk(ds_pth)"
   ]
  },
  {
   "cell_type": "code",
   "execution_count": null,
   "metadata": {},
   "outputs": [],
   "source": [
    "import re\n",
    "import json\n",
    "\n",
    "def generate_qa_prompt(example):\n",
    "    # Extract the tripleset from the input example\n",
    "    tripleset_match = re.search(\"tripleset: (.+?) annotations\", example)\n",
    "    if tripleset_match:\n",
    "        tripleset_str = tripleset_match.group(1)\n",
    "        tripleset = json.loads(tripleset_str.replace(\"\\'\", \"\\\"\"))\n",
    "    else:\n",
    "        return \"Error: Could not extract tripleset from example.\"\n",
    "    \n",
    "    # Extract the text (answer) from the input example\n",
    "    text_match = re.search(\"text': \\[(.+?)]\", example)\n",
    "    if text_match:\n",
    "        text_str = text_match.group(1)\n",
    "        # replace escaped single quotes with actual single quotes\n",
    "        answer = text_str.replace(\"\\\\'\", \"'\")\n",
    "    else:\n",
    "        return \"Error: Could not extract text from example.\"\n",
    "    \n",
    "    # Construct the prompt using the information in the tripleset\n",
    "    info_list = [\"- {} {} {}\".format(triple[0], triple[1], triple[2]) for triple in tripleset]\n",
    "    info_text = \"\\n\".join(info_list)\n",
    "    prompt = (\"Create a concise and grammatically correct sentence that \"\n",
    "              \"incorporates the information provided in the triple set. \"\n",
    "              \"Please ensure that your sentence naturally integrates this \"\n",
    "              \"information:\\n{}\\nMake sure your sentence reads naturally and is informative.\"\n",
    "              .format(info_text))\n",
    "    \n",
    "    return {'prompt': prompt, 'answer': answer}\n",
    "\n",
    "\n",
    "# Example usage:\n",
    "example = \"tripleset: [['Mars Hill College', 'JOINED', '1973'], ['Mars Hill College', 'LOCATION', 'Mars Hill, North Carolina']] annotations: 'source': ['WikiSQL_decl_sents'], 'text': ['A school from Mars Hill, North Carolina, joined in 1973.']\"\n",
    "\n",
    "result = generate_qa_prompt(example)\n",
    "print(\"Prompt:\", result['prompt'])\n",
    "print(\"Answer:\", result['answer'])\n"
   ]
  },
  {
   "cell_type": "code",
   "execution_count": null,
   "metadata": {},
   "outputs": [],
   "source": [
    "import re\n",
    "import json\n",
    "import random\n",
    "\n",
    "def generate_qa_prompt(example):\n",
    "    # Extract the tripleset from the input example\n",
    "    tripleset_match = re.search(\"tripleset: (.+?) annotations\", example)\n",
    "    if tripleset_match:\n",
    "        tripleset_str = tripleset_match.group(1)\n",
    "        tripleset = json.loads(tripleset_str.replace(\"\\'\", \"\\\"\"))\n",
    "    else:\n",
    "        return \"Error: Could not extract tripleset from example.\"\n",
    "    \n",
    "    # Extract the text (answer) from the input example\n",
    "    text_match = re.search(\"text': \\[(.+?)]\", example)\n",
    "    if text_match:\n",
    "        text_str = text_match.group(1)\n",
    "        # replace escaped single quotes with actual single quotes\n",
    "        answer = text_str.replace(\"\\\\'\", \"'\")\n",
    "    else:\n",
    "        return \"Error: Could not extract text from example.\"\n",
    "    \n",
    "    # Construct the info list\n",
    "    info_list = [\"- {} {} {}\".format(triple[0], triple[1], triple[2]) for triple in tripleset]\n",
    "    info_text = \"\\n\".join(info_list)\n",
    "    \n",
    "    # Define 10 different prompt structures\n",
    "    prompt_structures = [\n",
    "        \"Create a concise and grammatically correct sentence that incorporates the information provided in the triple set. Please ensure that your sentence naturally integrates this information:\\n{}\\nMake sure your sentence reads naturally and is informative.\",\n",
    "        \"Compose a short, grammatically accurate sentence that seamlessly includes the following details:\\n{}\\nEnsure the sentence flows naturally.\",\n",
    "        \"Using the following information, write a clear and concise sentence:\\n{}\\nThe sentence should be grammatically correct and easy to understand.\",\n",
    "        \"Construct a sentence using the information given below. Your sentence should be brief and grammatically correct:\\n{}\",\n",
    "        \"Your task is to create a sentence that communicates the information below in a clear and natural way:\\n{}\",\n",
    "        \"Write a grammatical sentence that integrates the following information in a coherent manner:\\n{}\",\n",
    "        \"Please formulate a sentence using the information provided below. Ensure it is grammatically correct and makes logical sense:\\n{}\",\n",
    "        \"Using the data points below, create a single sentence that is grammatically correct and effectively communicates the information:\\n{}\",\n",
    "        \"Construct a grammatically accurate and informative sentence using the details given below:\\n{}\",\n",
    "        \"Combine the information provided into a single, grammatically correct sentence that reads naturally:\\n{}\"\n",
    "    ]\n",
    "    \n",
    "    # Randomly select a prompt structure\n",
    "    prompt = random.choice(prompt_structures).format(info_text)\n",
    "    \n",
    "    return {'prompt': prompt, 'answer': answer}\n",
    "\n",
    "\n",
    "# Example usage:\n",
    "example = \"tripleset: [['Mars Hill College', 'JOINED', '1973'], ['Mars Hill College', 'LOCATION', 'Mars Hill, North Carolina']] annotations: 'source': ['WikiSQL_decl_sents'], 'text': ['A school from Mars Hill, North Carolina, joined in 1973.']\"\n",
    "\n",
    "result = generate_qa_prompt(example)\n",
    "print(\"Prompt:\", result['prompt'])\n",
    "print(\"Answer:\", result['answer'])"
   ]
  }
 ],
 "metadata": {
  "kernelspec": {
   "display_name": "incidental",
   "language": "python",
   "name": "python3"
  },
  "language_info": {
   "codemirror_mode": {
    "name": "ipython",
    "version": 3
   },
   "file_extension": ".py",
   "mimetype": "text/x-python",
   "name": "python",
   "nbconvert_exporter": "python",
   "pygments_lexer": "ipython3",
   "version": "3.11.3"
  },
  "orig_nbformat": 4
 },
 "nbformat": 4,
 "nbformat_minor": 2
}
