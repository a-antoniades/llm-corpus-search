{
 "cells": [
  {
   "cell_type": "code",
   "execution_count": 1,
   "metadata": {},
   "outputs": [
    {
     "name": "stderr",
     "output_type": "stream",
     "text": [
      "/local/home/antonis/.conda/envs/incidental/lib/python3.11/site-packages/tqdm/auto.py:21: TqdmWarning: IProgress not found. Please update jupyter and ipywidgets. See https://ipywidgets.readthedocs.io/en/stable/user_install.html\n",
      "  from .autonotebook import tqdm as notebook_tqdm\n"
     ]
    }
   ],
   "source": [
    "import os\n",
    "import datasets\n",
    "from promptsource import templates\n",
    "\n",
    "CACHE_DIR = \"/share/edc/home/antonis/datasets/huggingface\"\n",
    "import os\n",
    "os.environ[\"HF_DATASETS_CACHE\"] = CACHE_DIR"
   ]
  },
  {
   "cell_type": "code",
   "execution_count": 2,
   "metadata": {},
   "outputs": [
    {
     "name": "stderr",
     "output_type": "stream",
     "text": [
      "Found cached dataset sst2 (/share/edc/home/antonis/datasets/huggingface/sst2/default/2.0.0/9896208a8d85db057ac50c72282bcb8fe755accc671a57dd8059d4e130961ed5)\n",
      "100%|██████████| 3/3 [00:00<00:00, 85.88it/s]\n"
     ]
    },
    {
     "ename": "AttributeError",
     "evalue": "module 'promptsource.templates' has no attribute 'get_dataset_templates'",
     "output_type": "error",
     "traceback": [
      "\u001b[0;31m---------------------------------------------------------------------------\u001b[0m",
      "\u001b[0;31mAttributeError\u001b[0m                            Traceback (most recent call last)",
      "Cell \u001b[0;32mIn[2], line 13\u001b[0m\n\u001b[1;32m     10\u001b[0m dataset \u001b[39m=\u001b[39m datasets\u001b[39m.\u001b[39mload_dataset(DATASET_NAME, cache_dir\u001b[39m=\u001b[39mCACHE_DIR)\n\u001b[1;32m     12\u001b[0m \u001b[39m# Load the templates (replace 'squad' with the name of the dataset you want to use)\u001b[39;00m\n\u001b[0;32m---> 13\u001b[0m prompt_templates \u001b[39m=\u001b[39m templates\u001b[39m.\u001b[39;49mget_dataset_templates(DATASET_NAME)\n\u001b[1;32m     15\u001b[0m \u001b[39m# Select a specific template\u001b[39;00m\n\u001b[1;32m     16\u001b[0m \u001b[39m# (replace 'question' with the name of the template you want to use)\u001b[39;00m\n\u001b[1;32m     17\u001b[0m template \u001b[39m=\u001b[39m prompt_templates[\u001b[39m'\u001b[39m\u001b[39mquestion\u001b[39m\u001b[39m'\u001b[39m]\n",
      "\u001b[0;31mAttributeError\u001b[0m: module 'promptsource.templates' has no attribute 'get_dataset_templates'"
     ]
    }
   ],
   "source": [
    "import os\n",
    "import datasets\n",
    "from promptsource import templates\n",
    "\n",
    "\n",
    "# Load a dataset from Hugging Face datasets library\n",
    "# (replace 'squad' with the name of the dataset you want to use)\n",
    "DATASET_NAME = \"sst2\"\n",
    "\n",
    "dataset = datasets.load_dataset(DATASET_NAME, cache_dir=CACHE_DIR)\n",
    "\n",
    "# Load the templates (replace 'squad' with the name of the dataset you want to use)\n",
    "prompt_templates = templates.get_dataset_templates(DATASET_NAME)\n",
    "\n",
    "# Select a specific template\n",
    "# (replace 'question' with the name of the template you want to use)\n",
    "template = prompt_templates['question']\n",
    "\n",
    "# Apply the template to the dataset\n",
    "def apply_template(example):\n",
    "    return template.apply(example)\n",
    "\n",
    "# You can apply the template to the dataset\n",
    "prompted_dataset = dataset.map(apply_template)\n",
    "\n",
    "# The prompted_dataset now contains the data in the prompt format.\n",
    "# You can use it for training or evaluation.\n",
    "\n",
    "print(prompted_dataset['train'][0])"
   ]
  },
  {
   "cell_type": "code",
   "execution_count": 3,
   "metadata": {},
   "outputs": [],
   "source": [
    "# get dataset name"
   ]
  },
  {
   "cell_type": "code",
   "execution_count": 4,
   "metadata": {},
   "outputs": [
    {
     "ename": "ImportError",
     "evalue": "cannot import name 'TemplateCollection' from 'promptsource' (/local/home/antonis/.conda/envs/incidental/lib/python3.11/site-packages/promptsource/__init__.py)",
     "output_type": "error",
     "traceback": [
      "\u001b[0;31m---------------------------------------------------------------------------\u001b[0m",
      "\u001b[0;31mImportError\u001b[0m                               Traceback (most recent call last)",
      "Cell \u001b[0;32mIn[4], line 2\u001b[0m\n\u001b[1;32m      1\u001b[0m \u001b[39mimport\u001b[39;00m \u001b[39mdatasets\u001b[39;00m\n\u001b[0;32m----> 2\u001b[0m \u001b[39mfrom\u001b[39;00m \u001b[39mpromptsource\u001b[39;00m \u001b[39mimport\u001b[39;00m TemplateCollection\n\u001b[1;32m      4\u001b[0m \u001b[39m# Load a dataset from Hugging Face datasets library\u001b[39;00m\n\u001b[1;32m      5\u001b[0m \u001b[39m# (replace 'squad' with the name of the dataset you want to use)\u001b[39;00m\n\u001b[1;32m      6\u001b[0m dataset \u001b[39m=\u001b[39m datasets\u001b[39m.\u001b[39mload_dataset(\u001b[39m\"\u001b[39m\u001b[39msquad\u001b[39m\u001b[39m\"\u001b[39m)\n",
      "\u001b[0;31mImportError\u001b[0m: cannot import name 'TemplateCollection' from 'promptsource' (/local/home/antonis/.conda/envs/incidental/lib/python3.11/site-packages/promptsource/__init__.py)"
     ]
    }
   ],
   "source": [
    "import datasets\n",
    "from promptsource import TemplateCollection\n",
    "\n",
    "# Load a dataset from Hugging Face datasets library\n",
    "# (replace 'squad' with the name of the dataset you want to use)\n",
    "dataset = datasets.load_dataset(\"squad\")\n",
    "\n",
    "# Load the templates (replace 'squad' with the name of the dataset you want to use)\n",
    "template_collection = TemplateCollection()\n",
    "prompt_templates = template_collection.get_templates(\"squad\")\n",
    "\n",
    "# Select a specific template\n",
    "# You will need to inspect the prompt_templates to choose the desired template.\n",
    "# Here's an example of selecting the first template.\n",
    "template_name = list(prompt_templates.keys())[0]\n",
    "template = prompt_templates[template_name]\n",
    "\n",
    "# Apply the template to the dataset\n",
    "def apply_template(example):\n",
    "    return {\"prompt\": template.apply(example)}\n",
    "\n",
    "# You can apply the template to the dataset\n",
    "prompted_dataset = dataset.map(apply_template)\n",
    "\n",
    "# The prompted_dataset now contains the data in the prompt format.\n",
    "# You can use it for training or evaluation.\n",
    "\n",
    "print(prompted_dataset['train'][0])\n"
   ]
  },
  {
   "cell_type": "code",
   "execution_count": null,
   "metadata": {},
   "outputs": [],
   "source": []
  }
 ],
 "metadata": {
  "kernelspec": {
   "display_name": "incidental",
   "language": "python",
   "name": "python3"
  },
  "language_info": {
   "codemirror_mode": {
    "name": "ipython",
    "version": 3
   },
   "file_extension": ".py",
   "mimetype": "text/x-python",
   "name": "python",
   "nbconvert_exporter": "python",
   "pygments_lexer": "ipython3",
   "version": "3.11.3"
  },
  "orig_nbformat": 4
 },
 "nbformat": 4,
 "nbformat_minor": 2
}
