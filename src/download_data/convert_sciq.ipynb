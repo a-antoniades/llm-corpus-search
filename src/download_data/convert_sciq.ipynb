{
 "cells": [
  {
   "cell_type": "code",
   "execution_count": 20,
   "metadata": {},
   "outputs": [],
   "source": [
    "from datasets import Dataset, load_dataset\n",
    "\n",
    "CACHE_DIR = \"/share/edc/home/antonis/datasets/huggingface\"\n",
    "\n",
    "ds_name = \"sciq\"\n",
    "ds = load_dataset(ds_name, cache_dir=CACHE_DIR)"
   ]
  },
  {
   "cell_type": "code",
   "execution_count": 23,
   "metadata": {},
   "outputs": [
    {
     "name": "stderr",
     "output_type": "stream",
     "text": [
      "Saving the dataset (0/1 shards):   0%|          | 0/11679 [00:00<?, ? examples/s]"
     ]
    },
    {
     "name": "stderr",
     "output_type": "stream",
     "text": [
      "Saving the dataset (1/1 shards): 100%|██████████| 11679/11679 [00:00<00:00, 563016.80 examples/s]\n",
      "Saving the dataset (1/1 shards): 100%|██████████| 1000/1000 [00:00<00:00, 174522.70 examples/s]\n",
      "Saving the dataset (1/1 shards): 100%|██████████| 1000/1000 [00:00<00:00, 162343.40 examples/s]\n"
     ]
    }
   ],
   "source": [
    "from datasets import Dataset, DatasetDict\n",
    "\n",
    "def convert_dataset_format(example):\n",
    "    choices = [\n",
    "        example['distractor1'],\n",
    "        example['distractor2'],\n",
    "        example['distractor3'],\n",
    "        example['correct_answer']\n",
    "    ]\n",
    "    return {\n",
    "        'question': example['question'],\n",
    "        'choices': choices,\n",
    "        'answer': example['correct_answer']\n",
    "    }\n",
    "\n",
    "converted_splits = {}\n",
    "\n",
    "for split in ['train', 'validation', 'test']:  # Assuming you have these splits\n",
    "    original_dataset = ds[split]\n",
    "    converted_splits[split] = original_dataset.map(convert_dataset_format)\n",
    "\n",
    "# Create a DatasetDict from the converted splits\n",
    "converted_dataset = DatasetDict(converted_splits)\n",
    "\n",
    "# Save the converted dataset\n",
    "converted_dataset.save_to_disk(f\"{CACHE_DIR}/{ds_name}_converted\")"
   ]
  },
  {
   "cell_type": "code",
   "execution_count": 25,
   "metadata": {},
   "outputs": [
    {
     "data": {
      "text/plain": [
       "Dataset({\n",
       "    features: ['question', 'distractor3', 'distractor1', 'distractor2', 'correct_answer', 'support', 'choices', 'answer'],\n",
       "    num_rows: 11679\n",
       "})"
      ]
     },
     "execution_count": 25,
     "metadata": {},
     "output_type": "execute_result"
    }
   ],
   "source": [
    "converted_dataset['train']"
   ]
  },
  {
   "cell_type": "code",
   "execution_count": null,
   "metadata": {},
   "outputs": [],
   "source": []
  }
 ],
 "metadata": {
  "kernelspec": {
   "display_name": "incidental",
   "language": "python",
   "name": "python3"
  },
  "language_info": {
   "codemirror_mode": {
    "name": "ipython",
    "version": 3
   },
   "file_extension": ".py",
   "mimetype": "text/x-python",
   "name": "python",
   "nbconvert_exporter": "python",
   "pygments_lexer": "ipython3",
   "version": "3.11.3"
  }
 },
 "nbformat": 4,
 "nbformat_minor": 2
}
