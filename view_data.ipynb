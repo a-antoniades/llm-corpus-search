{
 "cells": [
  {
   "cell_type": "code",
   "execution_count": 2,
   "metadata": {},
   "outputs": [
    {
     "name": "stderr",
     "output_type": "stream",
     "text": [
      "[nltk_data] Downloading package punkt to\n",
      "[nltk_data]     /local/home/antonis/nltk_data...\n",
      "[nltk_data]   Package punkt is already up-to-date!\n",
      "[nltk_data] Downloading package stopwords to\n",
      "[nltk_data]     /local/home/antonis/nltk_data...\n",
      "[nltk_data]   Package stopwords is already up-to-date!\n",
      "[dynet] random seed: 1234\n",
      "[dynet] allocating memory: 32MB\n",
      "[dynet] memory allocation done.\n"
     ]
    }
   ],
   "source": [
    "import os\n",
    "import glob\n",
    "import pandas as pd\n",
    "import pickle\n",
    "\n",
    "from src.wimbd_ import _load_dataset\n",
    "\n",
    "pd.set_option('display.max_columns', 20)\n",
    "pd.set_option('display.width', 2)\n",
    "pd.set_option('display.max_rows', 500)\n",
    "\n",
    "# doc_results_pth = \"./models/experiment_5/inference/EleutherAI/pythia-1.4b/TRIVIA_QA/triviaqa/4-shot/doc_results.json\"\n",
    "# doc_results = pd.read_json(doc_results_pth)"
   ]
  },
  {
   "cell_type": "code",
   "execution_count": 3,
   "metadata": {},
   "outputs": [
    {
     "name": "stdout",
     "output_type": "stream",
     "text": [
      "Loading dataset mmlu\n"
     ]
    }
   ],
   "source": [
    "mmlu = _load_dataset('mmlu', tasks='astronomy')"
   ]
  },
  {
   "cell_type": "code",
   "execution_count": 4,
   "metadata": {},
   "outputs": [
    {
     "data": {
      "text/plain": [
       "{'question': 'The Large Magellanic Cloud is ...',\n",
       " 'choices': ['a dwarf galaxy orbiting the Milky Way.',\n",
       "  'the closest planetary nebula to the Earth.',\n",
       "  'a bright star cluster discovered by Magellan.',\n",
       "  'the outer arm of the Milky Way named after Magellan.'],\n",
       " 'answer': 0}"
      ]
     },
     "execution_count": 4,
     "metadata": {},
     "output_type": "execute_result"
    }
   ],
   "source": [
    "mmlu['astronomy']['test'][12]"
   ]
  },
  {
   "cell_type": "code",
   "execution_count": 9,
   "metadata": {},
   "outputs": [],
   "source": [
    "pth = \"./results/n-grams/mmlu/pile/exp4_filter/test-set/exp_full_None/5/examples_dfs_0-shot_common_models.pkl\"\n",
    "df = pd.read_pickle(pth)\n",
    "# df = pd.read_csv(pth)"
   ]
  },
  {
   "cell_type": "code",
   "execution_count": 10,
   "metadata": {},
   "outputs": [
    {
     "data": {
      "text/html": [
       "<div>\n",
       "<style scoped>\n",
       "    .dataframe tbody tr th:only-of-type {\n",
       "        vertical-align: middle;\n",
       "    }\n",
       "\n",
       "    .dataframe tbody tr th {\n",
       "        vertical-align: top;\n",
       "    }\n",
       "\n",
       "    .dataframe thead th {\n",
       "        text-align: right;\n",
       "    }\n",
       "</style>\n",
       "<table border=\"1\" class=\"dataframe\">\n",
       "  <thead>\n",
       "    <tr style=\"text-align: right;\">\n",
       "      <th></th>\n",
       "      <th>Q</th>\n",
       "      <th>A</th>\n",
       "      <th>value</th>\n",
       "      <th>example</th>\n",
       "      <th>task</th>\n",
       "      <th>pair</th>\n",
       "      <th>coverage</th>\n",
       "      <th>query</th>\n",
       "      <th>sum</th>\n",
       "      <th>count</th>\n",
       "      <th>id</th>\n",
       "      <th>gold</th>\n",
       "      <th>query_drop</th>\n",
       "      <th>choices</th>\n",
       "      <th>lls</th>\n",
       "      <th>probs</th>\n",
       "      <th>probs_softmax</th>\n",
       "      <th>probs_gold</th>\n",
       "      <th>probs_softmax_gold</th>\n",
       "    </tr>\n",
       "  </thead>\n",
       "  <tbody>\n",
       "    <tr>\n",
       "      <th>0</th>\n",
       "      <td>2 ← 3 r ←</td>\n",
       "      <td>3 2</td>\n",
       "      <td>163819</td>\n",
       "      <td>{'question': 'Consider the following code segm...</td>\n",
       "      <td>high_school_computer_science</td>\n",
       "      <td>(2 ← 3 r ←, 3 2)</td>\n",
       "      <td>0.016215</td>\n",
       "      <td>Consider the following code segment, which use...</td>\n",
       "      <td>29464541</td>\n",
       "      <td>84</td>\n",
       "      <td>71_19</td>\n",
       "      <td>0</td>\n",
       "      <td>Consider the following code segment, which use...</td>\n",
       "      <td>[A, B, C, D]</td>\n",
       "      <td>[[-1.9638671875, -1.7138671875, -1.2919921875,...</td>\n",
       "      <td>[[0.1403147469186024, 0.18016770137959348, 0.2...</td>\n",
       "      <td>[[0.23536338657566125, 0.24493272968495353, 0....</td>\n",
       "      <td>[0.1403147469186024, 0.18016770137959348, 0.27...</td>\n",
       "      <td>[0.23536338657566125, 0.24493272968495353, 0.2...</td>\n",
       "    </tr>\n",
       "    <tr>\n",
       "      <th>1</th>\n",
       "      <td>display r display displayed result</td>\n",
       "      <td>1 1</td>\n",
       "      <td>0</td>\n",
       "      <td>{'question': 'Consider the following code segm...</td>\n",
       "      <td>high_school_computer_science</td>\n",
       "      <td>(display r display displayed result, 1 1)</td>\n",
       "      <td>0.016215</td>\n",
       "      <td>Consider the following code segment, which use...</td>\n",
       "      <td>29464541</td>\n",
       "      <td>84</td>\n",
       "      <td>71_19</td>\n",
       "      <td>0</td>\n",
       "      <td>Consider the following code segment, which use...</td>\n",
       "      <td>[A, B, C, D]</td>\n",
       "      <td>[[-1.9638671875, -1.7138671875, -1.2919921875,...</td>\n",
       "      <td>[[0.1403147469186024, 0.18016770137959348, 0.2...</td>\n",
       "      <td>[[0.23536338657566125, 0.24493272968495353, 0....</td>\n",
       "      <td>[0.1403147469186024, 0.18016770137959348, 0.27...</td>\n",
       "      <td>[0.23536338657566125, 0.24493272968495353, 0.2...</td>\n",
       "    </tr>\n",
       "    <tr>\n",
       "      <th>2</th>\n",
       "      <td>r ← 1 ← 2</td>\n",
       "      <td>1 1</td>\n",
       "      <td>110932</td>\n",
       "      <td>{'question': 'Consider the following code segm...</td>\n",
       "      <td>high_school_computer_science</td>\n",
       "      <td>(r ← 1 ← 2, 1 1)</td>\n",
       "      <td>0.016215</td>\n",
       "      <td>Consider the following code segment, which use...</td>\n",
       "      <td>29464541</td>\n",
       "      <td>84</td>\n",
       "      <td>71_19</td>\n",
       "      <td>0</td>\n",
       "      <td>Consider the following code segment, which use...</td>\n",
       "      <td>[A, B, C, D]</td>\n",
       "      <td>[[-1.9638671875, -1.7138671875, -1.2919921875,...</td>\n",
       "      <td>[[0.1403147469186024, 0.18016770137959348, 0.2...</td>\n",
       "      <td>[[0.23536338657566125, 0.24493272968495353, 0....</td>\n",
       "      <td>[0.1403147469186024, 0.18016770137959348, 0.27...</td>\n",
       "      <td>[0.23536338657566125, 0.24493272968495353, 0.2...</td>\n",
       "    </tr>\n",
       "    <tr>\n",
       "      <th>3</th>\n",
       "      <td>r r ← 1 ←</td>\n",
       "      <td>2 3</td>\n",
       "      <td>110826</td>\n",
       "      <td>{'question': 'Consider the following code segm...</td>\n",
       "      <td>high_school_computer_science</td>\n",
       "      <td>(r r ← 1 ←, 2 3)</td>\n",
       "      <td>0.016215</td>\n",
       "      <td>Consider the following code segment, which use...</td>\n",
       "      <td>29464541</td>\n",
       "      <td>84</td>\n",
       "      <td>71_19</td>\n",
       "      <td>0</td>\n",
       "      <td>Consider the following code segment, which use...</td>\n",
       "      <td>[A, B, C, D]</td>\n",
       "      <td>[[-1.9638671875, -1.7138671875, -1.2919921875,...</td>\n",
       "      <td>[[0.1403147469186024, 0.18016770137959348, 0.2...</td>\n",
       "      <td>[[0.23536338657566125, 0.24493272968495353, 0....</td>\n",
       "      <td>[0.1403147469186024, 0.18016770137959348, 0.27...</td>\n",
       "      <td>[0.23536338657566125, 0.24493272968495353, 0.2...</td>\n",
       "    </tr>\n",
       "    <tr>\n",
       "      <th>4</th>\n",
       "      <td>r ← 1 ← 2</td>\n",
       "      <td>2 3</td>\n",
       "      <td>107715</td>\n",
       "      <td>{'question': 'Consider the following code segm...</td>\n",
       "      <td>high_school_computer_science</td>\n",
       "      <td>(r ← 1 ← 2, 2 3)</td>\n",
       "      <td>0.016215</td>\n",
       "      <td>Consider the following code segment, which use...</td>\n",
       "      <td>29464541</td>\n",
       "      <td>84</td>\n",
       "      <td>71_19</td>\n",
       "      <td>0</td>\n",
       "      <td>Consider the following code segment, which use...</td>\n",
       "      <td>[A, B, C, D]</td>\n",
       "      <td>[[-1.9638671875, -1.7138671875, -1.2919921875,...</td>\n",
       "      <td>[[0.1403147469186024, 0.18016770137959348, 0.2...</td>\n",
       "      <td>[[0.23536338657566125, 0.24493272968495353, 0....</td>\n",
       "      <td>[0.1403147469186024, 0.18016770137959348, 0.27...</td>\n",
       "      <td>[0.23536338657566125, 0.24493272968495353, 0.2...</td>\n",
       "    </tr>\n",
       "  </tbody>\n",
       "</table>\n",
       "</div>"
      ],
      "text/plain": [
       "                                    Q  \\\n",
       "0                           2 ← 3 r ←   \n",
       "1  display r display displayed result   \n",
       "2                           r ← 1 ← 2   \n",
       "3                           r r ← 1 ←   \n",
       "4                           r ← 1 ← 2   \n",
       "\n",
       "     A  \\\n",
       "0  3 2   \n",
       "1  1 1   \n",
       "2  1 1   \n",
       "3  2 3   \n",
       "4  2 3   \n",
       "\n",
       "    value  \\\n",
       "0  163819   \n",
       "1       0   \n",
       "2  110932   \n",
       "3  110826   \n",
       "4  107715   \n",
       "\n",
       "                                             example  \\\n",
       "0  {'question': 'Consider the following code segm...   \n",
       "1  {'question': 'Consider the following code segm...   \n",
       "2  {'question': 'Consider the following code segm...   \n",
       "3  {'question': 'Consider the following code segm...   \n",
       "4  {'question': 'Consider the following code segm...   \n",
       "\n",
       "                           task  \\\n",
       "0  high_school_computer_science   \n",
       "1  high_school_computer_science   \n",
       "2  high_school_computer_science   \n",
       "3  high_school_computer_science   \n",
       "4  high_school_computer_science   \n",
       "\n",
       "                                        pair  \\\n",
       "0                           (2 ← 3 r ←, 3 2)   \n",
       "1  (display r display displayed result, 1 1)   \n",
       "2                           (r ← 1 ← 2, 1 1)   \n",
       "3                           (r r ← 1 ←, 2 3)   \n",
       "4                           (r ← 1 ← 2, 2 3)   \n",
       "\n",
       "   coverage  \\\n",
       "0  0.016215   \n",
       "1  0.016215   \n",
       "2  0.016215   \n",
       "3  0.016215   \n",
       "4  0.016215   \n",
       "\n",
       "                                               query  \\\n",
       "0  Consider the following code segment, which use...   \n",
       "1  Consider the following code segment, which use...   \n",
       "2  Consider the following code segment, which use...   \n",
       "3  Consider the following code segment, which use...   \n",
       "4  Consider the following code segment, which use...   \n",
       "\n",
       "        sum  \\\n",
       "0  29464541   \n",
       "1  29464541   \n",
       "2  29464541   \n",
       "3  29464541   \n",
       "4  29464541   \n",
       "\n",
       "   count  \\\n",
       "0     84   \n",
       "1     84   \n",
       "2     84   \n",
       "3     84   \n",
       "4     84   \n",
       "\n",
       "      id  \\\n",
       "0  71_19   \n",
       "1  71_19   \n",
       "2  71_19   \n",
       "3  71_19   \n",
       "4  71_19   \n",
       "\n",
       "   gold  \\\n",
       "0     0   \n",
       "1     0   \n",
       "2     0   \n",
       "3     0   \n",
       "4     0   \n",
       "\n",
       "                                          query_drop  \\\n",
       "0  Consider the following code segment, which use...   \n",
       "1  Consider the following code segment, which use...   \n",
       "2  Consider the following code segment, which use...   \n",
       "3  Consider the following code segment, which use...   \n",
       "4  Consider the following code segment, which use...   \n",
       "\n",
       "        choices  \\\n",
       "0  [A, B, C, D]   \n",
       "1  [A, B, C, D]   \n",
       "2  [A, B, C, D]   \n",
       "3  [A, B, C, D]   \n",
       "4  [A, B, C, D]   \n",
       "\n",
       "                                                 lls  \\\n",
       "0  [[-1.9638671875, -1.7138671875, -1.2919921875,...   \n",
       "1  [[-1.9638671875, -1.7138671875, -1.2919921875,...   \n",
       "2  [[-1.9638671875, -1.7138671875, -1.2919921875,...   \n",
       "3  [[-1.9638671875, -1.7138671875, -1.2919921875,...   \n",
       "4  [[-1.9638671875, -1.7138671875, -1.2919921875,...   \n",
       "\n",
       "                                               probs  \\\n",
       "0  [[0.1403147469186024, 0.18016770137959348, 0.2...   \n",
       "1  [[0.1403147469186024, 0.18016770137959348, 0.2...   \n",
       "2  [[0.1403147469186024, 0.18016770137959348, 0.2...   \n",
       "3  [[0.1403147469186024, 0.18016770137959348, 0.2...   \n",
       "4  [[0.1403147469186024, 0.18016770137959348, 0.2...   \n",
       "\n",
       "                                       probs_softmax  \\\n",
       "0  [[0.23536338657566125, 0.24493272968495353, 0....   \n",
       "1  [[0.23536338657566125, 0.24493272968495353, 0....   \n",
       "2  [[0.23536338657566125, 0.24493272968495353, 0....   \n",
       "3  [[0.23536338657566125, 0.24493272968495353, 0....   \n",
       "4  [[0.23536338657566125, 0.24493272968495353, 0....   \n",
       "\n",
       "                                          probs_gold  \\\n",
       "0  [0.1403147469186024, 0.18016770137959348, 0.27...   \n",
       "1  [0.1403147469186024, 0.18016770137959348, 0.27...   \n",
       "2  [0.1403147469186024, 0.18016770137959348, 0.27...   \n",
       "3  [0.1403147469186024, 0.18016770137959348, 0.27...   \n",
       "4  [0.1403147469186024, 0.18016770137959348, 0.27...   \n",
       "\n",
       "                                  probs_softmax_gold  \n",
       "0  [0.23536338657566125, 0.24493272968495353, 0.2...  \n",
       "1  [0.23536338657566125, 0.24493272968495353, 0.2...  \n",
       "2  [0.23536338657566125, 0.24493272968495353, 0.2...  \n",
       "3  [0.23536338657566125, 0.24493272968495353, 0.2...  \n",
       "4  [0.23536338657566125, 0.24493272968495353, 0.2...  "
      ]
     },
     "execution_count": 10,
     "metadata": {},
     "output_type": "execute_result"
    }
   ],
   "source": [
    "df['pythia-12b'].head()"
   ]
  },
  {
   "cell_type": "code",
   "execution_count": null,
   "metadata": {},
   "outputs": [],
   "source": [
    "df['pythia-12b']['alignment_score'].isna().sum()"
   ]
  },
  {
   "cell_type": "code",
   "execution_count": null,
   "metadata": {},
   "outputs": [],
   "source": [
    "df['pythia-12b']['alignment_score'].mean()"
   ]
  },
  {
   "cell_type": "code",
   "execution_count": null,
   "metadata": {},
   "outputs": [],
   "source": [
    "df_model = df['pythia-12b'].sort_values(by='value', ascending=False)\n",
    "\n",
    "for task in df_model['task'].unique():\n",
    "    print(f\"Task: {task}\")\n",
    "    display(df_model[df_model['task'] == task])"
   ]
  },
  {
   "cell_type": "code",
   "execution_count": null,
   "metadata": {},
   "outputs": [],
   "source": [
    "df['en-es']"
   ]
  },
  {
   "cell_type": "code",
   "execution_count": null,
   "metadata": {},
   "outputs": [],
   "source": [
    "pth = \"./results/n-grams/wmt09_gens/pile/exp4_/pythia-12b/n_samples_100_fkeyFalse_rkeyFalse_fstopFalse_onlyalphaTrue/4/common/lang_dfs_filter_charsFalse_percentile0_detect_langFalse_filter_entitiesFalse_filter_stopwordsFalse_align_langs0.8_debugFalse.pkl\"\n",
    "df = pd.read_pickle(pth)\n",
    "df['en-es']"
   ]
  },
  {
   "cell_type": "code",
   "execution_count": null,
   "metadata": {},
   "outputs": [],
   "source": [
    "pth_2 = \"./results/n-grams/triviaqa/pile/exp_3/validation-set/n_samples_None_fkeyFalse_rkeyFalse_fstopTrue_onlyalphaFalse/3/common/task_df_filter_charsTrue_percentile0.pkl\"\n",
    "df_2 = pd.read_pickle(pth_2)"
   ]
  },
  {
   "cell_type": "code",
   "execution_count": null,
   "metadata": {},
   "outputs": [],
   "source": [
    "df_2"
   ]
  },
  {
   "cell_type": "code",
   "execution_count": null,
   "metadata": {},
   "outputs": [],
   "source": [
    "df.iloc[0]['example']"
   ]
  },
  {
   "cell_type": "code",
   "execution_count": null,
   "metadata": {},
   "outputs": [],
   "source": [
    "df = {'pythia-12b': df['pythia-12b']}\n",
    "# export as pickle\n",
    "with open(pth, 'wb') as f:\n",
    "    pickle.dump(df, f)"
   ]
  },
  {
   "cell_type": "code",
   "execution_count": null,
   "metadata": {},
   "outputs": [],
   "source": [
    "df.keys()"
   ]
  },
  {
   "cell_type": "code",
   "execution_count": null,
   "metadata": {},
   "outputs": [],
   "source": [
    "\n",
    "## MMLU OLMO\n",
    "pth = \"./results/n-grams/mmlu/dolma/exp4_infini/n_samples_None_fkeyFalse_rkeyFalse_fstopTrue_onlyalphaFalse/3/common/task_df_filter_charsTrue_percentile0.pkl\"\n",
    "pth = \"./results/n-grams/mmlu/dolma/exp4_infini/n_samples_None_fkeyFalse_rkeyFalse_fstopTrue_onlyalphaFalse_copy/3/examples_dfs_0-shot_common_olmo_models.pkl\"\n",
    "df = pd.concat(pd.read_pickle(pth))\n",
    "# df = pd.DataFrame(pd.read_pickle(pth))\n",
    "\n",
    "## SCIQ + PILE\n",
    "# pth = \"./results/n-grams/trivia_qa/pile/exp3/test-set/n_samples_None_fkeyFalse_rkeyFalse_fstopFalse_onlyalphaFalse/7/all/trivia_qa.pkl\"\n",
    "# pth = \"./results/n-grams/sciq/pile/exp4_infini/n_samples_None_fkeyFalse_rkeyFalse_fstopTrue_onlyalphaFalse/3/common/task_df_filter_charsTrue_percentile0.pkl\"\n",
    "# df = pd.DataFrame(pd.read_pickle(pth)['sciq']).sort_values('value', ascending=False)\n",
    "\n",
    "# ## TULUV2 + MMLU\n",
    "# # ngram = 3:\n",
    "# pth = \"./results/n-grams/mmlu/tuluv2/local/all/n_samples_None_fkeyFalse_rkeyFalse_fstopFalse_onlyalphaFalse/3/common\"\n",
    "# # ngram = 2:\n",
    "# # pth = \"./results/n-grams/mmlu/tuluv2/local/all/n_samples_None_fkeyFalse_rkeyFalse_fstopTrue_onlyalphaFalse/2/common\"\n",
    "# pths = glob.glob(os.path.join(pth, \"**/*.pkl\"), recursive=True)\n",
    "# dfs = {os.path.basename(pth).replace('.pkl', ''): pd.DataFrame(pd.read_pickle(pth)).T for pth in pths}\n",
    "# dfs = {name: df.reset_index(drop=True) for name, df in dfs.items()}\n",
    "# df = pd.concat(dfs.values(), keys=dfs.keys(), names=['dataset'])\n",
    "# df = df.reset_index(level='dataset').sort_values('value', ascending=False)"
   ]
  },
  {
   "cell_type": "code",
   "execution_count": null,
   "metadata": {},
   "outputs": [],
   "source": [
    "df"
   ]
  },
  {
   "cell_type": "code",
   "execution_count": null,
   "metadata": {},
   "outputs": [],
   "source": [
    "len(df[df['value'] > 0])"
   ]
  },
  {
   "cell_type": "code",
   "execution_count": null,
   "metadata": {},
   "outputs": [],
   "source": [
    "df"
   ]
  },
  {
   "cell_type": "code",
   "execution_count": null,
   "metadata": {},
   "outputs": [],
   "source": [
    "len(df['dataset'].unique())"
   ]
  },
  {
   "cell_type": "code",
   "execution_count": null,
   "metadata": {},
   "outputs": [],
   "source": [
    "# export \n",
    "df.to_csv(os.path.join(pth, 'results.csv'))"
   ]
  },
  {
   "cell_type": "code",
   "execution_count": null,
   "metadata": {},
   "outputs": [],
   "source": [
    "df.head(500)"
   ]
  },
  {
   "cell_type": "code",
   "execution_count": null,
   "metadata": {},
   "outputs": [],
   "source": [
    "dfs_keys = list(dfs.keys())\n",
    "dfs_1 = dfs[dfs_keys[1]].T\n",
    "dfs_2 = dfs[dfs_keys[0]].T"
   ]
  },
  {
   "cell_type": "code",
   "execution_count": null,
   "metadata": {},
   "outputs": [],
   "source": [
    "dfs_1"
   ]
  },
  {
   "cell_type": "code",
   "execution_count": null,
   "metadata": {},
   "outputs": [],
   "source": [
    "df.T"
   ]
  },
  {
   "cell_type": "code",
   "execution_count": null,
   "metadata": {},
   "outputs": [],
   "source": [
    "df['example_clean'].iloc[20]"
   ]
  },
  {
   "cell_type": "code",
   "execution_count": null,
   "metadata": {},
   "outputs": [],
   "source": [
    "len((df['example_clean'].unique()))"
   ]
  },
  {
   "cell_type": "code",
   "execution_count": null,
   "metadata": {},
   "outputs": [],
   "source": [
    "len(doc_results)"
   ]
  },
  {
   "cell_type": "code",
   "execution_count": null,
   "metadata": {},
   "outputs": [],
   "source": [
    "len(df[df['value'] > 0]) / len(df) "
   ]
  }
 ],
 "metadata": {
  "kernelspec": {
   "display_name": "incidental",
   "language": "python",
   "name": "python3"
  },
  "language_info": {
   "codemirror_mode": {
    "name": "ipython",
    "version": 3
   },
   "file_extension": ".py",
   "mimetype": "text/x-python",
   "name": "python",
   "nbconvert_exporter": "python",
   "pygments_lexer": "ipython3",
   "version": "3.11.3"
  }
 },
 "nbformat": 4,
 "nbformat_minor": 2
}
