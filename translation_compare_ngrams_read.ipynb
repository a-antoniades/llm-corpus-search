{
 "cells": [
  {
   "cell_type": "code",
   "execution_count": 231,
   "metadata": {},
   "outputs": [],
   "source": [
    "import pickle\n",
    "import pandas as pd"
   ]
  },
  {
   "cell_type": "code",
   "execution_count": 232,
   "metadata": {},
   "outputs": [],
   "source": [
    "# fname = '/share/edc/home/antonis/LLM-Incidental-Supervision/incidental-supervision/results/n-grams/wmt09_gens/pile/exp_3/test-set/n_samples_None_fkeyFalse_rkeyFalse_fstopFalse_onlyalphaFalse/4/examples_dfs_0-shot_common_pythia_models.pkl'\n",
    "fname = '/share/edc/home/antonis/LLM-Incidental-Supervision/incidental-supervision/results/n-grams/wmt09_gens/pile/410m/pythia-410m/n_samples_None_fkeyFalse_rkeyFalse_fstopFalse_onlyalphaFalse/4/examples_dfs_0-shot_common_pythia_models.pkl'\n",
    "with open(fname, 'rb') as f:\n",
    "    data = pickle.load(f)"
   ]
  },
  {
   "cell_type": "code",
   "execution_count": 233,
   "metadata": {},
   "outputs": [
    {
     "data": {
      "text/plain": [
       "dict_keys(['pythia-12b', 'pythia-6.9b', 'pythia-2.8b', 'pythia-1.4b', 'pythia-410m', 'pythia-160m', 'pythia-70m', 'pythia-31m', 'pythia-14m'])"
      ]
     },
     "execution_count": 233,
     "metadata": {},
     "output_type": "execute_result"
    }
   ],
   "source": [
    "data.keys()"
   ]
  },
  {
   "cell_type": "code",
   "execution_count": 238,
   "metadata": {},
   "outputs": [],
   "source": [
    "model_name = 'pythia-410m'"
   ]
  },
  {
   "cell_type": "code",
   "execution_count": 239,
   "metadata": {},
   "outputs": [
    {
     "data": {
      "text/plain": [
       "dict_keys(['pythia-12b', 'pythia-6.9b', 'pythia-2.8b', 'pythia-1.4b', 'pythia-410m', 'pythia-160m', 'pythia-70m', 'pythia-31m', 'pythia-14m'])"
      ]
     },
     "execution_count": 239,
     "metadata": {},
     "output_type": "execute_result"
    }
   ],
   "source": [
    "data.keys()\n"
   ]
  },
  {
   "cell_type": "code",
   "execution_count": 240,
   "metadata": {},
   "outputs": [],
   "source": [
    "# threshold  by alignment score\n",
    "data_model = data[model_name].sort_values(['bleu', 'value'], ascending=False)\n",
    "data_model = data_model[data_model['alignment_score'] > 0.9]"
   ]
  },
  {
   "cell_type": "code",
   "execution_count": 241,
   "metadata": {},
   "outputs": [
    {
     "data": {
      "text/html": [
       "<div>\n",
       "<style scoped>\n",
       "    .dataframe tbody tr th:only-of-type {\n",
       "        vertical-align: middle;\n",
       "    }\n",
       "\n",
       "    .dataframe tbody tr th {\n",
       "        vertical-align: top;\n",
       "    }\n",
       "\n",
       "    .dataframe thead th {\n",
       "        text-align: right;\n",
       "    }\n",
       "</style>\n",
       "<table border=\"1\" class=\"dataframe\">\n",
       "  <thead>\n",
       "    <tr style=\"text-align: right;\">\n",
       "      <th></th>\n",
       "      <th>lang_1</th>\n",
       "      <th>lang_2</th>\n",
       "      <th>value</th>\n",
       "      <th>example</th>\n",
       "      <th>task</th>\n",
       "      <th>pair</th>\n",
       "      <th>example_clean</th>\n",
       "      <th>coverage</th>\n",
       "      <th>alignment_score</th>\n",
       "      <th>query</th>\n",
       "      <th>sum</th>\n",
       "      <th>count</th>\n",
       "      <th>id</th>\n",
       "      <th>gold</th>\n",
       "      <th>src</th>\n",
       "      <th>ref</th>\n",
       "      <th>result</th>\n",
       "      <th>bleu</th>\n",
       "    </tr>\n",
       "  </thead>\n",
       "  <tbody>\n",
       "    <tr>\n",
       "      <th>1232</th>\n",
       "      <td>case of the three</td>\n",
       "      <td>caso de los tres</td>\n",
       "      <td>52</td>\n",
       "      <td>{'translation': {'en': 'This could be a questi...</td>\n",
       "      <td>en-es</td>\n",
       "      <td>(case of the three, caso de los tres)</td>\n",
       "      <td>This could be a question of thousands of custo...</td>\n",
       "      <td>0.416375</td>\n",
       "      <td>0.901006</td>\n",
       "      <td>{'translation': {'en': 'This could be a questi...</td>\n",
       "      <td>164277</td>\n",
       "      <td>47</td>\n",
       "      <td>1808_0</td>\n",
       "      <td>0</td>\n",
       "      <td>This could be a question of thousands of custo...</td>\n",
       "      <td>Precisamente en el caso de las tres empresas c...</td>\n",
       "      <td>Esta es una pregunta de millones de clientes,...</td>\n",
       "      <td>20.313747</td>\n",
       "    </tr>\n",
       "    <tr>\n",
       "      <th>1301</th>\n",
       "      <td>it has the impression</td>\n",
       "      <td>se tiene la impresión</td>\n",
       "      <td>32</td>\n",
       "      <td>{'translation': {'en': 'But Congress can block...</td>\n",
       "      <td>en-es</td>\n",
       "      <td>(it has the impression, se tiene la impresión)</td>\n",
       "      <td>But Congress can block the release of the rema...</td>\n",
       "      <td>0.416375</td>\n",
       "      <td>0.915218</td>\n",
       "      <td>{'translation': {'en': 'But Congress can block...</td>\n",
       "      <td>159624</td>\n",
       "      <td>109</td>\n",
       "      <td>1648_0</td>\n",
       "      <td>0</td>\n",
       "      <td>But Congress can block the release of the rema...</td>\n",
       "      <td>Sin embargo, el Congreso puede bloquear la lib...</td>\n",
       "      <td>Pero, si no se puede liberar el resto de la c...</td>\n",
       "      <td>19.557767</td>\n",
       "    </tr>\n",
       "    <tr>\n",
       "      <th>10352</th>\n",
       "      <td>responsibility for their actions</td>\n",
       "      <td>responsabilidad por su actuación</td>\n",
       "      <td>2</td>\n",
       "      <td>{'translation': {'en': 'None of the operators ...</td>\n",
       "      <td>en-es</td>\n",
       "      <td>(responsibility for their actions, responsabil...</td>\n",
       "      <td>None of the operators have a dominant position...</td>\n",
       "      <td>0.416375</td>\n",
       "      <td>0.903553</td>\n",
       "      <td>{'translation': {'en': 'None of the operators ...</td>\n",
       "      <td>4728</td>\n",
       "      <td>76</td>\n",
       "      <td>1420_0</td>\n",
       "      <td>0</td>\n",
       "      <td>None of the operators have a dominant position...</td>\n",
       "      <td>Ninguno de los operadores tiene una posición d...</td>\n",
       "      <td>No hay un operador que tiene una posición dom...</td>\n",
       "      <td>17.829220</td>\n",
       "    </tr>\n",
       "    <tr>\n",
       "      <th>10355</th>\n",
       "      <td>increased responsibility for their</td>\n",
       "      <td>mayor responsabilidad por su</td>\n",
       "      <td>2</td>\n",
       "      <td>{'translation': {'en': 'None of the operators ...</td>\n",
       "      <td>en-es</td>\n",
       "      <td>(increased responsibility for their, mayor res...</td>\n",
       "      <td>None of the operators have a dominant position...</td>\n",
       "      <td>0.416375</td>\n",
       "      <td>0.906431</td>\n",
       "      <td>{'translation': {'en': 'None of the operators ...</td>\n",
       "      <td>4728</td>\n",
       "      <td>76</td>\n",
       "      <td>1420_0</td>\n",
       "      <td>0</td>\n",
       "      <td>None of the operators have a dominant position...</td>\n",
       "      <td>Ninguno de los operadores tiene una posición d...</td>\n",
       "      <td>No hay un operador que tiene una posición dom...</td>\n",
       "      <td>17.829220</td>\n",
       "    </tr>\n",
       "    <tr>\n",
       "      <th>10343</th>\n",
       "      <td>a dominant position and</td>\n",
       "      <td>una posición dominante, y</td>\n",
       "      <td>1</td>\n",
       "      <td>{'translation': {'en': 'None of the operators ...</td>\n",
       "      <td>en-es</td>\n",
       "      <td>(a dominant position and, una posición dominan...</td>\n",
       "      <td>None of the operators have a dominant position...</td>\n",
       "      <td>0.416375</td>\n",
       "      <td>0.938540</td>\n",
       "      <td>{'translation': {'en': 'None of the operators ...</td>\n",
       "      <td>4728</td>\n",
       "      <td>76</td>\n",
       "      <td>1420_0</td>\n",
       "      <td>0</td>\n",
       "      <td>None of the operators have a dominant position...</td>\n",
       "      <td>Ninguno de los operadores tiene una posición d...</td>\n",
       "      <td>No hay un operador que tiene una posición dom...</td>\n",
       "      <td>17.829220</td>\n",
       "    </tr>\n",
       "    <tr>\n",
       "      <th>12894</th>\n",
       "      <td>is for example when</td>\n",
       "      <td>es, por ejemplo, cuando</td>\n",
       "      <td>9</td>\n",
       "      <td>{'translation': {'en': 'The sugar for them is,...</td>\n",
       "      <td>en-es</td>\n",
       "      <td>(is for example when, es, por ejemplo, cuando)</td>\n",
       "      <td>The sugar for them is, for example, when they ...</td>\n",
       "      <td>0.416375</td>\n",
       "      <td>0.925755</td>\n",
       "      <td>{'translation': {'en': 'The sugar for them is,...</td>\n",
       "      <td>772</td>\n",
       "      <td>22</td>\n",
       "      <td>923_0</td>\n",
       "      <td>0</td>\n",
       "      <td>The sugar for them is, for example, when they ...</td>\n",
       "      <td>Azúcar es para él cuando, por ejemplo, se pasa...</td>\n",
       "      <td>El tiempo para ellos es, por ejemplo, cuando ...</td>\n",
       "      <td>16.195570</td>\n",
       "    </tr>\n",
       "    <tr>\n",
       "      <th>11532</th>\n",
       "      <td>in the country with</td>\n",
       "      <td>en el país con</td>\n",
       "      <td>351</td>\n",
       "      <td>{'translation': {'en': 'According to the preli...</td>\n",
       "      <td>en-es</td>\n",
       "      <td>(in the country with, en el país con)</td>\n",
       "      <td>According to the preliminary results, the Soci...</td>\n",
       "      <td>0.416375</td>\n",
       "      <td>0.937260</td>\n",
       "      <td>{'translation': {'en': 'According to the preli...</td>\n",
       "      <td>2579</td>\n",
       "      <td>38</td>\n",
       "      <td>1154_0</td>\n",
       "      <td>0</td>\n",
       "      <td>According to the preliminary results, the Soci...</td>\n",
       "      <td>Según los resultados aproximados, la socialdem...</td>\n",
       "      <td>El partido socialista es el partido más fuert...</td>\n",
       "      <td>15.943155</td>\n",
       "    </tr>\n",
       "    <tr>\n",
       "      <th>7026</th>\n",
       "      <td>possible that the prices</td>\n",
       "      <td>posible que el precio</td>\n",
       "      <td>12</td>\n",
       "      <td>{'translation': {'en': 'How is it possible tha...</td>\n",
       "      <td>en-es</td>\n",
       "      <td>(possible that the prices, posible que el precio)</td>\n",
       "      <td>How is it possible that the prices in Czechia ...</td>\n",
       "      <td>0.416375</td>\n",
       "      <td>0.904436</td>\n",
       "      <td>{'translation': {'en': 'How is it possible tha...</td>\n",
       "      <td>15367</td>\n",
       "      <td>24</td>\n",
       "      <td>1292_0</td>\n",
       "      <td>0</td>\n",
       "      <td>How is it possible that the prices in Czechia ...</td>\n",
       "      <td>¿Cómo es posible que los precios en la Repúbli...</td>\n",
       "      <td>¿Cómo es posible que el precio de la energía ...</td>\n",
       "      <td>15.545245</td>\n",
       "    </tr>\n",
       "    <tr>\n",
       "      <th>13585</th>\n",
       "      <td>can be compared to</td>\n",
       "      <td>puede ser comparado con</td>\n",
       "      <td>33</td>\n",
       "      <td>{'translation': {'en': '\"During a smooth ride,...</td>\n",
       "      <td>en-es</td>\n",
       "      <td>(can be compared to, puede ser comparado con)</td>\n",
       "      <td>\"During a smooth ride, there is not much threa...</td>\n",
       "      <td>0.416375</td>\n",
       "      <td>0.922391</td>\n",
       "      <td>{'translation': {'en': '\"During a smooth ride,...</td>\n",
       "      <td>376</td>\n",
       "      <td>20</td>\n",
       "      <td>1570_0</td>\n",
       "      <td>0</td>\n",
       "      <td>\"During a smooth ride, there is not much threa...</td>\n",
       "      <td>\"Durante el desarrollo del viaje no hay mucha ...</td>\n",
       "      <td>\"A la velocidad, no hay mucho peligro, el est...</td>\n",
       "      <td>15.285713</td>\n",
       "    </tr>\n",
       "    <tr>\n",
       "      <th>12612</th>\n",
       "      <td>the dominance of his</td>\n",
       "      <td>la dominación de su</td>\n",
       "      <td>11</td>\n",
       "      <td>{'translation': {'en': 'He senses that the cha...</td>\n",
       "      <td>en-es</td>\n",
       "      <td>(the dominance of his, la dominación de su)</td>\n",
       "      <td>He senses that the chart's intermediate report...</td>\n",
       "      <td>0.416375</td>\n",
       "      <td>0.928149</td>\n",
       "      <td>{'translation': {'en': \"He senses that the cha...</td>\n",
       "      <td>1113</td>\n",
       "      <td>46</td>\n",
       "      <td>327_0</td>\n",
       "      <td>0</td>\n",
       "      <td>He senses that the chart's intermediate report...</td>\n",
       "      <td>Prevé que las calificaciones parciales de la t...</td>\n",
       "      <td>Se siente que el reporte de la Liga es más so...</td>\n",
       "      <td>15.025903</td>\n",
       "    </tr>\n",
       "  </tbody>\n",
       "</table>\n",
       "</div>"
      ],
      "text/plain": [
       "                                   lang_1                            lang_2  \\\n",
       "1232                    case of the three                  caso de los tres   \n",
       "1301                it has the impression             se tiene la impresión   \n",
       "10352    responsibility for their actions  responsabilidad por su actuación   \n",
       "10355  increased responsibility for their      mayor responsabilidad por su   \n",
       "10343             a dominant position and         una posición dominante, y   \n",
       "12894                 is for example when           es, por ejemplo, cuando   \n",
       "11532                 in the country with                    en el país con   \n",
       "7026             possible that the prices             posible que el precio   \n",
       "13585                  can be compared to           puede ser comparado con   \n",
       "12612                the dominance of his               la dominación de su   \n",
       "\n",
       "      value                                            example   task  \\\n",
       "1232     52  {'translation': {'en': 'This could be a questi...  en-es   \n",
       "1301     32  {'translation': {'en': 'But Congress can block...  en-es   \n",
       "10352     2  {'translation': {'en': 'None of the operators ...  en-es   \n",
       "10355     2  {'translation': {'en': 'None of the operators ...  en-es   \n",
       "10343     1  {'translation': {'en': 'None of the operators ...  en-es   \n",
       "12894     9  {'translation': {'en': 'The sugar for them is,...  en-es   \n",
       "11532   351  {'translation': {'en': 'According to the preli...  en-es   \n",
       "7026     12  {'translation': {'en': 'How is it possible tha...  en-es   \n",
       "13585    33  {'translation': {'en': '\"During a smooth ride,...  en-es   \n",
       "12612    11  {'translation': {'en': 'He senses that the cha...  en-es   \n",
       "\n",
       "                                                    pair  \\\n",
       "1232               (case of the three, caso de los tres)   \n",
       "1301      (it has the impression, se tiene la impresión)   \n",
       "10352  (responsibility for their actions, responsabil...   \n",
       "10355  (increased responsibility for their, mayor res...   \n",
       "10343  (a dominant position and, una posición dominan...   \n",
       "12894     (is for example when, es, por ejemplo, cuando)   \n",
       "11532              (in the country with, en el país con)   \n",
       "7026   (possible that the prices, posible que el precio)   \n",
       "13585      (can be compared to, puede ser comparado con)   \n",
       "12612        (the dominance of his, la dominación de su)   \n",
       "\n",
       "                                           example_clean  coverage  \\\n",
       "1232   This could be a question of thousands of custo...  0.416375   \n",
       "1301   But Congress can block the release of the rema...  0.416375   \n",
       "10352  None of the operators have a dominant position...  0.416375   \n",
       "10355  None of the operators have a dominant position...  0.416375   \n",
       "10343  None of the operators have a dominant position...  0.416375   \n",
       "12894  The sugar for them is, for example, when they ...  0.416375   \n",
       "11532  According to the preliminary results, the Soci...  0.416375   \n",
       "7026   How is it possible that the prices in Czechia ...  0.416375   \n",
       "13585  \"During a smooth ride, there is not much threa...  0.416375   \n",
       "12612  He senses that the chart's intermediate report...  0.416375   \n",
       "\n",
       "       alignment_score                                              query  \\\n",
       "1232          0.901006  {'translation': {'en': 'This could be a questi...   \n",
       "1301          0.915218  {'translation': {'en': 'But Congress can block...   \n",
       "10352         0.903553  {'translation': {'en': 'None of the operators ...   \n",
       "10355         0.906431  {'translation': {'en': 'None of the operators ...   \n",
       "10343         0.938540  {'translation': {'en': 'None of the operators ...   \n",
       "12894         0.925755  {'translation': {'en': 'The sugar for them is,...   \n",
       "11532         0.937260  {'translation': {'en': 'According to the preli...   \n",
       "7026          0.904436  {'translation': {'en': 'How is it possible tha...   \n",
       "13585         0.922391  {'translation': {'en': '\"During a smooth ride,...   \n",
       "12612         0.928149  {'translation': {'en': \"He senses that the cha...   \n",
       "\n",
       "          sum  count      id  gold  \\\n",
       "1232   164277     47  1808_0     0   \n",
       "1301   159624    109  1648_0     0   \n",
       "10352    4728     76  1420_0     0   \n",
       "10355    4728     76  1420_0     0   \n",
       "10343    4728     76  1420_0     0   \n",
       "12894     772     22   923_0     0   \n",
       "11532    2579     38  1154_0     0   \n",
       "7026    15367     24  1292_0     0   \n",
       "13585     376     20  1570_0     0   \n",
       "12612    1113     46   327_0     0   \n",
       "\n",
       "                                                     src  \\\n",
       "1232   This could be a question of thousands of custo...   \n",
       "1301   But Congress can block the release of the rema...   \n",
       "10352  None of the operators have a dominant position...   \n",
       "10355  None of the operators have a dominant position...   \n",
       "10343  None of the operators have a dominant position...   \n",
       "12894  The sugar for them is, for example, when they ...   \n",
       "11532  According to the preliminary results, the Soci...   \n",
       "7026   How is it possible that the prices in Czechia ...   \n",
       "13585  \"During a smooth ride, there is not much threa...   \n",
       "12612  He senses that the chart's intermediate report...   \n",
       "\n",
       "                                                     ref  \\\n",
       "1232   Precisamente en el caso de las tres empresas c...   \n",
       "1301   Sin embargo, el Congreso puede bloquear la lib...   \n",
       "10352  Ninguno de los operadores tiene una posición d...   \n",
       "10355  Ninguno de los operadores tiene una posición d...   \n",
       "10343  Ninguno de los operadores tiene una posición d...   \n",
       "12894  Azúcar es para él cuando, por ejemplo, se pasa...   \n",
       "11532  Según los resultados aproximados, la socialdem...   \n",
       "7026   ¿Cómo es posible que los precios en la Repúbli...   \n",
       "13585  \"Durante el desarrollo del viaje no hay mucha ...   \n",
       "12612  Prevé que las calificaciones parciales de la t...   \n",
       "\n",
       "                                                  result       bleu  \n",
       "1232    Esta es una pregunta de millones de clientes,...  20.313747  \n",
       "1301    Pero, si no se puede liberar el resto de la c...  19.557767  \n",
       "10352   No hay un operador que tiene una posición dom...  17.829220  \n",
       "10355   No hay un operador que tiene una posición dom...  17.829220  \n",
       "10343   No hay un operador que tiene una posición dom...  17.829220  \n",
       "12894   El tiempo para ellos es, por ejemplo, cuando ...  16.195570  \n",
       "11532   El partido socialista es el partido más fuert...  15.943155  \n",
       "7026    ¿Cómo es posible que el precio de la energía ...  15.545245  \n",
       "13585   \"A la velocidad, no hay mucho peligro, el est...  15.285713  \n",
       "12612   Se siente que el reporte de la Liga es más so...  15.025903  "
      ]
     },
     "execution_count": 241,
     "metadata": {},
     "output_type": "execute_result"
    }
   ],
   "source": [
    "data_model.iloc[20:30]"
   ]
  },
  {
   "cell_type": "markdown",
   "metadata": {},
   "source": []
  },
  {
   "cell_type": "code",
   "execution_count": 242,
   "metadata": {},
   "outputs": [],
   "source": [
    "sample = 2527"
   ]
  },
  {
   "cell_type": "code",
   "execution_count": 243,
   "metadata": {},
   "outputs": [
    {
     "data": {
      "text/plain": [
       "('according to the rules', 'las normas de la')"
      ]
     },
     "execution_count": 243,
     "metadata": {},
     "output_type": "execute_result"
    }
   ],
   "source": [
    "data[model_name].iloc[sample]['lang_1'], data[model_name].iloc[sample]['lang_2']"
   ]
  },
  {
   "cell_type": "code",
   "execution_count": 244,
   "metadata": {},
   "outputs": [
    {
     "data": {
      "text/plain": [
       "'en-es'"
      ]
     },
     "execution_count": 244,
     "metadata": {},
     "output_type": "execute_result"
    }
   ],
   "source": [
    "data[model_name].iloc[sample]['task']"
   ]
  },
  {
   "cell_type": "markdown",
   "metadata": {},
   "source": []
  },
  {
   "cell_type": "code",
   "execution_count": 245,
   "metadata": {},
   "outputs": [
    {
     "data": {
      "text/plain": [
       "(\"There was `the serious danger that the PZPN is not able to act according to the rules,' Drzeviecki told Polish news agency PAP.\",\n",
       " \" `La situación es grave que no se pueda actuar en el marco de las normas de la UE.'\")"
      ]
     },
     "execution_count": 245,
     "metadata": {},
     "output_type": "execute_result"
    }
   ],
   "source": [
    "data[model_name].iloc[sample]['src'], data[model_name].iloc[sample]['result']"
   ]
  },
  {
   "cell_type": "markdown",
   "metadata": {},
   "source": []
  },
  {
   "cell_type": "code",
   "execution_count": 246,
   "metadata": {},
   "outputs": [
    {
     "data": {
      "text/html": [
       "<div>\n",
       "<style scoped>\n",
       "    .dataframe tbody tr th:only-of-type {\n",
       "        vertical-align: middle;\n",
       "    }\n",
       "\n",
       "    .dataframe tbody tr th {\n",
       "        vertical-align: top;\n",
       "    }\n",
       "\n",
       "    .dataframe thead th {\n",
       "        text-align: right;\n",
       "    }\n",
       "</style>\n",
       "<table border=\"1\" class=\"dataframe\">\n",
       "  <thead>\n",
       "    <tr style=\"text-align: right;\">\n",
       "      <th></th>\n",
       "      <th>coverage</th>\n",
       "      <th>alignment_score</th>\n",
       "      <th>count</th>\n",
       "      <th>gold</th>\n",
       "      <th>bleu</th>\n",
       "    </tr>\n",
       "  </thead>\n",
       "  <tbody>\n",
       "    <tr>\n",
       "      <th>count</th>\n",
       "      <td>14880.000</td>\n",
       "      <td>14880.000</td>\n",
       "      <td>14880.000</td>\n",
       "      <td>14880.0</td>\n",
       "      <td>14880.000</td>\n",
       "    </tr>\n",
       "    <tr>\n",
       "      <th>mean</th>\n",
       "      <td>0.416</td>\n",
       "      <td>0.671</td>\n",
       "      <td>59.015</td>\n",
       "      <td>0.0</td>\n",
       "      <td>6.607</td>\n",
       "    </tr>\n",
       "    <tr>\n",
       "      <th>std</th>\n",
       "      <td>0.000</td>\n",
       "      <td>0.067</td>\n",
       "      <td>47.554</td>\n",
       "      <td>0.0</td>\n",
       "      <td>7.562</td>\n",
       "    </tr>\n",
       "    <tr>\n",
       "      <th>min</th>\n",
       "      <td>0.416</td>\n",
       "      <td>0.600</td>\n",
       "      <td>1.000</td>\n",
       "      <td>0.0</td>\n",
       "      <td>0.000</td>\n",
       "    </tr>\n",
       "    <tr>\n",
       "      <th>25%</th>\n",
       "      <td>0.416</td>\n",
       "      <td>0.621</td>\n",
       "      <td>23.000</td>\n",
       "      <td>0.0</td>\n",
       "      <td>1.888</td>\n",
       "    </tr>\n",
       "    <tr>\n",
       "      <th>50%</th>\n",
       "      <td>0.416</td>\n",
       "      <td>0.649</td>\n",
       "      <td>47.000</td>\n",
       "      <td>0.0</td>\n",
       "      <td>3.618</td>\n",
       "    </tr>\n",
       "    <tr>\n",
       "      <th>75%</th>\n",
       "      <td>0.416</td>\n",
       "      <td>0.700</td>\n",
       "      <td>78.000</td>\n",
       "      <td>0.0</td>\n",
       "      <td>8.572</td>\n",
       "    </tr>\n",
       "    <tr>\n",
       "      <th>max</th>\n",
       "      <td>0.416</td>\n",
       "      <td>1.000</td>\n",
       "      <td>215.000</td>\n",
       "      <td>0.0</td>\n",
       "      <td>68.729</td>\n",
       "    </tr>\n",
       "  </tbody>\n",
       "</table>\n",
       "</div>"
      ],
      "text/plain": [
       "        coverage  alignment_score      count     gold       bleu\n",
       "count  14880.000        14880.000  14880.000  14880.0  14880.000\n",
       "mean       0.416            0.671     59.015      0.0      6.607\n",
       "std        0.000            0.067     47.554      0.0      7.562\n",
       "min        0.416            0.600      1.000      0.0      0.000\n",
       "25%        0.416            0.621     23.000      0.0      1.888\n",
       "50%        0.416            0.649     47.000      0.0      3.618\n",
       "75%        0.416            0.700     78.000      0.0      8.572\n",
       "max        0.416            1.000    215.000      0.0     68.729"
      ]
     },
     "execution_count": 246,
     "metadata": {},
     "output_type": "execute_result"
    }
   ],
   "source": [
    "data[model_name].describe().round(3)"
   ]
  },
  {
   "cell_type": "code",
   "execution_count": 193,
   "metadata": {},
   "outputs": [],
   "source": [
    "value_sum = data_model[['src', 'value']].groupby('src').sum()['value'].rename('value_sum')\n",
    "lang_1 = data_model[['src', 'lang_1']].groupby('src')['lang_1'].apply(list)\n",
    "lang_2 = data_model[['src', 'lang_2']].groupby('src')['lang_2'].apply(list)\n",
    "value_list = data_model[['src', 'value']].groupby('src')['value'].apply(list).rename('value_list')"
   ]
  },
  {
   "cell_type": "code",
   "execution_count": 194,
   "metadata": {},
   "outputs": [],
   "source": [
    "merge = pd.concat([value_sum, value_list, lang_1, lang_2], axis=1)\n",
    "merge = merge.reset_index()"
   ]
  },
  {
   "cell_type": "code",
   "execution_count": 196,
   "metadata": {},
   "outputs": [],
   "source": [
    "sel = data_model[['src', 'ref', 'result']].drop_duplicates()"
   ]
  },
  {
   "cell_type": "code",
   "execution_count": 197,
   "metadata": {},
   "outputs": [],
   "source": [
    "m = merge.merge(sel, on='src', how='left')"
   ]
  },
  {
   "cell_type": "code",
   "execution_count": 198,
   "metadata": {},
   "outputs": [],
   "source": [
    "m['n_pairs'] = m['lang_1'].apply(len)"
   ]
  },
  {
   "cell_type": "code",
   "execution_count": 200,
   "metadata": {},
   "outputs": [
    {
     "data": {
      "text/html": [
       "<div>\n",
       "<style scoped>\n",
       "    .dataframe tbody tr th:only-of-type {\n",
       "        vertical-align: middle;\n",
       "    }\n",
       "\n",
       "    .dataframe tbody tr th {\n",
       "        vertical-align: top;\n",
       "    }\n",
       "\n",
       "    .dataframe thead th {\n",
       "        text-align: right;\n",
       "    }\n",
       "</style>\n",
       "<table border=\"1\" class=\"dataframe\">\n",
       "  <thead>\n",
       "    <tr style=\"text-align: right;\">\n",
       "      <th></th>\n",
       "      <th>src</th>\n",
       "      <th>value_sum</th>\n",
       "      <th>value_list</th>\n",
       "      <th>lang_1</th>\n",
       "      <th>lang_2</th>\n",
       "      <th>ref</th>\n",
       "      <th>result</th>\n",
       "      <th>n_pairs</th>\n",
       "    </tr>\n",
       "  </thead>\n",
       "  <tbody>\n",
       "    <tr>\n",
       "      <th>292</th>\n",
       "      <td>Olmert also expressed his opinion in favour of...</td>\n",
       "      <td>1346</td>\n",
       "      <td>[428, 351, 168, 107, 74, 74, 45, 45, 37, 16, 1]</td>\n",
       "      <td>[of the withdrawal of, into a peace agreement,...</td>\n",
       "      <td>[de la retirada de, un acuerdo de paz, una con...</td>\n",
       "      <td>Olmert se pronunció también por la retirada de...</td>\n",
       "      <td>Olmert también expresó su opinión a favor de ...</td>\n",
       "      <td>11</td>\n",
       "    </tr>\n",
       "    <tr>\n",
       "      <th>15</th>\n",
       "      <td>\"The Ministry of Transportation does not consi...</td>\n",
       "      <td>2028</td>\n",
       "      <td>[1037, 306, 260, 219, 186, 15, 2, 2, 1]</td>\n",
       "      <td>[of the police and, safety of the passengers, ...</td>\n",
       "      <td>[de la policía y, seguridad de los pasajeros, ...</td>\n",
       "      <td>\"El Ministerio de Transporte no considera la a...</td>\n",
       "      <td>\"El Ministerio de Transporte no considera que...</td>\n",
       "      <td>9</td>\n",
       "    </tr>\n",
       "    <tr>\n",
       "      <th>206</th>\n",
       "      <td>If the president of the USA were to supposedly...</td>\n",
       "      <td>24810</td>\n",
       "      <td>[23821, 889, 77, 10, 6, 6, 1]</td>\n",
       "      <td>[of the United States, president of the USA, b...</td>\n",
       "      <td>[de los Estados Unidos, presidente de los Esta...</td>\n",
       "      <td>Si el presidente de EE.UU. presumiblemente dud...</td>\n",
       "      <td>Si el presidente de los Estados Unidos supues...</td>\n",
       "      <td>7</td>\n",
       "    </tr>\n",
       "    <tr>\n",
       "      <th>333</th>\n",
       "      <td>So at least as far as these aspects of our awa...</td>\n",
       "      <td>2098</td>\n",
       "      <td>[2013, 46, 16, 15, 4, 2, 2]</td>\n",
       "      <td>[and the ability to, who we are and, ability t...</td>\n",
       "      <td>[y la capacidad de, de quiénes somos y, capaci...</td>\n",
       "      <td>Teniendo en cuenta al menos los aspectos refer...</td>\n",
       "      <td>Por lo menos en cuanto a estos aspectos de nu...</td>\n",
       "      <td>7</td>\n",
       "    </tr>\n",
       "    <tr>\n",
       "      <th>73</th>\n",
       "      <td>And in order to have a better understanding of...</td>\n",
       "      <td>868</td>\n",
       "      <td>[447, 196, 137, 34, 28, 24, 2]</td>\n",
       "      <td>[a better understanding of, and the culture in...</td>\n",
       "      <td>[una mejor comprensión de, y la cultura en, pa...</td>\n",
       "      <td>Para poder entender mejor los comics y la cult...</td>\n",
       "      <td>Y para tener una mejor comprensión de los cóm...</td>\n",
       "      <td>7</td>\n",
       "    </tr>\n",
       "    <tr>\n",
       "      <th>122</th>\n",
       "      <td>But evidently the pressure on the proper funct...</td>\n",
       "      <td>462</td>\n",
       "      <td>[274, 56, 55, 55, 18, 2, 2]</td>\n",
       "      <td>[among the interests of, the decrease in price...</td>\n",
       "      <td>[entre los intereses de, disminución de los pr...</td>\n",
       "      <td>Evidentemente, la presión en cuanto al correct...</td>\n",
       "      <td>Pero evidentemente la presión sobre el funcio...</td>\n",
       "      <td>7</td>\n",
       "    </tr>\n",
       "    <tr>\n",
       "      <th>431</th>\n",
       "      <td>The ongoing earnings and net earnings from fin...</td>\n",
       "      <td>145</td>\n",
       "      <td>[99, 12, 10, 10, 7, 5, 2]</td>\n",
       "      <td>[to the same period, the previous year while, ...</td>\n",
       "      <td>[con el mismo período, año anterior, mientras ...</td>\n",
       "      <td>En comparación con el mismo período del año pa...</td>\n",
       "      <td>Las ganancias y los beneficios netos de las o...</td>\n",
       "      <td>7</td>\n",
       "    </tr>\n",
       "    <tr>\n",
       "      <th>281</th>\n",
       "      <td>Namely, they make considerable profits from th...</td>\n",
       "      <td>16442</td>\n",
       "      <td>[7708, 6577, 2075, 50, 30, 2]</td>\n",
       "      <td>[at the same time, the same time , from the ac...</td>\n",
       "      <td>[y al mismo tiempo, y al mismo tiempo, de las ...</td>\n",
       "      <td>Con las actividades de estas empresas obtienen...</td>\n",
       "      <td>En particular, se aprovechan de las actividad...</td>\n",
       "      <td>6</td>\n",
       "    </tr>\n",
       "    <tr>\n",
       "      <th>483</th>\n",
       "      <td>This could be a question of thousands of custo...</td>\n",
       "      <td>8603</td>\n",
       "      <td>[8282, 222, 64, 26, 7, 2]</td>\n",
       "      <td>[above all in the, be a question of, of the th...</td>\n",
       "      <td>[sobre todo en el, ser una cuestión de, de las...</td>\n",
       "      <td>Precisamente en el caso de las tres empresas c...</td>\n",
       "      <td>Esto podría ser una cuestión de miles de clie...</td>\n",
       "      <td>6</td>\n",
       "    </tr>\n",
       "    <tr>\n",
       "      <th>315</th>\n",
       "      <td>Polls and analysis conducted immediately after...</td>\n",
       "      <td>8003</td>\n",
       "      <td>[7864, 36, 34, 30, 29, 10]</td>\n",
       "      <td>[in the European Union, are concerned about th...</td>\n",
       "      <td>[en la Unión Europea., están preocupados por s...</td>\n",
       "      <td>Encuestas y análisis llevadas a cabo inmediata...</td>\n",
       "      <td>Los sondeos y análisis realizados inmediatame...</td>\n",
       "      <td>6</td>\n",
       "    </tr>\n",
       "  </tbody>\n",
       "</table>\n",
       "</div>"
      ],
      "text/plain": [
       "                                                   src  value_sum  \\\n",
       "292  Olmert also expressed his opinion in favour of...       1346   \n",
       "15   \"The Ministry of Transportation does not consi...       2028   \n",
       "206  If the president of the USA were to supposedly...      24810   \n",
       "333  So at least as far as these aspects of our awa...       2098   \n",
       "73   And in order to have a better understanding of...        868   \n",
       "122  But evidently the pressure on the proper funct...        462   \n",
       "431  The ongoing earnings and net earnings from fin...        145   \n",
       "281  Namely, they make considerable profits from th...      16442   \n",
       "483  This could be a question of thousands of custo...       8603   \n",
       "315  Polls and analysis conducted immediately after...       8003   \n",
       "\n",
       "                                          value_list  \\\n",
       "292  [428, 351, 168, 107, 74, 74, 45, 45, 37, 16, 1]   \n",
       "15           [1037, 306, 260, 219, 186, 15, 2, 2, 1]   \n",
       "206                    [23821, 889, 77, 10, 6, 6, 1]   \n",
       "333                      [2013, 46, 16, 15, 4, 2, 2]   \n",
       "73                    [447, 196, 137, 34, 28, 24, 2]   \n",
       "122                      [274, 56, 55, 55, 18, 2, 2]   \n",
       "431                        [99, 12, 10, 10, 7, 5, 2]   \n",
       "281                    [7708, 6577, 2075, 50, 30, 2]   \n",
       "483                        [8282, 222, 64, 26, 7, 2]   \n",
       "315                       [7864, 36, 34, 30, 29, 10]   \n",
       "\n",
       "                                                lang_1  \\\n",
       "292  [of the withdrawal of, into a peace agreement,...   \n",
       "15   [of the police and, safety of the passengers, ...   \n",
       "206  [of the United States, president of the USA, b...   \n",
       "333  [and the ability to, who we are and, ability t...   \n",
       "73   [a better understanding of, and the culture in...   \n",
       "122  [among the interests of, the decrease in price...   \n",
       "431  [to the same period, the previous year while, ...   \n",
       "281  [at the same time, the same time , from the ac...   \n",
       "483  [above all in the, be a question of, of the th...   \n",
       "315  [in the European Union, are concerned about th...   \n",
       "\n",
       "                                                lang_2  \\\n",
       "292  [de la retirada de, un acuerdo de paz, una con...   \n",
       "15   [de la policía y, seguridad de los pasajeros, ...   \n",
       "206  [de los Estados Unidos, presidente de los Esta...   \n",
       "333  [y la capacidad de, de quiénes somos y, capaci...   \n",
       "73   [una mejor comprensión de, y la cultura en, pa...   \n",
       "122  [entre los intereses de, disminución de los pr...   \n",
       "431  [con el mismo período, año anterior, mientras ...   \n",
       "281  [y al mismo tiempo, y al mismo tiempo, de las ...   \n",
       "483  [sobre todo en el, ser una cuestión de, de las...   \n",
       "315  [en la Unión Europea., están preocupados por s...   \n",
       "\n",
       "                                                   ref  \\\n",
       "292  Olmert se pronunció también por la retirada de...   \n",
       "15   \"El Ministerio de Transporte no considera la a...   \n",
       "206  Si el presidente de EE.UU. presumiblemente dud...   \n",
       "333  Teniendo en cuenta al menos los aspectos refer...   \n",
       "73   Para poder entender mejor los comics y la cult...   \n",
       "122  Evidentemente, la presión en cuanto al correct...   \n",
       "431  En comparación con el mismo período del año pa...   \n",
       "281  Con las actividades de estas empresas obtienen...   \n",
       "483  Precisamente en el caso de las tres empresas c...   \n",
       "315  Encuestas y análisis llevadas a cabo inmediata...   \n",
       "\n",
       "                                                result  n_pairs  \n",
       "292   Olmert también expresó su opinión a favor de ...       11  \n",
       "15    \"El Ministerio de Transporte no considera que...        9  \n",
       "206   Si el presidente de los Estados Unidos supues...        7  \n",
       "333   Por lo menos en cuanto a estos aspectos de nu...        7  \n",
       "73    Y para tener una mejor comprensión de los cóm...        7  \n",
       "122   Pero evidentemente la presión sobre el funcio...        7  \n",
       "431   Las ganancias y los beneficios netos de las o...        7  \n",
       "281   En particular, se aprovechan de las actividad...        6  \n",
       "483   Esto podría ser una cuestión de miles de clie...        6  \n",
       "315   Los sondeos y análisis realizados inmediatame...        6  "
      ]
     },
     "execution_count": 200,
     "metadata": {},
     "output_type": "execute_result"
    }
   ],
   "source": [
    "m.sort_values(['n_pairs', 'value_sum'], ascending=False).head(10)"
   ]
  },
  {
   "cell_type": "code",
   "execution_count": 259,
   "metadata": {},
   "outputs": [],
   "source": [
    "sample_id = 333"
   ]
  },
  {
   "cell_type": "code",
   "execution_count": 260,
   "metadata": {},
   "outputs": [
    {
     "data": {
      "text/plain": [
       "'So at least as far as these aspects of our awareness depending on the prefrontal cortex are concerned - among them the knowledge who we are and the ability to plan and to make decisions - there is reason to assume that humans are distinct even from other primates.'"
      ]
     },
     "execution_count": 260,
     "metadata": {},
     "output_type": "execute_result"
    }
   ],
   "source": [
    "m.iloc[sample_id]['src']"
   ]
  },
  {
   "cell_type": "code",
   "execution_count": 261,
   "metadata": {},
   "outputs": [
    {
     "data": {
      "text/plain": [
       "' Por lo menos en cuanto a estos aspectos de nuestra conciencia dependientes del córtex prefrontal - entre ellos el conocimiento de quiénes somos y la capacidad de planificar y tomar decisiones - hay razón para suponer que los humanos son distintos incluso de otros primates.'"
      ]
     },
     "execution_count": 261,
     "metadata": {},
     "output_type": "execute_result"
    }
   ],
   "source": [
    "m.iloc[sample_id]['result']"
   ]
  },
  {
   "cell_type": "code",
   "execution_count": 262,
   "metadata": {},
   "outputs": [
    {
     "data": {
      "text/plain": [
       "(2098, 7, [2013, 46, 16, 15, 4, 2, 2])"
      ]
     },
     "execution_count": 262,
     "metadata": {},
     "output_type": "execute_result"
    }
   ],
   "source": [
    "m.iloc[sample_id]['value_sum'], m.iloc[sample_id]['n_pairs'], m.iloc[sample_id]['value_list']"
   ]
  },
  {
   "cell_type": "code",
   "execution_count": 263,
   "metadata": {},
   "outputs": [
    {
     "data": {
      "text/plain": [
       "['and the ability to',\n",
       " 'who we are and',\n",
       " 'ability to plan and',\n",
       " 'the ability to plan',\n",
       " 'these aspects of our',\n",
       " 'knowledge who we are',\n",
       " 'far as these aspects']"
      ]
     },
     "execution_count": 263,
     "metadata": {},
     "output_type": "execute_result"
    }
   ],
   "source": [
    "m.iloc[sample_id]['lang_1']"
   ]
  },
  {
   "cell_type": "code",
   "execution_count": 264,
   "metadata": {},
   "outputs": [
    {
     "data": {
      "text/plain": [
       "['y la capacidad de',\n",
       " 'de quiénes somos y',\n",
       " 'capacidad de planificar y',\n",
       " 'la capacidad de planificar',\n",
       " 'estos aspectos de nuestra',\n",
       " 'conocimiento de quiénes somos',\n",
       " 'cuanto a estos aspectos']"
      ]
     },
     "execution_count": 264,
     "metadata": {},
     "output_type": "execute_result"
    }
   ],
   "source": [
    "m.iloc[sample_id]['lang_2']"
   ]
  }
 ],
 "metadata": {
  "kernelspec": {
   "display_name": "base",
   "language": "python",
   "name": "python3"
  },
  "language_info": {
   "codemirror_mode": {
    "name": "ipython",
    "version": 3
   },
   "file_extension": ".py",
   "mimetype": "text/x-python",
   "name": "python",
   "nbconvert_exporter": "python",
   "pygments_lexer": "ipython3",
   "version": "3.9.13"
  }
 },
 "nbformat": 4,
 "nbformat_minor": 2
}
