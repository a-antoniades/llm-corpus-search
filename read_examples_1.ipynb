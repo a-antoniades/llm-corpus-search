{
 "cells": [
  {
   "cell_type": "code",
   "execution_count": 1,
   "metadata": {},
   "outputs": [],
   "source": [
    "import pickle\n",
    "import pandas as pd"
   ]
  },
  {
   "cell_type": "code",
   "execution_count": 2,
   "metadata": {},
   "outputs": [],
   "source": [
    "# fname = '/share/edc/home/antonis/LLM-Incidental-Supervision/incidental-supervision/results/n-grams/wmt09_gens/pile/exp_3/test-set/n_samples_None_fkeyFalse_rkeyFalse_fstopFalse_onlyalphaFalse/4/examples_dfs_0-shot_common_pythia_models.pkl'\n",
    "fname = '/share/edc/home/antonis/LLM-Incidental-Supervision/incidental-supervision/results/n-grams/wmt09_gens/pile/410m/pythia-410m/n_samples_None_fkeyFalse_rkeyFalse_fstopFalse_onlyalphaFalse/4/examples_dfs_0-shot_common_pythia_models.pkl'\n",
    "with open(fname, 'rb') as f:\n",
    "    data = pickle.load(f)"
   ]
  },
  {
   "cell_type": "code",
   "execution_count": 3,
   "metadata": {},
   "outputs": [
    {
     "data": {
      "text/plain": [
       "dict_keys(['pythia-12b', 'pythia-6.9b', 'pythia-2.8b', 'pythia-1.4b', 'pythia-410m', 'pythia-160m', 'pythia-70m', 'pythia-31m', 'pythia-14m'])"
      ]
     },
     "execution_count": 3,
     "metadata": {},
     "output_type": "execute_result"
    }
   ],
   "source": [
    "data.keys()"
   ]
  },
  {
   "cell_type": "code",
   "execution_count": 4,
   "metadata": {},
   "outputs": [],
   "source": [
    "model_name = 'pythia-410m'"
   ]
  },
  {
   "cell_type": "code",
   "execution_count": 5,
   "metadata": {},
   "outputs": [
    {
     "data": {
      "text/plain": [
       "dict_keys(['pythia-12b', 'pythia-6.9b', 'pythia-2.8b', 'pythia-1.4b', 'pythia-410m', 'pythia-160m', 'pythia-70m', 'pythia-31m', 'pythia-14m'])"
      ]
     },
     "execution_count": 5,
     "metadata": {},
     "output_type": "execute_result"
    }
   ],
   "source": [
    "data.keys()\n"
   ]
  },
  {
   "cell_type": "code",
   "execution_count": 6,
   "metadata": {},
   "outputs": [],
   "source": [
    "# threshold  by alignment score\n",
    "data_model = data[model_name].sort_values(['bleu', 'value'], ascending=False)\n",
    "data_model = data_model[data_model['alignment_score'] > 0.9]"
   ]
  },
  {
   "cell_type": "code",
   "execution_count": 7,
   "metadata": {},
   "outputs": [
    {
     "data": {
      "text/html": [
       "<div>\n",
       "<style scoped>\n",
       "    .dataframe tbody tr th:only-of-type {\n",
       "        vertical-align: middle;\n",
       "    }\n",
       "\n",
       "    .dataframe tbody tr th {\n",
       "        vertical-align: top;\n",
       "    }\n",
       "\n",
       "    .dataframe thead th {\n",
       "        text-align: right;\n",
       "    }\n",
       "</style>\n",
       "<table border=\"1\" class=\"dataframe\">\n",
       "  <thead>\n",
       "    <tr style=\"text-align: right;\">\n",
       "      <th></th>\n",
       "      <th>lang_1</th>\n",
       "      <th>lang_2</th>\n",
       "      <th>value</th>\n",
       "      <th>example</th>\n",
       "      <th>task</th>\n",
       "      <th>pair</th>\n",
       "      <th>example_clean</th>\n",
       "      <th>coverage</th>\n",
       "      <th>alignment_score</th>\n",
       "      <th>query</th>\n",
       "      <th>sum</th>\n",
       "      <th>count</th>\n",
       "      <th>id</th>\n",
       "      <th>gold</th>\n",
       "      <th>src</th>\n",
       "      <th>ref</th>\n",
       "      <th>result</th>\n",
       "      <th>bleu</th>\n",
       "    </tr>\n",
       "  </thead>\n",
       "  <tbody>\n",
       "    <tr>\n",
       "      <th>1232</th>\n",
       "      <td>case of the three</td>\n",
       "      <td>caso de los tres</td>\n",
       "      <td>52</td>\n",
       "      <td>{'translation': {'en': 'This could be a questi...</td>\n",
       "      <td>en-es</td>\n",
       "      <td>(case of the three, caso de los tres)</td>\n",
       "      <td>This could be a question of thousands of custo...</td>\n",
       "      <td>0.416375</td>\n",
       "      <td>0.901006</td>\n",
       "      <td>{'translation': {'en': 'This could be a questi...</td>\n",
       "      <td>164277</td>\n",
       "      <td>47</td>\n",
       "      <td>1808_0</td>\n",
       "      <td>0</td>\n",
       "      <td>This could be a question of thousands of custo...</td>\n",
       "      <td>Precisamente en el caso de las tres empresas c...</td>\n",
       "      <td>Esta es una pregunta de millones de clientes,...</td>\n",
       "      <td>20.313747</td>\n",
       "    </tr>\n",
       "    <tr>\n",
       "      <th>1301</th>\n",
       "      <td>it has the impression</td>\n",
       "      <td>se tiene la impresión</td>\n",
       "      <td>32</td>\n",
       "      <td>{'translation': {'en': 'But Congress can block...</td>\n",
       "      <td>en-es</td>\n",
       "      <td>(it has the impression, se tiene la impresión)</td>\n",
       "      <td>But Congress can block the release of the rema...</td>\n",
       "      <td>0.416375</td>\n",
       "      <td>0.915218</td>\n",
       "      <td>{'translation': {'en': 'But Congress can block...</td>\n",
       "      <td>159624</td>\n",
       "      <td>109</td>\n",
       "      <td>1648_0</td>\n",
       "      <td>0</td>\n",
       "      <td>But Congress can block the release of the rema...</td>\n",
       "      <td>Sin embargo, el Congreso puede bloquear la lib...</td>\n",
       "      <td>Pero, si no se puede liberar el resto de la c...</td>\n",
       "      <td>19.557767</td>\n",
       "    </tr>\n",
       "    <tr>\n",
       "      <th>10352</th>\n",
       "      <td>responsibility for their actions</td>\n",
       "      <td>responsabilidad por su actuación</td>\n",
       "      <td>2</td>\n",
       "      <td>{'translation': {'en': 'None of the operators ...</td>\n",
       "      <td>en-es</td>\n",
       "      <td>(responsibility for their actions, responsabil...</td>\n",
       "      <td>None of the operators have a dominant position...</td>\n",
       "      <td>0.416375</td>\n",
       "      <td>0.903553</td>\n",
       "      <td>{'translation': {'en': 'None of the operators ...</td>\n",
       "      <td>4728</td>\n",
       "      <td>76</td>\n",
       "      <td>1420_0</td>\n",
       "      <td>0</td>\n",
       "      <td>None of the operators have a dominant position...</td>\n",
       "      <td>Ninguno de los operadores tiene una posición d...</td>\n",
       "      <td>No hay un operador que tiene una posición dom...</td>\n",
       "      <td>17.829220</td>\n",
       "    </tr>\n",
       "    <tr>\n",
       "      <th>10355</th>\n",
       "      <td>increased responsibility for their</td>\n",
       "      <td>mayor responsabilidad por su</td>\n",
       "      <td>2</td>\n",
       "      <td>{'translation': {'en': 'None of the operators ...</td>\n",
       "      <td>en-es</td>\n",
       "      <td>(increased responsibility for their, mayor res...</td>\n",
       "      <td>None of the operators have a dominant position...</td>\n",
       "      <td>0.416375</td>\n",
       "      <td>0.906431</td>\n",
       "      <td>{'translation': {'en': 'None of the operators ...</td>\n",
       "      <td>4728</td>\n",
       "      <td>76</td>\n",
       "      <td>1420_0</td>\n",
       "      <td>0</td>\n",
       "      <td>None of the operators have a dominant position...</td>\n",
       "      <td>Ninguno de los operadores tiene una posición d...</td>\n",
       "      <td>No hay un operador que tiene una posición dom...</td>\n",
       "      <td>17.829220</td>\n",
       "    </tr>\n",
       "    <tr>\n",
       "      <th>10343</th>\n",
       "      <td>a dominant position and</td>\n",
       "      <td>una posición dominante, y</td>\n",
       "      <td>1</td>\n",
       "      <td>{'translation': {'en': 'None of the operators ...</td>\n",
       "      <td>en-es</td>\n",
       "      <td>(a dominant position and, una posición dominan...</td>\n",
       "      <td>None of the operators have a dominant position...</td>\n",
       "      <td>0.416375</td>\n",
       "      <td>0.938540</td>\n",
       "      <td>{'translation': {'en': 'None of the operators ...</td>\n",
       "      <td>4728</td>\n",
       "      <td>76</td>\n",
       "      <td>1420_0</td>\n",
       "      <td>0</td>\n",
       "      <td>None of the operators have a dominant position...</td>\n",
       "      <td>Ninguno de los operadores tiene una posición d...</td>\n",
       "      <td>No hay un operador que tiene una posición dom...</td>\n",
       "      <td>17.829220</td>\n",
       "    </tr>\n",
       "    <tr>\n",
       "      <th>12894</th>\n",
       "      <td>is for example when</td>\n",
       "      <td>es, por ejemplo, cuando</td>\n",
       "      <td>9</td>\n",
       "      <td>{'translation': {'en': 'The sugar for them is,...</td>\n",
       "      <td>en-es</td>\n",
       "      <td>(is for example when, es, por ejemplo, cuando)</td>\n",
       "      <td>The sugar for them is, for example, when they ...</td>\n",
       "      <td>0.416375</td>\n",
       "      <td>0.925755</td>\n",
       "      <td>{'translation': {'en': 'The sugar for them is,...</td>\n",
       "      <td>772</td>\n",
       "      <td>22</td>\n",
       "      <td>923_0</td>\n",
       "      <td>0</td>\n",
       "      <td>The sugar for them is, for example, when they ...</td>\n",
       "      <td>Azúcar es para él cuando, por ejemplo, se pasa...</td>\n",
       "      <td>El tiempo para ellos es, por ejemplo, cuando ...</td>\n",
       "      <td>16.195570</td>\n",
       "    </tr>\n",
       "    <tr>\n",
       "      <th>11532</th>\n",
       "      <td>in the country with</td>\n",
       "      <td>en el país con</td>\n",
       "      <td>351</td>\n",
       "      <td>{'translation': {'en': 'According to the preli...</td>\n",
       "      <td>en-es</td>\n",
       "      <td>(in the country with, en el país con)</td>\n",
       "      <td>According to the preliminary results, the Soci...</td>\n",
       "      <td>0.416375</td>\n",
       "      <td>0.937260</td>\n",
       "      <td>{'translation': {'en': 'According to the preli...</td>\n",
       "      <td>2579</td>\n",
       "      <td>38</td>\n",
       "      <td>1154_0</td>\n",
       "      <td>0</td>\n",
       "      <td>According to the preliminary results, the Soci...</td>\n",
       "      <td>Según los resultados aproximados, la socialdem...</td>\n",
       "      <td>El partido socialista es el partido más fuert...</td>\n",
       "      <td>15.943155</td>\n",
       "    </tr>\n",
       "    <tr>\n",
       "      <th>7026</th>\n",
       "      <td>possible that the prices</td>\n",
       "      <td>posible que el precio</td>\n",
       "      <td>12</td>\n",
       "      <td>{'translation': {'en': 'How is it possible tha...</td>\n",
       "      <td>en-es</td>\n",
       "      <td>(possible that the prices, posible que el precio)</td>\n",
       "      <td>How is it possible that the prices in Czechia ...</td>\n",
       "      <td>0.416375</td>\n",
       "      <td>0.904436</td>\n",
       "      <td>{'translation': {'en': 'How is it possible tha...</td>\n",
       "      <td>15367</td>\n",
       "      <td>24</td>\n",
       "      <td>1292_0</td>\n",
       "      <td>0</td>\n",
       "      <td>How is it possible that the prices in Czechia ...</td>\n",
       "      <td>¿Cómo es posible que los precios en la Repúbli...</td>\n",
       "      <td>¿Cómo es posible que el precio de la energía ...</td>\n",
       "      <td>15.545245</td>\n",
       "    </tr>\n",
       "    <tr>\n",
       "      <th>13585</th>\n",
       "      <td>can be compared to</td>\n",
       "      <td>puede ser comparado con</td>\n",
       "      <td>33</td>\n",
       "      <td>{'translation': {'en': '\"During a smooth ride,...</td>\n",
       "      <td>en-es</td>\n",
       "      <td>(can be compared to, puede ser comparado con)</td>\n",
       "      <td>\"During a smooth ride, there is not much threa...</td>\n",
       "      <td>0.416375</td>\n",
       "      <td>0.922391</td>\n",
       "      <td>{'translation': {'en': '\"During a smooth ride,...</td>\n",
       "      <td>376</td>\n",
       "      <td>20</td>\n",
       "      <td>1570_0</td>\n",
       "      <td>0</td>\n",
       "      <td>\"During a smooth ride, there is not much threa...</td>\n",
       "      <td>\"Durante el desarrollo del viaje no hay mucha ...</td>\n",
       "      <td>\"A la velocidad, no hay mucho peligro, el est...</td>\n",
       "      <td>15.285713</td>\n",
       "    </tr>\n",
       "    <tr>\n",
       "      <th>12612</th>\n",
       "      <td>the dominance of his</td>\n",
       "      <td>la dominación de su</td>\n",
       "      <td>11</td>\n",
       "      <td>{'translation': {'en': 'He senses that the cha...</td>\n",
       "      <td>en-es</td>\n",
       "      <td>(the dominance of his, la dominación de su)</td>\n",
       "      <td>He senses that the chart's intermediate report...</td>\n",
       "      <td>0.416375</td>\n",
       "      <td>0.928149</td>\n",
       "      <td>{'translation': {'en': \"He senses that the cha...</td>\n",
       "      <td>1113</td>\n",
       "      <td>46</td>\n",
       "      <td>327_0</td>\n",
       "      <td>0</td>\n",
       "      <td>He senses that the chart's intermediate report...</td>\n",
       "      <td>Prevé que las calificaciones parciales de la t...</td>\n",
       "      <td>Se siente que el reporte de la Liga es más so...</td>\n",
       "      <td>15.025903</td>\n",
       "    </tr>\n",
       "  </tbody>\n",
       "</table>\n",
       "</div>"
      ],
      "text/plain": [
       "                                   lang_1                            lang_2  \\\n",
       "1232                    case of the three                  caso de los tres   \n",
       "1301                it has the impression             se tiene la impresión   \n",
       "10352    responsibility for their actions  responsabilidad por su actuación   \n",
       "10355  increased responsibility for their      mayor responsabilidad por su   \n",
       "10343             a dominant position and         una posición dominante, y   \n",
       "12894                 is for example when           es, por ejemplo, cuando   \n",
       "11532                 in the country with                    en el país con   \n",
       "7026             possible that the prices             posible que el precio   \n",
       "13585                  can be compared to           puede ser comparado con   \n",
       "12612                the dominance of his               la dominación de su   \n",
       "\n",
       "      value                                            example   task  \\\n",
       "1232     52  {'translation': {'en': 'This could be a questi...  en-es   \n",
       "1301     32  {'translation': {'en': 'But Congress can block...  en-es   \n",
       "10352     2  {'translation': {'en': 'None of the operators ...  en-es   \n",
       "10355     2  {'translation': {'en': 'None of the operators ...  en-es   \n",
       "10343     1  {'translation': {'en': 'None of the operators ...  en-es   \n",
       "12894     9  {'translation': {'en': 'The sugar for them is,...  en-es   \n",
       "11532   351  {'translation': {'en': 'According to the preli...  en-es   \n",
       "7026     12  {'translation': {'en': 'How is it possible tha...  en-es   \n",
       "13585    33  {'translation': {'en': '\"During a smooth ride,...  en-es   \n",
       "12612    11  {'translation': {'en': 'He senses that the cha...  en-es   \n",
       "\n",
       "                                                    pair  \\\n",
       "1232               (case of the three, caso de los tres)   \n",
       "1301      (it has the impression, se tiene la impresión)   \n",
       "10352  (responsibility for their actions, responsabil...   \n",
       "10355  (increased responsibility for their, mayor res...   \n",
       "10343  (a dominant position and, una posición dominan...   \n",
       "12894     (is for example when, es, por ejemplo, cuando)   \n",
       "11532              (in the country with, en el país con)   \n",
       "7026   (possible that the prices, posible que el precio)   \n",
       "13585      (can be compared to, puede ser comparado con)   \n",
       "12612        (the dominance of his, la dominación de su)   \n",
       "\n",
       "                                           example_clean  coverage  \\\n",
       "1232   This could be a question of thousands of custo...  0.416375   \n",
       "1301   But Congress can block the release of the rema...  0.416375   \n",
       "10352  None of the operators have a dominant position...  0.416375   \n",
       "10355  None of the operators have a dominant position...  0.416375   \n",
       "10343  None of the operators have a dominant position...  0.416375   \n",
       "12894  The sugar for them is, for example, when they ...  0.416375   \n",
       "11532  According to the preliminary results, the Soci...  0.416375   \n",
       "7026   How is it possible that the prices in Czechia ...  0.416375   \n",
       "13585  \"During a smooth ride, there is not much threa...  0.416375   \n",
       "12612  He senses that the chart's intermediate report...  0.416375   \n",
       "\n",
       "       alignment_score                                              query  \\\n",
       "1232          0.901006  {'translation': {'en': 'This could be a questi...   \n",
       "1301          0.915218  {'translation': {'en': 'But Congress can block...   \n",
       "10352         0.903553  {'translation': {'en': 'None of the operators ...   \n",
       "10355         0.906431  {'translation': {'en': 'None of the operators ...   \n",
       "10343         0.938540  {'translation': {'en': 'None of the operators ...   \n",
       "12894         0.925755  {'translation': {'en': 'The sugar for them is,...   \n",
       "11532         0.937260  {'translation': {'en': 'According to the preli...   \n",
       "7026          0.904436  {'translation': {'en': 'How is it possible tha...   \n",
       "13585         0.922391  {'translation': {'en': '\"During a smooth ride,...   \n",
       "12612         0.928149  {'translation': {'en': \"He senses that the cha...   \n",
       "\n",
       "          sum  count      id  gold  \\\n",
       "1232   164277     47  1808_0     0   \n",
       "1301   159624    109  1648_0     0   \n",
       "10352    4728     76  1420_0     0   \n",
       "10355    4728     76  1420_0     0   \n",
       "10343    4728     76  1420_0     0   \n",
       "12894     772     22   923_0     0   \n",
       "11532    2579     38  1154_0     0   \n",
       "7026    15367     24  1292_0     0   \n",
       "13585     376     20  1570_0     0   \n",
       "12612    1113     46   327_0     0   \n",
       "\n",
       "                                                     src  \\\n",
       "1232   This could be a question of thousands of custo...   \n",
       "1301   But Congress can block the release of the rema...   \n",
       "10352  None of the operators have a dominant position...   \n",
       "10355  None of the operators have a dominant position...   \n",
       "10343  None of the operators have a dominant position...   \n",
       "12894  The sugar for them is, for example, when they ...   \n",
       "11532  According to the preliminary results, the Soci...   \n",
       "7026   How is it possible that the prices in Czechia ...   \n",
       "13585  \"During a smooth ride, there is not much threa...   \n",
       "12612  He senses that the chart's intermediate report...   \n",
       "\n",
       "                                                     ref  \\\n",
       "1232   Precisamente en el caso de las tres empresas c...   \n",
       "1301   Sin embargo, el Congreso puede bloquear la lib...   \n",
       "10352  Ninguno de los operadores tiene una posición d...   \n",
       "10355  Ninguno de los operadores tiene una posición d...   \n",
       "10343  Ninguno de los operadores tiene una posición d...   \n",
       "12894  Azúcar es para él cuando, por ejemplo, se pasa...   \n",
       "11532  Según los resultados aproximados, la socialdem...   \n",
       "7026   ¿Cómo es posible que los precios en la Repúbli...   \n",
       "13585  \"Durante el desarrollo del viaje no hay mucha ...   \n",
       "12612  Prevé que las calificaciones parciales de la t...   \n",
       "\n",
       "                                                  result       bleu  \n",
       "1232    Esta es una pregunta de millones de clientes,...  20.313747  \n",
       "1301    Pero, si no se puede liberar el resto de la c...  19.557767  \n",
       "10352   No hay un operador que tiene una posición dom...  17.829220  \n",
       "10355   No hay un operador que tiene una posición dom...  17.829220  \n",
       "10343   No hay un operador que tiene una posición dom...  17.829220  \n",
       "12894   El tiempo para ellos es, por ejemplo, cuando ...  16.195570  \n",
       "11532   El partido socialista es el partido más fuert...  15.943155  \n",
       "7026    ¿Cómo es posible que el precio de la energía ...  15.545245  \n",
       "13585   \"A la velocidad, no hay mucho peligro, el est...  15.285713  \n",
       "12612   Se siente que el reporte de la Liga es más so...  15.025903  "
      ]
     },
     "execution_count": 7,
     "metadata": {},
     "output_type": "execute_result"
    }
   ],
   "source": [
    "data_model.iloc[20:30]"
   ]
  },
  {
   "cell_type": "markdown",
   "metadata": {},
   "source": []
  },
  {
   "cell_type": "code",
   "execution_count": 8,
   "metadata": {},
   "outputs": [],
   "source": [
    "sample = 2527"
   ]
  },
  {
   "cell_type": "code",
   "execution_count": 9,
   "metadata": {},
   "outputs": [
    {
     "data": {
      "text/plain": [
       "('according to the rules', 'las normas de la')"
      ]
     },
     "execution_count": 9,
     "metadata": {},
     "output_type": "execute_result"
    }
   ],
   "source": [
    "data[model_name].iloc[sample]['lang_1'], data[model_name].iloc[sample]['lang_2']"
   ]
  },
  {
   "cell_type": "code",
   "execution_count": 10,
   "metadata": {},
   "outputs": [
    {
     "data": {
      "text/plain": [
       "'en-es'"
      ]
     },
     "execution_count": 10,
     "metadata": {},
     "output_type": "execute_result"
    }
   ],
   "source": [
    "data[model_name].iloc[sample]['task']"
   ]
  },
  {
   "cell_type": "markdown",
   "metadata": {},
   "source": []
  },
  {
   "cell_type": "code",
   "execution_count": 11,
   "metadata": {},
   "outputs": [
    {
     "data": {
      "text/plain": [
       "(\"There was `the serious danger that the PZPN is not able to act according to the rules,' Drzeviecki told Polish news agency PAP.\",\n",
       " \" `La situación es grave que no se pueda actuar en el marco de las normas de la UE.'\")"
      ]
     },
     "execution_count": 11,
     "metadata": {},
     "output_type": "execute_result"
    }
   ],
   "source": [
    "data[model_name].iloc[sample]['src'], data[model_name].iloc[sample]['result']"
   ]
  },
  {
   "cell_type": "markdown",
   "metadata": {},
   "source": []
  },
  {
   "cell_type": "code",
   "execution_count": 12,
   "metadata": {},
   "outputs": [
    {
     "data": {
      "text/html": [
       "<div>\n",
       "<style scoped>\n",
       "    .dataframe tbody tr th:only-of-type {\n",
       "        vertical-align: middle;\n",
       "    }\n",
       "\n",
       "    .dataframe tbody tr th {\n",
       "        vertical-align: top;\n",
       "    }\n",
       "\n",
       "    .dataframe thead th {\n",
       "        text-align: right;\n",
       "    }\n",
       "</style>\n",
       "<table border=\"1\" class=\"dataframe\">\n",
       "  <thead>\n",
       "    <tr style=\"text-align: right;\">\n",
       "      <th></th>\n",
       "      <th>coverage</th>\n",
       "      <th>alignment_score</th>\n",
       "      <th>count</th>\n",
       "      <th>gold</th>\n",
       "      <th>bleu</th>\n",
       "    </tr>\n",
       "  </thead>\n",
       "  <tbody>\n",
       "    <tr>\n",
       "      <th>count</th>\n",
       "      <td>14880.000</td>\n",
       "      <td>14880.000</td>\n",
       "      <td>14880.000</td>\n",
       "      <td>14880.0</td>\n",
       "      <td>14880.000</td>\n",
       "    </tr>\n",
       "    <tr>\n",
       "      <th>mean</th>\n",
       "      <td>0.416</td>\n",
       "      <td>0.671</td>\n",
       "      <td>59.015</td>\n",
       "      <td>0.0</td>\n",
       "      <td>6.607</td>\n",
       "    </tr>\n",
       "    <tr>\n",
       "      <th>std</th>\n",
       "      <td>0.000</td>\n",
       "      <td>0.067</td>\n",
       "      <td>47.554</td>\n",
       "      <td>0.0</td>\n",
       "      <td>7.562</td>\n",
       "    </tr>\n",
       "    <tr>\n",
       "      <th>min</th>\n",
       "      <td>0.416</td>\n",
       "      <td>0.600</td>\n",
       "      <td>1.000</td>\n",
       "      <td>0.0</td>\n",
       "      <td>0.000</td>\n",
       "    </tr>\n",
       "    <tr>\n",
       "      <th>25%</th>\n",
       "      <td>0.416</td>\n",
       "      <td>0.621</td>\n",
       "      <td>23.000</td>\n",
       "      <td>0.0</td>\n",
       "      <td>1.888</td>\n",
       "    </tr>\n",
       "    <tr>\n",
       "      <th>50%</th>\n",
       "      <td>0.416</td>\n",
       "      <td>0.649</td>\n",
       "      <td>47.000</td>\n",
       "      <td>0.0</td>\n",
       "      <td>3.618</td>\n",
       "    </tr>\n",
       "    <tr>\n",
       "      <th>75%</th>\n",
       "      <td>0.416</td>\n",
       "      <td>0.700</td>\n",
       "      <td>78.000</td>\n",
       "      <td>0.0</td>\n",
       "      <td>8.572</td>\n",
       "    </tr>\n",
       "    <tr>\n",
       "      <th>max</th>\n",
       "      <td>0.416</td>\n",
       "      <td>1.000</td>\n",
       "      <td>215.000</td>\n",
       "      <td>0.0</td>\n",
       "      <td>68.729</td>\n",
       "    </tr>\n",
       "  </tbody>\n",
       "</table>\n",
       "</div>"
      ],
      "text/plain": [
       "        coverage  alignment_score      count     gold       bleu\n",
       "count  14880.000        14880.000  14880.000  14880.0  14880.000\n",
       "mean       0.416            0.671     59.015      0.0      6.607\n",
       "std        0.000            0.067     47.554      0.0      7.562\n",
       "min        0.416            0.600      1.000      0.0      0.000\n",
       "25%        0.416            0.621     23.000      0.0      1.888\n",
       "50%        0.416            0.649     47.000      0.0      3.618\n",
       "75%        0.416            0.700     78.000      0.0      8.572\n",
       "max        0.416            1.000    215.000      0.0     68.729"
      ]
     },
     "execution_count": 12,
     "metadata": {},
     "output_type": "execute_result"
    }
   ],
   "source": [
    "data[model_name].describe().round(3)"
   ]
  },
  {
   "cell_type": "code",
   "execution_count": 13,
   "metadata": {},
   "outputs": [],
   "source": [
    "value_sum = data_model[['src', 'value']].groupby('src').sum()['value'].rename('value_sum')\n",
    "lang_1 = data_model[['src', 'lang_1']].groupby('src')['lang_1'].apply(list)\n",
    "lang_2 = data_model[['src', 'lang_2']].groupby('src')['lang_2'].apply(list)\n",
    "value_list = data_model[['src', 'value']].groupby('src')['value'].apply(list).rename('value_list')"
   ]
  },
  {
   "cell_type": "code",
   "execution_count": 14,
   "metadata": {},
   "outputs": [],
   "source": [
    "merge = pd.concat([value_sum, value_list, lang_1, lang_2], axis=1)\n",
    "merge = merge.reset_index()"
   ]
  },
  {
   "cell_type": "code",
   "execution_count": 15,
   "metadata": {},
   "outputs": [],
   "source": [
    "sel = data_model[['src', 'ref', 'result']].drop_duplicates()"
   ]
  },
  {
   "cell_type": "code",
   "execution_count": 16,
   "metadata": {},
   "outputs": [],
   "source": [
    "m = merge.merge(sel, on='src', how='left')"
   ]
  },
  {
   "cell_type": "code",
   "execution_count": 17,
   "metadata": {},
   "outputs": [],
   "source": [
    "m['n_pairs'] = m['lang_1'].apply(len)"
   ]
  },
  {
   "cell_type": "code",
   "execution_count": 18,
   "metadata": {},
   "outputs": [
    {
     "data": {
      "text/html": [
       "<div>\n",
       "<style scoped>\n",
       "    .dataframe tbody tr th:only-of-type {\n",
       "        vertical-align: middle;\n",
       "    }\n",
       "\n",
       "    .dataframe tbody tr th {\n",
       "        vertical-align: top;\n",
       "    }\n",
       "\n",
       "    .dataframe thead th {\n",
       "        text-align: right;\n",
       "    }\n",
       "</style>\n",
       "<table border=\"1\" class=\"dataframe\">\n",
       "  <thead>\n",
       "    <tr style=\"text-align: right;\">\n",
       "      <th></th>\n",
       "      <th>src</th>\n",
       "      <th>value_sum</th>\n",
       "      <th>value_list</th>\n",
       "      <th>lang_1</th>\n",
       "      <th>lang_2</th>\n",
       "      <th>ref</th>\n",
       "      <th>result</th>\n",
       "      <th>n_pairs</th>\n",
       "    </tr>\n",
       "  </thead>\n",
       "  <tbody>\n",
       "    <tr>\n",
       "      <th>73</th>\n",
       "      <td>The prime minister of the provisional Israeli ...</td>\n",
       "      <td>43</td>\n",
       "      <td>[20, 13, 8, 2]</td>\n",
       "      <td>[with the Palestinians and, peace with the Pal...</td>\n",
       "      <td>[con los palestinos y, paz con los palestinos,...</td>\n",
       "      <td>El presidente del gobierno provisional de Isra...</td>\n",
       "      <td>El presidente de la República de Israel, Benj...</td>\n",
       "      <td>4</td>\n",
       "    </tr>\n",
       "    <tr>\n",
       "      <th>84</th>\n",
       "      <td>The two hosts are behind on the schedule for t...</td>\n",
       "      <td>20</td>\n",
       "      <td>[8, 8, 2, 2]</td>\n",
       "      <td>[the construction or reconstruction, construct...</td>\n",
       "      <td>[la construcción o reconstrucción, la construc...</td>\n",
       "      <td>El horario de la construcción y la reconstrucc...</td>\n",
       "      <td>El dos se encuentra en el orden de la constru...</td>\n",
       "      <td>4</td>\n",
       "    </tr>\n",
       "    <tr>\n",
       "      <th>77</th>\n",
       "      <td>The reaction of the market to the results of t...</td>\n",
       "      <td>1868</td>\n",
       "      <td>[987, 477, 404]</td>\n",
       "      <td>[results of the vote, of the vote in, the vote...</td>\n",
       "      <td>[resultado de la votación, de la votación en, ...</td>\n",
       "      <td>También acá se expresa la reacción del mercado...</td>\n",
       "      <td>El resultado de la votación en la Cámara de D...</td>\n",
       "      <td>3</td>\n",
       "    </tr>\n",
       "    <tr>\n",
       "      <th>50</th>\n",
       "      <td>My explanation has mostly been concerned with ...</td>\n",
       "      <td>1292</td>\n",
       "      <td>[666, 624, 2]</td>\n",
       "      <td>[that is more easily, that is more easily, the...</td>\n",
       "      <td>[que es más fácil, es más fácil de, hay otra p...</td>\n",
       "      <td>La mayoría de mis intervenciones se refiere al...</td>\n",
       "      <td>Mi explicación ha sido mucho más completa, pe...</td>\n",
       "      <td>3</td>\n",
       "    </tr>\n",
       "    <tr>\n",
       "      <th>41</th>\n",
       "      <td>In this way, music players (particularly the s...</td>\n",
       "      <td>594</td>\n",
       "      <td>[557, 20, 17]</td>\n",
       "      <td>[are much more efficient, ones are much more, ...</td>\n",
       "      <td>[are much more efficient., ones) are much more...</td>\n",
       "      <td>En este sentido, los reproductores de música (...</td>\n",
       "      <td>In this way, music players (particularly the ...</td>\n",
       "      <td>3</td>\n",
       "    </tr>\n",
       "    <tr>\n",
       "      <th>70</th>\n",
       "      <td>The new law is also meant to constrain the \"go...</td>\n",
       "      <td>280</td>\n",
       "      <td>[192, 67, 21]</td>\n",
       "      <td>[in the program and, participating in the prog...</td>\n",
       "      <td>[en el programa y, participan en el programa, ...</td>\n",
       "      <td>La nueva ley debe también limitar los llamados...</td>\n",
       "      <td>El programa de la nueva ley es también para l...</td>\n",
       "      <td>3</td>\n",
       "    </tr>\n",
       "    <tr>\n",
       "      <th>12</th>\n",
       "      <td>At the same time, complaints from a series of ...</td>\n",
       "      <td>218</td>\n",
       "      <td>[166, 50, 2]</td>\n",
       "      <td>[in their negotiations with, negotiations with...</td>\n",
       "      <td>[en sus negociaciones con, negociaciones con t...</td>\n",
       "      <td>Las actuales quejas de los interesados (inluid...</td>\n",
       "      <td>En el mismo momento, los interesados (como el...</td>\n",
       "      <td>3</td>\n",
       "    </tr>\n",
       "    <tr>\n",
       "      <th>1</th>\n",
       "      <td>\"Now there are five of them in the city, but b...</td>\n",
       "      <td>209</td>\n",
       "      <td>[177, 23, 9]</td>\n",
       "      <td>[in the city but, five of them in, are five of...</td>\n",
       "      <td>[en la ciudad, pero, cinco de ellos en, hay ci...</td>\n",
       "      <td>\"Ahora hay en la ciudad cinco pero a finales d...</td>\n",
       "      <td>\"Ahora hay cinco de ellos en la ciudad, pero ...</td>\n",
       "      <td>3</td>\n",
       "    </tr>\n",
       "    <tr>\n",
       "      <th>37</th>\n",
       "      <td>In spite of this, there are many reasons to ge...</td>\n",
       "      <td>209</td>\n",
       "      <td>[102, 102, 5]</td>\n",
       "      <td>[there are many reasons, are many reasons to, ...</td>\n",
       "      <td>[hay muchas razones para, hay muchas razones p...</td>\n",
       "      <td>Aún así existen suficientes motivos como para ...</td>\n",
       "      <td>En el caso de que no sean los mismos, hay muc...</td>\n",
       "      <td>3</td>\n",
       "    </tr>\n",
       "    <tr>\n",
       "      <th>76</th>\n",
       "      <td>The question as to whether this is really just...</td>\n",
       "      <td>30</td>\n",
       "      <td>[23, 5, 2]</td>\n",
       "      <td>[whether this is really, is really just a, thi...</td>\n",
       "      <td>[si esto es realmente, es realmente sólo un, e...</td>\n",
       "      <td>La pregunta de si realmente se trata de una ca...</td>\n",
       "      <td>El problema de si esto es realmente sólo un a...</td>\n",
       "      <td>3</td>\n",
       "    </tr>\n",
       "  </tbody>\n",
       "</table>\n",
       "</div>"
      ],
      "text/plain": [
       "                                                  src value_sum  \\\n",
       "73  The prime minister of the provisional Israeli ...        43   \n",
       "84  The two hosts are behind on the schedule for t...        20   \n",
       "77  The reaction of the market to the results of t...      1868   \n",
       "50  My explanation has mostly been concerned with ...      1292   \n",
       "41  In this way, music players (particularly the s...       594   \n",
       "70  The new law is also meant to constrain the \"go...       280   \n",
       "12  At the same time, complaints from a series of ...       218   \n",
       "1   \"Now there are five of them in the city, but b...       209   \n",
       "37  In spite of this, there are many reasons to ge...       209   \n",
       "76  The question as to whether this is really just...        30   \n",
       "\n",
       "         value_list                                             lang_1  \\\n",
       "73   [20, 13, 8, 2]  [with the Palestinians and, peace with the Pal...   \n",
       "84     [8, 8, 2, 2]  [the construction or reconstruction, construct...   \n",
       "77  [987, 477, 404]  [results of the vote, of the vote in, the vote...   \n",
       "50    [666, 624, 2]  [that is more easily, that is more easily, the...   \n",
       "41    [557, 20, 17]  [are much more efficient, ones are much more, ...   \n",
       "70    [192, 67, 21]  [in the program and, participating in the prog...   \n",
       "12     [166, 50, 2]  [in their negotiations with, negotiations with...   \n",
       "1      [177, 23, 9]  [in the city but, five of them in, are five of...   \n",
       "37    [102, 102, 5]  [there are many reasons, are many reasons to, ...   \n",
       "76       [23, 5, 2]  [whether this is really, is really just a, thi...   \n",
       "\n",
       "                                               lang_2  \\\n",
       "73  [con los palestinos y, paz con los palestinos,...   \n",
       "84  [la construcción o reconstrucción, la construc...   \n",
       "77  [resultado de la votación, de la votación en, ...   \n",
       "50  [que es más fácil, es más fácil de, hay otra p...   \n",
       "41  [are much more efficient., ones) are much more...   \n",
       "70  [en el programa y, participan en el programa, ...   \n",
       "12  [en sus negociaciones con, negociaciones con t...   \n",
       "1   [en la ciudad, pero, cinco de ellos en, hay ci...   \n",
       "37  [hay muchas razones para, hay muchas razones p...   \n",
       "76  [si esto es realmente, es realmente sólo un, e...   \n",
       "\n",
       "                                                  ref  \\\n",
       "73  El presidente del gobierno provisional de Isra...   \n",
       "84  El horario de la construcción y la reconstrucc...   \n",
       "77  También acá se expresa la reacción del mercado...   \n",
       "50  La mayoría de mis intervenciones se refiere al...   \n",
       "41  En este sentido, los reproductores de música (...   \n",
       "70  La nueva ley debe también limitar los llamados...   \n",
       "12  Las actuales quejas de los interesados (inluid...   \n",
       "1   \"Ahora hay en la ciudad cinco pero a finales d...   \n",
       "37  Aún así existen suficientes motivos como para ...   \n",
       "76  La pregunta de si realmente se trata de una ca...   \n",
       "\n",
       "                                               result  n_pairs  \n",
       "73   El presidente de la República de Israel, Benj...        4  \n",
       "84   El dos se encuentra en el orden de la constru...        4  \n",
       "77   El resultado de la votación en la Cámara de D...        3  \n",
       "50   Mi explicación ha sido mucho más completa, pe...        3  \n",
       "41   In this way, music players (particularly the ...        3  \n",
       "70   El programa de la nueva ley es también para l...        3  \n",
       "12   En el mismo momento, los interesados (como el...        3  \n",
       "1    \"Ahora hay cinco de ellos en la ciudad, pero ...        3  \n",
       "37   En el caso de que no sean los mismos, hay muc...        3  \n",
       "76   El problema de si esto es realmente sólo un a...        3  "
      ]
     },
     "execution_count": 18,
     "metadata": {},
     "output_type": "execute_result"
    }
   ],
   "source": [
    "m.sort_values(['n_pairs', 'value_sum'], ascending=False).head(10)"
   ]
  },
  {
   "cell_type": "code",
   "execution_count": 19,
   "metadata": {},
   "outputs": [],
   "source": [
    "sample_id = 333"
   ]
  },
  {
   "cell_type": "code",
   "execution_count": 20,
   "metadata": {},
   "outputs": [
    {
     "ename": "IndexError",
     "evalue": "single positional indexer is out-of-bounds",
     "output_type": "error",
     "traceback": [
      "\u001b[0;31m---------------------------------------------------------------------------\u001b[0m",
      "\u001b[0;31mIndexError\u001b[0m                                Traceback (most recent call last)",
      "Cell \u001b[0;32mIn[20], line 1\u001b[0m\n\u001b[0;32m----> 1\u001b[0m \u001b[43mm\u001b[49m\u001b[38;5;241;43m.\u001b[39;49m\u001b[43miloc\u001b[49m\u001b[43m[\u001b[49m\u001b[43msample_id\u001b[49m\u001b[43m]\u001b[49m[\u001b[38;5;124m'\u001b[39m\u001b[38;5;124msrc\u001b[39m\u001b[38;5;124m'\u001b[39m]\n",
      "File \u001b[0;32m~/.conda/envs/incidental/lib/python3.11/site-packages/pandas/core/indexing.py:1103\u001b[0m, in \u001b[0;36m_LocationIndexer.__getitem__\u001b[0;34m(self, key)\u001b[0m\n\u001b[1;32m   1100\u001b[0m axis \u001b[38;5;241m=\u001b[39m \u001b[38;5;28mself\u001b[39m\u001b[38;5;241m.\u001b[39maxis \u001b[38;5;129;01mor\u001b[39;00m \u001b[38;5;241m0\u001b[39m\n\u001b[1;32m   1102\u001b[0m maybe_callable \u001b[38;5;241m=\u001b[39m com\u001b[38;5;241m.\u001b[39mapply_if_callable(key, \u001b[38;5;28mself\u001b[39m\u001b[38;5;241m.\u001b[39mobj)\n\u001b[0;32m-> 1103\u001b[0m \u001b[38;5;28;01mreturn\u001b[39;00m \u001b[38;5;28;43mself\u001b[39;49m\u001b[38;5;241;43m.\u001b[39;49m\u001b[43m_getitem_axis\u001b[49m\u001b[43m(\u001b[49m\u001b[43mmaybe_callable\u001b[49m\u001b[43m,\u001b[49m\u001b[43m \u001b[49m\u001b[43maxis\u001b[49m\u001b[38;5;241;43m=\u001b[39;49m\u001b[43maxis\u001b[49m\u001b[43m)\u001b[49m\n",
      "File \u001b[0;32m~/.conda/envs/incidental/lib/python3.11/site-packages/pandas/core/indexing.py:1656\u001b[0m, in \u001b[0;36m_iLocIndexer._getitem_axis\u001b[0;34m(self, key, axis)\u001b[0m\n\u001b[1;32m   1653\u001b[0m     \u001b[38;5;28;01mraise\u001b[39;00m \u001b[38;5;167;01mTypeError\u001b[39;00m(\u001b[38;5;124m\"\u001b[39m\u001b[38;5;124mCannot index by location index with a non-integer key\u001b[39m\u001b[38;5;124m\"\u001b[39m)\n\u001b[1;32m   1655\u001b[0m \u001b[38;5;66;03m# validate the location\u001b[39;00m\n\u001b[0;32m-> 1656\u001b[0m \u001b[38;5;28;43mself\u001b[39;49m\u001b[38;5;241;43m.\u001b[39;49m\u001b[43m_validate_integer\u001b[49m\u001b[43m(\u001b[49m\u001b[43mkey\u001b[49m\u001b[43m,\u001b[49m\u001b[43m \u001b[49m\u001b[43maxis\u001b[49m\u001b[43m)\u001b[49m\n\u001b[1;32m   1658\u001b[0m \u001b[38;5;28;01mreturn\u001b[39;00m \u001b[38;5;28mself\u001b[39m\u001b[38;5;241m.\u001b[39mobj\u001b[38;5;241m.\u001b[39m_ixs(key, axis\u001b[38;5;241m=\u001b[39maxis)\n",
      "File \u001b[0;32m~/.conda/envs/incidental/lib/python3.11/site-packages/pandas/core/indexing.py:1589\u001b[0m, in \u001b[0;36m_iLocIndexer._validate_integer\u001b[0;34m(self, key, axis)\u001b[0m\n\u001b[1;32m   1587\u001b[0m len_axis \u001b[38;5;241m=\u001b[39m \u001b[38;5;28mlen\u001b[39m(\u001b[38;5;28mself\u001b[39m\u001b[38;5;241m.\u001b[39mobj\u001b[38;5;241m.\u001b[39m_get_axis(axis))\n\u001b[1;32m   1588\u001b[0m \u001b[38;5;28;01mif\u001b[39;00m key \u001b[38;5;241m>\u001b[39m\u001b[38;5;241m=\u001b[39m len_axis \u001b[38;5;129;01mor\u001b[39;00m key \u001b[38;5;241m<\u001b[39m \u001b[38;5;241m-\u001b[39mlen_axis:\n\u001b[0;32m-> 1589\u001b[0m     \u001b[38;5;28;01mraise\u001b[39;00m \u001b[38;5;167;01mIndexError\u001b[39;00m(\u001b[38;5;124m\"\u001b[39m\u001b[38;5;124msingle positional indexer is out-of-bounds\u001b[39m\u001b[38;5;124m\"\u001b[39m)\n",
      "\u001b[0;31mIndexError\u001b[0m: single positional indexer is out-of-bounds"
     ]
    }
   ],
   "source": [
    "m.iloc[sample_id]['src']"
   ]
  },
  {
   "cell_type": "code",
   "execution_count": null,
   "metadata": {},
   "outputs": [
    {
     "data": {
      "text/plain": [
       "' Por lo menos en cuanto a estos aspectos de nuestra conciencia dependientes del córtex prefrontal - entre ellos el conocimiento de quiénes somos y la capacidad de planificar y tomar decisiones - hay razón para suponer que los humanos son distintos incluso de otros primates.'"
      ]
     },
     "execution_count": 261,
     "metadata": {},
     "output_type": "execute_result"
    }
   ],
   "source": [
    "m.iloc[sample_id]['result']"
   ]
  },
  {
   "cell_type": "code",
   "execution_count": null,
   "metadata": {},
   "outputs": [
    {
     "data": {
      "text/plain": [
       "(2098, 7, [2013, 46, 16, 15, 4, 2, 2])"
      ]
     },
     "execution_count": 262,
     "metadata": {},
     "output_type": "execute_result"
    }
   ],
   "source": [
    "m.iloc[sample_id]['value_sum'], m.iloc[sample_id]['n_pairs'], m.iloc[sample_id]['value_list']"
   ]
  },
  {
   "cell_type": "code",
   "execution_count": null,
   "metadata": {},
   "outputs": [
    {
     "data": {
      "text/plain": [
       "['and the ability to',\n",
       " 'who we are and',\n",
       " 'ability to plan and',\n",
       " 'the ability to plan',\n",
       " 'these aspects of our',\n",
       " 'knowledge who we are',\n",
       " 'far as these aspects']"
      ]
     },
     "execution_count": 263,
     "metadata": {},
     "output_type": "execute_result"
    }
   ],
   "source": [
    "m.iloc[sample_id]['lang_1']"
   ]
  },
  {
   "cell_type": "code",
   "execution_count": null,
   "metadata": {},
   "outputs": [
    {
     "data": {
      "text/plain": [
       "['y la capacidad de',\n",
       " 'de quiénes somos y',\n",
       " 'capacidad de planificar y',\n",
       " 'la capacidad de planificar',\n",
       " 'estos aspectos de nuestra',\n",
       " 'conocimiento de quiénes somos',\n",
       " 'cuanto a estos aspectos']"
      ]
     },
     "execution_count": 264,
     "metadata": {},
     "output_type": "execute_result"
    }
   ],
   "source": [
    "m.iloc[sample_id]['lang_2']"
   ]
  },
  {
   "cell_type": "code",
   "execution_count": null,
   "metadata": {},
   "outputs": [],
   "source": []
  }
 ],
 "metadata": {
  "kernelspec": {
   "display_name": "base",
   "language": "python",
   "name": "python3"
  },
  "language_info": {
   "codemirror_mode": {
    "name": "ipython",
    "version": 3
   },
   "file_extension": ".py",
   "mimetype": "text/x-python",
   "name": "python",
   "nbconvert_exporter": "python",
   "pygments_lexer": "ipython3",
   "version": "3.11.3"
  }
 },
 "nbformat": 4,
 "nbformat_minor": 2
}
